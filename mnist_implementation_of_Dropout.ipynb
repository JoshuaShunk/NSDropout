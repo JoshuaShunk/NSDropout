{
  "nbformat": 4,
  "nbformat_minor": 0,
  "metadata": {
    "colab": {
      "name": "mnist_implementation_of_Dropout.ipynb",
      "provenance": [],
      "collapsed_sections": [],
      "include_colab_link": true
    },
    "interpreter": {
      "hash": "4a10260d53feadc3aac998a3ba3a60b43aac84189bada71a196791e24306642d"
    },
    "kernelspec": {
      "display_name": "Python 3.9.5 64-bit ('AITraining': virtualenvwrapper)",
      "name": "python3"
    },
    "language_info": {
      "codemirror_mode": {
        "name": "ipython",
        "version": 3
      },
      "file_extension": ".py",
      "mimetype": "text/x-python",
      "name": "python",
      "nbconvert_exporter": "python",
      "pygments_lexer": "ipython3",
      "version": "3.9.5"
    }
  },
  "cells": [
    {
      "cell_type": "markdown",
      "metadata": {
        "id": "view-in-github",
        "colab_type": "text"
      },
      "source": [
        "<a href=\"https://colab.research.google.com/github/JoshuaShunk/NSDropout/blob/main/mnist_implementation_of_Dropout.ipynb\" target=\"_parent\"><img src=\"https://colab.research.google.com/assets/colab-badge.svg\" alt=\"Open In Colab\"/></a>"
      ]
    },
    {
      "cell_type": "markdown",
      "metadata": {
        "id": "dtYgI3SFHqm4"
      },
      "source": [
        "# MNIST Numbers Implementation of Old Dropout"
      ]
    },
    {
      "cell_type": "code",
      "metadata": {
        "id": "s2GytIidUnpd"
      },
      "source": [
        "import matplotlib.pyplot as plt\n",
        "import numpy as np\n",
        "import random\n",
        "import keras\n",
        "from keras.datasets import mnist\n",
        "import tensorflow as tf\n",
        "import pandas as pd"
      ],
      "execution_count": 1,
      "outputs": []
    },
    {
      "cell_type": "code",
      "metadata": {
        "id": "0aLxFoLMU2jC"
      },
      "source": [
        "np.set_printoptions(threshold=np.inf)"
      ],
      "execution_count": 2,
      "outputs": []
    },
    {
      "cell_type": "code",
      "metadata": {
        "id": "06HD9nTuEVHD"
      },
      "source": [
        "np.random.seed(seed=22) #Random seed used for comparison between old dropout"
      ],
      "execution_count": 3,
      "outputs": []
    },
    {
      "cell_type": "code",
      "metadata": {
        "colab": {
          "base_uri": "https://localhost:8080/"
        },
        "id": "cag8ZraxEZbF",
        "outputId": "b99a6146-1b34-4528-c74c-12418ad8499b"
      },
      "source": [
        "print(np.random.random(size=3)) #Check that seeds line up"
      ],
      "execution_count": 4,
      "outputs": [
        {
          "output_type": "stream",
          "text": [
            "[0.20846054 0.48168106 0.42053804]\n"
          ],
          "name": "stdout"
        }
      ]
    },
    {
      "cell_type": "code",
      "metadata": {
        "id": "-NkY3EiBU4tR",
        "cellView": "form"
      },
      "source": [
        "#@title Load Layers (Credit to Harrison Kinsley & Daniel Kukiela for raw python implementation)\n",
        "\n",
        "# Dense layer\n",
        "class Layer_Dense:\n",
        "\n",
        "    # Layer initialization\n",
        "    def __init__(self, n_inputs, n_neurons,\n",
        "                 weight_regularizer_l1=0, weight_regularizer_l2=0,\n",
        "                 bias_regularizer_l1=0, bias_regularizer_l2=0):\n",
        "        # Initialize weights and biases\n",
        "        self.weights = 0.01 * np.random.randn(n_inputs, n_neurons)\n",
        "        self.biases = np.zeros((1, n_neurons))\n",
        "        # Set regularization strength\n",
        "        self.weight_regularizer_l1 = weight_regularizer_l1\n",
        "        self.weight_regularizer_l2 = weight_regularizer_l2\n",
        "        self.bias_regularizer_l1 = bias_regularizer_l1\n",
        "        self.bias_regularizer_l2 = bias_regularizer_l2\n",
        "\n",
        "    # Forward pass\n",
        "    def forward(self, inputs):\n",
        "        # Remember input values\n",
        "        self.inputs = inputs\n",
        "        # Calculate output values from inputs, weights and biases\n",
        "        self.output = np.dot(inputs, self.weights) + self.biases\n",
        "\n",
        "    # Backward pass\n",
        "    def backward(self, dvalues):\n",
        "        # Gradients on parameters\n",
        "        self.dweights = np.dot(self.inputs.T, dvalues)\n",
        "        self.dbiases = np.sum(dvalues, axis=0, keepdims=True)\n",
        "\n",
        "        # Gradients on regularization\n",
        "        # L1 on weights\n",
        "        if self.weight_regularizer_l1 > 0:\n",
        "            dL1 = np.ones_like(self.weights)\n",
        "            dL1[self.weights < 0] = -1\n",
        "            self.dweights += self.weight_regularizer_l1 * dL1\n",
        "        # L2 on weights\n",
        "        if self.weight_regularizer_l2 > 0:\n",
        "            self.dweights += 2 * self.weight_regularizer_l2 * \\\n",
        "                             self.weights\n",
        "        # L1 on biases\n",
        "        if self.bias_regularizer_l1 > 0:\n",
        "            dL1 = np.ones_like(self.biases)\n",
        "            dL1[self.biases < 0] = -1\n",
        "            self.dbiases += self.bias_regularizer_l1 * dL1\n",
        "        # L2 on biases\n",
        "        if self.bias_regularizer_l2 > 0:\n",
        "            self.dbiases += 2 * self.bias_regularizer_l2 * \\\n",
        "                            self.biases\n",
        "\n",
        "        # Gradient on values\n",
        "        self.dinputs = np.dot(dvalues, self.weights.T)\n",
        "\n",
        "# ReLU activation\n",
        "\n",
        "\n",
        "class Activation_ReLU:\n",
        "\n",
        "    # Forward pass\n",
        "    def forward(self, inputs):\n",
        "        # Remember input values\n",
        "        self.inputs = inputs\n",
        "        # Calculate output values from inputs\n",
        "        self.output = np.maximum(0, inputs)\n",
        "\n",
        "    # Backward pass\n",
        "    def backward(self, dvalues):\n",
        "        # Since we need to modify original variable,\n",
        "        # let's make a copy of values first\n",
        "        self.dinputs = dvalues.copy()\n",
        "\n",
        "        # Zero gradient where input values were negative\n",
        "        self.dinputs[self.inputs <= 0] = 0\n",
        "\n",
        "\n",
        "# Softmax activation\n",
        "class Activation_Softmax:\n",
        "\n",
        "    # Forward pass\n",
        "    def forward(self, inputs):\n",
        "        # Remember input values\n",
        "        self.inputs = inputs\n",
        "\n",
        "        # Get unnormalized probabilities\n",
        "        exp_values = np.exp(inputs - np.max(inputs, axis=1,\n",
        "                                            keepdims=True))\n",
        "        # Normalize them for each sample\n",
        "        probabilities = exp_values / np.sum(exp_values, axis=1,\n",
        "                                            keepdims=True)\n",
        "\n",
        "        self.output = probabilities\n",
        "\n",
        "    # Backward pass\n",
        "    def backward(self, dvalues):\n",
        "        # Create uninitialized array\n",
        "        self.dinputs = np.empty_like(dvalues)\n",
        "\n",
        "        # Enumerate outputs and gradients\n",
        "        for index, (single_output, single_dvalues) in \\\n",
        "                enumerate(zip(self.output, dvalues)):\n",
        "            # Flatten output array\n",
        "            single_output = single_output.reshape(-1, 1)\n",
        "\n",
        "            # Calculate Jacobian matrix of the output\n",
        "            jacobian_matrix = np.diagflat(single_output) - \\\n",
        "                              np.dot(single_output, single_output.T)\n",
        "            # Calculate sample-wise gradient\n",
        "            # and add it to the array of sample gradients\n",
        "            self.dinputs[index] = np.dot(jacobian_matrix,\n",
        "                                         single_dvalues)\n",
        "    def predictions(self, outputs):\n",
        "        return np.argmax(outputs, axis=1)\n",
        "\n",
        "\n",
        "# Sigmoid activation\n",
        "class Activation_Sigmoid:\n",
        "\n",
        "    # Forward pass\n",
        "    def forward(self, inputs):\n",
        "        # Save input and calculate/save output\n",
        "        # of the sigmoid function\n",
        "        self.inputs = inputs\n",
        "        self.output = 1 / (1 + np.exp(-inputs))\n",
        "\n",
        "    # Backward pass\n",
        "    def backward(self, dvalues):\n",
        "        # Derivative - calculates from output of the sigmoid function\n",
        "        self.dinputs = dvalues * (1 - self.output) * self.output\n",
        "\n",
        "\n",
        "# SGD optimizer\n",
        "class Optimizer_SGD:\n",
        "\n",
        "    # Initialize optimizer - set settings,\n",
        "    # learning rate of 1. is default for this optimizer\n",
        "    def __init__(self, learning_rate=1., decay=0., momentum=0.):\n",
        "        self.learning_rate = learning_rate\n",
        "        self.current_learning_rate = learning_rate\n",
        "        self.decay = decay\n",
        "        self.iterations = 0\n",
        "        self.momentum = momentum\n",
        "\n",
        "    # Call once before any parameter updates\n",
        "    def pre_update_params(self):\n",
        "        if self.decay:\n",
        "            self.current_learning_rate = self.learning_rate * \\\n",
        "                                         (1. / (1. + self.decay * self.iterations))\n",
        "\n",
        "    # Update parameters\n",
        "\n",
        "    def update_params(self, layer):\n",
        "\n",
        "        # If we use momentum\n",
        "        if self.momentum:\n",
        "\n",
        "            # If layer does not contain momentum arrays, create them\n",
        "            # filled with zeros\n",
        "            if not hasattr(layer, 'weight_momentums'):\n",
        "                layer.weight_momentums = np.zeros_like(layer.weights)\n",
        "                # If there is no momentum array for weights\n",
        "                # The array doesn't exist for biases yet either.\n",
        "                layer.bias_momentums = np.zeros_like(layer.biases)\n",
        "\n",
        "            # Build weight updates with momentum - take previous\n",
        "            # updates multiplied by retain factor and update with\n",
        "            # current gradients\n",
        "            weight_updates = \\\n",
        "                self.momentum * layer.weight_momentums - \\\n",
        "                self.current_learning_rate * layer.dweights\n",
        "            layer.weight_momentums = weight_updates\n",
        "\n",
        "            # Build bias updates\n",
        "            bias_updates = \\\n",
        "                self.momentum * layer.bias_momentums - \\\n",
        "                self.current_learning_rate * layer.dbiases\n",
        "            layer.bias_momentums = bias_updates\n",
        "\n",
        "        # Vanilla SGD updates (as before momentum update)\n",
        "        else:\n",
        "            weight_updates = -self.current_learning_rate * \\\n",
        "                             layer.dweights\n",
        "            bias_updates = -self.current_learning_rate * \\\n",
        "                           layer.dbiases\n",
        "\n",
        "        # Update weights and biases using either\n",
        "        # vanilla or momentum updates\n",
        "        layer.weights += weight_updates\n",
        "        layer.biases += bias_updates\n",
        "\n",
        "    # Call once after any parameter updates\n",
        "    def post_update_params(self):\n",
        "        self.iterations += 1\n",
        "\n",
        "\n",
        "# Adagrad optimizer\n",
        "class Optimizer_Adagrad:\n",
        "\n",
        "    # Initialize optimizer - set settings\n",
        "    def __init__(self, learning_rate=1., decay=0., epsilon=1e-7):\n",
        "        self.learning_rate = learning_rate\n",
        "        self.current_learning_rate = learning_rate\n",
        "        self.decay = decay\n",
        "        self.iterations = 0\n",
        "        self.epsilon = epsilon\n",
        "\n",
        "    # Call once before any parameter updates\n",
        "    def pre_update_params(self):\n",
        "        if self.decay:\n",
        "            self.current_learning_rate = self.learning_rate * \\\n",
        "                                         (1. / (1. + self.decay * self.iterations))\n",
        "\n",
        "    # Update parameters\n",
        "    def update_params(self, layer):\n",
        "\n",
        "        # If layer does not contain cache arrays,\n",
        "        # create them filled with zeros\n",
        "        if not hasattr(layer, 'weight_cache'):\n",
        "            layer.weight_cache = np.zeros_like(layer.weights)\n",
        "            layer.bias_cache = np.zeros_like(layer.biases)\n",
        "\n",
        "        # Update cache with squared current gradients\n",
        "        layer.weight_cache += layer.dweights ** 2\n",
        "        layer.bias_cache += layer.dbiases ** 2\n",
        "\n",
        "        # Vanilla SGD parameter update + normalization\n",
        "        # with square rooted cache\n",
        "        layer.weights += -self.current_learning_rate * \\\n",
        "                         layer.dweights / \\\n",
        "                         (np.sqrt(layer.weight_cache) + self.epsilon)\n",
        "        layer.biases += -self.current_learning_rate * \\\n",
        "                        layer.dbiases / \\\n",
        "                        (np.sqrt(layer.bias_cache) + self.epsilon)\n",
        "\n",
        "    # Call once after any parameter updates\n",
        "    def post_update_params(self):\n",
        "        self.iterations += 1\n",
        "\n",
        "\n",
        "# RMSprop optimizer\n",
        "class Optimizer_RMSprop:\n",
        "\n",
        "    # Initialize optimizer - set settings\n",
        "    def __init__(self, learning_rate=0.001, decay=0., epsilon=1e-7,\n",
        "                 rho=0.9):\n",
        "        self.learning_rate = learning_rate\n",
        "        self.current_learning_rate = learning_rate\n",
        "        self.decay = decay\n",
        "        self.iterations = 0\n",
        "        self.epsilon = epsilon\n",
        "        self.rho = rho\n",
        "\n",
        "    # Call once before any parameter updates\n",
        "    def pre_update_params(self):\n",
        "        if self.decay:\n",
        "            self.current_learning_rate = self.learning_rate * \\\n",
        "                                         (1. / (1. + self.decay * self.iterations))\n",
        "\n",
        "    # Update parameters\n",
        "    def update_params(self, layer):\n",
        "\n",
        "        # If layer does not contain cache arrays,\n",
        "        # create them filled with zeros\n",
        "        if not hasattr(layer, 'weight_cache'):\n",
        "            layer.weight_cache = np.zeros_like(layer.weights)\n",
        "            layer.bias_cache = np.zeros_like(layer.biases)\n",
        "\n",
        "        # Update cache with squared current gradients\n",
        "        layer.weight_cache = self.rho * layer.weight_cache + \\\n",
        "                             (1 - self.rho) * layer.dweights ** 2\n",
        "        layer.bias_cache = self.rho * layer.bias_cache + \\\n",
        "                           (1 - self.rho) * layer.dbiases ** 2\n",
        "\n",
        "        # Vanilla SGD parameter update + normalization\n",
        "        # with square rooted cache\n",
        "        layer.weights += -self.current_learning_rate * \\\n",
        "                         layer.dweights / \\\n",
        "                         (np.sqrt(layer.weight_cache) + self.epsilon)\n",
        "        layer.biases += -self.current_learning_rate * \\\n",
        "                        layer.dbiases / \\\n",
        "                        (np.sqrt(layer.bias_cache) + self.epsilon)\n",
        "\n",
        "    # Call once after any parameter updates\n",
        "    def post_update_params(self):\n",
        "        self.iterations += 1\n",
        "\n",
        "\n",
        "# Adam optimizer\n",
        "class Optimizer_Adam:\n",
        "\n",
        "    # Initialize optimizer - set settings\n",
        "    def __init__(self, learning_rate=0.02, decay=0., epsilon=1e-7,\n",
        "                 beta_1=0.9, beta_2=0.999):\n",
        "        self.learning_rate = learning_rate\n",
        "        self.current_learning_rate = learning_rate\n",
        "        self.decay = decay\n",
        "        self.iterations = 0\n",
        "        self.epsilon = epsilon\n",
        "        self.beta_1 = beta_1\n",
        "        self.beta_2 = beta_2\n",
        "\n",
        "    # Call once before any parameter updates\n",
        "    def pre_update_params(self):\n",
        "        if self.decay:\n",
        "            self.current_learning_rate = self.learning_rate * \\\n",
        "                                         (1. / (1. + self.decay * self.iterations))\n",
        "\n",
        "    # Update parameters\n",
        "    def update_params(self, layer):\n",
        "\n",
        "        # If layer does not contain cache arrays,\n",
        "        # create them filled with zeros\n",
        "        if not hasattr(layer, 'weight_cache'):\n",
        "            layer.weight_momentums = np.zeros_like(layer.weights)\n",
        "            layer.weight_cache = np.zeros_like(layer.weights)\n",
        "            layer.bias_momentums = np.zeros_like(layer.biases)\n",
        "            layer.bias_cache = np.zeros_like(layer.biases)\n",
        "\n",
        "        # Update momentum  with current gradients\n",
        "        layer.weight_momentums = self.beta_1 * \\\n",
        "                                 layer.weight_momentums + \\\n",
        "                                 (1 - self.beta_1) * layer.dweights\n",
        "        layer.bias_momentums = self.beta_1 * \\\n",
        "                               layer.bias_momentums + \\\n",
        "                               (1 - self.beta_1) * layer.dbiases\n",
        "        # Get corrected momentum\n",
        "        # self.iteration is 0 at first pass\n",
        "        # and we need to start with 1 here\n",
        "        weight_momentums_corrected = layer.weight_momentums / \\\n",
        "                                     (1 - self.beta_1 ** (self.iterations + 1))\n",
        "        bias_momentums_corrected = layer.bias_momentums / \\\n",
        "                                   (1 - self.beta_1 ** (self.iterations + 1))\n",
        "        # Update cache with squared current gradients\n",
        "        layer.weight_cache = self.beta_2 * layer.weight_cache + \\\n",
        "                             (1 - self.beta_2) * layer.dweights ** 2\n",
        "        layer.bias_cache = self.beta_2 * layer.bias_cache + \\\n",
        "                           (1 - self.beta_2) * layer.dbiases ** 2\n",
        "        # Get corrected cache\n",
        "        weight_cache_corrected = layer.weight_cache / \\\n",
        "                                 (1 - self.beta_2 ** (self.iterations + 1))\n",
        "        bias_cache_corrected = layer.bias_cache / \\\n",
        "                               (1 - self.beta_2 ** (self.iterations + 1))\n",
        "\n",
        "        # Vanilla SGD parameter update + normalization\n",
        "        # with square rooted cache\n",
        "        layer.weights += -self.current_learning_rate * \\\n",
        "                         weight_momentums_corrected / \\\n",
        "                         (np.sqrt(weight_cache_corrected) +\n",
        "                          self.epsilon)\n",
        "        layer.biases += -self.current_learning_rate * \\\n",
        "                        bias_momentums_corrected / \\\n",
        "                        (np.sqrt(bias_cache_corrected) +\n",
        "                         self.epsilon)\n",
        "\n",
        "    # Call once after any parameter updates\n",
        "    def post_update_params(self):\n",
        "        self.iterations += 1\n",
        "\n",
        "\n",
        "# Common loss class\n",
        "class Loss:\n",
        "\n",
        "\n",
        "    # Regularization loss calculation\n",
        "    def regularization_loss(self, layer):\n",
        "\n",
        "        # 0 by default\n",
        "        regularization_loss = 0\n",
        "\n",
        "        # L1 regularization - weights\n",
        "        # calculate only when factor greater than 0\n",
        "        if layer.weight_regularizer_l1 > 0:\n",
        "            regularization_loss += layer.weight_regularizer_l1 * \\\n",
        "                                   np.sum(np.abs(layer.weights))\n",
        "\n",
        "        # L2 regularization - weights\n",
        "        if layer.weight_regularizer_l2 > 0:\n",
        "            regularization_loss += layer.weight_regularizer_l2 * \\\n",
        "                                   np.sum(layer.weights *\n",
        "                                          layer.weights)\n",
        "\n",
        "        # L1 regularization - biases\n",
        "        # calculate only when factor greater than 0\n",
        "        if layer.bias_regularizer_l1 > 0:\n",
        "            regularization_loss += layer.bias_regularizer_l1 * \\\n",
        "                                   np.sum(np.abs(layer.biases))\n",
        "\n",
        "        # L2 regularization - biases\n",
        "        if layer.bias_regularizer_l2 > 0:\n",
        "            regularization_loss += layer.bias_regularizer_l2 * \\\n",
        "                                   np.sum(layer.biases *\n",
        "                                          layer.biases)\n",
        "\n",
        "        return regularization_loss\n",
        "\n",
        "\n",
        "    # Set/remember trainable layers\n",
        "    def remember_trainable_layers(self, trainable_layers):\n",
        "        self.trainable_layers = trainable_layers\n",
        "\n",
        "    # Calculates the data and regularization losses\n",
        "    # given model output and ground truth values\n",
        "    def calculate(self, output, y, *, include_regularization=False):\n",
        "\n",
        "        # Calculate sample losses\n",
        "        sample_losses = self.forward(output, y)\n",
        "\n",
        "        # Calculate mean loss\n",
        "        data_loss = np.mean(sample_losses)\n",
        "\n",
        "        # Return loss\n",
        "        return data_loss\n",
        "\n",
        "    # Calculates accumulated loss\n",
        "    def calculate_accumulated(self, *, include_regularization=False):\n",
        "\n",
        "        # Calculate mean loss\n",
        "        data_loss = self.accumulated_sum / self.accumulated_count\n",
        "\n",
        "        # If just data loss - return it\n",
        "        if not include_regularization:\n",
        "            return data_loss\n",
        "\n",
        "        # Return the data and regularization losses\n",
        "        return data_loss, self.regularization_loss()\n",
        "\n",
        "    # Reset variables for accumulated loss\n",
        "    def new_pass(self):\n",
        "        self.accumulated_sum = 0\n",
        "        self.accumulated_count = 0\n",
        "\n",
        "\n",
        "# Cross-entropy loss\n",
        "class Loss_CategoricalCrossentropy(Loss):\n",
        "\n",
        "        # Forward pass\n",
        "    def forward(self, y_pred, y_true):\n",
        "\n",
        "        # Number of samples in a batch\n",
        "        samples = len(y_pred)\n",
        "\n",
        "        # Clip data to prevent division by 0\n",
        "        # Clip both sides to not drag mean towards any value\n",
        "        y_pred_clipped = np.clip(y_pred, 1e-7, 1 - 1e-7)\n",
        "\n",
        "        # Probabilities for target values -\n",
        "        # only if categorical labels\n",
        "        if len(y_true.shape) == 1:\n",
        "            correct_confidences = y_pred_clipped[\n",
        "                range(samples),\n",
        "                y_true\n",
        "            ]\n",
        "\n",
        "        # Mask values - only for one-hot encoded labels\n",
        "        elif len(y_true.shape) == 2:\n",
        "            correct_confidences = np.sum(\n",
        "                y_pred_clipped * y_true,\n",
        "                axis=1\n",
        "            )\n",
        "\n",
        "        # Losses\n",
        "        negative_log_likelihoods = -np.log(correct_confidences)\n",
        "        return negative_log_likelihoods\n",
        "\n",
        "\n",
        "    # Backward pass\n",
        "    def backward(self, dvalues, y_true):\n",
        "\n",
        "        # Number of samples\n",
        "        samples = len(dvalues)\n",
        "        # Number of labels in every sample\n",
        "        # We'll use the first sample to count them\n",
        "        labels = len(dvalues[0])\n",
        "\n",
        "        # If labels are sparse, turn them into one-hot vector\n",
        "        if len(y_true.shape) == 1:\n",
        "            y_true = np.eye(labels)[y_true]\n",
        "\n",
        "        # Calculate gradient\n",
        "        self.dinputs = -y_true / dvalues\n",
        "        # Normalize gradient\n",
        "        self.dinputs = self.dinputs / samples\n",
        "\n",
        "\n",
        "# Softmax classifier - combined Softmax activation\n",
        "# and cross-entropy loss for faster backward step\n",
        "class Activation_Softmax_Loss_CategoricalCrossentropy():\n",
        "\n",
        "    # Creates activation and loss function objects\n",
        "    def __init__(self):\n",
        "        self.activation = Activation_Softmax()\n",
        "        self.loss = Loss_CategoricalCrossentropy()\n",
        "\n",
        "    # Forward pass\n",
        "    def forward(self, inputs, y_true):\n",
        "        # Output layer's activation function\n",
        "        self.activation.forward(inputs)\n",
        "        # Set the output\n",
        "        self.output = self.activation.output\n",
        "        # Calculate and return loss value\n",
        "        return self.loss.calculate(self.output, y_true)\n",
        "\n",
        "    # Backward pass\n",
        "    def backward(self, dvalues, y_true):\n",
        "        # Number of samples\n",
        "        samples = len(dvalues)\n",
        "\n",
        "        # If labels are one-hot encoded,\n",
        "        # turn them into discrete values\n",
        "        if len(y_true.shape) == 2:\n",
        "            y_true = np.argmax(y_true, axis=1)\n",
        "\n",
        "        # Copy so we can safely modify\n",
        "        self.dinputs = dvalues.copy()\n",
        "        # Calculate gradient\n",
        "        self.dinputs[range(samples), y_true] -= 1\n",
        "        # Normalize gradient\n",
        "        self.dinputs = self.dinputs / samples\n",
        "\n",
        "\n",
        "# Binary cross-entropy loss\n",
        "class Loss_BinaryCrossentropy(Loss):\n",
        "\n",
        "    # Forward pass\n",
        "    def forward(self, y_pred, y_true):\n",
        "        # Clip data to prevent division by 0\n",
        "        # Clip both sides to not drag mean towards any value\n",
        "        y_pred_clipped = np.clip(y_pred, 1e-7, 1 - 1e-7)\n",
        "\n",
        "        # Calculate sample-wise loss\n",
        "        sample_losses = -(y_true * np.log(y_pred_clipped) +\n",
        "                          (1 - y_true) * np.log(1 - y_pred_clipped))\n",
        "        sample_losses = np.mean(sample_losses, axis=-1)\n",
        "\n",
        "        # Return losses\n",
        "        return sample_losses\n",
        "\n",
        "    # Backward pass\n",
        "    def backward(self, dvalues, y_true):\n",
        "        # Number of samples\n",
        "        samples = len(dvalues)\n",
        "        # Number of outputs in every sample\n",
        "        # We'll use the first sample to count them\n",
        "        outputs = len(dvalues[0])\n",
        "\n",
        "        # Clip data to prevent division by 0\n",
        "        # Clip both sides to not drag mean towards any value\n",
        "        clipped_dvalues = np.clip(dvalues, 1e-7, 1 - 1e-7)\n",
        "\n",
        "        # Calculate gradient\n",
        "        self.dinputs = -(y_true / clipped_dvalues -\n",
        "                         (1 - y_true) / (1 - clipped_dvalues)) / outputs\n",
        "        # Normalize gradient\n",
        "        self.dinputs = self.dinputs / samples\n",
        "\n",
        "# Common accuracy class\n",
        "class Accuracy:\n",
        "\n",
        "    # Calculates an accuracy\n",
        "    # given predictions and ground truth values\n",
        "    def calculate(self, predictions, y):\n",
        "\n",
        "        # Get comparison results\n",
        "        comparisons = self.compare(predictions, y)\n",
        "\n",
        "        # Calculate an accuracy\n",
        "        accuracy = np.mean(comparisons)\n",
        "\n",
        "        # Add accumulated sum of matching values and sample count\n",
        "        # Return accuracy\n",
        "        return accuracy\n",
        "\n",
        "    # Calculates accumulated accuracy\n",
        "    def calculate_accumulated(self):\n",
        "\n",
        "        # Calculate an accuracy\n",
        "        accuracy = self.accumulated_sum / self.accumulated_count\n",
        "\n",
        "        # Return the data and regularization losses\n",
        "        return accuracy\n",
        "\n",
        "    # Reset variables for accumulated accuracy\n",
        "    def new_pass(self):\n",
        "        self.accumulated_sum = 0\n",
        "        self.accumulated_count = 0\n",
        "\n",
        "\n",
        "# Accuracy calculation for classification model\n",
        "class Accuracy_Categorical(Accuracy):\n",
        "\n",
        "    def __init__(self, *, binary=False):\n",
        "        # Binary mode?\n",
        "        self.binary = binary\n",
        "\n",
        "    # No initialization is needed\n",
        "    def init(self, y):\n",
        "        pass\n",
        "\n",
        "    # Compares predictions to the ground truth values\n",
        "    def compare(self, predictions, y):\n",
        "        if not self.binary and len(y.shape) == 2:\n",
        "            y = np.argmax(y, axis=1)\n",
        "        return predictions == y\n",
        "\n",
        "\n",
        "# Accuracy calculation for regression model\n",
        "class Accuracy_Regression(Accuracy):\n",
        "\n",
        "    def __init__(self):\n",
        "        # Create precision property\n",
        "        self.precision = None\n",
        "\n",
        "    # Calculates precision value\n",
        "    # based on passed-in ground truth values\n",
        "    def init(self, y, reinit=False):\n",
        "        if self.precision is None or reinit:\n",
        "            self.precision = np.std(y) / 250\n",
        "\n",
        "    # Compares predictions to the ground truth values\n",
        "    def compare(self, predictions, y):\n",
        "        return np.absolute(predictions - y) < self.precision\n",
        "\n",
        "class model:\n",
        "    def __init__(self):\n",
        "        pass\n",
        "\n",
        "    def predict(self, classes, samples):\n",
        "        self.classes = classes\n",
        "        self.samples = samples\n",
        "        self.X, self.y = spiral_data(samples=self.samples, classes=self.classes)\n",
        "        dense1.forward(self.X)\n",
        "        activation1.forward(dense1.output)\n",
        "        dense2.forward(activation1.output)\n",
        "        activation2.forward(dense2.output)\n",
        "        # Calculate the data loss\n",
        "        self.loss = loss_function.calculate(activation2.output, self.y)\n",
        "        self.predictions = (activation2.output > 0.5) * 1\n",
        "        self.accuracy = np.mean(self.predictions == self.y)\n",
        "        print(f'Accuracy: {self.accuracy}')\n",
        "\n",
        "\n"
      ],
      "execution_count": 5,
      "outputs": []
    },
    {
      "cell_type": "markdown",
      "metadata": {
        "id": "UA4GFMbIPUkI"
      },
      "source": [
        "# Old Dropout Layer"
      ]
    },
    {
      "cell_type": "code",
      "metadata": {
        "id": "ZxoiO43tPbTa"
      },
      "source": [
        "class Layer_Dropout:\n",
        "\n",
        "    # Init\n",
        "    def __init__(self, rate):\n",
        "        # Store rate, we invert it as for example for dropout\n",
        "        # of 0.1 we need success rate of 0.9\n",
        "        self.rate = 1 - rate\n",
        "\n",
        "    # Forward pass\n",
        "    def forward(self, inputs):\n",
        "        # Save input values\n",
        "        self.inputs = inputs\n",
        "        # Generate and save scaled mask\n",
        "        self.binary_mask = np.random.binomial(1, self.rate,\n",
        "                                              size=inputs.shape) / self.rate\n",
        "        # Apply mask to output values\n",
        "        self.output = inputs * self.binary_mask\n",
        "       \n",
        "\n",
        "    # Backward pass\n",
        "    def backward(self, dvalues):\n",
        "        # Gradient on values\n",
        "        self.dinputs = dvalues * self.binary_mask\n",
        "        #print(self.dinputs.shape)"
      ],
      "execution_count": 6,
      "outputs": []
    },
    {
      "cell_type": "markdown",
      "metadata": {
        "id": "XRB57nFublm3"
      },
      "source": [
        "Initializing Caches"
      ]
    },
    {
      "cell_type": "code",
      "metadata": {
        "id": "_kyAX0txV-cF"
      },
      "source": [
        "loss_cache = []\n",
        "val_loss_cache = []\n",
        "acc_cache = []\n",
        "val_acc_cache = []\n",
        "lr_cache = []\n",
        "epoch_cache = []\n",
        "test_acc_cache = []\n",
        "test_loss_cache = []\n",
        "\n",
        "max_val_accuracyint = 0"
      ],
      "execution_count": 7,
      "outputs": []
    },
    {
      "cell_type": "markdown",
      "metadata": {
        "id": "F_7VWnIlF8yx"
      },
      "source": [
        "Initializing Summary List"
      ]
    },
    {
      "cell_type": "code",
      "metadata": {
        "id": "Xtnu5VToGAq0"
      },
      "source": [
        "summary = []"
      ],
      "execution_count": 8,
      "outputs": []
    },
    {
      "cell_type": "markdown",
      "metadata": {
        "id": "W1Eu0pm-WjKI"
      },
      "source": [
        "# Loading Data"
      ]
    },
    {
      "cell_type": "markdown",
      "metadata": {
        "id": "x-24YuBKre0f"
      },
      "source": [
        "Vizulizing Data"
      ]
    },
    {
      "cell_type": "code",
      "metadata": {
        "colab": {
          "base_uri": "https://localhost:8080/"
        },
        "id": "4kUOJ9avrho8",
        "outputId": "76509aac-28e2-471c-833d-2fe30844581c"
      },
      "source": [
        "(X, y), (X_test, y_test) = tf.keras.datasets.fashion_mnist.load_data()\n",
        "\n",
        "# Label index to label name relation\n",
        "fashion_mnist_labels = {\n",
        "    0: 'T-shirt/top',\n",
        "    1: 'Trouser',\n",
        "    2: 'Pullover',\n",
        "    3: 'Dress',\n",
        "    4: 'Coat',\n",
        "    5: 'Sandal',\n",
        "    6: 'Shirt',\n",
        "    7: 'Sneaker',\n",
        "    8: 'Bag',\n",
        "    9: 'Ankle boot'\n",
        "}\n",
        "\n",
        "\n",
        "# Shuffle the training dataset\n",
        "keys = np.array(range(X.shape[0]))\n",
        "np.random.shuffle(keys)\n",
        "X = X[keys]\n",
        "y = y[keys]\n",
        "\n",
        "X = X[:8000,:,:]\n",
        "X_test = X_test[:1600,:,:]\n",
        "y = y[:8000]\n",
        "y_test  = y_test[:1600]\n",
        "\n",
        "\n",
        "# Scale and reshape samples\n",
        "X = (X.reshape(X.shape[0], -1).astype(np.float32) - 127.5) / 127.5\n",
        "X_test = (X_test.reshape(X_test.shape[0], -1).astype(np.float32) - 127.5) / 127.5\n",
        "\n",
        "print(X.shape)\n",
        "print(y.shape)\n",
        "print(X_test.shape)\n",
        "print(y_test.shape)\n"
      ],
      "execution_count": 9,
      "outputs": [
        {
          "output_type": "stream",
          "text": [
            "Downloading data from https://storage.googleapis.com/tensorflow/tf-keras-datasets/train-labels-idx1-ubyte.gz\n",
            "32768/29515 [=================================] - 0s 0us/step\n",
            "Downloading data from https://storage.googleapis.com/tensorflow/tf-keras-datasets/train-images-idx3-ubyte.gz\n",
            "26427392/26421880 [==============================] - 0s 0us/step\n",
            "Downloading data from https://storage.googleapis.com/tensorflow/tf-keras-datasets/t10k-labels-idx1-ubyte.gz\n",
            "8192/5148 [===============================================] - 0s 0us/step\n",
            "Downloading data from https://storage.googleapis.com/tensorflow/tf-keras-datasets/t10k-images-idx3-ubyte.gz\n",
            "4423680/4422102 [==============================] - 0s 0us/step\n",
            "(8000, 784)\n",
            "(8000,)\n",
            "(1600, 784)\n",
            "(1600,)\n"
          ],
          "name": "stdout"
        }
      ]
    },
    {
      "cell_type": "markdown",
      "metadata": {
        "id": "i_nW7mqGTnem"
      },
      "source": [
        "Sorting Training Data"
      ]
    },
    {
      "cell_type": "code",
      "metadata": {
        "colab": {
          "base_uri": "https://localhost:8080/"
        },
        "id": "AtvA9y81TpGf",
        "outputId": "8d97f94c-8bce-46bb-aa3a-967327752e97"
      },
      "source": [
        "idx = np.argsort(y)\n",
        "X_sorted = X[idx]\n",
        "y_sorted = y[idx]\n",
        "\n",
        "sorted_x = {}\n",
        "sorted_y = {}\n",
        "for classes in range(len(set(y))):\n",
        "  sorted_x[\"X_{0}\".format(classes)] = X[y == classes]\n",
        "  sorted_y[\"y_{0}\".format(classes)] = y[y == classes]\n",
        "\n",
        "\n",
        "\n",
        "for sorted_lists in sorted_x:\n",
        "  print(f'Number of Samples for {sorted_lists}: {sorted_x[sorted_lists].shape[0]}')\n"
      ],
      "execution_count": 10,
      "outputs": [
        {
          "output_type": "stream",
          "text": [
            "Number of Samples for X_0: 772\n",
            "Number of Samples for X_1: 776\n",
            "Number of Samples for X_2: 833\n",
            "Number of Samples for X_3: 805\n",
            "Number of Samples for X_4: 768\n",
            "Number of Samples for X_5: 788\n",
            "Number of Samples for X_6: 827\n",
            "Number of Samples for X_7: 796\n",
            "Number of Samples for X_8: 839\n",
            "Number of Samples for X_9: 796\n"
          ],
          "name": "stdout"
        }
      ]
    },
    {
      "cell_type": "markdown",
      "metadata": {
        "id": "vpaNaUO3kP2G"
      },
      "source": [
        "Sorting Testing Data"
      ]
    },
    {
      "cell_type": "code",
      "metadata": {
        "colab": {
          "base_uri": "https://localhost:8080/"
        },
        "id": "TBLFeGAUkSOs",
        "outputId": "ddbec275-3d61-49e0-a026-5ba13a202f34"
      },
      "source": [
        "idx = np.argsort(y_test)\n",
        "X_test_sorted = X_test[idx]\n",
        "y_test_sorted = y_test[idx]\n",
        "\n",
        "class_list = []\n",
        "\n",
        "sorted_x_test = {}\n",
        "sorted_y_test = {}\n",
        "for classes in range(len(set(y))):\n",
        "  sorted_x_test[\"X_test_{0}\".format(classes)] = X_test[y_test == classes]\n",
        "  sorted_y_test[\"y_test_{0}\".format(classes)] = y_test[y_test == classes]\n",
        "\n",
        "\n",
        "for sorted_lists in sorted_x_test:\n",
        "  print(f'Number of Samples for {sorted_lists}: {sorted_x_test[sorted_lists].shape[0]}')\n",
        "  class_list.append(sorted_x_test[sorted_lists].shape[0])\n"
      ],
      "execution_count": 11,
      "outputs": [
        {
          "output_type": "stream",
          "text": [
            "Number of Samples for X_test_0: 161\n",
            "Number of Samples for X_test_1: 162\n",
            "Number of Samples for X_test_2: 177\n",
            "Number of Samples for X_test_3: 148\n",
            "Number of Samples for X_test_4: 184\n",
            "Number of Samples for X_test_5: 158\n",
            "Number of Samples for X_test_6: 158\n",
            "Number of Samples for X_test_7: 154\n",
            "Number of Samples for X_test_8: 151\n",
            "Number of Samples for X_test_9: 147\n"
          ],
          "name": "stdout"
        }
      ]
    },
    {
      "cell_type": "code",
      "metadata": {
        "colab": {
          "base_uri": "https://localhost:8080/"
        },
        "id": "6hbnq4TJp1cl",
        "outputId": "a3087ccf-f8ff-42c2-935e-dadb166bc2d8"
      },
      "source": [
        "print(f'Found {X.shape[0]} images belonging to {len(set(y))} unique classes')"
      ],
      "execution_count": 12,
      "outputs": [
        {
          "output_type": "stream",
          "text": [
            "Found 8000 images belonging to 10 unique classes\n"
          ],
          "name": "stdout"
        }
      ]
    },
    {
      "cell_type": "markdown",
      "metadata": {
        "id": "Fd_dSHDNW1Rn"
      },
      "source": [
        "# Initializing Layers"
      ]
    },
    {
      "cell_type": "code",
      "metadata": {
        "id": "aly5fwUCW_4l"
      },
      "source": [
        "# Create Dense layer with 2 input features and 64 output values\n",
        "dense1 = Layer_Dense(X.shape[1], 128, weight_regularizer_l2=5e-4,\n",
        "                     bias_regularizer_l2=5e-4)\n",
        "\n",
        "activation1 = Activation_ReLU()\n",
        "\n",
        "dropout1 = Layer_Dropout(0.2)\n",
        "\n",
        "dense2 = Layer_Dense(128, 128)\n",
        "\n",
        "activation2 = Activation_ReLU()\n",
        "\n",
        "dense3 = Layer_Dense(128,128)\n",
        "\n",
        "activation3 = Activation_ReLU()\n",
        "\n",
        "dense4 = Layer_Dense(128,len(set(y)))\n",
        "\n",
        "activation4 = Activation_Softmax()\n",
        "\n",
        "\n",
        "loss_function = Loss_CategoricalCrossentropy()\n",
        "\n",
        "softmax_classifier_output = \\\n",
        "                Activation_Softmax_Loss_CategoricalCrossentropy()\n",
        "\n",
        "# Create optimizer\n",
        "optimizer = Optimizer_Adam(decay=5e-7,learning_rate=0.005)\n",
        "#optimizer = Optimizer_SGD(learning_rate=0.01)\n",
        "accuracy = Accuracy_Categorical()\n",
        "\n",
        "accuracy.init(y)"
      ],
      "execution_count": 13,
      "outputs": []
    },
    {
      "cell_type": "markdown",
      "metadata": {
        "id": "-xmbxDuwXIBk"
      },
      "source": [
        "# Training Loop"
      ]
    },
    {
      "cell_type": "code",
      "metadata": {
        "colab": {
          "base_uri": "https://localhost:8080/"
        },
        "id": "14yHOjq9XLee",
        "outputId": "a889d3ec-09f0-4a67-e4a6-ce039171efba"
      },
      "source": [
        "epochs = 244\n",
        "for epoch in range(epochs + 1):\n",
        "\n",
        "    dense1.forward(X)\n",
        "\n",
        "    activation1.forward(dense1.output)\n",
        "\n",
        "    dropout1.forward(activation1.output)\n",
        "\n",
        "    dense2.forward(dropout1.output)\n",
        "\n",
        "    activation2.forward(dense2.output)\n",
        "\n",
        "    dense3.forward(activation2.output)\n",
        "\n",
        "    activation3.forward(dense3.output)\n",
        "\n",
        "    dense4.forward(activation3.output)\n",
        "\n",
        "    activation4.forward(dense4.output)\n",
        "\n",
        "    # Calculate the data loss\n",
        "    data_loss = loss_function.calculate(activation4.output, y)\n",
        "    regularization_loss = \\\n",
        "      loss_function.regularization_loss(dense1) + \\\n",
        "      loss_function.regularization_loss(dense2) + \\\n",
        "      loss_function.regularization_loss(dense3) + \\\n",
        "      loss_function.regularization_loss(dense4) \n",
        "    loss = data_loss + regularization_loss\n",
        "    \n",
        "    #Accuracy\n",
        "    predictions = activation4.predictions(activation4.output)\n",
        "    train_accuracy = accuracy.calculate(predictions, y)\n",
        "\n",
        "    # Backward pass\n",
        "    softmax_classifier_output.backward(activation4.output, y)\n",
        "    activation4.backward(softmax_classifier_output.dinputs)\n",
        "    dense4.backward(activation4.dinputs)\n",
        "    activation3.backward(dense4.dinputs)\n",
        "    dense3.backward(activation3.dinputs)\n",
        "    activation2.backward(dense3.dinputs)\n",
        "    dense2.backward(activation2.dinputs)\n",
        "    dropout1.backward(dense2.dinputs)\n",
        "    activation1.backward(dropout1.dinputs)\n",
        "    dense1.backward(activation1.dinputs)\n",
        "    \n",
        "    # Update weights and biases\n",
        "    optimizer.pre_update_params()\n",
        "    optimizer.update_params(dense1)\n",
        "    optimizer.update_params(dense2)\n",
        "    optimizer.update_params(dense3)\n",
        "    optimizer.update_params(dense4)\n",
        "    optimizer.post_update_params()\n",
        "\n",
        "    # Validation\n",
        "    dense1.forward(X_test)\n",
        "    activation1.forward(dense1.output)\n",
        "    \n",
        "    dense2.forward(activation1.output)\n",
        "    \n",
        "    dense1_outputs = dense1.output\n",
        "    meanarray = np.mean(dense1.output, axis=0)\n",
        "    cached_val_inputs = activation1.output\n",
        " \n",
        "    trainout = meanarray\n",
        "    activation2.forward(dense2.output)\n",
        "\n",
        "    dense3.forward(activation2.output)\n",
        "    activation3.forward(dense3.output)\n",
        "    dense4.forward(activation3.output)\n",
        "    activation4.forward(dense4.output)\n",
        "    # Calculate the data loss\n",
        "    valloss = loss_function.calculate(activation4.output, y_test)\n",
        "    predictions = activation4.predictions(activation4.output)\n",
        "    valaccuracy = accuracy.calculate(predictions, y_test)\n",
        "\n",
        "    #Updating List\n",
        "    loss_cache.append(loss)\n",
        "    val_loss_cache.append(valloss)\n",
        "    acc_cache.append(train_accuracy)\n",
        "    val_acc_cache.append(valaccuracy)\n",
        "    lr_cache.append(optimizer.current_learning_rate)\n",
        "    epoch_cache.append(epoch)\n",
        "    \n",
        "\n",
        "    #Summary Items\n",
        "    if valaccuracy >= .8 and len(summary) == 0:\n",
        "        nintypercent = f'Model hit 80% validation accuracy in {epoch} epochs'\n",
        "        summary.append(nintypercent)\n",
        "    if valaccuracy >= .85 and len(summary) == 1:\n",
        "        nintypercent = f'Model hit 85% validation accuracy in {epoch} epochs'\n",
        "        summary.append(nintypercent)\n",
        "    if valaccuracy >= .9 and len(summary) == 2:\n",
        "        nintypercent = f'Model hit 90% validation accuracy in {epoch} epochs'\n",
        "        summary.append(nintypercent)\n",
        "    if valaccuracy >= .95 and len(summary) == 3:\n",
        "        nintypercent = f'Model hit 95% validation accuracy in {epoch} epochs'\n",
        "        summary.append(nintypercent)\n",
        "    if valaccuracy >= .975 and len(summary) == 4:\n",
        "        nintypercent = f'Model hit 97.5% validation accuracy in {epoch} epochs'\n",
        "        summary.append(nintypercent)  \n",
        "    if valaccuracy >= 1 and len(summary) == 5:\n",
        "        nintypercent = f'Model hit 100% validation accuracy in {epoch} epochs'\n",
        "        summary.append(nintypercent)\n",
        "    if epoch == epochs:\n",
        "      if valaccuracy > max_val_accuracyint:\n",
        "        max_val_accuracyint = valaccuracy\n",
        "        max_val_accuracy = f'Max accuracy was {valaccuracy * 100}% at epoch {epoch}.'\n",
        "        summary.append(max_val_accuracy)\n",
        "      else:\n",
        "        summary.append(max_val_accuracy)\n",
        "    else:\n",
        "      if valaccuracy > max_val_accuracyint:\n",
        "        max_val_accuracyint = valaccuracy\n",
        "        max_val_accuracy = f'Max accuracy was {valaccuracy * 100}% at epoch {epoch}.'     \n",
        "    \n",
        "    if not epoch % 1:\n",
        "        print(f'epoch: {epoch}, ' +\n",
        "              f'acc: {train_accuracy:.3f}, ' +\n",
        "              f'loss: {loss:.3f} (' +\n",
        "              f'data_loss: {data_loss:.3f}, ' +\n",
        "              f'reg_loss: {regularization_loss:.3f}), ' +\n",
        "              f'lr: {optimizer.current_learning_rate:.9f} ' +\n",
        "              f'validation, acc: {valaccuracy:.3f}, loss: {valloss:.3f} ')"
      ],
      "execution_count": 14,
      "outputs": [
        {
          "output_type": "stream",
          "text": [
            "epoch: 0, acc: 0.082, loss: 2.308 (data_loss: 2.303, reg_loss: 0.005), lr: 0.005000000 validation, acc: 0.176, loss: 2.302 \n",
            "epoch: 1, acc: 0.185, loss: 2.304 (data_loss: 2.302, reg_loss: 0.002), lr: 0.004999998 validation, acc: 0.176, loss: 2.295 \n",
            "epoch: 2, acc: 0.180, loss: 2.295 (data_loss: 2.294, reg_loss: 0.001), lr: 0.004999995 validation, acc: 0.241, loss: 2.235 \n",
            "epoch: 3, acc: 0.247, loss: 2.235 (data_loss: 2.234, reg_loss: 0.001), lr: 0.004999993 validation, acc: 0.206, loss: 2.048 \n",
            "epoch: 4, acc: 0.231, loss: 2.048 (data_loss: 2.046, reg_loss: 0.002), lr: 0.004999990 validation, acc: 0.195, loss: 1.844 \n",
            "epoch: 5, acc: 0.209, loss: 1.850 (data_loss: 1.846, reg_loss: 0.004), lr: 0.004999988 validation, acc: 0.208, loss: 2.103 \n",
            "epoch: 6, acc: 0.195, loss: 2.122 (data_loss: 2.117, reg_loss: 0.005), lr: 0.004999985 validation, acc: 0.266, loss: 1.664 \n",
            "epoch: 7, acc: 0.272, loss: 1.658 (data_loss: 1.651, reg_loss: 0.006), lr: 0.004999983 validation, acc: 0.368, loss: 1.618 \n",
            "epoch: 8, acc: 0.378, loss: 1.611 (data_loss: 1.604, reg_loss: 0.007), lr: 0.004999980 validation, acc: 0.306, loss: 1.632 \n",
            "epoch: 9, acc: 0.311, loss: 1.627 (data_loss: 1.619, reg_loss: 0.008), lr: 0.004999978 validation, acc: 0.384, loss: 1.545 \n",
            "epoch: 10, acc: 0.388, loss: 1.543 (data_loss: 1.534, reg_loss: 0.009), lr: 0.004999975 validation, acc: 0.423, loss: 1.466 \n",
            "epoch: 11, acc: 0.424, loss: 1.475 (data_loss: 1.465, reg_loss: 0.010), lr: 0.004999973 validation, acc: 0.442, loss: 1.390 \n",
            "epoch: 12, acc: 0.454, loss: 1.405 (data_loss: 1.394, reg_loss: 0.011), lr: 0.004999970 validation, acc: 0.452, loss: 1.301 \n",
            "epoch: 13, acc: 0.458, loss: 1.317 (data_loss: 1.305, reg_loss: 0.012), lr: 0.004999968 validation, acc: 0.443, loss: 1.246 \n",
            "epoch: 14, acc: 0.448, loss: 1.268 (data_loss: 1.254, reg_loss: 0.014), lr: 0.004999965 validation, acc: 0.508, loss: 1.173 \n",
            "epoch: 15, acc: 0.510, loss: 1.191 (data_loss: 1.177, reg_loss: 0.015), lr: 0.004999963 validation, acc: 0.570, loss: 1.105 \n",
            "epoch: 16, acc: 0.566, loss: 1.118 (data_loss: 1.103, reg_loss: 0.016), lr: 0.004999960 validation, acc: 0.545, loss: 1.086 \n",
            "epoch: 17, acc: 0.565, loss: 1.092 (data_loss: 1.075, reg_loss: 0.017), lr: 0.004999958 validation, acc: 0.552, loss: 1.105 \n",
            "epoch: 18, acc: 0.572, loss: 1.117 (data_loss: 1.099, reg_loss: 0.017), lr: 0.004999955 validation, acc: 0.566, loss: 1.023 \n",
            "epoch: 19, acc: 0.579, loss: 1.047 (data_loss: 1.029, reg_loss: 0.018), lr: 0.004999953 validation, acc: 0.573, loss: 1.007 \n",
            "epoch: 20, acc: 0.578, loss: 1.031 (data_loss: 1.012, reg_loss: 0.019), lr: 0.004999950 validation, acc: 0.605, loss: 0.974 \n",
            "epoch: 21, acc: 0.623, loss: 0.989 (data_loss: 0.969, reg_loss: 0.020), lr: 0.004999948 validation, acc: 0.621, loss: 0.966 \n",
            "epoch: 22, acc: 0.635, loss: 0.979 (data_loss: 0.959, reg_loss: 0.020), lr: 0.004999945 validation, acc: 0.634, loss: 0.963 \n",
            "epoch: 23, acc: 0.634, loss: 0.977 (data_loss: 0.956, reg_loss: 0.020), lr: 0.004999943 validation, acc: 0.618, loss: 0.966 \n",
            "epoch: 24, acc: 0.615, loss: 0.982 (data_loss: 0.961, reg_loss: 0.021), lr: 0.004999940 validation, acc: 0.640, loss: 0.947 \n",
            "epoch: 25, acc: 0.654, loss: 0.959 (data_loss: 0.938, reg_loss: 0.021), lr: 0.004999938 validation, acc: 0.668, loss: 0.921 \n",
            "epoch: 26, acc: 0.681, loss: 0.931 (data_loss: 0.910, reg_loss: 0.021), lr: 0.004999935 validation, acc: 0.664, loss: 0.916 \n",
            "epoch: 27, acc: 0.670, loss: 0.928 (data_loss: 0.907, reg_loss: 0.021), lr: 0.004999933 validation, acc: 0.656, loss: 0.904 \n",
            "epoch: 28, acc: 0.679, loss: 0.905 (data_loss: 0.884, reg_loss: 0.021), lr: 0.004999930 validation, acc: 0.704, loss: 0.876 \n",
            "epoch: 29, acc: 0.695, loss: 0.888 (data_loss: 0.867, reg_loss: 0.021), lr: 0.004999928 validation, acc: 0.710, loss: 0.883 \n",
            "epoch: 30, acc: 0.701, loss: 0.905 (data_loss: 0.884, reg_loss: 0.021), lr: 0.004999925 validation, acc: 0.698, loss: 0.866 \n",
            "epoch: 31, acc: 0.710, loss: 0.863 (data_loss: 0.842, reg_loss: 0.021), lr: 0.004999923 validation, acc: 0.719, loss: 0.822 \n",
            "epoch: 32, acc: 0.717, loss: 0.838 (data_loss: 0.817, reg_loss: 0.021), lr: 0.004999920 validation, acc: 0.726, loss: 0.810 \n",
            "epoch: 33, acc: 0.725, loss: 0.827 (data_loss: 0.806, reg_loss: 0.021), lr: 0.004999918 validation, acc: 0.728, loss: 0.790 \n",
            "epoch: 34, acc: 0.734, loss: 0.804 (data_loss: 0.783, reg_loss: 0.021), lr: 0.004999915 validation, acc: 0.735, loss: 0.764 \n",
            "epoch: 35, acc: 0.739, loss: 0.792 (data_loss: 0.772, reg_loss: 0.021), lr: 0.004999913 validation, acc: 0.742, loss: 0.749 \n",
            "epoch: 36, acc: 0.746, loss: 0.769 (data_loss: 0.748, reg_loss: 0.021), lr: 0.004999910 validation, acc: 0.738, loss: 0.747 \n",
            "epoch: 37, acc: 0.751, loss: 0.762 (data_loss: 0.741, reg_loss: 0.020), lr: 0.004999908 validation, acc: 0.752, loss: 0.718 \n",
            "epoch: 38, acc: 0.753, loss: 0.741 (data_loss: 0.721, reg_loss: 0.020), lr: 0.004999905 validation, acc: 0.750, loss: 0.718 \n",
            "epoch: 39, acc: 0.760, loss: 0.727 (data_loss: 0.707, reg_loss: 0.020), lr: 0.004999903 validation, acc: 0.755, loss: 0.696 \n",
            "epoch: 40, acc: 0.766, loss: 0.715 (data_loss: 0.695, reg_loss: 0.020), lr: 0.004999900 validation, acc: 0.746, loss: 0.711 \n",
            "epoch: 41, acc: 0.749, loss: 0.732 (data_loss: 0.712, reg_loss: 0.020), lr: 0.004999898 validation, acc: 0.720, loss: 0.770 \n",
            "epoch: 42, acc: 0.723, loss: 0.799 (data_loss: 0.779, reg_loss: 0.020), lr: 0.004999895 validation, acc: 0.739, loss: 0.761 \n",
            "epoch: 43, acc: 0.745, loss: 0.770 (data_loss: 0.750, reg_loss: 0.020), lr: 0.004999893 validation, acc: 0.749, loss: 0.721 \n",
            "epoch: 44, acc: 0.754, loss: 0.730 (data_loss: 0.710, reg_loss: 0.020), lr: 0.004999890 validation, acc: 0.754, loss: 0.688 \n",
            "epoch: 45, acc: 0.760, loss: 0.712 (data_loss: 0.692, reg_loss: 0.020), lr: 0.004999888 validation, acc: 0.771, loss: 0.656 \n",
            "epoch: 46, acc: 0.776, loss: 0.676 (data_loss: 0.656, reg_loss: 0.020), lr: 0.004999885 validation, acc: 0.765, loss: 0.673 \n",
            "epoch: 47, acc: 0.769, loss: 0.699 (data_loss: 0.679, reg_loss: 0.020), lr: 0.004999883 validation, acc: 0.781, loss: 0.643 \n",
            "epoch: 48, acc: 0.787, loss: 0.663 (data_loss: 0.643, reg_loss: 0.020), lr: 0.004999880 validation, acc: 0.787, loss: 0.632 \n",
            "epoch: 49, acc: 0.789, loss: 0.660 (data_loss: 0.639, reg_loss: 0.020), lr: 0.004999878 validation, acc: 0.786, loss: 0.617 \n",
            "epoch: 50, acc: 0.792, loss: 0.649 (data_loss: 0.628, reg_loss: 0.021), lr: 0.004999875 validation, acc: 0.784, loss: 0.629 \n",
            "epoch: 51, acc: 0.783, loss: 0.658 (data_loss: 0.637, reg_loss: 0.021), lr: 0.004999873 validation, acc: 0.787, loss: 0.634 \n",
            "epoch: 52, acc: 0.786, loss: 0.650 (data_loss: 0.630, reg_loss: 0.021), lr: 0.004999870 validation, acc: 0.769, loss: 0.649 \n",
            "epoch: 53, acc: 0.771, loss: 0.676 (data_loss: 0.656, reg_loss: 0.020), lr: 0.004999868 validation, acc: 0.790, loss: 0.621 \n",
            "epoch: 54, acc: 0.792, loss: 0.643 (data_loss: 0.623, reg_loss: 0.020), lr: 0.004999865 validation, acc: 0.798, loss: 0.592 \n",
            "epoch: 55, acc: 0.796, loss: 0.616 (data_loss: 0.595, reg_loss: 0.020), lr: 0.004999863 validation, acc: 0.799, loss: 0.594 \n",
            "epoch: 56, acc: 0.801, loss: 0.607 (data_loss: 0.587, reg_loss: 0.020), lr: 0.004999860 validation, acc: 0.785, loss: 0.579 \n",
            "epoch: 57, acc: 0.801, loss: 0.601 (data_loss: 0.580, reg_loss: 0.020), lr: 0.004999858 validation, acc: 0.796, loss: 0.596 \n",
            "epoch: 58, acc: 0.801, loss: 0.605 (data_loss: 0.584, reg_loss: 0.020), lr: 0.004999855 validation, acc: 0.810, loss: 0.577 \n",
            "epoch: 59, acc: 0.810, loss: 0.590 (data_loss: 0.570, reg_loss: 0.020), lr: 0.004999853 validation, acc: 0.805, loss: 0.571 \n",
            "epoch: 60, acc: 0.816, loss: 0.588 (data_loss: 0.568, reg_loss: 0.020), lr: 0.004999850 validation, acc: 0.810, loss: 0.557 \n",
            "epoch: 61, acc: 0.817, loss: 0.565 (data_loss: 0.546, reg_loss: 0.020), lr: 0.004999848 validation, acc: 0.804, loss: 0.552 \n",
            "epoch: 62, acc: 0.822, loss: 0.566 (data_loss: 0.546, reg_loss: 0.020), lr: 0.004999845 validation, acc: 0.802, loss: 0.551 \n",
            "epoch: 63, acc: 0.814, loss: 0.556 (data_loss: 0.536, reg_loss: 0.020), lr: 0.004999843 validation, acc: 0.815, loss: 0.545 \n",
            "epoch: 64, acc: 0.827, loss: 0.553 (data_loss: 0.533, reg_loss: 0.019), lr: 0.004999840 validation, acc: 0.818, loss: 0.546 \n",
            "epoch: 65, acc: 0.834, loss: 0.540 (data_loss: 0.521, reg_loss: 0.019), lr: 0.004999838 validation, acc: 0.824, loss: 0.529 \n",
            "epoch: 66, acc: 0.835, loss: 0.534 (data_loss: 0.515, reg_loss: 0.019), lr: 0.004999835 validation, acc: 0.818, loss: 0.524 \n",
            "epoch: 67, acc: 0.837, loss: 0.525 (data_loss: 0.506, reg_loss: 0.019), lr: 0.004999833 validation, acc: 0.828, loss: 0.515 \n",
            "epoch: 68, acc: 0.839, loss: 0.517 (data_loss: 0.498, reg_loss: 0.019), lr: 0.004999830 validation, acc: 0.831, loss: 0.508 \n",
            "epoch: 69, acc: 0.839, loss: 0.523 (data_loss: 0.504, reg_loss: 0.019), lr: 0.004999828 validation, acc: 0.818, loss: 0.527 \n",
            "epoch: 70, acc: 0.837, loss: 0.523 (data_loss: 0.504, reg_loss: 0.019), lr: 0.004999825 validation, acc: 0.825, loss: 0.507 \n",
            "epoch: 71, acc: 0.844, loss: 0.517 (data_loss: 0.498, reg_loss: 0.018), lr: 0.004999823 validation, acc: 0.832, loss: 0.507 \n",
            "epoch: 72, acc: 0.844, loss: 0.506 (data_loss: 0.488, reg_loss: 0.018), lr: 0.004999820 validation, acc: 0.839, loss: 0.489 \n",
            "epoch: 73, acc: 0.850, loss: 0.497 (data_loss: 0.478, reg_loss: 0.018), lr: 0.004999818 validation, acc: 0.831, loss: 0.505 \n",
            "epoch: 74, acc: 0.841, loss: 0.511 (data_loss: 0.493, reg_loss: 0.018), lr: 0.004999815 validation, acc: 0.812, loss: 0.544 \n",
            "epoch: 75, acc: 0.834, loss: 0.521 (data_loss: 0.503, reg_loss: 0.018), lr: 0.004999813 validation, acc: 0.825, loss: 0.526 \n",
            "epoch: 76, acc: 0.839, loss: 0.528 (data_loss: 0.510, reg_loss: 0.018), lr: 0.004999810 validation, acc: 0.827, loss: 0.493 \n",
            "epoch: 77, acc: 0.853, loss: 0.479 (data_loss: 0.461, reg_loss: 0.018), lr: 0.004999808 validation, acc: 0.833, loss: 0.494 \n",
            "epoch: 78, acc: 0.854, loss: 0.479 (data_loss: 0.461, reg_loss: 0.018), lr: 0.004999805 validation, acc: 0.828, loss: 0.503 \n",
            "epoch: 79, acc: 0.844, loss: 0.496 (data_loss: 0.478, reg_loss: 0.018), lr: 0.004999803 validation, acc: 0.842, loss: 0.477 \n",
            "epoch: 80, acc: 0.854, loss: 0.464 (data_loss: 0.446, reg_loss: 0.018), lr: 0.004999800 validation, acc: 0.828, loss: 0.511 \n",
            "epoch: 81, acc: 0.849, loss: 0.486 (data_loss: 0.468, reg_loss: 0.018), lr: 0.004999798 validation, acc: 0.841, loss: 0.489 \n",
            "epoch: 82, acc: 0.858, loss: 0.469 (data_loss: 0.451, reg_loss: 0.018), lr: 0.004999795 validation, acc: 0.842, loss: 0.478 \n",
            "epoch: 83, acc: 0.864, loss: 0.458 (data_loss: 0.440, reg_loss: 0.018), lr: 0.004999793 validation, acc: 0.825, loss: 0.513 \n",
            "epoch: 84, acc: 0.851, loss: 0.476 (data_loss: 0.458, reg_loss: 0.018), lr: 0.004999790 validation, acc: 0.839, loss: 0.464 \n",
            "epoch: 85, acc: 0.862, loss: 0.448 (data_loss: 0.431, reg_loss: 0.018), lr: 0.004999788 validation, acc: 0.839, loss: 0.490 \n",
            "epoch: 86, acc: 0.857, loss: 0.470 (data_loss: 0.452, reg_loss: 0.018), lr: 0.004999785 validation, acc: 0.842, loss: 0.490 \n",
            "epoch: 87, acc: 0.858, loss: 0.468 (data_loss: 0.450, reg_loss: 0.017), lr: 0.004999783 validation, acc: 0.782, loss: 0.645 \n",
            "epoch: 88, acc: 0.799, loss: 0.616 (data_loss: 0.598, reg_loss: 0.017), lr: 0.004999780 validation, acc: 0.728, loss: 0.834 \n",
            "epoch: 89, acc: 0.739, loss: 0.848 (data_loss: 0.830, reg_loss: 0.018), lr: 0.004999778 validation, acc: 0.806, loss: 0.566 \n",
            "epoch: 90, acc: 0.818, loss: 0.563 (data_loss: 0.545, reg_loss: 0.018), lr: 0.004999775 validation, acc: 0.768, loss: 0.692 \n",
            "epoch: 91, acc: 0.780, loss: 0.671 (data_loss: 0.653, reg_loss: 0.018), lr: 0.004999773 validation, acc: 0.804, loss: 0.594 \n",
            "epoch: 92, acc: 0.825, loss: 0.567 (data_loss: 0.548, reg_loss: 0.019), lr: 0.004999770 validation, acc: 0.814, loss: 0.579 \n",
            "epoch: 93, acc: 0.822, loss: 0.572 (data_loss: 0.553, reg_loss: 0.020), lr: 0.004999768 validation, acc: 0.803, loss: 0.593 \n",
            "epoch: 94, acc: 0.812, loss: 0.595 (data_loss: 0.575, reg_loss: 0.020), lr: 0.004999765 validation, acc: 0.819, loss: 0.535 \n",
            "epoch: 95, acc: 0.839, loss: 0.521 (data_loss: 0.500, reg_loss: 0.021), lr: 0.004999763 validation, acc: 0.799, loss: 0.564 \n",
            "epoch: 96, acc: 0.831, loss: 0.543 (data_loss: 0.522, reg_loss: 0.021), lr: 0.004999760 validation, acc: 0.818, loss: 0.559 \n",
            "epoch: 97, acc: 0.837, loss: 0.527 (data_loss: 0.505, reg_loss: 0.022), lr: 0.004999758 validation, acc: 0.820, loss: 0.542 \n",
            "epoch: 98, acc: 0.841, loss: 0.506 (data_loss: 0.484, reg_loss: 0.022), lr: 0.004999755 validation, acc: 0.829, loss: 0.525 \n",
            "epoch: 99, acc: 0.841, loss: 0.507 (data_loss: 0.484, reg_loss: 0.023), lr: 0.004999753 validation, acc: 0.833, loss: 0.500 \n",
            "epoch: 100, acc: 0.852, loss: 0.487 (data_loss: 0.464, reg_loss: 0.023), lr: 0.004999750 validation, acc: 0.823, loss: 0.515 \n",
            "epoch: 101, acc: 0.847, loss: 0.504 (data_loss: 0.481, reg_loss: 0.023), lr: 0.004999748 validation, acc: 0.831, loss: 0.495 \n",
            "epoch: 102, acc: 0.857, loss: 0.472 (data_loss: 0.449, reg_loss: 0.024), lr: 0.004999745 validation, acc: 0.841, loss: 0.498 \n",
            "epoch: 103, acc: 0.855, loss: 0.475 (data_loss: 0.451, reg_loss: 0.024), lr: 0.004999743 validation, acc: 0.830, loss: 0.505 \n",
            "epoch: 104, acc: 0.858, loss: 0.474 (data_loss: 0.450, reg_loss: 0.024), lr: 0.004999740 validation, acc: 0.831, loss: 0.509 \n",
            "epoch: 105, acc: 0.854, loss: 0.470 (data_loss: 0.446, reg_loss: 0.024), lr: 0.004999738 validation, acc: 0.842, loss: 0.486 \n",
            "epoch: 106, acc: 0.862, loss: 0.457 (data_loss: 0.433, reg_loss: 0.024), lr: 0.004999735 validation, acc: 0.837, loss: 0.480 \n",
            "epoch: 107, acc: 0.863, loss: 0.463 (data_loss: 0.439, reg_loss: 0.024), lr: 0.004999733 validation, acc: 0.836, loss: 0.478 \n",
            "epoch: 108, acc: 0.869, loss: 0.443 (data_loss: 0.419, reg_loss: 0.024), lr: 0.004999730 validation, acc: 0.838, loss: 0.482 \n",
            "epoch: 109, acc: 0.869, loss: 0.438 (data_loss: 0.414, reg_loss: 0.024), lr: 0.004999728 validation, acc: 0.846, loss: 0.461 \n",
            "epoch: 110, acc: 0.874, loss: 0.435 (data_loss: 0.411, reg_loss: 0.024), lr: 0.004999725 validation, acc: 0.846, loss: 0.459 \n",
            "epoch: 111, acc: 0.874, loss: 0.430 (data_loss: 0.406, reg_loss: 0.024), lr: 0.004999723 validation, acc: 0.841, loss: 0.468 \n",
            "epoch: 112, acc: 0.873, loss: 0.423 (data_loss: 0.399, reg_loss: 0.024), lr: 0.004999720 validation, acc: 0.846, loss: 0.455 \n",
            "epoch: 113, acc: 0.880, loss: 0.416 (data_loss: 0.393, reg_loss: 0.024), lr: 0.004999718 validation, acc: 0.840, loss: 0.454 \n",
            "epoch: 114, acc: 0.876, loss: 0.427 (data_loss: 0.404, reg_loss: 0.024), lr: 0.004999715 validation, acc: 0.849, loss: 0.448 \n",
            "epoch: 115, acc: 0.882, loss: 0.406 (data_loss: 0.383, reg_loss: 0.023), lr: 0.004999713 validation, acc: 0.849, loss: 0.448 \n",
            "epoch: 116, acc: 0.883, loss: 0.406 (data_loss: 0.382, reg_loss: 0.023), lr: 0.004999710 validation, acc: 0.851, loss: 0.447 \n",
            "epoch: 117, acc: 0.881, loss: 0.414 (data_loss: 0.391, reg_loss: 0.023), lr: 0.004999708 validation, acc: 0.854, loss: 0.441 \n",
            "epoch: 118, acc: 0.883, loss: 0.401 (data_loss: 0.378, reg_loss: 0.023), lr: 0.004999705 validation, acc: 0.846, loss: 0.442 \n",
            "epoch: 119, acc: 0.885, loss: 0.392 (data_loss: 0.370, reg_loss: 0.023), lr: 0.004999703 validation, acc: 0.849, loss: 0.439 \n",
            "epoch: 120, acc: 0.891, loss: 0.388 (data_loss: 0.365, reg_loss: 0.022), lr: 0.004999700 validation, acc: 0.851, loss: 0.443 \n",
            "epoch: 121, acc: 0.889, loss: 0.388 (data_loss: 0.365, reg_loss: 0.022), lr: 0.004999698 validation, acc: 0.855, loss: 0.445 \n",
            "epoch: 122, acc: 0.893, loss: 0.382 (data_loss: 0.360, reg_loss: 0.022), lr: 0.004999695 validation, acc: 0.854, loss: 0.434 \n",
            "epoch: 123, acc: 0.898, loss: 0.375 (data_loss: 0.353, reg_loss: 0.022), lr: 0.004999693 validation, acc: 0.854, loss: 0.431 \n",
            "epoch: 124, acc: 0.899, loss: 0.371 (data_loss: 0.350, reg_loss: 0.022), lr: 0.004999690 validation, acc: 0.856, loss: 0.437 \n",
            "epoch: 125, acc: 0.898, loss: 0.369 (data_loss: 0.348, reg_loss: 0.021), lr: 0.004999688 validation, acc: 0.852, loss: 0.433 \n",
            "epoch: 126, acc: 0.896, loss: 0.365 (data_loss: 0.344, reg_loss: 0.021), lr: 0.004999685 validation, acc: 0.854, loss: 0.434 \n",
            "epoch: 127, acc: 0.899, loss: 0.362 (data_loss: 0.341, reg_loss: 0.021), lr: 0.004999683 validation, acc: 0.857, loss: 0.432 \n",
            "epoch: 128, acc: 0.900, loss: 0.360 (data_loss: 0.339, reg_loss: 0.021), lr: 0.004999680 validation, acc: 0.857, loss: 0.437 \n",
            "epoch: 129, acc: 0.901, loss: 0.369 (data_loss: 0.349, reg_loss: 0.020), lr: 0.004999678 validation, acc: 0.843, loss: 0.475 \n",
            "epoch: 130, acc: 0.886, loss: 0.390 (data_loss: 0.370, reg_loss: 0.020), lr: 0.004999675 validation, acc: 0.843, loss: 0.480 \n",
            "epoch: 131, acc: 0.878, loss: 0.414 (data_loss: 0.394, reg_loss: 0.020), lr: 0.004999673 validation, acc: 0.834, loss: 0.498 \n",
            "epoch: 132, acc: 0.879, loss: 0.405 (data_loss: 0.385, reg_loss: 0.020), lr: 0.004999670 validation, acc: 0.836, loss: 0.492 \n",
            "epoch: 133, acc: 0.875, loss: 0.413 (data_loss: 0.393, reg_loss: 0.020), lr: 0.004999668 validation, acc: 0.830, loss: 0.524 \n",
            "epoch: 134, acc: 0.867, loss: 0.453 (data_loss: 0.434, reg_loss: 0.020), lr: 0.004999665 validation, acc: 0.830, loss: 0.513 \n",
            "epoch: 135, acc: 0.874, loss: 0.429 (data_loss: 0.410, reg_loss: 0.020), lr: 0.004999663 validation, acc: 0.789, loss: 0.615 \n",
            "epoch: 136, acc: 0.823, loss: 0.556 (data_loss: 0.536, reg_loss: 0.020), lr: 0.004999660 validation, acc: 0.798, loss: 0.638 \n",
            "epoch: 137, acc: 0.824, loss: 0.566 (data_loss: 0.546, reg_loss: 0.020), lr: 0.004999658 validation, acc: 0.792, loss: 0.666 \n",
            "epoch: 138, acc: 0.825, loss: 0.583 (data_loss: 0.563, reg_loss: 0.020), lr: 0.004999655 validation, acc: 0.830, loss: 0.557 \n",
            "epoch: 139, acc: 0.847, loss: 0.488 (data_loss: 0.468, reg_loss: 0.020), lr: 0.004999653 validation, acc: 0.825, loss: 0.544 \n",
            "epoch: 140, acc: 0.858, loss: 0.485 (data_loss: 0.465, reg_loss: 0.020), lr: 0.004999650 validation, acc: 0.814, loss: 0.572 \n",
            "epoch: 141, acc: 0.851, loss: 0.487 (data_loss: 0.466, reg_loss: 0.021), lr: 0.004999648 validation, acc: 0.826, loss: 0.525 \n",
            "epoch: 142, acc: 0.856, loss: 0.467 (data_loss: 0.446, reg_loss: 0.021), lr: 0.004999645 validation, acc: 0.814, loss: 0.572 \n",
            "epoch: 143, acc: 0.833, loss: 0.532 (data_loss: 0.511, reg_loss: 0.021), lr: 0.004999643 validation, acc: 0.819, loss: 0.602 \n",
            "epoch: 144, acc: 0.837, loss: 0.546 (data_loss: 0.524, reg_loss: 0.022), lr: 0.004999640 validation, acc: 0.831, loss: 0.514 \n",
            "epoch: 145, acc: 0.860, loss: 0.454 (data_loss: 0.432, reg_loss: 0.022), lr: 0.004999638 validation, acc: 0.825, loss: 0.528 \n",
            "epoch: 146, acc: 0.858, loss: 0.467 (data_loss: 0.445, reg_loss: 0.022), lr: 0.004999635 validation, acc: 0.840, loss: 0.473 \n",
            "epoch: 147, acc: 0.876, loss: 0.415 (data_loss: 0.392, reg_loss: 0.023), lr: 0.004999633 validation, acc: 0.831, loss: 0.483 \n",
            "epoch: 148, acc: 0.869, loss: 0.433 (data_loss: 0.410, reg_loss: 0.023), lr: 0.004999630 validation, acc: 0.847, loss: 0.473 \n",
            "epoch: 149, acc: 0.875, loss: 0.419 (data_loss: 0.396, reg_loss: 0.023), lr: 0.004999628 validation, acc: 0.834, loss: 0.499 \n",
            "epoch: 150, acc: 0.875, loss: 0.433 (data_loss: 0.409, reg_loss: 0.024), lr: 0.004999625 validation, acc: 0.847, loss: 0.491 \n",
            "epoch: 151, acc: 0.878, loss: 0.418 (data_loss: 0.394, reg_loss: 0.024), lr: 0.004999623 validation, acc: 0.844, loss: 0.493 \n",
            "epoch: 152, acc: 0.879, loss: 0.420 (data_loss: 0.396, reg_loss: 0.024), lr: 0.004999620 validation, acc: 0.852, loss: 0.468 \n",
            "epoch: 153, acc: 0.891, loss: 0.388 (data_loss: 0.364, reg_loss: 0.024), lr: 0.004999618 validation, acc: 0.848, loss: 0.471 \n",
            "epoch: 154, acc: 0.884, loss: 0.402 (data_loss: 0.378, reg_loss: 0.024), lr: 0.004999615 validation, acc: 0.848, loss: 0.456 \n",
            "epoch: 155, acc: 0.892, loss: 0.381 (data_loss: 0.356, reg_loss: 0.024), lr: 0.004999613 validation, acc: 0.849, loss: 0.454 \n",
            "epoch: 156, acc: 0.893, loss: 0.379 (data_loss: 0.355, reg_loss: 0.024), lr: 0.004999610 validation, acc: 0.851, loss: 0.449 \n",
            "epoch: 157, acc: 0.897, loss: 0.372 (data_loss: 0.348, reg_loss: 0.024), lr: 0.004999608 validation, acc: 0.854, loss: 0.446 \n",
            "epoch: 158, acc: 0.898, loss: 0.366 (data_loss: 0.341, reg_loss: 0.024), lr: 0.004999605 validation, acc: 0.850, loss: 0.450 \n",
            "epoch: 159, acc: 0.900, loss: 0.366 (data_loss: 0.341, reg_loss: 0.024), lr: 0.004999603 validation, acc: 0.851, loss: 0.441 \n",
            "epoch: 160, acc: 0.908, loss: 0.353 (data_loss: 0.328, reg_loss: 0.024), lr: 0.004999600 validation, acc: 0.851, loss: 0.442 \n",
            "epoch: 161, acc: 0.902, loss: 0.359 (data_loss: 0.335, reg_loss: 0.024), lr: 0.004999598 validation, acc: 0.854, loss: 0.446 \n",
            "epoch: 162, acc: 0.904, loss: 0.351 (data_loss: 0.327, reg_loss: 0.024), lr: 0.004999595 validation, acc: 0.858, loss: 0.452 \n",
            "epoch: 163, acc: 0.905, loss: 0.351 (data_loss: 0.327, reg_loss: 0.024), lr: 0.004999593 validation, acc: 0.851, loss: 0.454 \n",
            "epoch: 164, acc: 0.904, loss: 0.348 (data_loss: 0.324, reg_loss: 0.024), lr: 0.004999590 validation, acc: 0.854, loss: 0.448 \n",
            "epoch: 165, acc: 0.903, loss: 0.351 (data_loss: 0.327, reg_loss: 0.024), lr: 0.004999588 validation, acc: 0.849, loss: 0.460 \n",
            "epoch: 166, acc: 0.904, loss: 0.351 (data_loss: 0.327, reg_loss: 0.024), lr: 0.004999585 validation, acc: 0.859, loss: 0.442 \n",
            "epoch: 167, acc: 0.909, loss: 0.340 (data_loss: 0.316, reg_loss: 0.024), lr: 0.004999583 validation, acc: 0.859, loss: 0.441 \n",
            "epoch: 168, acc: 0.913, loss: 0.333 (data_loss: 0.309, reg_loss: 0.023), lr: 0.004999580 validation, acc: 0.851, loss: 0.450 \n",
            "epoch: 169, acc: 0.912, loss: 0.335 (data_loss: 0.312, reg_loss: 0.023), lr: 0.004999578 validation, acc: 0.862, loss: 0.435 \n",
            "epoch: 170, acc: 0.911, loss: 0.330 (data_loss: 0.306, reg_loss: 0.023), lr: 0.004999575 validation, acc: 0.861, loss: 0.429 \n",
            "epoch: 171, acc: 0.916, loss: 0.318 (data_loss: 0.295, reg_loss: 0.023), lr: 0.004999573 validation, acc: 0.858, loss: 0.446 \n",
            "epoch: 172, acc: 0.914, loss: 0.327 (data_loss: 0.304, reg_loss: 0.023), lr: 0.004999570 validation, acc: 0.858, loss: 0.445 \n",
            "epoch: 173, acc: 0.909, loss: 0.327 (data_loss: 0.304, reg_loss: 0.023), lr: 0.004999568 validation, acc: 0.851, loss: 0.443 \n",
            "epoch: 174, acc: 0.915, loss: 0.319 (data_loss: 0.297, reg_loss: 0.022), lr: 0.004999565 validation, acc: 0.863, loss: 0.430 \n",
            "epoch: 175, acc: 0.918, loss: 0.309 (data_loss: 0.287, reg_loss: 0.022), lr: 0.004999563 validation, acc: 0.857, loss: 0.438 \n",
            "epoch: 176, acc: 0.920, loss: 0.316 (data_loss: 0.294, reg_loss: 0.022), lr: 0.004999560 validation, acc: 0.856, loss: 0.449 \n",
            "epoch: 177, acc: 0.917, loss: 0.315 (data_loss: 0.293, reg_loss: 0.022), lr: 0.004999558 validation, acc: 0.858, loss: 0.458 \n",
            "epoch: 178, acc: 0.910, loss: 0.324 (data_loss: 0.302, reg_loss: 0.022), lr: 0.004999555 validation, acc: 0.849, loss: 0.470 \n",
            "epoch: 179, acc: 0.908, loss: 0.328 (data_loss: 0.306, reg_loss: 0.022), lr: 0.004999553 validation, acc: 0.861, loss: 0.445 \n",
            "epoch: 180, acc: 0.917, loss: 0.309 (data_loss: 0.288, reg_loss: 0.021), lr: 0.004999550 validation, acc: 0.855, loss: 0.455 \n",
            "epoch: 181, acc: 0.923, loss: 0.305 (data_loss: 0.283, reg_loss: 0.021), lr: 0.004999548 validation, acc: 0.856, loss: 0.446 \n",
            "epoch: 182, acc: 0.922, loss: 0.306 (data_loss: 0.285, reg_loss: 0.021), lr: 0.004999545 validation, acc: 0.861, loss: 0.443 \n",
            "epoch: 183, acc: 0.923, loss: 0.305 (data_loss: 0.283, reg_loss: 0.021), lr: 0.004999543 validation, acc: 0.863, loss: 0.451 \n",
            "epoch: 184, acc: 0.922, loss: 0.304 (data_loss: 0.283, reg_loss: 0.021), lr: 0.004999540 validation, acc: 0.857, loss: 0.441 \n",
            "epoch: 185, acc: 0.921, loss: 0.304 (data_loss: 0.284, reg_loss: 0.021), lr: 0.004999538 validation, acc: 0.857, loss: 0.449 \n",
            "epoch: 186, acc: 0.924, loss: 0.295 (data_loss: 0.274, reg_loss: 0.021), lr: 0.004999535 validation, acc: 0.867, loss: 0.444 \n",
            "epoch: 187, acc: 0.929, loss: 0.286 (data_loss: 0.265, reg_loss: 0.021), lr: 0.004999533 validation, acc: 0.860, loss: 0.442 \n",
            "epoch: 188, acc: 0.923, loss: 0.299 (data_loss: 0.278, reg_loss: 0.020), lr: 0.004999530 validation, acc: 0.854, loss: 0.460 \n",
            "epoch: 189, acc: 0.920, loss: 0.304 (data_loss: 0.284, reg_loss: 0.020), lr: 0.004999528 validation, acc: 0.859, loss: 0.448 \n",
            "epoch: 190, acc: 0.927, loss: 0.294 (data_loss: 0.274, reg_loss: 0.020), lr: 0.004999525 validation, acc: 0.849, loss: 0.460 \n",
            "epoch: 191, acc: 0.921, loss: 0.298 (data_loss: 0.278, reg_loss: 0.020), lr: 0.004999523 validation, acc: 0.858, loss: 0.447 \n",
            "epoch: 192, acc: 0.929, loss: 0.292 (data_loss: 0.272, reg_loss: 0.020), lr: 0.004999520 validation, acc: 0.859, loss: 0.455 \n",
            "epoch: 193, acc: 0.926, loss: 0.296 (data_loss: 0.276, reg_loss: 0.020), lr: 0.004999518 validation, acc: 0.849, loss: 0.488 \n",
            "epoch: 194, acc: 0.906, loss: 0.332 (data_loss: 0.312, reg_loss: 0.020), lr: 0.004999515 validation, acc: 0.789, loss: 0.679 \n",
            "epoch: 195, acc: 0.833, loss: 0.546 (data_loss: 0.526, reg_loss: 0.020), lr: 0.004999513 validation, acc: 0.772, loss: 0.923 \n",
            "epoch: 196, acc: 0.803, loss: 0.819 (data_loss: 0.799, reg_loss: 0.020), lr: 0.004999510 validation, acc: 0.821, loss: 0.585 \n",
            "epoch: 197, acc: 0.868, loss: 0.472 (data_loss: 0.452, reg_loss: 0.020), lr: 0.004999508 validation, acc: 0.805, loss: 0.604 \n",
            "epoch: 198, acc: 0.834, loss: 0.520 (data_loss: 0.500, reg_loss: 0.020), lr: 0.004999505 validation, acc: 0.748, loss: 0.832 \n",
            "epoch: 199, acc: 0.783, loss: 0.719 (data_loss: 0.698, reg_loss: 0.021), lr: 0.004999503 validation, acc: 0.776, loss: 0.775 \n",
            "epoch: 200, acc: 0.812, loss: 0.673 (data_loss: 0.651, reg_loss: 0.021), lr: 0.004999500 validation, acc: 0.799, loss: 0.637 \n",
            "epoch: 201, acc: 0.838, loss: 0.535 (data_loss: 0.513, reg_loss: 0.022), lr: 0.004999498 validation, acc: 0.818, loss: 0.578 \n",
            "epoch: 202, acc: 0.851, loss: 0.505 (data_loss: 0.482, reg_loss: 0.023), lr: 0.004999495 validation, acc: 0.797, loss: 0.641 \n",
            "epoch: 203, acc: 0.831, loss: 0.549 (data_loss: 0.525, reg_loss: 0.023), lr: 0.004999493 validation, acc: 0.811, loss: 0.586 \n",
            "epoch: 204, acc: 0.846, loss: 0.524 (data_loss: 0.500, reg_loss: 0.024), lr: 0.004999490 validation, acc: 0.821, loss: 0.567 \n",
            "epoch: 205, acc: 0.862, loss: 0.474 (data_loss: 0.449, reg_loss: 0.025), lr: 0.004999488 validation, acc: 0.827, loss: 0.547 \n",
            "epoch: 206, acc: 0.866, loss: 0.465 (data_loss: 0.439, reg_loss: 0.026), lr: 0.004999485 validation, acc: 0.840, loss: 0.535 \n",
            "epoch: 207, acc: 0.867, loss: 0.471 (data_loss: 0.445, reg_loss: 0.026), lr: 0.004999483 validation, acc: 0.842, loss: 0.532 \n",
            "epoch: 208, acc: 0.867, loss: 0.457 (data_loss: 0.430, reg_loss: 0.027), lr: 0.004999480 validation, acc: 0.848, loss: 0.491 \n",
            "epoch: 209, acc: 0.880, loss: 0.424 (data_loss: 0.397, reg_loss: 0.027), lr: 0.004999478 validation, acc: 0.844, loss: 0.492 \n",
            "epoch: 210, acc: 0.880, loss: 0.427 (data_loss: 0.399, reg_loss: 0.028), lr: 0.004999475 validation, acc: 0.844, loss: 0.491 \n",
            "epoch: 211, acc: 0.883, loss: 0.417 (data_loss: 0.389, reg_loss: 0.028), lr: 0.004999473 validation, acc: 0.850, loss: 0.475 \n",
            "epoch: 212, acc: 0.892, loss: 0.395 (data_loss: 0.366, reg_loss: 0.029), lr: 0.004999470 validation, acc: 0.844, loss: 0.467 \n",
            "epoch: 213, acc: 0.893, loss: 0.387 (data_loss: 0.358, reg_loss: 0.029), lr: 0.004999468 validation, acc: 0.849, loss: 0.461 \n",
            "epoch: 214, acc: 0.899, loss: 0.375 (data_loss: 0.346, reg_loss: 0.029), lr: 0.004999465 validation, acc: 0.849, loss: 0.463 \n",
            "epoch: 215, acc: 0.900, loss: 0.376 (data_loss: 0.346, reg_loss: 0.030), lr: 0.004999463 validation, acc: 0.844, loss: 0.456 \n",
            "epoch: 216, acc: 0.901, loss: 0.372 (data_loss: 0.342, reg_loss: 0.030), lr: 0.004999460 validation, acc: 0.853, loss: 0.459 \n",
            "epoch: 217, acc: 0.903, loss: 0.362 (data_loss: 0.332, reg_loss: 0.030), lr: 0.004999458 validation, acc: 0.860, loss: 0.457 \n",
            "epoch: 218, acc: 0.904, loss: 0.358 (data_loss: 0.328, reg_loss: 0.030), lr: 0.004999455 validation, acc: 0.859, loss: 0.446 \n",
            "epoch: 219, acc: 0.905, loss: 0.354 (data_loss: 0.324, reg_loss: 0.030), lr: 0.004999453 validation, acc: 0.859, loss: 0.447 \n",
            "epoch: 220, acc: 0.907, loss: 0.355 (data_loss: 0.325, reg_loss: 0.030), lr: 0.004999450 validation, acc: 0.858, loss: 0.463 \n",
            "epoch: 221, acc: 0.907, loss: 0.355 (data_loss: 0.325, reg_loss: 0.030), lr: 0.004999448 validation, acc: 0.856, loss: 0.461 \n",
            "epoch: 222, acc: 0.914, loss: 0.348 (data_loss: 0.317, reg_loss: 0.030), lr: 0.004999445 validation, acc: 0.861, loss: 0.457 \n",
            "epoch: 223, acc: 0.913, loss: 0.338 (data_loss: 0.308, reg_loss: 0.030), lr: 0.004999443 validation, acc: 0.866, loss: 0.448 \n",
            "epoch: 224, acc: 0.916, loss: 0.334 (data_loss: 0.304, reg_loss: 0.030), lr: 0.004999440 validation, acc: 0.866, loss: 0.433 \n",
            "epoch: 225, acc: 0.918, loss: 0.326 (data_loss: 0.296, reg_loss: 0.030), lr: 0.004999438 validation, acc: 0.863, loss: 0.440 \n",
            "epoch: 226, acc: 0.919, loss: 0.330 (data_loss: 0.300, reg_loss: 0.030), lr: 0.004999435 validation, acc: 0.863, loss: 0.447 \n",
            "epoch: 227, acc: 0.918, loss: 0.333 (data_loss: 0.304, reg_loss: 0.030), lr: 0.004999433 validation, acc: 0.861, loss: 0.436 \n",
            "epoch: 228, acc: 0.924, loss: 0.316 (data_loss: 0.287, reg_loss: 0.029), lr: 0.004999430 validation, acc: 0.854, loss: 0.440 \n",
            "epoch: 229, acc: 0.920, loss: 0.319 (data_loss: 0.290, reg_loss: 0.029), lr: 0.004999428 validation, acc: 0.860, loss: 0.464 \n",
            "epoch: 230, acc: 0.911, loss: 0.332 (data_loss: 0.303, reg_loss: 0.029), lr: 0.004999425 validation, acc: 0.858, loss: 0.452 \n",
            "epoch: 231, acc: 0.921, loss: 0.315 (data_loss: 0.286, reg_loss: 0.029), lr: 0.004999423 validation, acc: 0.863, loss: 0.455 \n",
            "epoch: 232, acc: 0.923, loss: 0.308 (data_loss: 0.279, reg_loss: 0.029), lr: 0.004999420 validation, acc: 0.864, loss: 0.455 \n",
            "epoch: 233, acc: 0.925, loss: 0.309 (data_loss: 0.281, reg_loss: 0.028), lr: 0.004999418 validation, acc: 0.860, loss: 0.451 \n",
            "epoch: 234, acc: 0.925, loss: 0.304 (data_loss: 0.275, reg_loss: 0.028), lr: 0.004999415 validation, acc: 0.863, loss: 0.451 \n",
            "epoch: 235, acc: 0.930, loss: 0.297 (data_loss: 0.269, reg_loss: 0.028), lr: 0.004999413 validation, acc: 0.868, loss: 0.450 \n",
            "epoch: 236, acc: 0.925, loss: 0.302 (data_loss: 0.274, reg_loss: 0.028), lr: 0.004999410 validation, acc: 0.851, loss: 0.459 \n",
            "epoch: 237, acc: 0.927, loss: 0.299 (data_loss: 0.272, reg_loss: 0.027), lr: 0.004999408 validation, acc: 0.863, loss: 0.451 \n",
            "epoch: 238, acc: 0.929, loss: 0.297 (data_loss: 0.270, reg_loss: 0.027), lr: 0.004999405 validation, acc: 0.864, loss: 0.443 \n",
            "epoch: 239, acc: 0.933, loss: 0.287 (data_loss: 0.260, reg_loss: 0.027), lr: 0.004999403 validation, acc: 0.862, loss: 0.452 \n",
            "epoch: 240, acc: 0.927, loss: 0.295 (data_loss: 0.268, reg_loss: 0.027), lr: 0.004999400 validation, acc: 0.861, loss: 0.454 \n",
            "epoch: 241, acc: 0.924, loss: 0.303 (data_loss: 0.277, reg_loss: 0.026), lr: 0.004999398 validation, acc: 0.858, loss: 0.486 \n",
            "epoch: 242, acc: 0.917, loss: 0.314 (data_loss: 0.288, reg_loss: 0.026), lr: 0.004999395 validation, acc: 0.860, loss: 0.458 \n",
            "epoch: 243, acc: 0.923, loss: 0.301 (data_loss: 0.275, reg_loss: 0.026), lr: 0.004999393 validation, acc: 0.858, loss: 0.460 \n",
            "epoch: 244, acc: 0.925, loss: 0.296 (data_loss: 0.271, reg_loss: 0.026), lr: 0.004999390 validation, acc: 0.869, loss: 0.439 \n"
          ],
          "name": "stdout"
        }
      ]
    },
    {
      "cell_type": "markdown",
      "metadata": {
        "id": "GR0u0Jm7QCrw"
      },
      "source": [
        "# Summary"
      ]
    },
    {
      "cell_type": "code",
      "metadata": {
        "colab": {
          "base_uri": "https://localhost:8080/"
        },
        "id": "1KNnDUP_U8Xn",
        "outputId": "123c4b63-c185-4156-adf5-266564704de8"
      },
      "source": [
        "print(np.mean(acc_cache))"
      ],
      "execution_count": 15,
      "outputs": [
        {
          "output_type": "stream",
          "text": [
            "0.8122459183673469\n"
          ],
          "name": "stdout"
        }
      ]
    },
    {
      "cell_type": "code",
      "metadata": {
        "colab": {
          "base_uri": "https://localhost:8080/"
        },
        "id": "2NbXMisqQKqF",
        "outputId": "0384bc40-c780-4b58-cdc3-088ae1779515"
      },
      "source": [
        "for milestone in summary:\n",
        "  print(milestone)"
      ],
      "execution_count": 16,
      "outputs": [
        {
          "output_type": "stream",
          "text": [
            "Model hit 80% validation accuracy in 58 epochs\n",
            "Model hit 85% validation accuracy in 116 epochs\n",
            "Max accuracy was 86.875% at epoch 244.\n"
          ],
          "name": "stdout"
        }
      ]
    },
    {
      "cell_type": "markdown",
      "metadata": {
        "id": "_rVqT3yaXS5k"
      },
      "source": [
        "# Testing"
      ]
    },
    {
      "cell_type": "code",
      "metadata": {
        "colab": {
          "base_uri": "https://localhost:8080/"
        },
        "id": "smwSXsZVU8Xo",
        "outputId": "0d1547b4-4256-441d-cf28-6b2e591f47b1"
      },
      "source": [
        "accuracy = Accuracy_Categorical()\n",
        "\n",
        "accuracy.init(y_test)\n",
        "\n",
        "dense1.forward(X_test)\n",
        "\n",
        "activation1.forward(dense1.output)\n",
        "\n",
        "\n",
        "dense2.forward(activation1.output)\n",
        "\n",
        "activation2.forward(dense2.output)\n",
        "\n",
        "dense3.forward(activation2.output)\n",
        "\n",
        "activation3.forward(dense3.output)\n",
        "\n",
        "dense4.forward(activation3.output)\n",
        "\n",
        "activation4.forward(dense4.output)\n",
        "\n",
        "index = 27\n",
        "print(f'{(activation4.output[index][np.where(activation4.output[index] == np.amax(activation4.output[index]))][0]*100):.3f}% Confident True is {fashion_mnist_labels[np.where(activation4.output[index] == np.amax(activation4.output[index]))[0][0]]}. True is actually {fashion_mnist_labels[y_test[index]]}')\n",
        "\n",
        "# Calculate the data loss\n",
        "loss = loss_function.calculate(activation4.output, y_test)\n",
        "\n",
        "predictions = activation4.predictions(activation4.output)\n",
        "testaccuracy = accuracy.calculate(predictions, y_test)\n",
        "\n",
        "print(f'Accuracy: {testaccuracy:.3f}, loss: {loss:.3f}')"
      ],
      "execution_count": 17,
      "outputs": [
        {
          "output_type": "stream",
          "text": [
            "50.606% Confident True is Dress. True is actually T-shirt/top\n",
            "Accuracy: 0.869, loss: 0.439\n"
          ],
          "name": "stdout"
        }
      ]
    },
    {
      "cell_type": "code",
      "metadata": {
        "id": "1k0Ve2M0bPG3"
      },
      "source": [
        "training_diff = []\n",
        "testing_diff = []\n",
        "combined_diff = []"
      ],
      "execution_count": 18,
      "outputs": []
    },
    {
      "cell_type": "markdown",
      "metadata": {
        "id": "MByL_RwvlIx3"
      },
      "source": [
        "Individual Training Classes"
      ]
    },
    {
      "cell_type": "code",
      "metadata": {
        "colab": {
          "base_uri": "https://localhost:8080/"
        },
        "id": "YTOnqnDXa0ME",
        "outputId": "ce5cf46f-efa0-49a2-f9de-1b5ae91e147b"
      },
      "source": [
        "accuracy = Accuracy_Categorical()\n",
        "\n",
        "for classes, (X_sorted_lists, y_sorted_lists) in enumerate(zip(sorted_x, sorted_y)):\n",
        "  accuracy = Accuracy_Categorical()\n",
        "\n",
        "  y = sorted_y[y_sorted_lists]\n",
        "  X = sorted_x[X_sorted_lists]\n",
        "  accuracy.init(y)\n",
        "\n",
        "  dense1.forward(X)\n",
        "\n",
        "  activation1.forward(dense1.output)\n",
        "  train_train_mean = activation1.output\n",
        "\n",
        "  dense2.forward(activation1.output)\n",
        "\n",
        "\n",
        "  activation2.forward(dense2.output)\n",
        "\n",
        "  dense3.forward(activation2.output)\n",
        "\n",
        "  activation3.forward(dense3.output)\n",
        "\n",
        "  dense4.forward(activation3.output)\n",
        "\n",
        "  activation4.forward(dense4.output)\n",
        "\n",
        "  # Calculate the data loss\n",
        "  loss = loss_function.calculate(activation4.output, y)\n",
        "\n",
        "  predictions = activation4.predictions(activation4.output)\n",
        "  testaccuracy = accuracy.calculate(predictions, y)\n",
        "  print(f'{fashion_mnist_labels[classes]} Train Accuracy: {testaccuracy:.3f}, loss: {loss:.3f}')\n",
        "\n"
      ],
      "execution_count": 19,
      "outputs": [
        {
          "output_type": "stream",
          "text": [
            "T-shirt/top Train Accuracy: 0.890, loss: 0.460\n",
            "Trouser Train Accuracy: 0.963, loss: 0.181\n",
            "Pullover Train Accuracy: 0.918, loss: 0.368\n",
            "Dress Train Accuracy: 0.960, loss: 0.152\n",
            "Coat Train Accuracy: 0.964, loss: 0.192\n",
            "Sandal Train Accuracy: 0.978, loss: 0.097\n",
            "Shirt Train Accuracy: 0.838, loss: 0.552\n",
            "Sneaker Train Accuracy: 0.975, loss: 0.134\n",
            "Bag Train Accuracy: 0.977, loss: 0.104\n",
            "Ankle boot Train Accuracy: 0.986, loss: 0.059\n"
          ],
          "name": "stdout"
        }
      ]
    },
    {
      "cell_type": "code",
      "metadata": {
        "colab": {
          "base_uri": "https://localhost:8080/"
        },
        "id": "scjb7Wh_sn6b",
        "outputId": "8f4efc3e-fbe4-4c0d-ee3d-f282c7269745"
      },
      "source": [
        "accuracy = Accuracy_Categorical()\n",
        "\n",
        "for classes, (X_sorted_lists, y_sorted_lists) in enumerate(zip(sorted_x_test, sorted_y_test)):\n",
        "  accuracy.init(y_sorted_lists)\n",
        "  #print(sorted_y[y_sorted_lists].shape)\n",
        "  #print(sorted_x[X_sorted_lists].shape)\n",
        "  dense1.forward(sorted_x_test[X_sorted_lists])\n",
        "\n",
        "  activation1.forward(dense1.output)\n",
        "\n",
        "  testmean = np.mean(activation1.output, axis=0)\n",
        "  testing_diff.append(testmean)\n",
        "  dense2.forward(activation1.output)\n",
        "\n",
        "\n",
        "  activation2.forward(dense2.output)\n",
        "\n",
        "  dense3.forward(activation2.output)\n",
        "\n",
        "  activation3.forward(dense3.output)\n",
        "\n",
        "  dense4.forward(activation3.output)\n",
        "\n",
        "  activation4.forward(dense4.output)\n",
        "  # Calculate the data loss\n",
        "  loss = loss_function.calculate(activation4.output, sorted_y_test[y_sorted_lists])\n",
        "\n",
        "  predictions = activation4.predictions(activation4.output)\n",
        "  testaccuracy = accuracy.calculate(predictions, sorted_y_test[y_sorted_lists])\n",
        "\n",
        "  print(f'{fashion_mnist_labels[classes]} Test Accuracy: {testaccuracy:.3f}, loss: {loss:.3f}')"
      ],
      "execution_count": 20,
      "outputs": [
        {
          "output_type": "stream",
          "text": [
            "T-shirt/top Test Accuracy: 0.758, loss: 0.659\n",
            "Trouser Test Accuracy: 0.957, loss: 0.173\n",
            "Pullover Test Accuracy: 0.802, loss: 0.734\n",
            "Dress Test Accuracy: 0.885, loss: 0.420\n",
            "Coat Test Accuracy: 0.826, loss: 0.570\n",
            "Sandal Test Accuracy: 0.924, loss: 0.250\n",
            "Shirt Test Accuracy: 0.677, loss: 0.954\n",
            "Sneaker Test Accuracy: 0.981, loss: 0.132\n",
            "Bag Test Accuracy: 0.947, loss: 0.288\n",
            "Ankle boot Test Accuracy: 0.959, loss: 0.114\n"
          ],
          "name": "stdout"
        }
      ]
    },
    {
      "cell_type": "markdown",
      "metadata": {
        "id": "R2u-O8oNZ0qA"
      },
      "source": [
        "# Full mnist test"
      ]
    },
    {
      "cell_type": "markdown",
      "metadata": {
        "id": "UbD4KrLMnTcR"
      },
      "source": [
        "Training data"
      ]
    },
    {
      "cell_type": "code",
      "metadata": {
        "colab": {
          "base_uri": "https://localhost:8080/"
        },
        "id": "TMfBGUHeZ4L5",
        "outputId": "5e19f1c3-8ffe-48db-e804-111b93e591e4"
      },
      "source": [
        "(input, label), (X_val, y_val) = tf.keras.datasets.fashion_mnist.load_data()\n",
        "\n",
        "# Label index to label name relation\n",
        "fashion_mnist_labels = {\n",
        "    0: 'T-shirt/top',\n",
        "    1: 'Trouser',\n",
        "    2: 'Pullover',\n",
        "    3: 'Dress',\n",
        "    4: 'Coat',\n",
        "    5: 'Sandal',\n",
        "    6: 'Shirt',\n",
        "    7: 'Sneaker',\n",
        "    8: 'Bag',\n",
        "    9: 'Ankle boot'\n",
        "}\n",
        "\n",
        "\n",
        "# Shuffle the training dataset\n",
        "keys = np.array(range(input.shape[0]))\n",
        "np.random.shuffle(keys)\n",
        "input = input[keys]\n",
        "label = label[keys]\n",
        "\n",
        "\n",
        "# Scale and reshape samples\n",
        "input = (input.reshape(input.shape[0], -1).astype(np.float32) - 127.5) / 127.5\n",
        "X_val = (X_val.reshape(X_val.shape[0], -1).astype(np.float32) -\n",
        "             127.5) / 127.5\n",
        "\n",
        "accuracy = Accuracy_Categorical()\n",
        "\n",
        "accuracy.init(label)\n",
        "\n",
        "dense1.forward(input)\n",
        "\n",
        "activation1.forward(dense1.output)\n",
        "train_train_mean = activation1.output\n",
        "\n",
        "dense2.forward(activation1.output)\n",
        "\n",
        "\n",
        "activation2.forward(dense2.output)\n",
        "\n",
        "dense3.forward(activation2.output)\n",
        "\n",
        "activation3.forward(dense3.output)\n",
        "\n",
        "dense4.forward(activation3.output)\n",
        "\n",
        "activation4.forward(dense4.output)\n",
        "\n",
        "# Calculate the data loss\n",
        "loss = loss_function.calculate(activation4.output, label)\n",
        "\n",
        "predictions = activation4.predictions(activation4.output)\n",
        "testaccuracy = accuracy.calculate(predictions, label)\n",
        "\n",
        "print(f'Full Training Accuracy: {testaccuracy:.3f}, loss: {loss:.3f}')"
      ],
      "execution_count": 23,
      "outputs": [
        {
          "output_type": "stream",
          "text": [
            "Full Training Accuracy: 0.867, loss: 0.429\n"
          ],
          "name": "stdout"
        }
      ]
    },
    {
      "cell_type": "markdown",
      "metadata": {
        "id": "Aat-uVF6nYu7"
      },
      "source": [
        "Testing data"
      ]
    },
    {
      "cell_type": "code",
      "metadata": {
        "colab": {
          "base_uri": "https://localhost:8080/"
        },
        "id": "4hyU1tBDna8x",
        "outputId": "ac1a505b-507e-4ee4-e8e0-568dfa85be05"
      },
      "source": [
        "accuracy = Accuracy_Categorical()\n",
        "\n",
        "accuracy.init(y_val)\n",
        "\n",
        "dense1.forward(X_val)\n",
        "\n",
        "activation1.forward(dense1.output)\n",
        "train_train_mean = activation1.output\n",
        "\n",
        "dense2.forward(activation1.output)\n",
        "\n",
        "\n",
        "activation2.forward(dense2.output)\n",
        "\n",
        "dense3.forward(activation2.output)\n",
        "\n",
        "activation3.forward(dense3.output)\n",
        "\n",
        "dense4.forward(activation3.output)\n",
        "\n",
        "activation4.forward(dense4.output)\n",
        "\n",
        "\n",
        "# Calculate the data loss\n",
        "loss = loss_function.calculate(activation4.output, y_val)\n",
        "\n",
        "predictions = activation4.predictions(activation4.output)\n",
        "testaccuracy = accuracy.calculate(predictions, y_val)\n",
        "\n",
        "print(f'Full Testing Accuracy: {testaccuracy:.5f}, loss: {loss:.3f}')"
      ],
      "execution_count": 24,
      "outputs": [
        {
          "output_type": "stream",
          "text": [
            "Full Testing Accuracy: 0.84770, loss: 0.496\n"
          ],
          "name": "stdout"
        }
      ]
    },
    {
      "cell_type": "code",
      "metadata": {
        "colab": {
          "base_uri": "https://localhost:8080/",
          "height": 741
        },
        "id": "aZf8BCazUrS9",
        "outputId": "221734c6-c6d5-45ae-83b1-8894e3865650"
      },
      "source": [
        "predicted_list = []\n",
        "true_list = []\n",
        "for sample in range(len(X_val)):\n",
        "  predicted_list.append(fashion_mnist_labels[np.where(activation4.output[sample] == np.amax(activation4.output[sample]))[0][0]])\n",
        "  true_list.append(fashion_mnist_labels[y_val[sample]])\n",
        "\n",
        "from sklearn import metrics\n",
        "\n",
        "import seaborn as sn\n",
        "import pandas as pd\n",
        "import matplotlib.pyplot as plt\n",
        "\n",
        "array = metrics.confusion_matrix(true_list, predicted_list, labels=['T-shirt/top', 'Trouser', 'Pullover', 'Dress', 'Coat', 'Sandal', 'Shirt', 'Sneaker', 'Bag', 'Ankle boot'])\n",
        "\n",
        "df_cm = pd.DataFrame(array, range(len(set(true_list))), range(len(set(true_list))))\n",
        "df_cm.round(9)\n",
        "plt.figure(figsize=(10,7))\n",
        "sn.set(font_scale=1.2) # for label size\n",
        "sn.heatmap(df_cm, annot=True, annot_kws={\"size\": 12}, fmt='g') # font size\n",
        "plt.xlabel('Predicted')\n",
        "plt.ylabel('True')\n",
        "plt.show()\n",
        "# Printing the precision and recall, among other metrics\n",
        "print(metrics.classification_report(true_list, predicted_list, labels=['T-shirt/top', 'Trouser', 'Pullover', 'Dress', 'Coat', 'Sandal', 'Shirt', 'Sneaker', 'Bag', 'Ankle boot']))"
      ],
      "execution_count": 25,
      "outputs": [
        {
          "output_type": "display_data",
          "data": {
            "image/png": "[encoded data removed]",
            "text/plain": [
              "<Figure size 720x504 with 2 Axes>"
            ]
          },
          "metadata": {
            "tags": [],
            "needs_background": "light"
          }
        },
        {
          "output_type": "stream",
          "text": [
            "              precision    recall  f1-score   support\n",
            "\n",
            " T-shirt/top       0.83      0.74      0.78      1000\n",
            "     Trouser       0.99      0.95      0.97      1000\n",
            "    Pullover       0.76      0.76      0.76      1000\n",
            "       Dress       0.81      0.88      0.84      1000\n",
            "        Coat       0.72      0.82      0.77      1000\n",
            "      Sandal       0.97      0.89      0.93      1000\n",
            "       Shirt       0.66      0.60      0.63      1000\n",
            "     Sneaker       0.91      0.93      0.92      1000\n",
            "         Bag       0.94      0.94      0.94      1000\n",
            "  Ankle boot       0.90      0.96      0.93      1000\n",
            "\n",
            "    accuracy                           0.85     10000\n",
            "   macro avg       0.85      0.85      0.85     10000\n",
            "weighted avg       0.85      0.85      0.85     10000\n",
            "\n"
          ],
          "name": "stdout"
        }
      ]
    },
    {
      "cell_type": "markdown",
      "metadata": {
        "id": "AbIMZ7Pk_Tnp"
      },
      "source": [
        "Change idex to get confidence of different samples of testing data. Index values 0-1600 were refrenced in training. Anything past was never seen during training. Lowest confidence is at index 1645 when trained with 244 epochs and numpy seed set to 22."
      ]
    },
    {
      "cell_type": "code",
      "metadata": {
        "colab": {
          "base_uri": "https://localhost:8080/",
          "height": 305
        },
        "id": "JaxWcRIr_BCV",
        "outputId": "5e10f51b-e531-47df-abd9-bbceb913a80b"
      },
      "source": [
        "index = 5000\n",
        "\n",
        "print(f'{(activation4.output[index][np.where(activation4.output[index] == np.amax(activation4.output[index]))][0]*100):.3f}% Confident True is {fashion_mnist_labels[np.where(activation4.output[index] == np.amax(activation4.output[index]))[0][0]]}. True is actually {fashion_mnist_labels[y_val[index]]}')\n",
        "\n",
        "X_val.resize(X_val.shape[0],28,28)\n",
        "image = X_val[index]\n",
        "plt.rcParams['axes.grid'] = False\n",
        "fig = plt.figure\n",
        "plt.title(f'{fashion_mnist_labels[y_val[index]]}')\n",
        "plt.imshow(image, cmap='gray')\n",
        "plt.show()"
      ],
      "execution_count": 27,
      "outputs": [
        {
          "output_type": "stream",
          "text": [
            "98.934% Confident True is Pullover. True is actually Pullover\n"
          ],
          "name": "stdout"
        },
        {
          "output_type": "display_data",
          "data": {
            "image/png": "[encoded data removed]",
            "text/plain": [
              "<Figure size 432x288 with 1 Axes>"
            ]
          },
          "metadata": {
            "tags": []
          }
        }
      ]
    },
    {
      "cell_type": "markdown",
      "metadata": {
        "id": "MRXGM4hyXmr7"
      },
      "source": [
        "Plotting Graphs"
      ]
    },
    {
      "cell_type": "code",
      "metadata": {
        "colab": {
          "base_uri": "https://localhost:8080/",
          "height": 884
        },
        "id": "h5c5xUTNXk2v",
        "outputId": "8b0525c6-ebf3-4fac-f927-71a63907db85"
      },
      "source": [
        "plt.plot(epoch_cache, val_loss_cache, label='Validation Loss')\n",
        "plt.plot(epoch_cache, loss_cache, label='Training Loss')\n",
        "plt.title('Loss')\n",
        "plt.xlabel('Epoch')\n",
        "plt.ylabel('Loss')\n",
        "plt.legend(loc = \"upper right\")\n",
        "plt.show()\n",
        "\n",
        "plt.plot(epoch_cache, val_acc_cache, label='Validation Accuracy')\n",
        "plt.plot(epoch_cache, acc_cache, label='Training Accuracy')\n",
        "plt.title('Accuracy')\n",
        "plt.xlabel('Epoch')\n",
        "plt.ylabel('Accuracy')\n",
        "plt.legend(loc = \"upper right\")\n",
        "plt.show()\n",
        "\n",
        "plt.plot(epoch_cache, lr_cache, label='LR')\n",
        "plt.title('Learning Rate')\n",
        "plt.xlabel('Epoch')\n",
        "plt.ylabel('Learning Rate')\n",
        "plt.show()"
      ],
      "execution_count": 28,
      "outputs": [
        {
          "output_type": "display_data",
          "data": {
            "image/png": "[encoded data removed]",
            "text/plain": [
              "<Figure size 432x288 with 1 Axes>"
            ]
          },
          "metadata": {
            "tags": []
          }
        },
        {
          "output_type": "display_data",
          "data": {
            "image/png": "[encoded data removed]",
            "text/plain": [
              "<Figure size 432x288 with 1 Axes>"
            ]
          },
          "metadata": {
            "tags": []
          }
        },
        {
          "output_type": "display_data",
          "data": {
            "image/png": "[encoded data removed]",
            "text/plain": [
              "<Figure size 432x288 with 1 Axes>"
            ]
          },
          "metadata": {
            "tags": []
          }
        }
      ]
    }
  ]
}