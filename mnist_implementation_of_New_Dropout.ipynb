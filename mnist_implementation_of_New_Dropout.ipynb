{
  "nbformat": 4,
  "nbformat_minor": 0,
  "metadata": {
    "colab": {
      "name": "mnist_implementation_of_New_Dropout.ipynb",
      "provenance": [],
      "collapsed_sections": [],
      "include_colab_link": true
    },
    "interpreter": {
      "hash": "4a10260d53feadc3aac998a3ba3a60b43aac84189bada71a196791e24306642d"
    },
    "kernelspec": {
      "display_name": "Python 3.9.5 64-bit ('AITraining': virtualenvwrapper)",
      "name": "python3"
    },
    "language_info": {
      "codemirror_mode": {
        "name": "ipython",
        "version": 3
      },
      "file_extension": ".py",
      "mimetype": "text/x-python",
      "name": "python",
      "nbconvert_exporter": "python",
      "pygments_lexer": "ipython3",
      "version": "3.9.5"
    }
  },
  "cells": [
    {
      "cell_type": "markdown",
      "metadata": {
        "id": "view-in-github",
        "colab_type": "text"
      },
      "source": [
        "<a href=\"https://colab.research.google.com/github/JoshuaShunk/NSDropout/blob/main/mnist_implementation_of_New_Dropout.ipynb\" target=\"_parent\"><img src=\"https://colab.research.google.com/assets/colab-badge.svg\" alt=\"Open In Colab\"/></a>"
      ]
    },
    {
      "cell_type": "markdown",
      "metadata": {
        "id": "dtYgI3SFHqm4"
      },
      "source": [
        "# MNIST Numbers Implementation of My New Layer"
      ]
    },
    {
      "cell_type": "code",
      "metadata": {
        "id": "s2GytIidUnpd"
      },
      "source": [
        "import matplotlib.pyplot as plt\n",
        "import numpy as np\n",
        "import random\n",
        "import keras\n",
        "from keras.datasets import mnist\n",
        "import tensorflow as tf\n",
        "import pandas as pd\n",
        "from sklearn.model_selection import train_test_split"
      ],
      "execution_count": 124,
      "outputs": []
    },
    {
      "cell_type": "code",
      "metadata": {
        "id": "0aLxFoLMU2jC"
      },
      "source": [
        "np.set_printoptions(threshold=np.inf)"
      ],
      "execution_count": 125,
      "outputs": []
    },
    {
      "cell_type": "code",
      "metadata": {
        "id": "06HD9nTuEVHD"
      },
      "source": [
        "np.random.seed(seed=22) #Random seed used for comparison between old dropout"
      ],
      "execution_count": 126,
      "outputs": []
    },
    {
      "cell_type": "code",
      "metadata": {
        "colab": {
          "base_uri": "https://localhost:8080/"
        },
        "id": "cag8ZraxEZbF",
        "outputId": "9fb7357e-17bf-435b-aeb2-4e5c190a69dd"
      },
      "source": [
        "print(np.random.random(size=3)) #Check that seeds line up"
      ],
      "execution_count": 127,
      "outputs": [
        {
          "output_type": "stream",
          "text": [
            "[0.20846054 0.48168106 0.42053804]\n"
          ],
          "name": "stdout"
        }
      ]
    },
    {
      "cell_type": "code",
      "metadata": {
        "id": "-NkY3EiBU4tR",
        "cellView": "form"
      },
      "source": [
        "#@title Load Layers (Credit to Harrison Kinsley & Daniel Kukiela for raw python implementation)\n",
        "\n",
        "# Dense layer\n",
        "class Layer_Dense:\n",
        "\n",
        "    # Layer initialization\n",
        "    def __init__(self, n_inputs, n_neurons,\n",
        "                 weight_regularizer_l1=0, weight_regularizer_l2=0,\n",
        "                 bias_regularizer_l1=0, bias_regularizer_l2=0):\n",
        "        # Initialize weights and biases\n",
        "        self.weights = 0.01 * np.random.randn(n_inputs, n_neurons)\n",
        "        self.biases = np.zeros((1, n_neurons))\n",
        "        # Set regularization strength\n",
        "        self.weight_regularizer_l1 = weight_regularizer_l1\n",
        "        self.weight_regularizer_l2 = weight_regularizer_l2\n",
        "        self.bias_regularizer_l1 = bias_regularizer_l1\n",
        "        self.bias_regularizer_l2 = bias_regularizer_l2\n",
        "\n",
        "    # Forward pass\n",
        "    def forward(self, inputs):\n",
        "        # Remember input values\n",
        "        self.inputs = inputs\n",
        "        # Calculate output values from inputs, weights and biases\n",
        "        self.output = np.dot(inputs, self.weights) + self.biases\n",
        "\n",
        "    # Backward pass\n",
        "    def backward(self, dvalues):\n",
        "        # Gradients on parameters\n",
        "        self.dweights = np.dot(self.inputs.T, dvalues)\n",
        "        self.dbiases = np.sum(dvalues, axis=0, keepdims=True)\n",
        "\n",
        "        # Gradients on regularization\n",
        "        # L1 on weights\n",
        "        if self.weight_regularizer_l1 > 0:\n",
        "            dL1 = np.ones_like(self.weights)\n",
        "            dL1[self.weights < 0] = -1\n",
        "            self.dweights += self.weight_regularizer_l1 * dL1\n",
        "        # L2 on weights\n",
        "        if self.weight_regularizer_l2 > 0:\n",
        "            self.dweights += 2 * self.weight_regularizer_l2 * \\\n",
        "                             self.weights\n",
        "        # L1 on biases\n",
        "        if self.bias_regularizer_l1 > 0:\n",
        "            dL1 = np.ones_like(self.biases)\n",
        "            dL1[self.biases < 0] = -1\n",
        "            self.dbiases += self.bias_regularizer_l1 * dL1\n",
        "        # L2 on biases\n",
        "        if self.bias_regularizer_l2 > 0:\n",
        "            self.dbiases += 2 * self.bias_regularizer_l2 * \\\n",
        "                            self.biases\n",
        "\n",
        "        # Gradient on values\n",
        "        self.dinputs = np.dot(dvalues, self.weights.T)\n",
        "\n",
        "# ReLU activation\n",
        "\n",
        "\n",
        "class Activation_ReLU:\n",
        "\n",
        "    # Forward pass\n",
        "    def forward(self, inputs):\n",
        "        # Remember input values\n",
        "        self.inputs = inputs\n",
        "        # Calculate output values from inputs\n",
        "        self.output = np.maximum(0, inputs)\n",
        "\n",
        "    # Backward pass\n",
        "    def backward(self, dvalues):\n",
        "        # Since we need to modify original variable,\n",
        "        # let's make a copy of values first\n",
        "        self.dinputs = dvalues.copy()\n",
        "\n",
        "        # Zero gradient where input values were negative\n",
        "        self.dinputs[self.inputs <= 0] = 0\n",
        "\n",
        "\n",
        "# Softmax activation\n",
        "class Activation_Softmax:\n",
        "\n",
        "    # Forward pass\n",
        "    def forward(self, inputs):\n",
        "        # Remember input values\n",
        "        self.inputs = inputs\n",
        "\n",
        "        # Get unnormalized probabilities\n",
        "        exp_values = np.exp(inputs - np.max(inputs, axis=1,\n",
        "                                            keepdims=True))\n",
        "        # Normalize them for each sample\n",
        "        probabilities = exp_values / np.sum(exp_values, axis=1,\n",
        "                                            keepdims=True)\n",
        "\n",
        "        self.output = probabilities\n",
        "\n",
        "    # Backward pass\n",
        "    def backward(self, dvalues):\n",
        "        # Create uninitialized array\n",
        "        self.dinputs = np.empty_like(dvalues)\n",
        "\n",
        "        # Enumerate outputs and gradients\n",
        "        for index, (single_output, single_dvalues) in \\\n",
        "                enumerate(zip(self.output, dvalues)):\n",
        "            # Flatten output array\n",
        "            single_output = single_output.reshape(-1, 1)\n",
        "\n",
        "            # Calculate Jacobian matrix of the output\n",
        "            jacobian_matrix = np.diagflat(single_output) - \\\n",
        "                              np.dot(single_output, single_output.T)\n",
        "            # Calculate sample-wise gradient\n",
        "            # and add it to the array of sample gradients\n",
        "            self.dinputs[index] = np.dot(jacobian_matrix,\n",
        "                                         single_dvalues)\n",
        "    def predictions(self, outputs):\n",
        "        return np.argmax(outputs, axis=1)\n",
        "\n",
        "\n",
        "# Sigmoid activation\n",
        "class Activation_Sigmoid:\n",
        "\n",
        "    # Forward pass\n",
        "    def forward(self, inputs):\n",
        "        # Save input and calculate/save output\n",
        "        # of the sigmoid function\n",
        "        self.inputs = inputs\n",
        "        self.output = 1 / (1 + np.exp(-inputs))\n",
        "\n",
        "    # Backward pass\n",
        "    def backward(self, dvalues):\n",
        "        # Derivative - calculates from output of the sigmoid function\n",
        "        self.dinputs = dvalues * (1 - self.output) * self.output\n",
        "\n",
        "\n",
        "# SGD optimizer\n",
        "class Optimizer_SGD:\n",
        "\n",
        "    # Initialize optimizer - set settings,\n",
        "    # learning rate of 1. is default for this optimizer\n",
        "    def __init__(self, learning_rate=1., decay=0., momentum=0.):\n",
        "        self.learning_rate = learning_rate\n",
        "        self.current_learning_rate = learning_rate\n",
        "        self.decay = decay\n",
        "        self.iterations = 0\n",
        "        self.momentum = momentum\n",
        "\n",
        "    # Call once before any parameter updates\n",
        "    def pre_update_params(self):\n",
        "        if self.decay:\n",
        "            self.current_learning_rate = self.learning_rate * \\\n",
        "                                         (1. / (1. + self.decay * self.iterations))\n",
        "\n",
        "    # Update parameters\n",
        "\n",
        "    def update_params(self, layer):\n",
        "\n",
        "        # If we use momentum\n",
        "        if self.momentum:\n",
        "\n",
        "            # If layer does not contain momentum arrays, create them\n",
        "            # filled with zeros\n",
        "            if not hasattr(layer, 'weight_momentums'):\n",
        "                layer.weight_momentums = np.zeros_like(layer.weights)\n",
        "                # If there is no momentum array for weights\n",
        "                # The array doesn't exist for biases yet either.\n",
        "                layer.bias_momentums = np.zeros_like(layer.biases)\n",
        "\n",
        "            # Build weight updates with momentum - take previous\n",
        "            # updates multiplied by retain factor and update with\n",
        "            # current gradients\n",
        "            weight_updates = \\\n",
        "                self.momentum * layer.weight_momentums - \\\n",
        "                self.current_learning_rate * layer.dweights\n",
        "            layer.weight_momentums = weight_updates\n",
        "\n",
        "            # Build bias updates\n",
        "            bias_updates = \\\n",
        "                self.momentum * layer.bias_momentums - \\\n",
        "                self.current_learning_rate * layer.dbiases\n",
        "            layer.bias_momentums = bias_updates\n",
        "\n",
        "        # Vanilla SGD updates (as before momentum update)\n",
        "        else:\n",
        "            weight_updates = -self.current_learning_rate * \\\n",
        "                             layer.dweights\n",
        "            bias_updates = -self.current_learning_rate * \\\n",
        "                           layer.dbiases\n",
        "\n",
        "        # Update weights and biases using either\n",
        "        # vanilla or momentum updates\n",
        "        layer.weights += weight_updates\n",
        "        layer.biases += bias_updates\n",
        "\n",
        "    # Call once after any parameter updates\n",
        "    def post_update_params(self):\n",
        "        self.iterations += 1\n",
        "\n",
        "\n",
        "# Adagrad optimizer\n",
        "class Optimizer_Adagrad:\n",
        "\n",
        "    # Initialize optimizer - set settings\n",
        "    def __init__(self, learning_rate=1., decay=0., epsilon=1e-7):\n",
        "        self.learning_rate = learning_rate\n",
        "        self.current_learning_rate = learning_rate\n",
        "        self.decay = decay\n",
        "        self.iterations = 0\n",
        "        self.epsilon = epsilon\n",
        "\n",
        "    # Call once before any parameter updates\n",
        "    def pre_update_params(self):\n",
        "        if self.decay:\n",
        "            self.current_learning_rate = self.learning_rate * \\\n",
        "                                         (1. / (1. + self.decay * self.iterations))\n",
        "\n",
        "    # Update parameters\n",
        "    def update_params(self, layer):\n",
        "\n",
        "        # If layer does not contain cache arrays,\n",
        "        # create them filled with zeros\n",
        "        if not hasattr(layer, 'weight_cache'):\n",
        "            layer.weight_cache = np.zeros_like(layer.weights)\n",
        "            layer.bias_cache = np.zeros_like(layer.biases)\n",
        "\n",
        "        # Update cache with squared current gradients\n",
        "        layer.weight_cache += layer.dweights ** 2\n",
        "        layer.bias_cache += layer.dbiases ** 2\n",
        "\n",
        "        # Vanilla SGD parameter update + normalization\n",
        "        # with square rooted cache\n",
        "        layer.weights += -self.current_learning_rate * \\\n",
        "                         layer.dweights / \\\n",
        "                         (np.sqrt(layer.weight_cache) + self.epsilon)\n",
        "        layer.biases += -self.current_learning_rate * \\\n",
        "                        layer.dbiases / \\\n",
        "                        (np.sqrt(layer.bias_cache) + self.epsilon)\n",
        "\n",
        "    # Call once after any parameter updates\n",
        "    def post_update_params(self):\n",
        "        self.iterations += 1\n",
        "\n",
        "\n",
        "# RMSprop optimizer\n",
        "class Optimizer_RMSprop:\n",
        "\n",
        "    # Initialize optimizer - set settings\n",
        "    def __init__(self, learning_rate=0.001, decay=0., epsilon=1e-7,\n",
        "                 rho=0.9):\n",
        "        self.learning_rate = learning_rate\n",
        "        self.current_learning_rate = learning_rate\n",
        "        self.decay = decay\n",
        "        self.iterations = 0\n",
        "        self.epsilon = epsilon\n",
        "        self.rho = rho\n",
        "\n",
        "    # Call once before any parameter updates\n",
        "    def pre_update_params(self):\n",
        "        if self.decay:\n",
        "            self.current_learning_rate = self.learning_rate * \\\n",
        "                                         (1. / (1. + self.decay * self.iterations))\n",
        "\n",
        "    # Update parameters\n",
        "    def update_params(self, layer):\n",
        "\n",
        "        # If layer does not contain cache arrays,\n",
        "        # create them filled with zeros\n",
        "        if not hasattr(layer, 'weight_cache'):\n",
        "            layer.weight_cache = np.zeros_like(layer.weights)\n",
        "            layer.bias_cache = np.zeros_like(layer.biases)\n",
        "\n",
        "        # Update cache with squared current gradients\n",
        "        layer.weight_cache = self.rho * layer.weight_cache + \\\n",
        "                             (1 - self.rho) * layer.dweights ** 2\n",
        "        layer.bias_cache = self.rho * layer.bias_cache + \\\n",
        "                           (1 - self.rho) * layer.dbiases ** 2\n",
        "\n",
        "        # Vanilla SGD parameter update + normalization\n",
        "        # with square rooted cache\n",
        "        layer.weights += -self.current_learning_rate * \\\n",
        "                         layer.dweights / \\\n",
        "                         (np.sqrt(layer.weight_cache) + self.epsilon)\n",
        "        layer.biases += -self.current_learning_rate * \\\n",
        "                        layer.dbiases / \\\n",
        "                        (np.sqrt(layer.bias_cache) + self.epsilon)\n",
        "\n",
        "    # Call once after any parameter updates\n",
        "    def post_update_params(self):\n",
        "        self.iterations += 1\n",
        "\n",
        "\n",
        "# Adam optimizer\n",
        "class Optimizer_Adam:\n",
        "\n",
        "    # Initialize optimizer - set settings\n",
        "    def __init__(self, learning_rate=0.02, decay=0., epsilon=1e-7,\n",
        "                 beta_1=0.9, beta_2=0.999):\n",
        "        self.learning_rate = learning_rate\n",
        "        self.current_learning_rate = learning_rate\n",
        "        self.decay = decay\n",
        "        self.iterations = 0\n",
        "        self.epsilon = epsilon\n",
        "        self.beta_1 = beta_1\n",
        "        self.beta_2 = beta_2\n",
        "\n",
        "    # Call once before any parameter updates\n",
        "    def pre_update_params(self):\n",
        "        if self.decay:\n",
        "            self.current_learning_rate = self.learning_rate * \\\n",
        "                                         (1. / (1. + self.decay * self.iterations))\n",
        "\n",
        "    # Update parameters\n",
        "    def update_params(self, layer):\n",
        "\n",
        "        # If layer does not contain cache arrays,\n",
        "        # create them filled with zeros\n",
        "        if not hasattr(layer, 'weight_cache'):\n",
        "            layer.weight_momentums = np.zeros_like(layer.weights)\n",
        "            layer.weight_cache = np.zeros_like(layer.weights)\n",
        "            layer.bias_momentums = np.zeros_like(layer.biases)\n",
        "            layer.bias_cache = np.zeros_like(layer.biases)\n",
        "\n",
        "        # Update momentum  with current gradients\n",
        "        layer.weight_momentums = self.beta_1 * \\\n",
        "                                 layer.weight_momentums + \\\n",
        "                                 (1 - self.beta_1) * layer.dweights\n",
        "        layer.bias_momentums = self.beta_1 * \\\n",
        "                               layer.bias_momentums + \\\n",
        "                               (1 - self.beta_1) * layer.dbiases\n",
        "        # Get corrected momentum\n",
        "        # self.iteration is 0 at first pass\n",
        "        # and we need to start with 1 here\n",
        "        weight_momentums_corrected = layer.weight_momentums / \\\n",
        "                                     (1 - self.beta_1 ** (self.iterations + 1))\n",
        "        bias_momentums_corrected = layer.bias_momentums / \\\n",
        "                                   (1 - self.beta_1 ** (self.iterations + 1))\n",
        "        # Update cache with squared current gradients\n",
        "        layer.weight_cache = self.beta_2 * layer.weight_cache + \\\n",
        "                             (1 - self.beta_2) * layer.dweights ** 2\n",
        "        layer.bias_cache = self.beta_2 * layer.bias_cache + \\\n",
        "                           (1 - self.beta_2) * layer.dbiases ** 2\n",
        "        # Get corrected cache\n",
        "        weight_cache_corrected = layer.weight_cache / \\\n",
        "                                 (1 - self.beta_2 ** (self.iterations + 1))\n",
        "        bias_cache_corrected = layer.bias_cache / \\\n",
        "                               (1 - self.beta_2 ** (self.iterations + 1))\n",
        "\n",
        "        # Vanilla SGD parameter update + normalization\n",
        "        # with square rooted cache\n",
        "        layer.weights += -self.current_learning_rate * \\\n",
        "                         weight_momentums_corrected / \\\n",
        "                         (np.sqrt(weight_cache_corrected) +\n",
        "                          self.epsilon)\n",
        "        layer.biases += -self.current_learning_rate * \\\n",
        "                        bias_momentums_corrected / \\\n",
        "                        (np.sqrt(bias_cache_corrected) +\n",
        "                         self.epsilon)\n",
        "\n",
        "    # Call once after any parameter updates\n",
        "    def post_update_params(self):\n",
        "        self.iterations += 1\n",
        "\n",
        "\n",
        "# Common loss class\n",
        "class Loss:\n",
        "\n",
        "\n",
        "    # Regularization loss calculation\n",
        "    def regularization_loss(self, layer):\n",
        "\n",
        "        # 0 by default\n",
        "        regularization_loss = 0\n",
        "\n",
        "        # L1 regularization - weights\n",
        "        # calculate only when factor greater than 0\n",
        "        if layer.weight_regularizer_l1 > 0:\n",
        "            regularization_loss += layer.weight_regularizer_l1 * \\\n",
        "                                   np.sum(np.abs(layer.weights))\n",
        "\n",
        "        # L2 regularization - weights\n",
        "        if layer.weight_regularizer_l2 > 0:\n",
        "            regularization_loss += layer.weight_regularizer_l2 * \\\n",
        "                                   np.sum(layer.weights *\n",
        "                                          layer.weights)\n",
        "\n",
        "        # L1 regularization - biases\n",
        "        # calculate only when factor greater than 0\n",
        "        if layer.bias_regularizer_l1 > 0:\n",
        "            regularization_loss += layer.bias_regularizer_l1 * \\\n",
        "                                   np.sum(np.abs(layer.biases))\n",
        "\n",
        "        # L2 regularization - biases\n",
        "        if layer.bias_regularizer_l2 > 0:\n",
        "            regularization_loss += layer.bias_regularizer_l2 * \\\n",
        "                                   np.sum(layer.biases *\n",
        "                                          layer.biases)\n",
        "\n",
        "        return regularization_loss\n",
        "\n",
        "\n",
        "    # Set/remember trainable layers\n",
        "    def remember_trainable_layers(self, trainable_layers):\n",
        "        self.trainable_layers = trainable_layers\n",
        "\n",
        "    # Calculates the data and regularization losses\n",
        "    # given model output and ground truth values\n",
        "    def calculate(self, output, y, *, include_regularization=False):\n",
        "\n",
        "        # Calculate sample losses\n",
        "        sample_losses = self.forward(output, y)\n",
        "\n",
        "        # Calculate mean loss\n",
        "        data_loss = np.mean(sample_losses)\n",
        "\n",
        "        # Return loss\n",
        "        return data_loss\n",
        "\n",
        "    # Calculates accumulated loss\n",
        "    def calculate_accumulated(self, *, include_regularization=False):\n",
        "\n",
        "        # Calculate mean loss\n",
        "        data_loss = self.accumulated_sum / self.accumulated_count\n",
        "\n",
        "        # If just data loss - return it\n",
        "        if not include_regularization:\n",
        "            return data_loss\n",
        "\n",
        "        # Return the data and regularization losses\n",
        "        return data_loss, self.regularization_loss()\n",
        "\n",
        "    # Reset variables for accumulated loss\n",
        "    def new_pass(self):\n",
        "        self.accumulated_sum = 0\n",
        "        self.accumulated_count = 0\n",
        "\n",
        "\n",
        "# Cross-entropy loss\n",
        "class Loss_CategoricalCrossentropy(Loss):\n",
        "\n",
        "        # Forward pass\n",
        "    def forward(self, y_pred, y_true):\n",
        "\n",
        "        # Number of samples in a batch\n",
        "        samples = len(y_pred)\n",
        "\n",
        "        # Clip data to prevent division by 0\n",
        "        # Clip both sides to not drag mean towards any value\n",
        "        y_pred_clipped = np.clip(y_pred, 1e-7, 1 - 1e-7)\n",
        "\n",
        "        # Probabilities for target values -\n",
        "        # only if categorical labels\n",
        "        if len(y_true.shape) == 1:\n",
        "            correct_confidences = y_pred_clipped[\n",
        "                range(samples),\n",
        "                y_true\n",
        "            ]\n",
        "\n",
        "        # Mask values - only for one-hot encoded labels\n",
        "        elif len(y_true.shape) == 2:\n",
        "            correct_confidences = np.sum(\n",
        "                y_pred_clipped * y_true,\n",
        "                axis=1\n",
        "            )\n",
        "\n",
        "        # Losses\n",
        "        negative_log_likelihoods = -np.log(correct_confidences)\n",
        "        return negative_log_likelihoods\n",
        "\n",
        "\n",
        "    # Backward pass\n",
        "    def backward(self, dvalues, y_true):\n",
        "\n",
        "        # Number of samples\n",
        "        samples = len(dvalues)\n",
        "        # Number of labels in every sample\n",
        "        # We'll use the first sample to count them\n",
        "        labels = len(dvalues[0])\n",
        "\n",
        "        # If labels are sparse, turn them into one-hot vector\n",
        "        if len(y_true.shape) == 1:\n",
        "            y_true = np.eye(labels)[y_true]\n",
        "\n",
        "        # Calculate gradient\n",
        "        self.dinputs = -y_true / dvalues\n",
        "        # Normalize gradient\n",
        "        self.dinputs = self.dinputs / samples\n",
        "\n",
        "\n",
        "# Softmax classifier - combined Softmax activation\n",
        "# and cross-entropy loss for faster backward step\n",
        "class Activation_Softmax_Loss_CategoricalCrossentropy():\n",
        "\n",
        "    # Creates activation and loss function objects\n",
        "    def __init__(self):\n",
        "        self.activation = Activation_Softmax()\n",
        "        self.loss = Loss_CategoricalCrossentropy()\n",
        "\n",
        "    # Forward pass\n",
        "    def forward(self, inputs, y_true):\n",
        "        # Output layer's activation function\n",
        "        self.activation.forward(inputs)\n",
        "        # Set the output\n",
        "        self.output = self.activation.output\n",
        "        # Calculate and return loss value\n",
        "        return self.loss.calculate(self.output, y_true)\n",
        "\n",
        "    # Backward pass\n",
        "    def backward(self, dvalues, y_true):\n",
        "        # Number of samples\n",
        "        samples = len(dvalues)\n",
        "\n",
        "        # If labels are one-hot encoded,\n",
        "        # turn them into discrete values\n",
        "        if len(y_true.shape) == 2:\n",
        "            y_true = np.argmax(y_true, axis=1)\n",
        "\n",
        "        # Copy so we can safely modify\n",
        "        self.dinputs = dvalues.copy()\n",
        "        # Calculate gradient\n",
        "        self.dinputs[range(samples), y_true] -= 1\n",
        "        # Normalize gradient\n",
        "        self.dinputs = self.dinputs / samples\n",
        "\n",
        "\n",
        "# Binary cross-entropy loss\n",
        "class Loss_BinaryCrossentropy(Loss):\n",
        "\n",
        "    # Forward pass\n",
        "    def forward(self, y_pred, y_true):\n",
        "        # Clip data to prevent division by 0\n",
        "        # Clip both sides to not drag mean towards any value\n",
        "        y_pred_clipped = np.clip(y_pred, 1e-7, 1 - 1e-7)\n",
        "\n",
        "        # Calculate sample-wise loss\n",
        "        sample_losses = -(y_true * np.log(y_pred_clipped) +\n",
        "                          (1 - y_true) * np.log(1 - y_pred_clipped))\n",
        "        sample_losses = np.mean(sample_losses, axis=-1)\n",
        "\n",
        "        # Return losses\n",
        "        return sample_losses\n",
        "\n",
        "    # Backward pass\n",
        "    def backward(self, dvalues, y_true):\n",
        "        # Number of samples\n",
        "        samples = len(dvalues)\n",
        "        # Number of outputs in every sample\n",
        "        # We'll use the first sample to count them\n",
        "        outputs = len(dvalues[0])\n",
        "\n",
        "        # Clip data to prevent division by 0\n",
        "        # Clip both sides to not drag mean towards any value\n",
        "        clipped_dvalues = np.clip(dvalues, 1e-7, 1 - 1e-7)\n",
        "\n",
        "        # Calculate gradient\n",
        "        self.dinputs = -(y_true / clipped_dvalues -\n",
        "                         (1 - y_true) / (1 - clipped_dvalues)) / outputs\n",
        "        # Normalize gradient\n",
        "        self.dinputs = self.dinputs / samples\n",
        "\n",
        "# Common accuracy class\n",
        "class Accuracy:\n",
        "\n",
        "    # Calculates an accuracy\n",
        "    # given predictions and ground truth values\n",
        "    def calculate(self, predictions, y):\n",
        "\n",
        "        # Get comparison results\n",
        "        comparisons = self.compare(predictions, y)\n",
        "\n",
        "        # Calculate an accuracy\n",
        "        accuracy = np.mean(comparisons)\n",
        "\n",
        "        # Add accumulated sum of matching values and sample count\n",
        "        # Return accuracy\n",
        "        return accuracy\n",
        "\n",
        "    # Calculates accumulated accuracy\n",
        "    def calculate_accumulated(self):\n",
        "\n",
        "        # Calculate an accuracy\n",
        "        accuracy = self.accumulated_sum / self.accumulated_count\n",
        "\n",
        "        # Return the data and regularization losses\n",
        "        return accuracy\n",
        "\n",
        "    # Reset variables for accumulated accuracy\n",
        "    def new_pass(self):\n",
        "        self.accumulated_sum = 0\n",
        "        self.accumulated_count = 0\n",
        "\n",
        "\n",
        "# Accuracy calculation for classification model\n",
        "class Accuracy_Categorical(Accuracy):\n",
        "\n",
        "    def __init__(self, *, binary=False):\n",
        "        # Binary mode?\n",
        "        self.binary = binary\n",
        "\n",
        "    # No initialization is needed\n",
        "    def init(self, y):\n",
        "        pass\n",
        "\n",
        "    # Compares predictions to the ground truth values\n",
        "    def compare(self, predictions, y):\n",
        "        if not self.binary and len(y.shape) == 2:\n",
        "            y = np.argmax(y, axis=1)\n",
        "        return predictions == y\n",
        "\n",
        "\n",
        "# Accuracy calculation for regression model\n",
        "class Accuracy_Regression(Accuracy):\n",
        "\n",
        "    def __init__(self):\n",
        "        # Create precision property\n",
        "        self.precision = None\n",
        "\n",
        "    # Calculates precision value\n",
        "    # based on passed-in ground truth values\n",
        "    def init(self, y, reinit=False):\n",
        "        if self.precision is None or reinit:\n",
        "            self.precision = np.std(y) / 250\n",
        "\n",
        "    # Compares predictions to the ground truth values\n",
        "    def compare(self, predictions, y):\n",
        "        return np.absolute(predictions - y) < self.precision\n",
        "\n",
        "class model:\n",
        "    def __init__(self):\n",
        "        pass\n",
        "\n",
        "    def predict(self, classes, samples):\n",
        "        self.classes = classes\n",
        "        self.samples = samples\n",
        "        self.X, self.y = spiral_data(samples=self.samples, classes=self.classes)\n",
        "        dense1.forward(self.X)\n",
        "        activation1.forward(dense1.output)\n",
        "        dense2.forward(activation1.output)\n",
        "        activation2.forward(dense2.output)\n",
        "        # Calculate the data loss\n",
        "        self.loss = loss_function.calculate(activation2.output, self.y)\n",
        "        self.predictions = (activation2.output > 0.5) * 1\n",
        "        self.accuracy = np.mean(self.predictions == self.y)\n",
        "        print(f'Accuracy: {self.accuracy}')\n",
        "\n",
        "\n"
      ],
      "execution_count": 128,
      "outputs": []
    },
    {
      "cell_type": "markdown",
      "metadata": {
        "id": "UA4GFMbIPUkI"
      },
      "source": [
        "# Old Dropout Layer"
      ]
    },
    {
      "cell_type": "code",
      "metadata": {
        "id": "ZxoiO43tPbTa"
      },
      "source": [
        "class Layer_Dropout:\n",
        "\n",
        "    # Init\n",
        "    def __init__(self, rate):\n",
        "        # Store rate, we invert it as for example for dropout\n",
        "        # of 0.1 we need success rate of 0.9\n",
        "        self.rate = 1 - rate\n",
        "\n",
        "    # Forward pass\n",
        "    def forward(self, inputs):\n",
        "        # Save input values\n",
        "        self.inputs = inputs\n",
        "        # Generate and save scaled mask\n",
        "        self.binary_mask = np.random.binomial(1, self.rate,\n",
        "                                              size=inputs.shape) / self.rate\n",
        "        # Apply mask to output values\n",
        "        self.output = inputs * self.binary_mask\n",
        "       \n",
        "\n",
        "    # Backward pass\n",
        "    def backward(self, dvalues):\n",
        "        # Gradient on values\n",
        "        self.dinputs = dvalues * self.binary_mask\n",
        "        #print(self.dinputs.shape)"
      ],
      "execution_count": 129,
      "outputs": []
    },
    {
      "cell_type": "markdown",
      "metadata": {
        "id": "OV_Og9ZrbKtV"
      },
      "source": [
        "# New Dropout Layers"
      ]
    },
    {
      "cell_type": "code",
      "metadata": {
        "id": "PXBWsHDIUSfh"
      },
      "source": [
        "class Layer_BinaryNSDropout:\n",
        "\n",
        "    # Init\n",
        "    def __init__(self, rate):\n",
        "        self.rate = 1 - rate\n",
        "        self.iterations = 0\n",
        "\n",
        "    def forward(self, inputs, val_inputs):\n",
        "        self.inputs = inputs\n",
        "        self.val_inputs = val_inputs\n",
        "        nummask = round(len(self.inputs[0]) * self.rate)\n",
        "        \n",
        "        #Averaging Values\n",
        "        self.meanarray1 = np.mean(inputs, axis=0)\n",
        "        self.meanarray2 = np.mean(val_inputs, axis=0)\n",
        "\n",
        "        if self.iterations != 0:\n",
        "            # Calculating value\n",
        "            self.difference = self.meanarray1 - self.meanarray2\n",
        "            ind = np.argpartition(self.difference, -nummask)[-nummask:]\n",
        "            mask = np.ones(self.meanarray1.shape, dtype=bool)\n",
        "            mask[ind] = False\n",
        "            self.difference[~mask] = 1\n",
        "            self.difference[mask] = 0. \n",
        "            self.binary_mask = self.difference / self.rate\n",
        "\n",
        "        else:\n",
        "            self.binary_mask = np.random.binomial(1, self.rate,\n",
        "                                                  size=inputs.shape) / self.rate\n",
        "        self.output = inputs * self.binary_mask\n",
        "    def backward(self, dvalues):\n",
        "        # Gradient on values\n",
        "        self.dinputs = dvalues * self.binary_mask\n",
        "\n",
        "    def post_update_params(self):\n",
        "        self.iterations += 1"
      ],
      "execution_count": 130,
      "outputs": []
    },
    {
      "cell_type": "code",
      "metadata": {
        "id": "WiuCzwWxbRl0"
      },
      "source": [
        "class Layer_CatagoricalNSDropout:\n",
        "\n",
        "    # Init\n",
        "    def __init__(self, rate):\n",
        "        self.rate = rate\n",
        "        self.iterations = 0\n",
        "\n",
        "    def forward(self, X_test, y_test, X, y):        \n",
        "        if self.iterations != 0:\n",
        "          #Adding sorted data into dictionaries \n",
        "          sorted_x = {}\n",
        "          sorted_y = {}\n",
        "          for classes in range(len(set(y))):\n",
        "            sorted_x[\"class_{0}\".format(classes)] = X[y == classes]\n",
        "            sorted_y[\"label_{0}\".format(classes)] = y[y == classes]\n",
        "\n",
        "          sorted_x_test = {}\n",
        "          sorted_y_test = {}\n",
        "          for classes in range(len(set(y))):\n",
        "            sorted_x_test[\"class_{0}\".format(classes)] = X_test[y_test == classes]\n",
        "            sorted_y_test[\"label_{0}\".format(classes)] = y_test[y_test == classes]\n",
        "\n",
        "          #Averaging sorted data from each class then finding the difference between the averaged train and test inputs\n",
        "          differnce_classes = {}\n",
        "          for i, classes, test_classes in zip(range(len(set(y))), sorted_x, sorted_x_test):\n",
        "            differnce_classes[\"diff_{0}\".format(i)] = np.mean(sorted_x[classes], axis=0) - np.mean(sorted_x_test[classes], axis=0)\n",
        "\n",
        "          #Masking the data taking the high values(greatest difference between train and test) and setting their values to 0\n",
        "          self.diff_mask = {}\n",
        "          for i, classes, test_classes, diff in zip(range(len(set(y))), sorted_x, sorted_x_test, differnce_classes):\n",
        "            ind = np.argpartition(differnce_classes[diff], -round(len(X[0]) * self.rate))[-round(len(X[0]) * self.rate):]\n",
        "            mask = np.ones(np.mean(sorted_x[classes],axis=0).shape, dtype=bool)\n",
        "            mask[ind] = False\n",
        "            differnce_classes[diff][~mask] = 0.\n",
        "            differnce_classes[diff][mask] = 1\n",
        "            self.diff_mask[\"mask_{0}\".format(i)] = differnce_classes[diff]\n",
        "\n",
        "          #Goes through each input values and applies the apprioprite mask based on what the true output should be.\n",
        "          binary_mask = np.empty(shape=X.shape)\n",
        "          for i, (input, label) in enumerate(zip(X,y)): \n",
        "            for true, diff in enumerate(self.diff_mask):\n",
        "              if label == true:\n",
        "                self.binary_mask[i] = self.diff_mask[diff]\n",
        "        else:\n",
        "          self.binary_mask = np.random.binomial(1, (1-self.rate), size=X.shape)\n",
        "        \n",
        "        self.output = (self.binary_mask/(1-self.rate)) * X\n",
        "    def backward(self, dvalues):\n",
        "        # Gradient on values\n",
        "        self.dinputs = dvalues * self.binary_mask\n",
        "\n",
        "    def infrence(self, input, label):\n",
        "        self.input = input\n",
        "        self.label = label\n",
        "        idx = np.argsort(self.label)\n",
        "        input_sorted = input[idx]\n",
        "        label_sorted = label[idx]\n",
        "        self.infrence_binary_mask = np.empty(shape=self.input.shape)\n",
        "        for i, (input, label) in enumerate(zip(self.input, self.label)):\n",
        "          #for true, diff in zip(range(len(set(self.label))),self.diff_mask):\n",
        "          for true, diff in enumerate(self.diff_mask):\n",
        "            if label == true:\n",
        "              self.infrence_binary_mask[i] = self.diff_mask[diff]\n",
        "\n",
        "        self.output = self.infrence_binary_mask * self.input\n",
        "\n",
        "    def post_update_params(self):\n",
        "        self.iterations += 1\n",
        "\n"
      ],
      "execution_count": 131,
      "outputs": []
    },
    {
      "cell_type": "markdown",
      "metadata": {
        "id": "XRB57nFublm3"
      },
      "source": [
        "Initializing Caches"
      ]
    },
    {
      "cell_type": "code",
      "metadata": {
        "id": "_kyAX0txV-cF"
      },
      "source": [
        "loss_cache = []\n",
        "val_loss_cache = []\n",
        "acc_cache = []\n",
        "val_acc_cache = []\n",
        "lr_cache = []\n",
        "epoch_cache = []\n",
        "test_acc_cache = []\n",
        "test_loss_cache = []\n",
        "\n",
        "max_val_accuracyint = 0"
      ],
      "execution_count": 132,
      "outputs": []
    },
    {
      "cell_type": "markdown",
      "metadata": {
        "id": "F_7VWnIlF8yx"
      },
      "source": [
        "Initializing Summary List"
      ]
    },
    {
      "cell_type": "code",
      "metadata": {
        "id": "Xtnu5VToGAq0"
      },
      "source": [
        "summary = []"
      ],
      "execution_count": 133,
      "outputs": []
    },
    {
      "cell_type": "markdown",
      "metadata": {
        "id": "W1Eu0pm-WjKI"
      },
      "source": [
        "# Loading Data"
      ]
    },
    {
      "cell_type": "markdown",
      "metadata": {
        "id": "x-24YuBKre0f"
      },
      "source": [
        "Vizulizing Data"
      ]
    },
    {
      "cell_type": "code",
      "metadata": {
        "colab": {
          "base_uri": "https://localhost:8080/"
        },
        "id": "4kUOJ9avrho8",
        "outputId": "33f80348-0c42-4fd3-da11-1c335b44090a"
      },
      "source": [
        "(X, y), (X_val, y_val) = tf.keras.datasets.fashion_mnist.load_data()\n",
        "\n",
        "# Label index to label name relation\n",
        "fashion_mnist_labels = {\n",
        "    0: 'T-shirt/top',\n",
        "    1: 'Trouser',\n",
        "    2: 'Pullover',\n",
        "    3: 'Dress',\n",
        "    4: 'Coat',\n",
        "    5: 'Sandal',\n",
        "    6: 'Shirt',\n",
        "    7: 'Sneaker',\n",
        "    8: 'Bag',\n",
        "    9: 'Ankle boot'\n",
        "}\n",
        "\n",
        "\n",
        "# Shuffle the training dataset\n",
        "keys = np.array(range(X.shape[0]))\n",
        "np.random.shuffle(keys)\n",
        "X = X[keys]\n",
        "y = y[keys]\n",
        "\n",
        "input = X\n",
        "label = y\n",
        "\n",
        "X = X[:10000,:,:]\n",
        "#X_test = X_test[:1600,:,:]\n",
        "y = y[:10000]\n",
        "#y_test  = y_test[:1600]\n",
        "\n",
        "\n",
        "X_train, X_test, y_train, y_test = train_test_split(X, y, test_size=(.2))\n",
        "\n",
        "# Scale and reshape samples\n",
        "X = (X.reshape(X.shape[0], -1).astype(np.float32) - 127.5) / 127.5\n",
        "X_train = (X_train.reshape(X_train.shape[0], -1).astype(np.float32) - 127.5) / 127.5\n",
        "X_test = (X_test.reshape(X_test.shape[0], -1).astype(np.float32) - 127.5) / 127.5\n",
        "X_val = (X_val.reshape(X_val.shape[0], -1).astype(np.float32) - 127.5) / 127.5\n",
        "input = (input.reshape(input.shape[0], -1).astype(np.float32) - 127.5) / 127.5\n",
        "\n",
        "print(X_train.shape)\n",
        "print(y_train.shape)\n",
        "print(X_test.shape)\n",
        "print(y_test.shape)\n",
        "\n"
      ],
      "execution_count": 134,
      "outputs": [
        {
          "output_type": "stream",
          "text": [
            "(8000, 784)\n",
            "(8000,)\n",
            "(2000, 784)\n",
            "(2000,)\n"
          ],
          "name": "stdout"
        }
      ]
    },
    {
      "cell_type": "markdown",
      "metadata": {
        "id": "i_nW7mqGTnem"
      },
      "source": [
        "Sorting Training Data"
      ]
    },
    {
      "cell_type": "code",
      "metadata": {
        "colab": {
          "base_uri": "https://localhost:8080/"
        },
        "id": "AtvA9y81TpGf",
        "outputId": "8bf1c638-2660-41c9-e6db-fd8e0149d84a"
      },
      "source": [
        "idx = np.argsort(y_train)\n",
        "X_sorted = X_train[idx]\n",
        "y_sorted = y_train[idx]\n",
        "\n",
        "sorted_x = {}\n",
        "sorted_y = {}\n",
        "for classes in range(len(set(y))):\n",
        "  sorted_x[\"X_{0}\".format(classes)] = X_train[y_train == classes]\n",
        "  sorted_y[\"y_{0}\".format(classes)] = y_train[y_train == classes]\n",
        "\n",
        "\n",
        "\n",
        "for sorted_lists in sorted_x:\n",
        "  print(f'Number of Samples for {sorted_lists}: {sorted_x[sorted_lists].shape[0]}')\n"
      ],
      "execution_count": 135,
      "outputs": [
        {
          "output_type": "stream",
          "text": [
            "Number of Samples for X_0: 766\n",
            "Number of Samples for X_1: 800\n",
            "Number of Samples for X_2: 830\n",
            "Number of Samples for X_3: 798\n",
            "Number of Samples for X_4: 808\n",
            "Number of Samples for X_5: 745\n",
            "Number of Samples for X_6: 858\n",
            "Number of Samples for X_7: 799\n",
            "Number of Samples for X_8: 815\n",
            "Number of Samples for X_9: 781\n"
          ],
          "name": "stdout"
        }
      ]
    },
    {
      "cell_type": "markdown",
      "metadata": {
        "id": "vpaNaUO3kP2G"
      },
      "source": [
        "Sorting Testing Data"
      ]
    },
    {
      "cell_type": "code",
      "metadata": {
        "colab": {
          "base_uri": "https://localhost:8080/"
        },
        "id": "TBLFeGAUkSOs",
        "outputId": "0ed2b9fd-d23f-46c4-8fea-cdf1c75b0685"
      },
      "source": [
        "idx = np.argsort(y_test)\n",
        "X_test_sorted = X_test[idx]\n",
        "y_test_sorted = y_test[idx]\n",
        "\n",
        "class_list = []\n",
        "\n",
        "sorted_x_test = {}\n",
        "sorted_y_test = {}\n",
        "for classes in range(len(set(y))):\n",
        "  sorted_x_test[\"X_test_{0}\".format(classes)] = X_test[y_test == classes]\n",
        "  sorted_y_test[\"y_test_{0}\".format(classes)] = y_test[y_test == classes]\n",
        "\n",
        "\n",
        "for sorted_lists in sorted_x_test:\n",
        "  print(f'Number of Samples for {sorted_lists}: {sorted_x_test[sorted_lists].shape[0]}')\n",
        "  class_list.append(sorted_x_test[sorted_lists].shape[0])\n"
      ],
      "execution_count": 136,
      "outputs": [
        {
          "output_type": "stream",
          "text": [
            "Number of Samples for X_test_0: 197\n",
            "Number of Samples for X_test_1: 176\n",
            "Number of Samples for X_test_2: 207\n",
            "Number of Samples for X_test_3: 210\n",
            "Number of Samples for X_test_4: 177\n",
            "Number of Samples for X_test_5: 214\n",
            "Number of Samples for X_test_6: 177\n",
            "Number of Samples for X_test_7: 211\n",
            "Number of Samples for X_test_8: 220\n",
            "Number of Samples for X_test_9: 211\n"
          ],
          "name": "stdout"
        }
      ]
    },
    {
      "cell_type": "code",
      "metadata": {
        "colab": {
          "base_uri": "https://localhost:8080/"
        },
        "id": "SSOlE-g40VbR",
        "outputId": "2ae8dc01-8e60-4b44-e7f3-3224ac9a4a21"
      },
      "source": [
        "idx = np.argsort(y_val)\n",
        "X_val_sorted = X_val[idx]\n",
        "y_val_sorted = y_val[idx]\n",
        "\n",
        "class_list = []\n",
        "\n",
        "sorted_x_val = {}\n",
        "sorted_y_val = {}\n",
        "for classes in range(len(set(y))):\n",
        "  sorted_x_val[\"X_val_{0}\".format(classes)] = X_val[y_val == classes]\n",
        "  sorted_y_val[\"y_val_{0}\".format(classes)] = y_val[y_val == classes]\n",
        "\n",
        "\n",
        "for sorted_lists in sorted_x_val:\n",
        "  print(f'Number of Samples for {sorted_lists}: {sorted_x_val[sorted_lists].shape[0]}')\n",
        "  class_list.append(sorted_x_val[sorted_lists].shape[0])"
      ],
      "execution_count": 137,
      "outputs": [
        {
          "output_type": "stream",
          "text": [
            "Number of Samples for X_val_0: 1000\n",
            "Number of Samples for X_val_1: 1000\n",
            "Number of Samples for X_val_2: 1000\n",
            "Number of Samples for X_val_3: 1000\n",
            "Number of Samples for X_val_4: 1000\n",
            "Number of Samples for X_val_5: 1000\n",
            "Number of Samples for X_val_6: 1000\n",
            "Number of Samples for X_val_7: 1000\n",
            "Number of Samples for X_val_8: 1000\n",
            "Number of Samples for X_val_9: 1000\n"
          ],
          "name": "stdout"
        }
      ]
    },
    {
      "cell_type": "code",
      "metadata": {
        "colab": {
          "base_uri": "https://localhost:8080/"
        },
        "id": "6hbnq4TJp1cl",
        "outputId": "1382b438-50fc-43e7-d69b-20aeb3e204ec"
      },
      "source": [
        "print(f'Found {X.shape[0]} images belonging to {len(set(y))} unique classes')"
      ],
      "execution_count": 138,
      "outputs": [
        {
          "output_type": "stream",
          "text": [
            "Found 10000 images belonging to 10 unique classes\n"
          ],
          "name": "stdout"
        }
      ]
    },
    {
      "cell_type": "markdown",
      "metadata": {
        "id": "Fd_dSHDNW1Rn"
      },
      "source": [
        "# Initializing Layers"
      ]
    },
    {
      "cell_type": "code",
      "metadata": {
        "id": "aly5fwUCW_4l"
      },
      "source": [
        "# Create Dense layer with 2 input features and 64 output values\n",
        "dense1 = Layer_Dense(X.shape[1], 128, weight_regularizer_l2=5e-4,\n",
        "                     bias_regularizer_l2=5e-4)\n",
        "\n",
        "activation1 = Activation_ReLU()\n",
        "\n",
        "dropout1 = Layer_CatagoricalNSDropout(0.2)\n",
        "\n",
        "dense2 = Layer_Dense(128, 128)\n",
        "\n",
        "activation2 = Activation_ReLU()\n",
        "\n",
        "dense3 = Layer_Dense(128,128)\n",
        "\n",
        "activation3 = Activation_ReLU()\n",
        "\n",
        "dense4 = Layer_Dense(128,len(set(y)))\n",
        "\n",
        "activation4 = Activation_Softmax()\n",
        "\n",
        "\n",
        "loss_function = Loss_CategoricalCrossentropy()\n",
        "\n",
        "softmax_classifier_output = \\\n",
        "                Activation_Softmax_Loss_CategoricalCrossentropy()\n",
        "\n",
        "# Create optimizer\n",
        "optimizer = Optimizer_Adam(decay=5e-7,learning_rate=0.005)\n",
        "#optimizer = Optimizer_SGD(learning_rate=0.01)\n",
        "accuracy = Accuracy_Categorical()\n",
        "\n",
        "accuracy.init(y)"
      ],
      "execution_count": 139,
      "outputs": []
    },
    {
      "cell_type": "markdown",
      "metadata": {
        "id": "-xmbxDuwXIBk"
      },
      "source": [
        "# Training Loop"
      ]
    },
    {
      "cell_type": "code",
      "metadata": {
        "colab": {
          "base_uri": "https://localhost:8080/"
        },
        "id": "14yHOjq9XLee",
        "outputId": "5a78a3cf-28ce-497c-896c-d49b774025ae"
      },
      "source": [
        "epochs = 223\n",
        "for epoch in range(epochs + 1):\n",
        "\n",
        "    dense1.forward(X_train)\n",
        "\n",
        "    activation1.forward(dense1.output)\n",
        "\n",
        "    if epoch != 0:\n",
        "      cached_val_inputs = cached_val_inputs\n",
        "      cached_train_inputs = activation1.output\n",
        "    else:\n",
        "      cached_val_inputs = np.random.random(size=128) #Never used just needed to pass to dropout\n",
        "      cached_train_inputs = activation1.output\n",
        "\n",
        "\n",
        "    dropout1.forward(X=activation1.output, y=y_train, X_test=cached_val_inputs, y_test=y_test)\n",
        "\n",
        "    dense2.forward(dropout1.output)\n",
        "\n",
        "    activation2.forward(dense2.output)\n",
        "\n",
        "    dense3.forward(activation2.output)\n",
        "\n",
        "    activation3.forward(dense3.output)\n",
        "\n",
        "    dense4.forward(activation3.output)\n",
        "\n",
        "    activation4.forward(dense4.output)\n",
        "\n",
        "    # Calculate the data loss\n",
        "    data_loss = loss_function.calculate(activation4.output, y_train)\n",
        "    regularization_loss = \\\n",
        "      loss_function.regularization_loss(dense1) + \\\n",
        "      loss_function.regularization_loss(dense2) + \\\n",
        "      loss_function.regularization_loss(dense3) + \\\n",
        "      loss_function.regularization_loss(dense4) \n",
        "    loss = data_loss + regularization_loss\n",
        "    \n",
        "    #Accuracy\n",
        "    predictions = activation4.predictions(activation4.output)\n",
        "    train_accuracy = accuracy.calculate(predictions, y_train)\n",
        "\n",
        "    # Backward pass\n",
        "    softmax_classifier_output.backward(activation4.output, y_train)\n",
        "    activation4.backward(softmax_classifier_output.dinputs)\n",
        "    dense4.backward(activation4.dinputs)\n",
        "    activation3.backward(dense4.dinputs)\n",
        "    dense3.backward(activation3.dinputs)\n",
        "    activation2.backward(dense3.dinputs)\n",
        "    dense2.backward(activation2.dinputs)\n",
        "    dropout1.backward(dense2.dinputs)\n",
        "    activation1.backward(dropout1.dinputs)\n",
        "    dense1.backward(activation1.dinputs)\n",
        "    \n",
        "    # Update weights and biases\n",
        "    optimizer.pre_update_params()\n",
        "    optimizer.update_params(dense1)\n",
        "    optimizer.update_params(dense2)\n",
        "    optimizer.update_params(dense3)\n",
        "    optimizer.update_params(dense4)\n",
        "    optimizer.post_update_params()\n",
        "    dropout1.post_update_params()\n",
        "\n",
        "\n",
        "\n",
        "    # Validation\n",
        "    dense1.forward(X_test)\n",
        "    activation1.forward(dense1.output)\n",
        "    \n",
        "    if epoch == 0:\n",
        "      dense2.forward(activation1.output)\n",
        "    else:\n",
        "      dropout1.infrence(activation1.output,y_test)\n",
        "\n",
        "      dense2.forward(dropout1.output)\n",
        "    \n",
        "    dense1_outputs = dense1.output\n",
        "    meanarray = np.mean(dense1.output, axis=0)\n",
        "    cached_val_inputs = activation1.output\n",
        " \n",
        "    trainout = meanarray\n",
        "    activation2.forward(dense2.output)\n",
        "\n",
        "    dense3.forward(activation2.output)\n",
        "    activation3.forward(dense3.output)\n",
        "    dense4.forward(activation3.output)\n",
        "    activation4.forward(dense4.output)\n",
        "    # Calculate the data loss\n",
        "    valloss = loss_function.calculate(activation4.output, y_test)\n",
        "    predictions = activation4.predictions(activation4.output)\n",
        "    valaccuracy = accuracy.calculate(predictions, y_test)\n",
        "\n",
        "    #Unseen Validaiton Accuracy\n",
        "    dense1.forward(X_val)\n",
        "    activation1.forward(dense1.output)\n",
        "    \n",
        "    if epoch == 0:\n",
        "      dense2.forward(activation1.output)\n",
        "    else:\n",
        "      dropout1.infrence(activation1.output,y_val)\n",
        "\n",
        "      dense2.forward(dropout1.output)\n",
        "    \n",
        "    activation2.forward(dense2.output)\n",
        "\n",
        "    dense3.forward(activation2.output)\n",
        "    activation3.forward(dense3.output)\n",
        "    dense4.forward(activation3.output)\n",
        "    activation4.forward(dense4.output)\n",
        "    # Calculate the data loss\n",
        "    testloss = loss_function.calculate(activation4.output, y_val)\n",
        "    predictions = activation4.predictions(activation4.output)\n",
        "    testaccuracy = accuracy.calculate(predictions, y_val)\n",
        "\n",
        "    #Updating List\n",
        "    loss_cache.append(loss)\n",
        "    val_loss_cache.append(valloss)\n",
        "    acc_cache.append(train_accuracy)\n",
        "    val_acc_cache.append(valaccuracy)\n",
        "    lr_cache.append(optimizer.current_learning_rate)\n",
        "    epoch_cache.append(epoch)\n",
        "    test_acc_cache.append(testaccuracy)\n",
        "    test_loss_cache.append(testloss)\n",
        "    \n",
        "\n",
        "    #Summary Items\n",
        "    if valaccuracy >= .8 and len(summary) == 0:\n",
        "        nintypercent = f'Model hit 80% validation accuracy in {epoch} epochs'\n",
        "        summary.append(nintypercent)\n",
        "    if valaccuracy >= .85 and len(summary) == 1:\n",
        "        nintypercent = f'Model hit 85% validation accuracy in {epoch} epochs'\n",
        "        summary.append(nintypercent)\n",
        "    if valaccuracy >= .9 and len(summary) == 2:\n",
        "        nintypercent = f'Model hit 90% validation accuracy in {epoch} epochs'\n",
        "        summary.append(nintypercent)\n",
        "    if valaccuracy >= .95 and len(summary) == 3:\n",
        "        nintypercent = f'Model hit 95% validation accuracy in {epoch} epochs'\n",
        "        summary.append(nintypercent)\n",
        "    if valaccuracy >= .975 and len(summary) == 4:\n",
        "        nintypercent = f'Model hit 97.5% validation accuracy in {epoch} epochs'\n",
        "        summary.append(nintypercent)  \n",
        "    if valaccuracy >= 1 and len(summary) == 5:\n",
        "        nintypercent = f'Model hit 100% validation accuracy in {epoch} epochs'\n",
        "        summary.append(nintypercent)\n",
        "    if epoch == epochs:\n",
        "      if valaccuracy > max_val_accuracyint:\n",
        "        max_val_accuracyint = valaccuracy\n",
        "        max_val_accuracy = f'Max accuracy was {valaccuracy * 100}% at epoch {epoch}.'\n",
        "        summary.append(max_val_accuracy)\n",
        "      else:\n",
        "        summary.append(max_val_accuracy)\n",
        "    else:\n",
        "      if valaccuracy > max_val_accuracyint:\n",
        "        max_val_accuracyint = valaccuracy\n",
        "        max_val_accuracy = f'Max accuracy was {valaccuracy * 100}% at epoch {epoch}.'     \n",
        "    \n",
        "    if not epoch % 1:\n",
        "        print(f'epoch: {epoch}, ' +\n",
        "              f'acc: {train_accuracy:.3f}, ' +\n",
        "              f'loss: {loss:.3f} (' +\n",
        "              f'data_loss: {data_loss:.3f}, ' +\n",
        "              f'reg_loss: {regularization_loss:.3f}), ' +\n",
        "              f'lr: {optimizer.current_learning_rate:.9f} ' +\n",
        "              f'validation, acc: {valaccuracy:.3f}, loss: {valloss:.3f} ' +\n",
        "              f'Unseen, acc: {testaccuracy:.3f}, loss: {testloss:.3f} ')"
      ],
      "execution_count": 140,
      "outputs": [
        {
          "output_type": "stream",
          "text": [
            "epoch: 0, acc: 0.112, loss: 2.308 (data_loss: 2.303, reg_loss: 0.005), lr: 0.005000000 validation, acc: 0.150, loss: 2.302 Unseen, acc: 0.173, loss: 2.302 \n",
            "epoch: 1, acc: 0.122, loss: 2.304 (data_loss: 2.302, reg_loss: 0.002), lr: 0.004999998 validation, acc: 0.285, loss: 2.298 Unseen, acc: 0.278, loss: 2.298 \n",
            "epoch: 2, acc: 0.200, loss: 2.300 (data_loss: 2.299, reg_loss: 0.001), lr: 0.004999995 validation, acc: 0.333, loss: 2.276 Unseen, acc: 0.330, loss: 2.276 \n",
            "epoch: 3, acc: 0.337, loss: 2.278 (data_loss: 2.277, reg_loss: 0.001), lr: 0.004999993 validation, acc: 0.302, loss: 2.184 Unseen, acc: 0.302, loss: 2.189 \n",
            "epoch: 4, acc: 0.304, loss: 2.175 (data_loss: 2.173, reg_loss: 0.001), lr: 0.004999990 validation, acc: 0.385, loss: 1.961 Unseen, acc: 0.369, loss: 1.974 \n",
            "epoch: 5, acc: 0.334, loss: 1.936 (data_loss: 1.933, reg_loss: 0.003), lr: 0.004999988 validation, acc: 0.386, loss: 1.743 Unseen, acc: 0.372, loss: 1.766 \n",
            "epoch: 6, acc: 0.375, loss: 1.810 (data_loss: 1.805, reg_loss: 0.005), lr: 0.004999985 validation, acc: 0.356, loss: 1.674 Unseen, acc: 0.341, loss: 1.707 \n",
            "epoch: 7, acc: 0.370, loss: 1.727 (data_loss: 1.721, reg_loss: 0.007), lr: 0.004999983 validation, acc: 0.371, loss: 1.601 Unseen, acc: 0.356, loss: 1.627 \n",
            "epoch: 8, acc: 0.375, loss: 1.610 (data_loss: 1.602, reg_loss: 0.008), lr: 0.004999980 validation, acc: 0.468, loss: 1.423 Unseen, acc: 0.454, loss: 1.452 \n",
            "epoch: 9, acc: 0.451, loss: 1.432 (data_loss: 1.423, reg_loss: 0.009), lr: 0.004999978 validation, acc: 0.459, loss: 1.433 Unseen, acc: 0.445, loss: 1.461 \n",
            "epoch: 10, acc: 0.420, loss: 1.451 (data_loss: 1.441, reg_loss: 0.010), lr: 0.004999975 validation, acc: 0.526, loss: 1.381 Unseen, acc: 0.505, loss: 1.416 \n",
            "epoch: 11, acc: 0.494, loss: 1.381 (data_loss: 1.370, reg_loss: 0.011), lr: 0.004999973 validation, acc: 0.475, loss: 1.346 Unseen, acc: 0.456, loss: 1.382 \n",
            "epoch: 12, acc: 0.445, loss: 1.340 (data_loss: 1.328, reg_loss: 0.012), lr: 0.004999970 validation, acc: 0.519, loss: 1.219 Unseen, acc: 0.496, loss: 1.257 \n",
            "epoch: 13, acc: 0.473, loss: 1.233 (data_loss: 1.220, reg_loss: 0.013), lr: 0.004999968 validation, acc: 0.502, loss: 1.157 Unseen, acc: 0.488, loss: 1.191 \n",
            "epoch: 14, acc: 0.512, loss: 1.146 (data_loss: 1.132, reg_loss: 0.014), lr: 0.004999965 validation, acc: 0.581, loss: 1.064 Unseen, acc: 0.561, loss: 1.095 \n",
            "epoch: 15, acc: 0.562, loss: 1.068 (data_loss: 1.052, reg_loss: 0.016), lr: 0.004999963 validation, acc: 0.638, loss: 0.982 Unseen, acc: 0.621, loss: 1.010 \n",
            "epoch: 16, acc: 0.616, loss: 0.990 (data_loss: 0.973, reg_loss: 0.017), lr: 0.004999960 validation, acc: 0.628, loss: 0.968 Unseen, acc: 0.617, loss: 0.990 \n",
            "epoch: 17, acc: 0.592, loss: 1.000 (data_loss: 0.982, reg_loss: 0.018), lr: 0.004999958 validation, acc: 0.697, loss: 0.844 Unseen, acc: 0.680, loss: 0.874 \n",
            "epoch: 18, acc: 0.686, loss: 0.842 (data_loss: 0.823, reg_loss: 0.019), lr: 0.004999955 validation, acc: 0.727, loss: 0.777 Unseen, acc: 0.724, loss: 0.794 \n",
            "epoch: 19, acc: 0.720, loss: 0.794 (data_loss: 0.774, reg_loss: 0.020), lr: 0.004999953 validation, acc: 0.733, loss: 0.736 Unseen, acc: 0.724, loss: 0.749 \n",
            "epoch: 20, acc: 0.721, loss: 0.732 (data_loss: 0.712, reg_loss: 0.020), lr: 0.004999950 validation, acc: 0.819, loss: 0.645 Unseen, acc: 0.815, loss: 0.657 \n",
            "epoch: 21, acc: 0.807, loss: 0.650 (data_loss: 0.629, reg_loss: 0.021), lr: 0.004999948 validation, acc: 0.812, loss: 0.639 Unseen, acc: 0.811, loss: 0.649 \n",
            "epoch: 22, acc: 0.814, loss: 0.619 (data_loss: 0.597, reg_loss: 0.022), lr: 0.004999945 validation, acc: 0.812, loss: 0.570 Unseen, acc: 0.811, loss: 0.570 \n",
            "epoch: 23, acc: 0.808, loss: 0.565 (data_loss: 0.542, reg_loss: 0.023), lr: 0.004999943 validation, acc: 0.822, loss: 0.487 Unseen, acc: 0.824, loss: 0.487 \n",
            "epoch: 24, acc: 0.820, loss: 0.495 (data_loss: 0.472, reg_loss: 0.024), lr: 0.004999940 validation, acc: 0.870, loss: 0.474 Unseen, acc: 0.869, loss: 0.474 \n",
            "epoch: 25, acc: 0.840, loss: 0.503 (data_loss: 0.479, reg_loss: 0.024), lr: 0.004999938 validation, acc: 0.908, loss: 0.408 Unseen, acc: 0.910, loss: 0.411 \n",
            "epoch: 26, acc: 0.899, loss: 0.420 (data_loss: 0.395, reg_loss: 0.025), lr: 0.004999935 validation, acc: 0.896, loss: 0.418 Unseen, acc: 0.913, loss: 0.408 \n",
            "epoch: 27, acc: 0.823, loss: 0.493 (data_loss: 0.467, reg_loss: 0.025), lr: 0.004999933 validation, acc: 0.911, loss: 0.405 Unseen, acc: 0.913, loss: 0.409 \n",
            "epoch: 28, acc: 0.906, loss: 0.392 (data_loss: 0.366, reg_loss: 0.026), lr: 0.004999930 validation, acc: 0.933, loss: 0.350 Unseen, acc: 0.931, loss: 0.356 \n",
            "epoch: 29, acc: 0.884, loss: 0.412 (data_loss: 0.385, reg_loss: 0.027), lr: 0.004999928 validation, acc: 0.953, loss: 0.292 Unseen, acc: 0.950, loss: 0.289 \n",
            "epoch: 30, acc: 0.916, loss: 0.336 (data_loss: 0.309, reg_loss: 0.027), lr: 0.004999925 validation, acc: 0.925, loss: 0.340 Unseen, acc: 0.924, loss: 0.345 \n",
            "epoch: 31, acc: 0.780, loss: 0.546 (data_loss: 0.519, reg_loss: 0.028), lr: 0.004999923 validation, acc: 0.909, loss: 0.368 Unseen, acc: 0.906, loss: 0.375 \n",
            "epoch: 32, acc: 0.850, loss: 0.460 (data_loss: 0.432, reg_loss: 0.028), lr: 0.004999920 validation, acc: 0.870, loss: 0.388 Unseen, acc: 0.876, loss: 0.401 \n",
            "epoch: 33, acc: 0.879, loss: 0.454 (data_loss: 0.425, reg_loss: 0.029), lr: 0.004999918 validation, acc: 0.885, loss: 0.407 Unseen, acc: 0.890, loss: 0.425 \n",
            "epoch: 34, acc: 0.773, loss: 0.668 (data_loss: 0.639, reg_loss: 0.029), lr: 0.004999915 validation, acc: 0.900, loss: 0.371 Unseen, acc: 0.897, loss: 0.386 \n",
            "epoch: 35, acc: 0.750, loss: 0.742 (data_loss: 0.712, reg_loss: 0.030), lr: 0.004999913 validation, acc: 0.833, loss: 0.525 Unseen, acc: 0.829, loss: 0.541 \n",
            "epoch: 36, acc: 0.770, loss: 0.707 (data_loss: 0.677, reg_loss: 0.031), lr: 0.004999910 validation, acc: 0.798, loss: 0.525 Unseen, acc: 0.797, loss: 0.545 \n",
            "epoch: 37, acc: 0.865, loss: 0.482 (data_loss: 0.451, reg_loss: 0.031), lr: 0.004999908 validation, acc: 0.919, loss: 0.323 Unseen, acc: 0.918, loss: 0.336 \n",
            "epoch: 38, acc: 0.927, loss: 0.338 (data_loss: 0.307, reg_loss: 0.032), lr: 0.004999905 validation, acc: 0.944, loss: 0.292 Unseen, acc: 0.941, loss: 0.299 \n",
            "epoch: 39, acc: 0.947, loss: 0.295 (data_loss: 0.263, reg_loss: 0.032), lr: 0.004999903 validation, acc: 0.949, loss: 0.277 Unseen, acc: 0.946, loss: 0.285 \n",
            "epoch: 40, acc: 0.849, loss: 0.480 (data_loss: 0.447, reg_loss: 0.033), lr: 0.004999900 validation, acc: 0.962, loss: 0.245 Unseen, acc: 0.957, loss: 0.252 \n",
            "epoch: 41, acc: 0.961, loss: 0.251 (data_loss: 0.218, reg_loss: 0.034), lr: 0.004999898 validation, acc: 0.959, loss: 0.212 Unseen, acc: 0.957, loss: 0.217 \n",
            "epoch: 42, acc: 0.948, loss: 0.322 (data_loss: 0.288, reg_loss: 0.034), lr: 0.004999895 validation, acc: 0.957, loss: 0.224 Unseen, acc: 0.953, loss: 0.231 \n",
            "epoch: 43, acc: 0.957, loss: 0.239 (data_loss: 0.204, reg_loss: 0.035), lr: 0.004999893 validation, acc: 0.982, loss: 0.118 Unseen, acc: 0.979, loss: 0.125 \n",
            "epoch: 44, acc: 0.982, loss: 0.129 (data_loss: 0.093, reg_loss: 0.036), lr: 0.004999890 validation, acc: 0.984, loss: 0.098 Unseen, acc: 0.982, loss: 0.099 \n",
            "epoch: 45, acc: 0.985, loss: 0.118 (data_loss: 0.081, reg_loss: 0.037), lr: 0.004999888 validation, acc: 0.976, loss: 0.113 Unseen, acc: 0.976, loss: 0.114 \n",
            "epoch: 46, acc: 0.961, loss: 0.171 (data_loss: 0.134, reg_loss: 0.037), lr: 0.004999885 validation, acc: 0.986, loss: 0.083 Unseen, acc: 0.983, loss: 0.086 \n",
            "epoch: 47, acc: 0.931, loss: 0.282 (data_loss: 0.245, reg_loss: 0.038), lr: 0.004999883 validation, acc: 0.964, loss: 0.136 Unseen, acc: 0.960, loss: 0.147 \n",
            "epoch: 48, acc: 0.947, loss: 0.235 (data_loss: 0.197, reg_loss: 0.038), lr: 0.004999880 validation, acc: 0.952, loss: 0.188 Unseen, acc: 0.953, loss: 0.202 \n",
            "epoch: 49, acc: 0.951, loss: 0.227 (data_loss: 0.188, reg_loss: 0.038), lr: 0.004999878 validation, acc: 0.977, loss: 0.116 Unseen, acc: 0.969, loss: 0.135 \n",
            "epoch: 50, acc: 0.946, loss: 0.247 (data_loss: 0.208, reg_loss: 0.038), lr: 0.004999875 validation, acc: 0.976, loss: 0.096 Unseen, acc: 0.968, loss: 0.121 \n",
            "epoch: 51, acc: 0.973, loss: 0.150 (data_loss: 0.111, reg_loss: 0.039), lr: 0.004999873 validation, acc: 0.980, loss: 0.089 Unseen, acc: 0.975, loss: 0.102 \n",
            "epoch: 52, acc: 0.943, loss: 0.211 (data_loss: 0.172, reg_loss: 0.039), lr: 0.004999870 validation, acc: 0.975, loss: 0.106 Unseen, acc: 0.973, loss: 0.112 \n",
            "epoch: 53, acc: 0.964, loss: 0.172 (data_loss: 0.133, reg_loss: 0.039), lr: 0.004999868 validation, acc: 0.976, loss: 0.123 Unseen, acc: 0.970, loss: 0.131 \n",
            "epoch: 54, acc: 0.918, loss: 0.281 (data_loss: 0.242, reg_loss: 0.039), lr: 0.004999865 validation, acc: 0.951, loss: 0.159 Unseen, acc: 0.949, loss: 0.172 \n",
            "epoch: 55, acc: 0.943, loss: 0.223 (data_loss: 0.184, reg_loss: 0.039), lr: 0.004999863 validation, acc: 0.980, loss: 0.100 Unseen, acc: 0.979, loss: 0.108 \n",
            "epoch: 56, acc: 0.889, loss: 0.677 (data_loss: 0.638, reg_loss: 0.039), lr: 0.004999860 validation, acc: 0.903, loss: 0.309 Unseen, acc: 0.892, loss: 0.331 \n",
            "epoch: 57, acc: 0.796, loss: 0.673 (data_loss: 0.633, reg_loss: 0.039), lr: 0.004999858 validation, acc: 0.973, loss: 0.113 Unseen, acc: 0.974, loss: 0.116 \n",
            "epoch: 58, acc: 0.971, loss: 0.170 (data_loss: 0.131, reg_loss: 0.039), lr: 0.004999855 validation, acc: 0.986, loss: 0.084 Unseen, acc: 0.982, loss: 0.091 \n",
            "epoch: 59, acc: 0.890, loss: 0.589 (data_loss: 0.549, reg_loss: 0.039), lr: 0.004999853 validation, acc: 0.926, loss: 0.275 Unseen, acc: 0.918, loss: 0.301 \n",
            "epoch: 60, acc: 0.874, loss: 0.587 (data_loss: 0.547, reg_loss: 0.040), lr: 0.004999850 validation, acc: 0.909, loss: 0.313 Unseen, acc: 0.910, loss: 0.324 \n",
            "epoch: 61, acc: 0.861, loss: 0.526 (data_loss: 0.486, reg_loss: 0.040), lr: 0.004999848 validation, acc: 0.950, loss: 0.197 Unseen, acc: 0.946, loss: 0.201 \n",
            "epoch: 62, acc: 0.943, loss: 0.235 (data_loss: 0.195, reg_loss: 0.040), lr: 0.004999845 validation, acc: 0.967, loss: 0.131 Unseen, acc: 0.966, loss: 0.131 \n",
            "epoch: 63, acc: 0.967, loss: 0.167 (data_loss: 0.126, reg_loss: 0.041), lr: 0.004999843 validation, acc: 0.914, loss: 0.253 Unseen, acc: 0.925, loss: 0.245 \n",
            "epoch: 64, acc: 0.933, loss: 0.249 (data_loss: 0.208, reg_loss: 0.041), lr: 0.004999840 validation, acc: 0.911, loss: 0.265 Unseen, acc: 0.915, loss: 0.261 \n",
            "epoch: 65, acc: 0.820, loss: 0.513 (data_loss: 0.472, reg_loss: 0.042), lr: 0.004999838 validation, acc: 0.930, loss: 0.245 Unseen, acc: 0.924, loss: 0.261 \n",
            "epoch: 66, acc: 0.853, loss: 0.556 (data_loss: 0.514, reg_loss: 0.042), lr: 0.004999835 validation, acc: 0.966, loss: 0.106 Unseen, acc: 0.961, loss: 0.130 \n",
            "epoch: 67, acc: 0.897, loss: 0.260 (data_loss: 0.217, reg_loss: 0.043), lr: 0.004999833 validation, acc: 0.948, loss: 0.156 Unseen, acc: 0.939, loss: 0.186 \n",
            "epoch: 68, acc: 0.937, loss: 0.218 (data_loss: 0.174, reg_loss: 0.044), lr: 0.004999830 validation, acc: 0.858, loss: 0.348 Unseen, acc: 0.845, loss: 0.395 \n",
            "epoch: 69, acc: 0.860, loss: 0.438 (data_loss: 0.394, reg_loss: 0.044), lr: 0.004999828 validation, acc: 0.890, loss: 0.321 Unseen, acc: 0.878, loss: 0.370 \n",
            "epoch: 70, acc: 0.869, loss: 0.455 (data_loss: 0.410, reg_loss: 0.044), lr: 0.004999825 validation, acc: 0.895, loss: 0.281 Unseen, acc: 0.881, loss: 0.316 \n",
            "epoch: 71, acc: 0.878, loss: 0.395 (data_loss: 0.350, reg_loss: 0.045), lr: 0.004999823 validation, acc: 0.931, loss: 0.197 Unseen, acc: 0.925, loss: 0.219 \n",
            "epoch: 72, acc: 0.923, loss: 0.262 (data_loss: 0.217, reg_loss: 0.045), lr: 0.004999820 validation, acc: 0.985, loss: 0.087 Unseen, acc: 0.980, loss: 0.092 \n",
            "epoch: 73, acc: 0.925, loss: 0.357 (data_loss: 0.312, reg_loss: 0.045), lr: 0.004999818 validation, acc: 0.982, loss: 0.085 Unseen, acc: 0.982, loss: 0.084 \n",
            "epoch: 74, acc: 0.978, loss: 0.119 (data_loss: 0.074, reg_loss: 0.045), lr: 0.004999815 validation, acc: 0.995, loss: 0.057 Unseen, acc: 0.995, loss: 0.054 \n",
            "epoch: 75, acc: 0.995, loss: 0.084 (data_loss: 0.039, reg_loss: 0.045), lr: 0.004999813 validation, acc: 0.993, loss: 0.072 Unseen, acc: 0.994, loss: 0.067 \n",
            "epoch: 76, acc: 0.991, loss: 0.100 (data_loss: 0.055, reg_loss: 0.045), lr: 0.004999810 validation, acc: 0.986, loss: 0.076 Unseen, acc: 0.992, loss: 0.072 \n",
            "epoch: 77, acc: 0.992, loss: 0.102 (data_loss: 0.056, reg_loss: 0.045), lr: 0.004999808 validation, acc: 0.991, loss: 0.061 Unseen, acc: 0.993, loss: 0.057 \n",
            "epoch: 78, acc: 0.992, loss: 0.088 (data_loss: 0.042, reg_loss: 0.045), lr: 0.004999805 validation, acc: 0.990, loss: 0.060 Unseen, acc: 0.991, loss: 0.056 \n",
            "epoch: 79, acc: 0.936, loss: 0.187 (data_loss: 0.142, reg_loss: 0.045), lr: 0.004999803 validation, acc: 0.985, loss: 0.065 Unseen, acc: 0.985, loss: 0.063 \n",
            "epoch: 80, acc: 0.981, loss: 0.108 (data_loss: 0.062, reg_loss: 0.045), lr: 0.004999800 validation, acc: 0.988, loss: 0.086 Unseen, acc: 0.985, loss: 0.082 \n",
            "epoch: 81, acc: 0.961, loss: 0.152 (data_loss: 0.107, reg_loss: 0.045), lr: 0.004999798 validation, acc: 0.980, loss: 0.074 Unseen, acc: 0.980, loss: 0.080 \n",
            "epoch: 82, acc: 0.981, loss: 0.116 (data_loss: 0.071, reg_loss: 0.045), lr: 0.004999795 validation, acc: 0.950, loss: 0.154 Unseen, acc: 0.946, loss: 0.166 \n",
            "epoch: 83, acc: 0.945, loss: 0.218 (data_loss: 0.173, reg_loss: 0.045), lr: 0.004999793 validation, acc: 0.988, loss: 0.056 Unseen, acc: 0.988, loss: 0.061 \n",
            "epoch: 84, acc: 0.923, loss: 0.192 (data_loss: 0.147, reg_loss: 0.045), lr: 0.004999790 validation, acc: 0.951, loss: 0.136 Unseen, acc: 0.946, loss: 0.141 \n",
            "epoch: 85, acc: 0.940, loss: 0.206 (data_loss: 0.161, reg_loss: 0.045), lr: 0.004999788 validation, acc: 0.895, loss: 0.172 Unseen, acc: 0.904, loss: 0.168 \n",
            "epoch: 86, acc: 0.819, loss: 0.616 (data_loss: 0.571, reg_loss: 0.045), lr: 0.004999785 validation, acc: 0.920, loss: 0.235 Unseen, acc: 0.921, loss: 0.238 \n",
            "epoch: 87, acc: 0.875, loss: 1.252 (data_loss: 1.207, reg_loss: 0.045), lr: 0.004999783 validation, acc: 0.874, loss: 0.852 Unseen, acc: 0.873, loss: 0.829 \n",
            "epoch: 88, acc: 0.794, loss: 1.729 (data_loss: 1.684, reg_loss: 0.045), lr: 0.004999780 validation, acc: 0.829, loss: 1.109 Unseen, acc: 0.820, loss: 1.105 \n",
            "epoch: 89, acc: 0.774, loss: 2.355 (data_loss: 2.310, reg_loss: 0.045), lr: 0.004999778 validation, acc: 0.785, loss: 1.614 Unseen, acc: 0.783, loss: 1.624 \n",
            "epoch: 90, acc: 0.772, loss: 2.294 (data_loss: 2.249, reg_loss: 0.045), lr: 0.004999775 validation, acc: 0.798, loss: 1.469 Unseen, acc: 0.790, loss: 1.495 \n",
            "epoch: 91, acc: 0.635, loss: 2.908 (data_loss: 2.863, reg_loss: 0.045), lr: 0.004999773 validation, acc: 0.768, loss: 1.640 Unseen, acc: 0.763, loss: 1.681 \n",
            "epoch: 92, acc: 0.713, loss: 2.560 (data_loss: 2.515, reg_loss: 0.045), lr: 0.004999770 validation, acc: 0.766, loss: 1.464 Unseen, acc: 0.760, loss: 1.485 \n",
            "epoch: 93, acc: 0.759, loss: 1.860 (data_loss: 1.815, reg_loss: 0.045), lr: 0.004999768 validation, acc: 0.827, loss: 0.875 Unseen, acc: 0.828, loss: 0.885 \n",
            "epoch: 94, acc: 0.790, loss: 1.320 (data_loss: 1.275, reg_loss: 0.045), lr: 0.004999765 validation, acc: 0.853, loss: 0.483 Unseen, acc: 0.855, loss: 0.479 \n",
            "epoch: 95, acc: 0.822, loss: 0.737 (data_loss: 0.692, reg_loss: 0.045), lr: 0.004999763 validation, acc: 0.956, loss: 0.180 Unseen, acc: 0.956, loss: 0.167 \n",
            "epoch: 96, acc: 0.942, loss: 0.281 (data_loss: 0.236, reg_loss: 0.045), lr: 0.004999760 validation, acc: 0.961, loss: 0.147 Unseen, acc: 0.959, loss: 0.149 \n",
            "epoch: 97, acc: 0.911, loss: 0.256 (data_loss: 0.210, reg_loss: 0.046), lr: 0.004999758 validation, acc: 0.961, loss: 0.135 Unseen, acc: 0.958, loss: 0.144 \n",
            "epoch: 98, acc: 0.959, loss: 0.188 (data_loss: 0.142, reg_loss: 0.046), lr: 0.004999755 validation, acc: 0.988, loss: 0.061 Unseen, acc: 0.982, loss: 0.064 \n",
            "epoch: 99, acc: 0.978, loss: 0.127 (data_loss: 0.081, reg_loss: 0.046), lr: 0.004999753 validation, acc: 0.985, loss: 0.060 Unseen, acc: 0.982, loss: 0.059 \n",
            "epoch: 100, acc: 0.984, loss: 0.103 (data_loss: 0.057, reg_loss: 0.046), lr: 0.004999750 validation, acc: 0.972, loss: 0.096 Unseen, acc: 0.973, loss: 0.093 \n",
            "epoch: 101, acc: 0.974, loss: 0.138 (data_loss: 0.091, reg_loss: 0.046), lr: 0.004999748 validation, acc: 0.971, loss: 0.117 Unseen, acc: 0.972, loss: 0.113 \n",
            "epoch: 102, acc: 0.815, loss: 1.138 (data_loss: 1.092, reg_loss: 0.047), lr: 0.004999745 validation, acc: 0.931, loss: 0.465 Unseen, acc: 0.925, loss: 0.465 \n",
            "epoch: 103, acc: 0.906, loss: 0.649 (data_loss: 0.602, reg_loss: 0.047), lr: 0.004999743 validation, acc: 0.946, loss: 0.314 Unseen, acc: 0.943, loss: 0.301 \n",
            "epoch: 104, acc: 0.861, loss: 1.190 (data_loss: 1.144, reg_loss: 0.047), lr: 0.004999740 validation, acc: 0.921, loss: 0.529 Unseen, acc: 0.915, loss: 0.540 \n",
            "epoch: 105, acc: 0.905, loss: 0.696 (data_loss: 0.649, reg_loss: 0.047), lr: 0.004999738 validation, acc: 0.956, loss: 0.296 Unseen, acc: 0.950, loss: 0.279 \n",
            "epoch: 106, acc: 0.899, loss: 0.604 (data_loss: 0.558, reg_loss: 0.047), lr: 0.004999735 validation, acc: 0.952, loss: 0.240 Unseen, acc: 0.952, loss: 0.229 \n",
            "epoch: 107, acc: 0.924, loss: 0.588 (data_loss: 0.541, reg_loss: 0.047), lr: 0.004999733 validation, acc: 0.957, loss: 0.255 Unseen, acc: 0.953, loss: 0.246 \n",
            "epoch: 108, acc: 0.947, loss: 0.347 (data_loss: 0.299, reg_loss: 0.047), lr: 0.004999730 validation, acc: 0.957, loss: 0.183 Unseen, acc: 0.953, loss: 0.204 \n",
            "epoch: 109, acc: 0.951, loss: 0.266 (data_loss: 0.218, reg_loss: 0.047), lr: 0.004999728 validation, acc: 0.969, loss: 0.139 Unseen, acc: 0.963, loss: 0.161 \n",
            "epoch: 110, acc: 0.960, loss: 0.215 (data_loss: 0.167, reg_loss: 0.048), lr: 0.004999725 validation, acc: 0.974, loss: 0.124 Unseen, acc: 0.968, loss: 0.141 \n",
            "epoch: 111, acc: 0.941, loss: 0.259 (data_loss: 0.211, reg_loss: 0.048), lr: 0.004999723 validation, acc: 0.971, loss: 0.130 Unseen, acc: 0.967, loss: 0.136 \n",
            "epoch: 112, acc: 0.964, loss: 0.216 (data_loss: 0.167, reg_loss: 0.048), lr: 0.004999720 validation, acc: 0.961, loss: 0.171 Unseen, acc: 0.957, loss: 0.181 \n",
            "epoch: 113, acc: 0.930, loss: 0.328 (data_loss: 0.279, reg_loss: 0.049), lr: 0.004999718 validation, acc: 0.971, loss: 0.154 Unseen, acc: 0.970, loss: 0.160 \n",
            "epoch: 114, acc: 0.973, loss: 0.221 (data_loss: 0.172, reg_loss: 0.049), lr: 0.004999715 validation, acc: 0.975, loss: 0.168 Unseen, acc: 0.973, loss: 0.168 \n",
            "epoch: 115, acc: 0.945, loss: 0.339 (data_loss: 0.289, reg_loss: 0.049), lr: 0.004999713 validation, acc: 0.965, loss: 0.198 Unseen, acc: 0.964, loss: 0.206 \n",
            "epoch: 116, acc: 0.955, loss: 0.311 (data_loss: 0.262, reg_loss: 0.049), lr: 0.004999710 validation, acc: 0.972, loss: 0.193 Unseen, acc: 0.969, loss: 0.202 \n",
            "epoch: 117, acc: 0.915, loss: 0.406 (data_loss: 0.357, reg_loss: 0.049), lr: 0.004999708 validation, acc: 0.975, loss: 0.179 Unseen, acc: 0.974, loss: 0.186 \n",
            "epoch: 118, acc: 0.852, loss: 0.676 (data_loss: 0.627, reg_loss: 0.049), lr: 0.004999705 validation, acc: 0.955, loss: 0.206 Unseen, acc: 0.952, loss: 0.220 \n",
            "epoch: 119, acc: 0.901, loss: 0.434 (data_loss: 0.384, reg_loss: 0.049), lr: 0.004999703 validation, acc: 0.949, loss: 0.220 Unseen, acc: 0.949, loss: 0.229 \n",
            "epoch: 120, acc: 0.946, loss: 0.306 (data_loss: 0.256, reg_loss: 0.050), lr: 0.004999700 validation, acc: 0.958, loss: 0.187 Unseen, acc: 0.952, loss: 0.205 \n",
            "epoch: 121, acc: 0.875, loss: 0.442 (data_loss: 0.392, reg_loss: 0.050), lr: 0.004999698 validation, acc: 0.960, loss: 0.175 Unseen, acc: 0.958, loss: 0.191 \n",
            "epoch: 122, acc: 0.965, loss: 0.246 (data_loss: 0.196, reg_loss: 0.050), lr: 0.004999695 validation, acc: 0.958, loss: 0.166 Unseen, acc: 0.961, loss: 0.178 \n",
            "epoch: 123, acc: 0.947, loss: 0.318 (data_loss: 0.268, reg_loss: 0.050), lr: 0.004999693 validation, acc: 0.961, loss: 0.162 Unseen, acc: 0.960, loss: 0.176 \n",
            "epoch: 124, acc: 0.963, loss: 0.235 (data_loss: 0.185, reg_loss: 0.050), lr: 0.004999690 validation, acc: 0.982, loss: 0.089 Unseen, acc: 0.979, loss: 0.101 \n",
            "epoch: 125, acc: 0.900, loss: 0.766 (data_loss: 0.715, reg_loss: 0.051), lr: 0.004999688 validation, acc: 0.955, loss: 0.194 Unseen, acc: 0.943, loss: 0.235 \n",
            "epoch: 126, acc: 0.947, loss: 0.295 (data_loss: 0.244, reg_loss: 0.051), lr: 0.004999685 validation, acc: 0.982, loss: 0.065 Unseen, acc: 0.975, loss: 0.077 \n",
            "epoch: 127, acc: 0.946, loss: 0.183 (data_loss: 0.132, reg_loss: 0.052), lr: 0.004999683 validation, acc: 0.970, loss: 0.078 Unseen, acc: 0.969, loss: 0.085 \n",
            "epoch: 128, acc: 0.931, loss: 0.383 (data_loss: 0.331, reg_loss: 0.052), lr: 0.004999680 validation, acc: 0.958, loss: 0.127 Unseen, acc: 0.957, loss: 0.136 \n",
            "epoch: 129, acc: 0.877, loss: 0.714 (data_loss: 0.662, reg_loss: 0.052), lr: 0.004999678 validation, acc: 0.894, loss: 0.327 Unseen, acc: 0.900, loss: 0.311 \n",
            "epoch: 130, acc: 0.901, loss: 0.408 (data_loss: 0.356, reg_loss: 0.053), lr: 0.004999675 validation, acc: 0.918, loss: 0.209 Unseen, acc: 0.918, loss: 0.211 \n",
            "epoch: 131, acc: 0.889, loss: 0.340 (data_loss: 0.287, reg_loss: 0.053), lr: 0.004999673 validation, acc: 0.976, loss: 0.088 Unseen, acc: 0.973, loss: 0.092 \n",
            "epoch: 132, acc: 0.957, loss: 0.188 (data_loss: 0.135, reg_loss: 0.053), lr: 0.004999670 validation, acc: 0.990, loss: 0.050 Unseen, acc: 0.989, loss: 0.056 \n",
            "epoch: 133, acc: 0.988, loss: 0.117 (data_loss: 0.064, reg_loss: 0.054), lr: 0.004999668 validation, acc: 0.985, loss: 0.048 Unseen, acc: 0.984, loss: 0.055 \n",
            "epoch: 134, acc: 0.961, loss: 0.198 (data_loss: 0.144, reg_loss: 0.054), lr: 0.004999665 validation, acc: 0.984, loss: 0.057 Unseen, acc: 0.980, loss: 0.066 \n",
            "epoch: 135, acc: 0.980, loss: 0.132 (data_loss: 0.078, reg_loss: 0.054), lr: 0.004999663 validation, acc: 0.983, loss: 0.066 Unseen, acc: 0.984, loss: 0.073 \n",
            "epoch: 136, acc: 0.977, loss: 0.164 (data_loss: 0.110, reg_loss: 0.054), lr: 0.004999660 validation, acc: 0.974, loss: 0.104 Unseen, acc: 0.974, loss: 0.117 \n",
            "epoch: 137, acc: 0.945, loss: 0.304 (data_loss: 0.249, reg_loss: 0.054), lr: 0.004999658 validation, acc: 0.977, loss: 0.103 Unseen, acc: 0.974, loss: 0.100 \n",
            "epoch: 138, acc: 0.854, loss: 1.308 (data_loss: 1.253, reg_loss: 0.055), lr: 0.004999655 validation, acc: 0.885, loss: 0.950 Unseen, acc: 0.881, loss: 1.001 \n",
            "epoch: 139, acc: 0.888, loss: 1.187 (data_loss: 1.133, reg_loss: 0.055), lr: 0.004999653 validation, acc: 0.888, loss: 0.979 Unseen, acc: 0.884, loss: 1.034 \n",
            "epoch: 140, acc: 0.890, loss: 1.207 (data_loss: 1.152, reg_loss: 0.055), lr: 0.004999650 validation, acc: 0.887, loss: 0.981 Unseen, acc: 0.883, loss: 1.021 \n",
            "epoch: 141, acc: 0.884, loss: 1.568 (data_loss: 1.513, reg_loss: 0.055), lr: 0.004999648 validation, acc: 0.875, loss: 1.369 Unseen, acc: 0.871, loss: 1.416 \n",
            "epoch: 142, acc: 0.859, loss: 1.105 (data_loss: 1.050, reg_loss: 0.055), lr: 0.004999645 validation, acc: 0.889, loss: 0.618 Unseen, acc: 0.887, loss: 0.646 \n",
            "epoch: 143, acc: 0.825, loss: 1.876 (data_loss: 1.822, reg_loss: 0.054), lr: 0.004999643 validation, acc: 0.861, loss: 1.111 Unseen, acc: 0.860, loss: 1.124 \n",
            "epoch: 144, acc: 0.865, loss: 0.702 (data_loss: 0.648, reg_loss: 0.054), lr: 0.004999640 validation, acc: 0.886, loss: 0.310 Unseen, acc: 0.881, loss: 0.315 \n",
            "epoch: 145, acc: 0.889, loss: 1.401 (data_loss: 1.347, reg_loss: 0.054), lr: 0.004999638 validation, acc: 0.887, loss: 1.025 Unseen, acc: 0.885, loss: 1.068 \n",
            "epoch: 146, acc: 0.891, loss: 1.271 (data_loss: 1.217, reg_loss: 0.053), lr: 0.004999635 validation, acc: 0.894, loss: 0.926 Unseen, acc: 0.890, loss: 0.967 \n",
            "epoch: 147, acc: 0.897, loss: 1.328 (data_loss: 1.275, reg_loss: 0.053), lr: 0.004999633 validation, acc: 0.897, loss: 1.011 Unseen, acc: 0.896, loss: 1.043 \n",
            "epoch: 148, acc: 0.897, loss: 1.247 (data_loss: 1.195, reg_loss: 0.052), lr: 0.004999630 validation, acc: 0.893, loss: 0.949 Unseen, acc: 0.893, loss: 0.976 \n",
            "epoch: 149, acc: 0.896, loss: 1.169 (data_loss: 1.117, reg_loss: 0.052), lr: 0.004999628 validation, acc: 0.896, loss: 0.859 Unseen, acc: 0.895, loss: 0.886 \n",
            "epoch: 150, acc: 0.882, loss: 1.183 (data_loss: 1.132, reg_loss: 0.051), lr: 0.004999625 validation, acc: 0.898, loss: 0.801 Unseen, acc: 0.897, loss: 0.836 \n",
            "epoch: 151, acc: 0.899, loss: 1.013 (data_loss: 0.963, reg_loss: 0.051), lr: 0.004999623 validation, acc: 0.899, loss: 0.697 Unseen, acc: 0.896, loss: 0.736 \n",
            "epoch: 152, acc: 0.892, loss: 0.927 (data_loss: 0.877, reg_loss: 0.050), lr: 0.004999620 validation, acc: 0.897, loss: 0.573 Unseen, acc: 0.894, loss: 0.612 \n",
            "epoch: 153, acc: 0.892, loss: 0.834 (data_loss: 0.784, reg_loss: 0.050), lr: 0.004999618 validation, acc: 0.893, loss: 0.513 Unseen, acc: 0.890, loss: 0.546 \n",
            "epoch: 154, acc: 0.892, loss: 0.694 (data_loss: 0.645, reg_loss: 0.049), lr: 0.004999615 validation, acc: 0.902, loss: 0.300 Unseen, acc: 0.902, loss: 0.331 \n",
            "epoch: 155, acc: 0.905, loss: 0.423 (data_loss: 0.375, reg_loss: 0.048), lr: 0.004999613 validation, acc: 0.978, loss: 0.084 Unseen, acc: 0.973, loss: 0.093 \n",
            "epoch: 156, acc: 0.985, loss: 0.122 (data_loss: 0.074, reg_loss: 0.048), lr: 0.004999610 validation, acc: 0.981, loss: 0.065 Unseen, acc: 0.981, loss: 0.069 \n",
            "epoch: 157, acc: 0.981, loss: 0.124 (data_loss: 0.077, reg_loss: 0.047), lr: 0.004999608 validation, acc: 0.982, loss: 0.060 Unseen, acc: 0.981, loss: 0.065 \n",
            "epoch: 158, acc: 0.984, loss: 0.112 (data_loss: 0.065, reg_loss: 0.047), lr: 0.004999605 validation, acc: 0.991, loss: 0.039 Unseen, acc: 0.989, loss: 0.046 \n",
            "epoch: 159, acc: 0.990, loss: 0.089 (data_loss: 0.043, reg_loss: 0.046), lr: 0.004999603 validation, acc: 0.994, loss: 0.031 Unseen, acc: 0.993, loss: 0.036 \n",
            "epoch: 160, acc: 0.906, loss: 0.220 (data_loss: 0.174, reg_loss: 0.046), lr: 0.004999600 validation, acc: 0.896, loss: 0.233 Unseen, acc: 0.897, loss: 0.245 \n",
            "epoch: 161, acc: 0.899, loss: 0.313 (data_loss: 0.268, reg_loss: 0.045), lr: 0.004999598 validation, acc: 0.895, loss: 0.276 Unseen, acc: 0.895, loss: 0.286 \n",
            "epoch: 162, acc: 0.900, loss: 0.350 (data_loss: 0.305, reg_loss: 0.045), lr: 0.004999595 validation, acc: 0.983, loss: 0.070 Unseen, acc: 0.983, loss: 0.072 \n",
            "epoch: 163, acc: 0.981, loss: 0.111 (data_loss: 0.067, reg_loss: 0.044), lr: 0.004999593 validation, acc: 0.985, loss: 0.057 Unseen, acc: 0.984, loss: 0.054 \n",
            "epoch: 164, acc: 0.888, loss: 0.402 (data_loss: 0.358, reg_loss: 0.044), lr: 0.004999590 validation, acc: 0.920, loss: 0.204 Unseen, acc: 0.909, loss: 0.214 \n",
            "epoch: 165, acc: 0.912, loss: 0.276 (data_loss: 0.233, reg_loss: 0.043), lr: 0.004999588 validation, acc: 0.969, loss: 0.095 Unseen, acc: 0.972, loss: 0.098 \n",
            "epoch: 166, acc: 0.898, loss: 0.588 (data_loss: 0.545, reg_loss: 0.043), lr: 0.004999585 validation, acc: 0.973, loss: 0.102 Unseen, acc: 0.971, loss: 0.119 \n",
            "epoch: 167, acc: 0.965, loss: 0.179 (data_loss: 0.136, reg_loss: 0.043), lr: 0.004999583 validation, acc: 0.940, loss: 0.123 Unseen, acc: 0.940, loss: 0.128 \n",
            "epoch: 168, acc: 0.825, loss: 1.540 (data_loss: 1.498, reg_loss: 0.042), lr: 0.004999580 validation, acc: 0.892, loss: 1.006 Unseen, acc: 0.878, loss: 1.138 \n",
            "epoch: 169, acc: 0.836, loss: 1.763 (data_loss: 1.721, reg_loss: 0.042), lr: 0.004999578 validation, acc: 0.899, loss: 1.280 Unseen, acc: 0.888, loss: 1.445 \n",
            "epoch: 170, acc: 0.889, loss: 1.637 (data_loss: 1.595, reg_loss: 0.042), lr: 0.004999575 validation, acc: 0.906, loss: 1.323 Unseen, acc: 0.894, loss: 1.492 \n",
            "epoch: 171, acc: 0.856, loss: 1.733 (data_loss: 1.691, reg_loss: 0.042), lr: 0.004999573 validation, acc: 0.896, loss: 1.380 Unseen, acc: 0.885, loss: 1.551 \n",
            "epoch: 172, acc: 0.839, loss: 1.811 (data_loss: 1.768, reg_loss: 0.042), lr: 0.004999570 validation, acc: 0.868, loss: 1.498 Unseen, acc: 0.859, loss: 1.672 \n",
            "epoch: 173, acc: 0.851, loss: 1.821 (data_loss: 1.779, reg_loss: 0.042), lr: 0.004999568 validation, acc: 0.884, loss: 1.448 Unseen, acc: 0.871, loss: 1.626 \n",
            "epoch: 174, acc: 0.788, loss: 2.395 (data_loss: 2.353, reg_loss: 0.043), lr: 0.004999565 validation, acc: 0.830, loss: 1.744 Unseen, acc: 0.821, loss: 1.914 \n",
            "epoch: 175, acc: 0.820, loss: 2.099 (data_loss: 2.057, reg_loss: 0.043), lr: 0.004999563 validation, acc: 0.864, loss: 1.551 Unseen, acc: 0.854, loss: 1.735 \n",
            "epoch: 176, acc: 0.791, loss: 3.137 (data_loss: 3.095, reg_loss: 0.043), lr: 0.004999560 validation, acc: 0.807, loss: 2.574 Unseen, acc: 0.790, loss: 2.746 \n",
            "epoch: 177, acc: 0.791, loss: 3.030 (data_loss: 2.987, reg_loss: 0.043), lr: 0.004999558 validation, acc: 0.808, loss: 2.337 Unseen, acc: 0.795, loss: 2.490 \n",
            "epoch: 178, acc: 0.798, loss: 2.724 (data_loss: 2.681, reg_loss: 0.043), lr: 0.004999555 validation, acc: 0.809, loss: 2.084 Unseen, acc: 0.797, loss: 2.216 \n",
            "epoch: 179, acc: 0.800, loss: 2.596 (data_loss: 2.553, reg_loss: 0.043), lr: 0.004999553 validation, acc: 0.810, loss: 1.961 Unseen, acc: 0.797, loss: 2.085 \n",
            "epoch: 180, acc: 0.775, loss: 2.524 (data_loss: 2.481, reg_loss: 0.043), lr: 0.004999550 validation, acc: 0.810, loss: 1.786 Unseen, acc: 0.796, loss: 1.900 \n",
            "epoch: 181, acc: 0.798, loss: 2.286 (data_loss: 2.244, reg_loss: 0.043), lr: 0.004999548 validation, acc: 0.812, loss: 1.653 Unseen, acc: 0.798, loss: 1.761 \n",
            "epoch: 182, acc: 0.801, loss: 2.224 (data_loss: 2.181, reg_loss: 0.043), lr: 0.004999545 validation, acc: 0.815, loss: 1.575 Unseen, acc: 0.801, loss: 1.685 \n",
            "epoch: 183, acc: 0.803, loss: 2.052 (data_loss: 2.009, reg_loss: 0.043), lr: 0.004999543 validation, acc: 0.815, loss: 1.400 Unseen, acc: 0.802, loss: 1.499 \n",
            "epoch: 184, acc: 0.795, loss: 2.115 (data_loss: 2.072, reg_loss: 0.043), lr: 0.004999540 validation, acc: 0.818, loss: 1.371 Unseen, acc: 0.806, loss: 1.434 \n",
            "epoch: 185, acc: 0.789, loss: 1.992 (data_loss: 1.950, reg_loss: 0.042), lr: 0.004999538 validation, acc: 0.837, loss: 1.319 Unseen, acc: 0.827, loss: 1.322 \n",
            "epoch: 186, acc: 0.762, loss: 1.740 (data_loss: 1.698, reg_loss: 0.042), lr: 0.004999535 validation, acc: 0.855, loss: 1.219 Unseen, acc: 0.848, loss: 1.212 \n",
            "epoch: 187, acc: 0.862, loss: 1.399 (data_loss: 1.357, reg_loss: 0.042), lr: 0.004999533 validation, acc: 0.882, loss: 1.173 Unseen, acc: 0.877, loss: 1.167 \n",
            "epoch: 188, acc: 0.817, loss: 1.515 (data_loss: 1.473, reg_loss: 0.042), lr: 0.004999530 validation, acc: 0.811, loss: 1.384 Unseen, acc: 0.818, loss: 1.376 \n",
            "epoch: 189, acc: 0.778, loss: 1.762 (data_loss: 1.720, reg_loss: 0.042), lr: 0.004999528 validation, acc: 0.869, loss: 1.419 Unseen, acc: 0.867, loss: 1.421 \n",
            "epoch: 190, acc: 0.875, loss: 1.594 (data_loss: 1.553, reg_loss: 0.042), lr: 0.004999525 validation, acc: 0.867, loss: 1.291 Unseen, acc: 0.861, loss: 1.293 \n",
            "epoch: 191, acc: 0.871, loss: 1.384 (data_loss: 1.343, reg_loss: 0.042), lr: 0.004999523 validation, acc: 0.887, loss: 1.086 Unseen, acc: 0.879, loss: 1.096 \n",
            "epoch: 192, acc: 0.885, loss: 1.219 (data_loss: 1.178, reg_loss: 0.042), lr: 0.004999520 validation, acc: 0.895, loss: 0.907 Unseen, acc: 0.892, loss: 0.906 \n",
            "epoch: 193, acc: 0.894, loss: 1.056 (data_loss: 1.015, reg_loss: 0.041), lr: 0.004999518 validation, acc: 0.895, loss: 0.789 Unseen, acc: 0.890, loss: 0.789 \n",
            "epoch: 194, acc: 0.896, loss: 0.947 (data_loss: 0.906, reg_loss: 0.041), lr: 0.004999515 validation, acc: 0.892, loss: 0.725 Unseen, acc: 0.889, loss: 0.724 \n",
            "epoch: 195, acc: 0.783, loss: 1.037 (data_loss: 0.996, reg_loss: 0.041), lr: 0.004999513 validation, acc: 0.898, loss: 0.658 Unseen, acc: 0.896, loss: 0.656 \n",
            "epoch: 196, acc: 0.892, loss: 0.829 (data_loss: 0.788, reg_loss: 0.041), lr: 0.004999510 validation, acc: 0.898, loss: 0.671 Unseen, acc: 0.895, loss: 0.671 \n",
            "epoch: 197, acc: 0.864, loss: 0.873 (data_loss: 0.831, reg_loss: 0.041), lr: 0.004999508 validation, acc: 0.894, loss: 0.753 Unseen, acc: 0.891, loss: 0.754 \n",
            "epoch: 198, acc: 0.897, loss: 0.911 (data_loss: 0.869, reg_loss: 0.041), lr: 0.004999505 validation, acc: 0.893, loss: 0.836 Unseen, acc: 0.890, loss: 0.838 \n",
            "epoch: 199, acc: 0.895, loss: 1.014 (data_loss: 0.972, reg_loss: 0.041), lr: 0.004999503 validation, acc: 0.891, loss: 0.913 Unseen, acc: 0.890, loss: 0.912 \n",
            "epoch: 200, acc: 0.894, loss: 1.075 (data_loss: 1.034, reg_loss: 0.041), lr: 0.004999500 validation, acc: 0.883, loss: 0.950 Unseen, acc: 0.887, loss: 0.943 \n",
            "epoch: 201, acc: 0.888, loss: 1.247 (data_loss: 1.205, reg_loss: 0.041), lr: 0.004999498 validation, acc: 0.891, loss: 1.027 Unseen, acc: 0.893, loss: 1.020 \n",
            "epoch: 202, acc: 0.898, loss: 1.305 (data_loss: 1.264, reg_loss: 0.041), lr: 0.004999495 validation, acc: 0.891, loss: 1.070 Unseen, acc: 0.896, loss: 1.061 \n",
            "epoch: 203, acc: 0.886, loss: 1.272 (data_loss: 1.230, reg_loss: 0.041), lr: 0.004999493 validation, acc: 0.895, loss: 0.964 Unseen, acc: 0.896, loss: 0.961 \n",
            "epoch: 204, acc: 0.899, loss: 1.126 (data_loss: 1.085, reg_loss: 0.041), lr: 0.004999490 validation, acc: 0.897, loss: 0.890 Unseen, acc: 0.896, loss: 0.886 \n",
            "epoch: 205, acc: 0.900, loss: 1.042 (data_loss: 1.002, reg_loss: 0.041), lr: 0.004999488 validation, acc: 0.897, loss: 0.851 Unseen, acc: 0.896, loss: 0.851 \n",
            "epoch: 206, acc: 0.901, loss: 1.005 (data_loss: 0.965, reg_loss: 0.040), lr: 0.004999485 validation, acc: 0.897, loss: 0.823 Unseen, acc: 0.897, loss: 0.820 \n",
            "epoch: 207, acc: 0.898, loss: 0.980 (data_loss: 0.940, reg_loss: 0.040), lr: 0.004999483 validation, acc: 0.897, loss: 0.783 Unseen, acc: 0.897, loss: 0.781 \n",
            "epoch: 208, acc: 0.902, loss: 0.927 (data_loss: 0.888, reg_loss: 0.040), lr: 0.004999480 validation, acc: 0.898, loss: 0.734 Unseen, acc: 0.898, loss: 0.734 \n",
            "epoch: 209, acc: 0.866, loss: 1.032 (data_loss: 0.993, reg_loss: 0.039), lr: 0.004999478 validation, acc: 0.870, loss: 0.770 Unseen, acc: 0.874, loss: 0.755 \n",
            "epoch: 210, acc: 0.877, loss: 0.962 (data_loss: 0.923, reg_loss: 0.039), lr: 0.004999475 validation, acc: 0.887, loss: 0.665 Unseen, acc: 0.889, loss: 0.663 \n",
            "epoch: 211, acc: 0.890, loss: 0.798 (data_loss: 0.759, reg_loss: 0.039), lr: 0.004999473 validation, acc: 0.899, loss: 0.561 Unseen, acc: 0.898, loss: 0.563 \n",
            "epoch: 212, acc: 0.802, loss: 0.920 (data_loss: 0.882, reg_loss: 0.038), lr: 0.004999470 validation, acc: 0.877, loss: 0.604 Unseen, acc: 0.874, loss: 0.618 \n",
            "epoch: 213, acc: 0.872, loss: 0.730 (data_loss: 0.693, reg_loss: 0.038), lr: 0.004999468 validation, acc: 0.899, loss: 0.497 Unseen, acc: 0.898, loss: 0.500 \n",
            "epoch: 214, acc: 0.903, loss: 0.591 (data_loss: 0.554, reg_loss: 0.037), lr: 0.004999465 validation, acc: 0.899, loss: 0.471 Unseen, acc: 0.899, loss: 0.474 \n",
            "epoch: 215, acc: 0.802, loss: 0.802 (data_loss: 0.765, reg_loss: 0.037), lr: 0.004999463 validation, acc: 0.881, loss: 0.518 Unseen, acc: 0.877, loss: 0.531 \n",
            "epoch: 216, acc: 0.829, loss: 0.707 (data_loss: 0.670, reg_loss: 0.036), lr: 0.004999460 validation, acc: 0.886, loss: 0.465 Unseen, acc: 0.883, loss: 0.471 \n",
            "epoch: 217, acc: 0.868, loss: 0.591 (data_loss: 0.555, reg_loss: 0.036), lr: 0.004999458 validation, acc: 0.897, loss: 0.395 Unseen, acc: 0.894, loss: 0.396 \n",
            "epoch: 218, acc: 0.881, loss: 0.479 (data_loss: 0.444, reg_loss: 0.036), lr: 0.004999455 validation, acc: 0.897, loss: 0.329 Unseen, acc: 0.897, loss: 0.327 \n",
            "epoch: 219, acc: 0.902, loss: 0.392 (data_loss: 0.357, reg_loss: 0.035), lr: 0.004999453 validation, acc: 0.899, loss: 0.277 Unseen, acc: 0.898, loss: 0.277 \n",
            "epoch: 220, acc: 0.902, loss: 0.311 (data_loss: 0.276, reg_loss: 0.035), lr: 0.004999450 validation, acc: 0.942, loss: 0.224 Unseen, acc: 0.943, loss: 0.223 \n",
            "epoch: 221, acc: 0.944, loss: 0.231 (data_loss: 0.196, reg_loss: 0.035), lr: 0.004999448 validation, acc: 0.987, loss: 0.171 Unseen, acc: 0.984, loss: 0.171 \n",
            "epoch: 222, acc: 0.986, loss: 0.158 (data_loss: 0.124, reg_loss: 0.035), lr: 0.004999445 validation, acc: 0.996, loss: 0.107 Unseen, acc: 0.996, loss: 0.109 \n",
            "epoch: 223, acc: 0.982, loss: 0.140 (data_loss: 0.105, reg_loss: 0.035), lr: 0.004999443 validation, acc: 0.999, loss: 0.079 Unseen, acc: 0.998, loss: 0.080 \n"
          ],
          "name": "stdout"
        }
      ]
    },
    {
      "cell_type": "markdown",
      "metadata": {
        "id": "GR0u0Jm7QCrw"
      },
      "source": [
        "# Summary"
      ]
    },
    {
      "cell_type": "code",
      "metadata": {
        "colab": {
          "base_uri": "https://localhost:8080/"
        },
        "id": "1KNnDUP_U8Xn",
        "outputId": "10a2b391-345b-4148-a5ef-8b30609c4e57"
      },
      "source": [
        "print(np.mean(acc_cache))"
      ],
      "execution_count": 141,
      "outputs": [
        {
          "output_type": "stream",
          "text": [
            "0.8493465401785715\n"
          ],
          "name": "stdout"
        }
      ]
    },
    {
      "cell_type": "code",
      "metadata": {
        "colab": {
          "base_uri": "https://localhost:8080/"
        },
        "id": "2NbXMisqQKqF",
        "outputId": "ff1f31f5-d8e2-4083-d2c1-edc065f16cbc"
      },
      "source": [
        "for milestone in summary:\n",
        "  print(milestone)"
      ],
      "execution_count": 142,
      "outputs": [
        {
          "output_type": "stream",
          "text": [
            "Model hit 80% validation accuracy in 20 epochs\n",
            "Model hit 85% validation accuracy in 24 epochs\n",
            "Model hit 90% validation accuracy in 25 epochs\n",
            "Model hit 95% validation accuracy in 29 epochs\n",
            "Model hit 97.5% validation accuracy in 43 epochs\n",
            "Max accuracy was 99.85000000000001% at epoch 223.\n"
          ],
          "name": "stdout"
        }
      ]
    },
    {
      "cell_type": "markdown",
      "metadata": {
        "id": "_rVqT3yaXS5k"
      },
      "source": [
        "# Testing"
      ]
    },
    {
      "cell_type": "code",
      "metadata": {
        "colab": {
          "base_uri": "https://localhost:8080/"
        },
        "id": "smwSXsZVU8Xo",
        "outputId": "235a6200-a940-47d9-bfc0-624bbd487d63"
      },
      "source": [
        "accuracy = Accuracy_Categorical()\n",
        "\n",
        "accuracy.init(y_test)\n",
        "\n",
        "dense1.forward(X_test)\n",
        "\n",
        "activation1.forward(dense1.output)\n",
        "\n",
        "dropout1.infrence(activation1.output,y_test)\n",
        "\n",
        "\n",
        "dense2.forward(dropout1.output)\n",
        "\n",
        "activation2.forward(dense2.output)\n",
        "\n",
        "dense3.forward(activation2.output)\n",
        "\n",
        "activation3.forward(dense3.output)\n",
        "\n",
        "dense4.forward(activation3.output)\n",
        "\n",
        "activation4.forward(dense4.output)\n",
        "\n",
        "index = 27\n",
        "print(f'{(activation4.output[index][np.where(activation4.output[index] == np.amax(activation4.output[index]))][0]*100):.3f}% Confident True is {fashion_mnist_labels[np.where(activation4.output[index] == np.amax(activation4.output[index]))[0][0]]}. True is actually {fashion_mnist_labels[y_test[index]]}')\n",
        "\n",
        "# Calculate the data loss\n",
        "loss = loss_function.calculate(activation4.output, y_test)\n",
        "\n",
        "predictions = activation4.predictions(activation4.output)\n",
        "testaccuracy = accuracy.calculate(predictions, y_test)\n",
        "\n",
        "print(f'Accuracy: {testaccuracy:.3f}, loss: {loss:.3f}')"
      ],
      "execution_count": 143,
      "outputs": [
        {
          "output_type": "stream",
          "text": [
            "100.000% Confident True is Sneaker. True is actually Sneaker\n",
            "Accuracy: 0.999, loss: 0.079\n"
          ],
          "name": "stdout"
        }
      ]
    },
    {
      "cell_type": "code",
      "metadata": {
        "id": "1k0Ve2M0bPG3"
      },
      "source": [
        "training_diff = []\n",
        "testing_diff = []\n",
        "combined_diff = []"
      ],
      "execution_count": 144,
      "outputs": []
    },
    {
      "cell_type": "markdown",
      "metadata": {
        "id": "MByL_RwvlIx3"
      },
      "source": [
        "Individual Training Classes"
      ]
    },
    {
      "cell_type": "code",
      "metadata": {
        "colab": {
          "base_uri": "https://localhost:8080/"
        },
        "id": "YTOnqnDXa0ME",
        "outputId": "0f1e081c-4d58-4063-9e4d-afc99cb04ee1"
      },
      "source": [
        "accuracy = Accuracy_Categorical()\n",
        "\n",
        "for classes, (X_sorted_lists, y_sorted_lists) in enumerate(zip(sorted_x, sorted_y)):\n",
        "  accuracy = Accuracy_Categorical()\n",
        "\n",
        "  y = sorted_y[y_sorted_lists]\n",
        "  X = sorted_x[X_sorted_lists]\n",
        "  accuracy.init(y)\n",
        "\n",
        "  dense1.forward(X)\n",
        "\n",
        "  activation1.forward(dense1.output)\n",
        "  train_train_mean = activation1.output\n",
        "\n",
        "  dropout1.infrence(activation1.output,y)\n",
        "\n",
        "  dense2.forward(dropout1.output)\n",
        "\n",
        "  activation2.forward(dense2.output)\n",
        "\n",
        "  dense3.forward(activation2.output)\n",
        "\n",
        "  activation3.forward(dense3.output)\n",
        "\n",
        "  dense4.forward(activation3.output)\n",
        "\n",
        "  activation4.forward(dense4.output)\n",
        "\n",
        "  # Calculate the data loss\n",
        "  loss = loss_function.calculate(activation4.output, y)\n",
        "\n",
        "  predictions = activation4.predictions(activation4.output)\n",
        "  testaccuracy = accuracy.calculate(predictions, y)\n",
        "  print(f'{fashion_mnist_labels[classes]} Train Accuracy: {testaccuracy:.3f}, loss: {loss:.3f}')\n",
        "\n"
      ],
      "execution_count": 145,
      "outputs": [
        {
          "output_type": "stream",
          "text": [
            "T-shirt/top Train Accuracy: 0.995, loss: 0.434\n",
            "Trouser Train Accuracy: 0.998, loss: 0.007\n",
            "Pullover Train Accuracy: 1.000, loss: 0.073\n",
            "Dress Train Accuracy: 1.000, loss: 0.000\n",
            "Coat Train Accuracy: 0.999, loss: 0.013\n",
            "Sandal Train Accuracy: 1.000, loss: 0.073\n",
            "Shirt Train Accuracy: 0.994, loss: 0.049\n",
            "Sneaker Train Accuracy: 1.000, loss: 0.000\n",
            "Bag Train Accuracy: 1.000, loss: 0.129\n",
            "Ankle boot Train Accuracy: 0.994, loss: 0.026\n"
          ],
          "name": "stdout"
        }
      ]
    },
    {
      "cell_type": "code",
      "metadata": {
        "colab": {
          "base_uri": "https://localhost:8080/"
        },
        "id": "scjb7Wh_sn6b",
        "outputId": "464cb7ec-4c89-4f9c-8bfe-48348a22f211"
      },
      "source": [
        "accuracy = Accuracy_Categorical()\n",
        "\n",
        "for classes, (X_sorted_lists, y_sorted_lists) in enumerate(zip(sorted_x_val, sorted_y_val)):\n",
        "  accuracy.init(sorted_y_val[y_sorted_lists])\n",
        "  #print(sorted_y[y_sorted_lists].shape)\n",
        "  #print(sorted_x[X_sorted_lists].shape)\n",
        "  dense1.forward(sorted_x_val[X_sorted_lists])\n",
        "\n",
        "  activation1.forward(dense1.output)\n",
        "\n",
        "  testmean = np.mean(activation1.output, axis=0)\n",
        "  testing_diff.append(testmean)\n",
        "  dropout1.infrence(activation1.output,sorted_y_val[y_sorted_lists])\n",
        "\n",
        "  dense2.forward(dropout1.output)\n",
        "\n",
        "  activation2.forward(dense2.output)\n",
        "\n",
        "  dense3.forward(activation2.output)\n",
        "\n",
        "  activation3.forward(dense3.output)\n",
        "\n",
        "  dense4.forward(activation3.output)\n",
        "\n",
        "  activation4.forward(dense4.output)\n",
        "  # Calculate the data loss\n",
        "  loss = loss_function.calculate(activation4.output, sorted_y_val[y_sorted_lists])\n",
        "\n",
        "  predictions = activation4.predictions(activation4.output)\n",
        "  testaccuracy = accuracy.calculate(predictions, sorted_y_val[y_sorted_lists])\n",
        "\n",
        "  print(f'{fashion_mnist_labels[classes]} Test Accuracy: {testaccuracy:.3f}, loss: {loss:.3f}')"
      ],
      "execution_count": 146,
      "outputs": [
        {
          "output_type": "stream",
          "text": [
            "T-shirt/top Test Accuracy: 0.999, loss: 0.429\n",
            "Trouser Test Accuracy: 1.000, loss: 0.006\n",
            "Pullover Test Accuracy: 0.999, loss: 0.079\n",
            "Dress Test Accuracy: 1.000, loss: 0.000\n",
            "Coat Test Accuracy: 1.000, loss: 0.011\n",
            "Sandal Test Accuracy: 1.000, loss: 0.074\n",
            "Shirt Test Accuracy: 0.992, loss: 0.041\n",
            "Sneaker Test Accuracy: 1.000, loss: 0.000\n",
            "Bag Test Accuracy: 1.000, loss: 0.129\n",
            "Ankle boot Test Accuracy: 0.991, loss: 0.033\n"
          ],
          "name": "stdout"
        }
      ]
    },
    {
      "cell_type": "markdown",
      "metadata": {
        "id": "R2u-O8oNZ0qA"
      },
      "source": [
        "# Full mnist test"
      ]
    },
    {
      "cell_type": "markdown",
      "metadata": {
        "id": "UbD4KrLMnTcR"
      },
      "source": [
        "Training data"
      ]
    },
    {
      "cell_type": "code",
      "metadata": {
        "colab": {
          "base_uri": "https://localhost:8080/"
        },
        "id": "TMfBGUHeZ4L5",
        "outputId": "8885311a-886d-4bbb-de7b-a797e54aa4fd"
      },
      "source": [
        "accuracy = Accuracy_Categorical()\n",
        "\n",
        "accuracy.init(label)\n",
        "\n",
        "dense1.forward(input)\n",
        "\n",
        "activation1.forward(dense1.output)\n",
        "train_train_mean = activation1.output\n",
        "\n",
        "dropout1.infrence(activation1.output,label)\n",
        "\n",
        "dense2.forward(dropout1.output)\n",
        "\n",
        "activation2.forward(dense2.output)\n",
        "\n",
        "dense3.forward(activation2.output)\n",
        "\n",
        "activation3.forward(dense3.output)\n",
        "\n",
        "dense4.forward(activation3.output)\n",
        "\n",
        "activation4.forward(dense4.output)\n",
        "\n",
        "# Calculate the data loss\n",
        "loss = loss_function.calculate(activation4.output, label)\n",
        "\n",
        "predictions = activation4.predictions(activation4.output)\n",
        "testaccuracy = accuracy.calculate(predictions, label)\n",
        "\n",
        "print(f'Found {input.shape[0]} images belonging to {len(set(label))} unique classes')\n",
        "\n",
        "print(f'Full Training Accuracy: {testaccuracy:.5f}, loss: {loss:.3f}')"
      ],
      "execution_count": 147,
      "outputs": [
        {
          "output_type": "stream",
          "text": [
            "Found 60000 images belonging to 10 unique classes\n",
            "Full Training Accuracy: 0.99785, loss: 0.080\n"
          ],
          "name": "stdout"
        }
      ]
    },
    {
      "cell_type": "markdown",
      "metadata": {
        "id": "Aat-uVF6nYu7"
      },
      "source": [
        "Testing data"
      ]
    },
    {
      "cell_type": "code",
      "metadata": {
        "colab": {
          "base_uri": "https://localhost:8080/"
        },
        "id": "4hyU1tBDna8x",
        "outputId": "27acaf3a-79c3-4da7-a581-1c18228c0a1c"
      },
      "source": [
        "\n",
        "(X, y), (X_val, y_val) = tf.keras.datasets.fashion_mnist.load_data()\n",
        "\n",
        "X_val = (X_val.reshape(X_val.shape[0], -1).astype(np.float32) - 127.5) / 127.5 # Reshape X_val if cell below was already ran\n",
        "\n",
        "accuracy = Accuracy_Categorical()\n",
        "\n",
        "accuracy.init(y_val)\n",
        "\n",
        "dense1.forward(X_val)\n",
        "\n",
        "activation1.forward(dense1.output)\n",
        "\n",
        "dropout1.infrence(activation1.output,y_val)\n",
        "\n",
        "dense2.forward(dropout1.output)\n",
        "\n",
        "activation2.forward(dense2.output)\n",
        "\n",
        "dense3.forward(activation2.output)\n",
        "\n",
        "activation3.forward(dense3.output)\n",
        "\n",
        "dense4.forward(activation3.output)\n",
        "\n",
        "activation4.forward(dense4.output)\n",
        "\n",
        "\n",
        "# Calculate the data loss\n",
        "loss = loss_function.calculate(activation4.output, y_val)\n",
        "predictions = activation4.predictions(activation4.output)\n",
        "testaccuracy = accuracy.calculate(predictions, y_val)\n",
        "\n",
        "print(f'Found {X_val.shape[0]} images belonging to {len(set(y_val))} unique classes')\n",
        "print(f'Full Testing Accuracy: {testaccuracy:.5f}, loss: {loss:.3f}')"
      ],
      "execution_count": 148,
      "outputs": [
        {
          "output_type": "stream",
          "text": [
            "Found 10000 images belonging to 10 unique classes\n",
            "Full Testing Accuracy: 0.99810, loss: 0.080\n"
          ],
          "name": "stdout"
        }
      ]
    },
    {
      "cell_type": "code",
      "metadata": {
        "colab": {
          "base_uri": "https://localhost:8080/"
        },
        "id": "l3JzV--WNNT7",
        "outputId": "5a18443a-0d9e-4606-da85-03934237e037"
      },
      "source": [
        "for index in range(10000):\n",
        "  if y_val[index] != np.where(activation4.output[index] == np.amax(activation4.output[index]))[0][0]:\n",
        "    print(index)"
      ],
      "execution_count": 149,
      "outputs": [
        {
          "output_type": "stream",
          "text": [
            "1645\n",
            "1907\n",
            "2447\n",
            "2551\n",
            "3130\n",
            "3880\n",
            "4497\n",
            "4615\n",
            "4743\n",
            "5248\n",
            "5249\n",
            "5512\n",
            "6452\n",
            "6596\n",
            "7800\n",
            "8211\n",
            "8763\n",
            "9474\n",
            "9674\n"
          ],
          "name": "stdout"
        }
      ]
    },
    {
      "cell_type": "markdown",
      "metadata": {
        "id": "AbIMZ7Pk_Tnp"
      },
      "source": [
        "Change idex to get confidence of different samples of testing data. Index values 0-1600 were refrenced in training. Anything past was never seen during training. Lowest confidence is at index 2732 when trained with 488 epochs and numpy seed set to 22."
      ]
    },
    {
      "cell_type": "code",
      "metadata": {
        "colab": {
          "base_uri": "https://localhost:8080/",
          "height": 298
        },
        "id": "JaxWcRIr_BCV",
        "outputId": "39693f0d-bd0a-4ee1-b203-1f5f768e1299"
      },
      "source": [
        "index = 7800\n",
        "\n",
        "print(f'{(activation4.output[index][np.where(activation4.output[index] == np.amax(activation4.output[index]))][0]*100):.3f}% Confident True is {fashion_mnist_labels[np.where(activation4.output[index] == np.amax(activation4.output[index]))[0][0]]}. True is actually {fashion_mnist_labels[y_val[index]]}')\n",
        "\n",
        "X_val.resize(X_val.shape[0],28,28)\n",
        "image = X_val[index]\n",
        "fig = plt.figure\n",
        "plt.title(f'{fashion_mnist_labels[y_val[index]]}')\n",
        "plt.imshow(image, cmap='gray')\n",
        "plt.show()"
      ],
      "execution_count": 156,
      "outputs": [
        {
          "output_type": "stream",
          "text": [
            "68.429% Confident True is Ankle boot. True is actually Shirt\n"
          ],
          "name": "stdout"
        },
        {
          "output_type": "display_data",
          "data": {
            "image/png": "[encoded data removed]",
            "text/plain": [
              "<Figure size 432x288 with 1 Axes>"
            ]
          },
          "metadata": {
            "tags": [],
            "needs_background": "light"
          }
        }
      ]
    },
    {
      "cell_type": "code",
      "metadata": {
        "colab": {
          "base_uri": "https://localhost:8080/"
        },
        "id": "p6KeoLkg7k0u",
        "outputId": "b36c207d-5453-4477-b135-87ea1ae0c958"
      },
      "source": [
        "confidence_list = []\n",
        "for index in range(10000):\n",
        "  confidence_list.append(activation4.output[index][np.where(activation4.output[index] == np.amax(activation4.output[index]))][0])\n",
        "\n",
        "print(confidence_list.index(min(confidence_list)))\n",
        "\n",
        "a = confidence_list[:] \n",
        "a.sort()\n",
        "print(confidence_list.index(a[1]))"
      ],
      "execution_count": 151,
      "outputs": [
        {
          "output_type": "stream",
          "text": [
            "7818\n",
            "5710\n"
          ],
          "name": "stdout"
        }
      ]
    },
    {
      "cell_type": "markdown",
      "metadata": {
        "id": "MRXGM4hyXmr7"
      },
      "source": [
        "Plotting Graphs"
      ]
    },
    {
      "cell_type": "code",
      "metadata": {
        "colab": {
          "base_uri": "https://localhost:8080/",
          "height": 851
        },
        "id": "h5c5xUTNXk2v",
        "outputId": "22b28c52-b60f-4962-ff7c-363dc1878dce"
      },
      "source": [
        "plt.plot(epoch_cache, val_loss_cache, label='Validation Loss')\n",
        "plt.plot(epoch_cache, loss_cache, label='Training Loss')\n",
        "plt.title('Loss')\n",
        "plt.xlabel('Epoch')\n",
        "plt.ylabel('Loss')\n",
        "plt.legend(loc = \"upper right\")\n",
        "plt.show()\n",
        "\n",
        "plt.plot(epoch_cache, val_acc_cache, label='Validation Accuracy')\n",
        "plt.plot(epoch_cache, acc_cache, label='Training Accuracy')\n",
        "plt.title('Accuracy')\n",
        "plt.xlabel('Epoch')\n",
        "plt.ylabel('Accuracy')\n",
        "plt.legend(loc = \"upper right\")\n",
        "plt.show()\n",
        "\n",
        "plt.plot(epoch_cache, lr_cache, label='LR')\n",
        "plt.title('Learning Rate')\n",
        "plt.xlabel('Epoch')\n",
        "plt.ylabel('Learning Rate')\n",
        "plt.show()"
      ],
      "execution_count": 152,
      "outputs": [
        {
          "output_type": "display_data",
          "data": {
            "image/png": "[encoded data removed]",
            "text/plain": [
              "<Figure size 432x288 with 1 Axes>"
            ]
          },
          "metadata": {
            "tags": [],
            "needs_background": "light"
          }
        },
        {
          "output_type": "display_data",
          "data": {
            "image/png": "[encoded data removed]",
            "text/plain": [
              "<Figure size 432x288 with 1 Axes>"
            ]
          },
          "metadata": {
            "tags": [],
            "needs_background": "light"
          }
        },
        {
          "output_type": "display_data",
          "data": {
            "image/png": "[encoded data removed]",
            "text/plain": [
              "<Figure size 432x288 with 1 Axes>"
            ]
          },
          "metadata": {
            "tags": [],
            "needs_background": "light"
          }
        }
      ]
    }
  ]
}