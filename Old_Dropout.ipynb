{
  "nbformat": 4,
  "nbformat_minor": 0,
  "metadata": {
    "colab": {
      "name": "Old Dropout.ipynb",
      "provenance": [],
      "collapsed_sections": [],
      "mount_file_id": "1r-CslXpKS3QYmCqZluU5ZqwhBXEVQu81",
      "authorship_tag": "ABX9TyNMYZ7TUAlI2woWF/GNRCFg",
      "include_colab_link": true
    },
    "kernelspec": {
      "name": "python3",
      "display_name": "Python 3"
    },
    "language_info": {
      "name": "python"
    }
  },
  "cells": [
    {
      "cell_type": "markdown",
      "metadata": {
        "id": "view-in-github",
        "colab_type": "text"
      },
      "source": [
        "<a href=\"https://colab.research.google.com/github/JoshuaShunk/NSDropout/blob/main/Old_Dropout.ipynb\" target=\"_parent\"><img src=\"https://colab.research.google.com/assets/colab-badge.svg\" alt=\"Open In Colab\"/></a>"
      ]
    },
    {
      "cell_type": "code",
      "metadata": {
        "id": "s2GytIidUnpd"
      },
      "source": [
        "import matplotlib.pyplot as plt\n",
        "import numpy as np\n",
        "import random"
      ],
      "execution_count": 1,
      "outputs": []
    },
    {
      "cell_type": "code",
      "metadata": {
        "id": "0aLxFoLMU2jC"
      },
      "source": [
        "np.set_printoptions(threshold=np.inf)"
      ],
      "execution_count": 2,
      "outputs": []
    },
    {
      "cell_type": "code",
      "metadata": {
        "id": "-NkY3EiBU4tR",
        "cellView": "form"
      },
      "source": [
        "#@title Load Layers\n",
        "\n",
        "# Dense layer\n",
        "class Layer_Dense:\n",
        "\n",
        "    # Layer initialization\n",
        "    def __init__(self, n_inputs, n_neurons,\n",
        "                 weight_regularizer_l1=0, weight_regularizer_l2=0,\n",
        "                 bias_regularizer_l1=0, bias_regularizer_l2=0):\n",
        "        # Initialize weights and biases\n",
        "        self.weights = 0.01 * np.random.randn(n_inputs, n_neurons)\n",
        "        self.biases = np.zeros((1, n_neurons))\n",
        "        # Set regularization strength\n",
        "        self.weight_regularizer_l1 = weight_regularizer_l1\n",
        "        self.weight_regularizer_l2 = weight_regularizer_l2\n",
        "        self.bias_regularizer_l1 = bias_regularizer_l1\n",
        "        self.bias_regularizer_l2 = bias_regularizer_l2\n",
        "\n",
        "    # Forward pass\n",
        "    def forward(self, inputs):\n",
        "        # Remember input values\n",
        "        self.inputs = inputs\n",
        "        # Calculate output values from inputs, weights and biases\n",
        "        self.output = np.dot(inputs, self.weights) + self.biases\n",
        "\n",
        "    # Backward pass\n",
        "    def backward(self, dvalues):\n",
        "        # Gradients on parameters\n",
        "        self.dweights = np.dot(self.inputs.T, dvalues)\n",
        "        self.dbiases = np.sum(dvalues, axis=0, keepdims=True)\n",
        "\n",
        "        # Gradients on regularization\n",
        "        # L1 on weights\n",
        "        if self.weight_regularizer_l1 > 0:\n",
        "            dL1 = np.ones_like(self.weights)\n",
        "            dL1[self.weights < 0] = -1\n",
        "            self.dweights += self.weight_regularizer_l1 * dL1\n",
        "        # L2 on weights\n",
        "        if self.weight_regularizer_l2 > 0:\n",
        "            self.dweights += 2 * self.weight_regularizer_l2 * \\\n",
        "                             self.weights\n",
        "        # L1 on biases\n",
        "        if self.bias_regularizer_l1 > 0:\n",
        "            dL1 = np.ones_like(self.biases)\n",
        "            dL1[self.biases < 0] = -1\n",
        "            self.dbiases += self.bias_regularizer_l1 * dL1\n",
        "        # L2 on biases\n",
        "        if self.bias_regularizer_l2 > 0:\n",
        "            self.dbiases += 2 * self.bias_regularizer_l2 * \\\n",
        "                            self.biases\n",
        "\n",
        "        # Gradient on values\n",
        "        self.dinputs = np.dot(dvalues, self.weights.T)\n",
        "\n",
        "# ReLU activation\n",
        "\n",
        "\n",
        "class Activation_ReLU:\n",
        "\n",
        "    # Forward pass\n",
        "    def forward(self, inputs):\n",
        "        # Remember input values\n",
        "        self.inputs = inputs\n",
        "        # Calculate output values from inputs\n",
        "        self.output = np.maximum(0, inputs)\n",
        "\n",
        "    # Backward pass\n",
        "    def backward(self, dvalues):\n",
        "        # Since we need to modify original variable,\n",
        "        # let's make a copy of values first\n",
        "        self.dinputs = dvalues.copy()\n",
        "\n",
        "        # Zero gradient where input values were negative\n",
        "        self.dinputs[self.inputs <= 0] = 0\n",
        "\n",
        "\n",
        "# Softmax activation\n",
        "class Activation_Softmax:\n",
        "\n",
        "    # Forward pass\n",
        "    def forward(self, inputs):\n",
        "        # Remember input values\n",
        "        self.inputs = inputs\n",
        "\n",
        "        # Get unnormalized probabilities\n",
        "        exp_values = np.exp(inputs - np.max(inputs, axis=1,\n",
        "                                            keepdims=True))\n",
        "        # Normalize them for each sample\n",
        "        probabilities = exp_values / np.sum(exp_values, axis=1,\n",
        "                                            keepdims=True)\n",
        "\n",
        "        self.output = probabilities\n",
        "\n",
        "    # Backward pass\n",
        "    def backward(self, dvalues):\n",
        "        # Create uninitialized array\n",
        "        self.dinputs = np.empty_like(dvalues)\n",
        "\n",
        "        # Enumerate outputs and gradients\n",
        "        for index, (single_output, single_dvalues) in \\\n",
        "                enumerate(zip(self.output, dvalues)):\n",
        "            # Flatten output array\n",
        "            single_output = single_output.reshape(-1, 1)\n",
        "\n",
        "            # Calculate Jacobian matrix of the output\n",
        "            jacobian_matrix = np.diagflat(single_output) - \\\n",
        "                              np.dot(single_output, single_output.T)\n",
        "            # Calculate sample-wise gradient\n",
        "            # and add it to the array of sample gradients\n",
        "            self.dinputs[index] = np.dot(jacobian_matrix,\n",
        "                                         single_dvalues)\n",
        "\n",
        "\n",
        "# Sigmoid activation\n",
        "class Activation_Sigmoid:\n",
        "\n",
        "    # Forward pass\n",
        "    def forward(self, inputs):\n",
        "        # Save input and calculate/save output\n",
        "        # of the sigmoid function\n",
        "        self.inputs = inputs\n",
        "        self.output = 1 / (1 + np.exp(-inputs))\n",
        "\n",
        "    # Backward pass\n",
        "    def backward(self, dvalues):\n",
        "        # Derivative - calculates from output of the sigmoid function\n",
        "        self.dinputs = dvalues * (1 - self.output) * self.output\n",
        "\n",
        "\n",
        "# SGD optimizer\n",
        "class Optimizer_SGD:\n",
        "\n",
        "    # Initialize optimizer - set settings,\n",
        "    # learning rate of 1. is default for this optimizer\n",
        "    def __init__(self, learning_rate=1., decay=0., momentum=0.):\n",
        "        self.learning_rate = learning_rate\n",
        "        self.current_learning_rate = learning_rate\n",
        "        self.decay = decay\n",
        "        self.iterations = 0\n",
        "        self.momentum = momentum\n",
        "\n",
        "    # Call once before any parameter updates\n",
        "    def pre_update_params(self):\n",
        "        if self.decay:\n",
        "            self.current_learning_rate = self.learning_rate * \\\n",
        "                                         (1. / (1. + self.decay * self.iterations))\n",
        "\n",
        "    # Update parameters\n",
        "\n",
        "    def update_params(self, layer):\n",
        "\n",
        "        # If we use momentum\n",
        "        if self.momentum:\n",
        "\n",
        "            # If layer does not contain momentum arrays, create them\n",
        "            # filled with zeros\n",
        "            if not hasattr(layer, 'weight_momentums'):\n",
        "                layer.weight_momentums = np.zeros_like(layer.weights)\n",
        "                # If there is no momentum array for weights\n",
        "                # The array doesn't exist for biases yet either.\n",
        "                layer.bias_momentums = np.zeros_like(layer.biases)\n",
        "\n",
        "            # Build weight updates with momentum - take previous\n",
        "            # updates multiplied by retain factor and update with\n",
        "            # current gradients\n",
        "            weight_updates = \\\n",
        "                self.momentum * layer.weight_momentums - \\\n",
        "                self.current_learning_rate * layer.dweights\n",
        "            layer.weight_momentums = weight_updates\n",
        "\n",
        "            # Build bias updates\n",
        "            bias_updates = \\\n",
        "                self.momentum * layer.bias_momentums - \\\n",
        "                self.current_learning_rate * layer.dbiases\n",
        "            layer.bias_momentums = bias_updates\n",
        "\n",
        "        # Vanilla SGD updates (as before momentum update)\n",
        "        else:\n",
        "            weight_updates = -self.current_learning_rate * \\\n",
        "                             layer.dweights\n",
        "            bias_updates = -self.current_learning_rate * \\\n",
        "                           layer.dbiases\n",
        "\n",
        "        # Update weights and biases using either\n",
        "        # vanilla or momentum updates\n",
        "        layer.weights += weight_updates\n",
        "        layer.biases += bias_updates\n",
        "\n",
        "    # Call once after any parameter updates\n",
        "    def post_update_params(self):\n",
        "        self.iterations += 1\n",
        "\n",
        "\n",
        "# Adagrad optimizer\n",
        "class Optimizer_Adagrad:\n",
        "\n",
        "    # Initialize optimizer - set settings\n",
        "    def __init__(self, learning_rate=1., decay=0., epsilon=1e-7):\n",
        "        self.learning_rate = learning_rate\n",
        "        self.current_learning_rate = learning_rate\n",
        "        self.decay = decay\n",
        "        self.iterations = 0\n",
        "        self.epsilon = epsilon\n",
        "\n",
        "    # Call once before any parameter updates\n",
        "    def pre_update_params(self):\n",
        "        if self.decay:\n",
        "            self.current_learning_rate = self.learning_rate * \\\n",
        "                                         (1. / (1. + self.decay * self.iterations))\n",
        "\n",
        "    # Update parameters\n",
        "    def update_params(self, layer):\n",
        "\n",
        "        # If layer does not contain cache arrays,\n",
        "        # create them filled with zeros\n",
        "        if not hasattr(layer, 'weight_cache'):\n",
        "            layer.weight_cache = np.zeros_like(layer.weights)\n",
        "            layer.bias_cache = np.zeros_like(layer.biases)\n",
        "\n",
        "        # Update cache with squared current gradients\n",
        "        layer.weight_cache += layer.dweights ** 2\n",
        "        layer.bias_cache += layer.dbiases ** 2\n",
        "\n",
        "        # Vanilla SGD parameter update + normalization\n",
        "        # with square rooted cache\n",
        "        layer.weights += -self.current_learning_rate * \\\n",
        "                         layer.dweights / \\\n",
        "                         (np.sqrt(layer.weight_cache) + self.epsilon)\n",
        "        layer.biases += -self.current_learning_rate * \\\n",
        "                        layer.dbiases / \\\n",
        "                        (np.sqrt(layer.bias_cache) + self.epsilon)\n",
        "\n",
        "    # Call once after any parameter updates\n",
        "    def post_update_params(self):\n",
        "        self.iterations += 1\n",
        "\n",
        "\n",
        "# RMSprop optimizer\n",
        "class Optimizer_RMSprop:\n",
        "\n",
        "    # Initialize optimizer - set settings\n",
        "    def __init__(self, learning_rate=0.001, decay=0., epsilon=1e-7,\n",
        "                 rho=0.9):\n",
        "        self.learning_rate = learning_rate\n",
        "        self.current_learning_rate = learning_rate\n",
        "        self.decay = decay\n",
        "        self.iterations = 0\n",
        "        self.epsilon = epsilon\n",
        "        self.rho = rho\n",
        "\n",
        "    # Call once before any parameter updates\n",
        "    def pre_update_params(self):\n",
        "        if self.decay:\n",
        "            self.current_learning_rate = self.learning_rate * \\\n",
        "                                         (1. / (1. + self.decay * self.iterations))\n",
        "\n",
        "    # Update parameters\n",
        "    def update_params(self, layer):\n",
        "\n",
        "        # If layer does not contain cache arrays,\n",
        "        # create them filled with zeros\n",
        "        if not hasattr(layer, 'weight_cache'):\n",
        "            layer.weight_cache = np.zeros_like(layer.weights)\n",
        "            layer.bias_cache = np.zeros_like(layer.biases)\n",
        "\n",
        "        # Update cache with squared current gradients\n",
        "        layer.weight_cache = self.rho * layer.weight_cache + \\\n",
        "                             (1 - self.rho) * layer.dweights ** 2\n",
        "        layer.bias_cache = self.rho * layer.bias_cache + \\\n",
        "                           (1 - self.rho) * layer.dbiases ** 2\n",
        "\n",
        "        # Vanilla SGD parameter update + normalization\n",
        "        # with square rooted cache\n",
        "        layer.weights += -self.current_learning_rate * \\\n",
        "                         layer.dweights / \\\n",
        "                         (np.sqrt(layer.weight_cache) + self.epsilon)\n",
        "        layer.biases += -self.current_learning_rate * \\\n",
        "                        layer.dbiases / \\\n",
        "                        (np.sqrt(layer.bias_cache) + self.epsilon)\n",
        "\n",
        "    # Call once after any parameter updates\n",
        "    def post_update_params(self):\n",
        "        self.iterations += 1\n",
        "\n",
        "\n",
        "# Adam optimizer\n",
        "class Optimizer_Adam:\n",
        "\n",
        "    # Initialize optimizer - set settings\n",
        "    def __init__(self, learning_rate=0.02, decay=0., epsilon=1e-7,\n",
        "                 beta_1=0.9, beta_2=0.999):\n",
        "        self.learning_rate = learning_rate\n",
        "        self.current_learning_rate = learning_rate\n",
        "        self.decay = decay\n",
        "        self.iterations = 0\n",
        "        self.epsilon = epsilon\n",
        "        self.beta_1 = beta_1\n",
        "        self.beta_2 = beta_2\n",
        "\n",
        "    # Call once before any parameter updates\n",
        "    def pre_update_params(self):\n",
        "        if self.decay:\n",
        "            self.current_learning_rate = self.learning_rate * \\\n",
        "                                         (1. / (1. + self.decay * self.iterations))\n",
        "\n",
        "    # Update parameters\n",
        "    def update_params(self, layer):\n",
        "\n",
        "        # If layer does not contain cache arrays,\n",
        "        # create them filled with zeros\n",
        "        if not hasattr(layer, 'weight_cache'):\n",
        "            layer.weight_momentums = np.zeros_like(layer.weights)\n",
        "            layer.weight_cache = np.zeros_like(layer.weights)\n",
        "            layer.bias_momentums = np.zeros_like(layer.biases)\n",
        "            layer.bias_cache = np.zeros_like(layer.biases)\n",
        "\n",
        "        # Update momentum  with current gradients\n",
        "        layer.weight_momentums = self.beta_1 * \\\n",
        "                                 layer.weight_momentums + \\\n",
        "                                 (1 - self.beta_1) * layer.dweights\n",
        "        layer.bias_momentums = self.beta_1 * \\\n",
        "                               layer.bias_momentums + \\\n",
        "                               (1 - self.beta_1) * layer.dbiases\n",
        "        # Get corrected momentum\n",
        "        # self.iteration is 0 at first pass\n",
        "        # and we need to start with 1 here\n",
        "        weight_momentums_corrected = layer.weight_momentums / \\\n",
        "                                     (1 - self.beta_1 ** (self.iterations + 1))\n",
        "        bias_momentums_corrected = layer.bias_momentums / \\\n",
        "                                   (1 - self.beta_1 ** (self.iterations + 1))\n",
        "        # Update cache with squared current gradients\n",
        "        layer.weight_cache = self.beta_2 * layer.weight_cache + \\\n",
        "                             (1 - self.beta_2) * layer.dweights ** 2\n",
        "        layer.bias_cache = self.beta_2 * layer.bias_cache + \\\n",
        "                           (1 - self.beta_2) * layer.dbiases ** 2\n",
        "        # Get corrected cache\n",
        "        weight_cache_corrected = layer.weight_cache / \\\n",
        "                                 (1 - self.beta_2 ** (self.iterations + 1))\n",
        "        bias_cache_corrected = layer.bias_cache / \\\n",
        "                               (1 - self.beta_2 ** (self.iterations + 1))\n",
        "\n",
        "        # Vanilla SGD parameter update + normalization\n",
        "        # with square rooted cache\n",
        "        layer.weights += -self.current_learning_rate * \\\n",
        "                         weight_momentums_corrected / \\\n",
        "                         (np.sqrt(weight_cache_corrected) +\n",
        "                          self.epsilon)\n",
        "        layer.biases += -self.current_learning_rate * \\\n",
        "                        bias_momentums_corrected / \\\n",
        "                        (np.sqrt(bias_cache_corrected) +\n",
        "                         self.epsilon)\n",
        "\n",
        "    # Call once after any parameter updates\n",
        "    def post_update_params(self):\n",
        "        self.iterations += 1\n",
        "\n",
        "\n",
        "# Common loss class\n",
        "class Loss:\n",
        "\n",
        "    # Regularization loss calculation\n",
        "    def regularization_loss(self, layer):\n",
        "\n",
        "        # 0 by default\n",
        "        regularization_loss = 0\n",
        "\n",
        "        # L1 regularization - weights\n",
        "        # calculate only when factor greater than 0\n",
        "        if layer.weight_regularizer_l1 > 0:\n",
        "            regularization_loss += layer.weight_regularizer_l1 * \\\n",
        "                                   np.sum(np.abs(layer.weights))\n",
        "\n",
        "        # L2 regularization - weights\n",
        "        if layer.weight_regularizer_l2 > 0:\n",
        "            regularization_loss += layer.weight_regularizer_l2 * \\\n",
        "                                   np.sum(layer.weights *\n",
        "                                          layer.weights)\n",
        "\n",
        "        # L1 regularization - biases\n",
        "        # calculate only when factor greater than 0\n",
        "        if layer.bias_regularizer_l1 > 0:\n",
        "            regularization_loss += layer.bias_regularizer_l1 * \\\n",
        "                                   np.sum(np.abs(layer.biases))\n",
        "\n",
        "        # L2 regularization - biases\n",
        "        if layer.bias_regularizer_l2 > 0:\n",
        "            regularization_loss += layer.bias_regularizer_l2 * \\\n",
        "                                   np.sum(layer.biases *\n",
        "                                          layer.biases)\n",
        "\n",
        "        return regularization_loss\n",
        "\n",
        "    # Calculates the data and regularization losses\n",
        "    # given model output and ground truth values\n",
        "    def calculate(self, output, y):\n",
        "\n",
        "        # Calculate sample losses\n",
        "        sample_losses = self.forward(output, y)\n",
        "\n",
        "        # Calculate mean loss\n",
        "        data_loss = np.mean(sample_losses)\n",
        "\n",
        "        # Return loss\n",
        "        return data_loss\n",
        "\n",
        "\n",
        "# Cross-entropy loss\n",
        "class Loss_CategoricalCrossentropy(Loss):\n",
        "\n",
        "    # Forward pass\n",
        "    def forward(self, y_pred, y_true):\n",
        "\n",
        "        # Number of samples in a batch\n",
        "        samples = len(y_pred)\n",
        "\n",
        "        # Clip data to prevent division by 0\n",
        "        # Clip both sides to not drag mean towards any value\n",
        "        y_pred_clipped = np.clip(y_pred, 1e-7, 1 - 1e-7)\n",
        "\n",
        "        # Probabilities for target values -\n",
        "        # only if categorical labels\n",
        "        if len(y_true.shape) == 1:\n",
        "            correct_confidences = y_pred_clipped[\n",
        "                range(samples),\n",
        "                y_true\n",
        "            ]\n",
        "\n",
        "        # Mask values - only for one-hot encoded labels\n",
        "        elif len(y_true.shape) == 2:\n",
        "            correct_confidences = np.sum(\n",
        "                y_pred_clipped * y_true,\n",
        "                axis=1\n",
        "            )\n",
        "        # Losses\n",
        "        negative_log_likelihoods = -np.log(correct_confidences)\n",
        "        return negative_log_likelihoods\n",
        "\n",
        "    # Backward pass\n",
        "    def backward(self, dvalues, y_true):\n",
        "\n",
        "        # Number of samples\n",
        "        samples = len(dvalues)\n",
        "        # Number of labels in every sample\n",
        "        # We'll use the first sample to count them\n",
        "        labels = len(dvalues[0])\n",
        "\n",
        "        # If labels are sparse, turn them into one-hot vector\n",
        "        if len(y_true.shape) == 1:\n",
        "            y_true = np.eye(labels)[y_true]\n",
        "\n",
        "        # Calculate gradient\n",
        "        self.dinputs = -y_true / dvalues\n",
        "        # Normalize gradient\n",
        "        self.dinputs = self.dinputs / samples\n",
        "\n",
        "\n",
        "# Softmax classifier - combined Softmax activation\n",
        "# and cross-entropy loss for faster backward step\n",
        "class Activation_Softmax_Loss_CategoricalCrossentropy():\n",
        "\n",
        "    # Creates activation and loss function objects\n",
        "    def __init__(self):\n",
        "        self.activation = Activation_Softmax()\n",
        "        self.loss = Loss_CategoricalCrossentropy()\n",
        "\n",
        "    # Forward pass\n",
        "    def forward(self, inputs, y_true):\n",
        "        # Output layer's activation function\n",
        "        self.activation.forward(inputs)\n",
        "        # Set the output\n",
        "        self.output = self.activation.output\n",
        "        # Calculate and return loss value\n",
        "        return self.loss.calculate(self.output, y_true)\n",
        "\n",
        "    # Backward pass\n",
        "    def backward(self, dvalues, y_true):\n",
        "        # Number of samples\n",
        "        samples = len(dvalues)\n",
        "\n",
        "        # If labels are one-hot encoded,\n",
        "        # turn them into discrete values\n",
        "        if len(y_true.shape) == 2:\n",
        "            y_true = np.argmax(y_true, axis=1)\n",
        "\n",
        "        # Copy so we can safely modify\n",
        "        self.dinputs = dvalues.copy()\n",
        "        # Calculate gradient\n",
        "        self.dinputs[range(samples), y_true] -= 1\n",
        "        # Normalize gradient\n",
        "        self.dinputs = self.dinputs / samples\n",
        "\n",
        "\n",
        "# Binary cross-entropy loss\n",
        "class Loss_BinaryCrossentropy(Loss):\n",
        "\n",
        "    # Forward pass\n",
        "    def forward(self, y_pred, y_true):\n",
        "        # Clip data to prevent division by 0\n",
        "        # Clip both sides to not drag mean towards any value\n",
        "        y_pred_clipped = np.clip(y_pred, 1e-7, 1 - 1e-7)\n",
        "\n",
        "        # Calculate sample-wise loss\n",
        "        sample_losses = -(y_true * np.log(y_pred_clipped) +\n",
        "                          (1 - y_true) * np.log(1 - y_pred_clipped))\n",
        "        sample_losses = np.mean(sample_losses, axis=-1)\n",
        "\n",
        "        # Return losses\n",
        "        return sample_losses\n",
        "\n",
        "    # Backward pass\n",
        "    def backward(self, dvalues, y_true):\n",
        "        # Number of samples\n",
        "        samples = len(dvalues)\n",
        "        # Number of outputs in every sample\n",
        "        # We'll use the first sample to count them\n",
        "        outputs = len(dvalues[0])\n",
        "\n",
        "        # Clip data to prevent division by 0\n",
        "        # Clip both sides to not drag mean towards any value\n",
        "        clipped_dvalues = np.clip(dvalues, 1e-7, 1 - 1e-7)\n",
        "\n",
        "        # Calculate gradient\n",
        "        self.dinputs = -(y_true / clipped_dvalues -\n",
        "                         (1 - y_true) / (1 - clipped_dvalues)) / outputs\n",
        "        # Normalize gradient\n",
        "        self.dinputs = self.dinputs / samples\n",
        "\n",
        "\n",
        "class model:\n",
        "    def __init__(self):\n",
        "        pass\n",
        "\n",
        "    def predict(self, classes, samples):\n",
        "        self.classes = classes\n",
        "        self.samples = samples\n",
        "        self.X, self.y = spiral_data(samples=self.samples, classes=self.classes)\n",
        "        dense1.forward(self.X)\n",
        "        activation1.forward(dense1.output)\n",
        "        dense2.forward(activation1.output)\n",
        "        activation2.forward(dense2.output)\n",
        "        # Calculate the data loss\n",
        "        self.loss = loss_function.calculate(activation2.output, self.y)\n",
        "        self.predictions = (activation2.output > 0.5) * 1\n",
        "        self.accuracy = np.mean(self.predictions == self.y)\n",
        "        print(f'Accuracy: {self.accuracy}')\n",
        "\n",
        "\n"
      ],
      "execution_count": 3,
      "outputs": []
    },
    {
      "cell_type": "markdown",
      "metadata": {
        "id": "UA4GFMbIPUkI"
      },
      "source": [
        "# Old Dropout Layer"
      ]
    },
    {
      "cell_type": "code",
      "metadata": {
        "id": "ZxoiO43tPbTa"
      },
      "source": [
        "class Layer_Dropout:\n",
        "\n",
        "    # Init\n",
        "    def __init__(self, rate):\n",
        "        # Store rate, we invert it as for example for dropout\n",
        "        # of 0.1 we need success rate of 0.9\n",
        "        self.rate = 1 - rate\n",
        "\n",
        "    # Forward pass\n",
        "    def forward(self, inputs):\n",
        "        # Save input values\n",
        "        self.inputs = inputs\n",
        "        # Generate and save scaled mask\n",
        "        self.binary_mask = np.random.binomial(1, self.rate,\n",
        "                                              size=inputs.shape) / self.rate\n",
        "        # Apply mask to output values\n",
        "        self.output = inputs * self.binary_mask\n",
        "       \n",
        "\n",
        "    # Backward pass\n",
        "    def backward(self, dvalues):\n",
        "        # Gradient on values\n",
        "        self.dinputs = dvalues * self.binary_mask\n",
        "        #print(self.dinputs.shape)"
      ],
      "execution_count": 4,
      "outputs": []
    },
    {
      "cell_type": "markdown",
      "metadata": {
        "id": "BUEiUOYDrL89"
      },
      "source": [
        "# Creating Spiral Data"
      ]
    },
    {
      "cell_type": "code",
      "metadata": {
        "id": "Mq_mQiW6rQw0"
      },
      "source": [
        "def twospirals(n_points, noise=.5):\n",
        "    n = np.sqrt(np.random.rand(n_points,1)) * 780 * (2*np.pi)/360\n",
        "    d1x = -np.cos(n)*n + np.random.rand(n_points,1) * noise\n",
        "    d1y = np.sin(n)*n + np.random.rand(n_points,1) * noise\n",
        "    return (np.vstack((np.hstack((d1x,d1y)),np.hstack((-d1x,-d1y)))), \n",
        "            np.hstack((np.zeros(n_points),np.ones(n_points))))"
      ],
      "execution_count": 5,
      "outputs": []
    },
    {
      "cell_type": "markdown",
      "metadata": {
        "id": "XRB57nFublm3"
      },
      "source": [
        "Initializing Caches"
      ]
    },
    {
      "cell_type": "code",
      "metadata": {
        "id": "_kyAX0txV-cF"
      },
      "source": [
        "loss_cache = []\n",
        "val_loss_cache = []\n",
        "acc_cache = []\n",
        "val_acc_cache = []\n",
        "lr_cache = []\n",
        "epoch_cache = []\n",
        "test_acc_cache = []\n",
        "test_loss_cache = []\n",
        "\n",
        "max_val_accuracyint = 0"
      ],
      "execution_count": 6,
      "outputs": []
    },
    {
      "cell_type": "markdown",
      "metadata": {
        "id": "F_7VWnIlF8yx"
      },
      "source": [
        "Initializing Summary List"
      ]
    },
    {
      "cell_type": "code",
      "metadata": {
        "id": "Xtnu5VToGAq0"
      },
      "source": [
        "summary = []"
      ],
      "execution_count": 7,
      "outputs": []
    },
    {
      "cell_type": "markdown",
      "metadata": {
        "id": "W1Eu0pm-WjKI"
      },
      "source": [
        "# Loading Data"
      ]
    },
    {
      "cell_type": "code",
      "metadata": {
        "id": "MG-305_aWD67"
      },
      "source": [
        "X, y = twospirals(100)\n",
        "X_test, y_test = twospirals(20)\n",
        "X_val, y_val = twospirals(4000)"
      ],
      "execution_count": 8,
      "outputs": []
    },
    {
      "cell_type": "markdown",
      "metadata": {
        "id": "x-24YuBKre0f"
      },
      "source": [
        "Vizulizing Data"
      ]
    },
    {
      "cell_type": "code",
      "metadata": {
        "colab": {
          "base_uri": "https://localhost:8080/",
          "height": 281
        },
        "id": "4kUOJ9avrho8",
        "outputId": "fcb08f2f-2ea0-4c87-c944-54aba419a50e"
      },
      "source": [
        "plt.subplot(1,2,1)\n",
        "plt.title('training set')\n",
        "plt.plot(X[y==0,0], X[y==0,1], '.', label='class 1')\n",
        "plt.plot(X[y==1,0], X[y==1,1], '.', label='class 2')\n",
        "plt.subplot(1,2,2)\n",
        "plt.title('Validaiton set')\n",
        "plt.plot(X_test[y_test==0,0], X_test[y_test==0,1], '.')\n",
        "plt.plot(X_test[y_test==1,0], X_test[y_test==1,1], '.')\n",
        "plt.show()"
      ],
      "execution_count": 9,
      "outputs": [
        {
          "output_type": "display_data",
          "data": {
            "image/png": "[encoded data removed]",
            "text/plain": [
              "<Figure size 432x288 with 2 Axes>"
            ]
          },
          "metadata": {
            "tags": [],
            "needs_background": "light"
          }
        }
      ]
    },
    {
      "cell_type": "markdown",
      "metadata": {
        "id": "Fd_dSHDNW1Rn"
      },
      "source": [
        "# Initializing Layers"
      ]
    },
    {
      "cell_type": "code",
      "metadata": {
        "id": "aly5fwUCW_4l"
      },
      "source": [
        "y = y.reshape(-1,1)\n",
        "y_test = y_test.reshape(-1, 1)\n",
        "y_val = y_val.reshape(-1, 1)\n",
        "\n",
        "\n",
        "# Create Dense layer with 2 input features and 64 output values\n",
        "dense1 = Layer_Dense(2, 128, weight_regularizer_l2=5e-4,\n",
        "                     bias_regularizer_l2=5e-4)\n",
        "\n",
        "# Create ReLU activation (to be used with Dense layer):\n",
        "activation1 = Activation_ReLU()\n",
        "\n",
        "dropout1 = Layer_Dropout(0.2)\n",
        "# Create second Dense layer with 64 input features (as we take output\n",
        "# of previous layer here) and 1 output value\n",
        "dense2 = Layer_Dense(128, 128)\n",
        "\n",
        "activation2 = Activation_ReLU()\n",
        "\n",
        "dense3 = Layer_Dense(128,1)\n",
        "\n",
        "# Create Sigmoid activation:\n",
        "activation3 = Activation_Sigmoid()\n",
        "\n",
        "# Create loss function\n",
        "loss_function = Loss_BinaryCrossentropy()\n",
        "\n",
        "# Create optimizer\n",
        "optimizer = Optimizer_Adam(decay=5e-7)"
      ],
      "execution_count": 10,
      "outputs": []
    },
    {
      "cell_type": "markdown",
      "metadata": {
        "id": "-xmbxDuwXIBk"
      },
      "source": [
        "# Training Loop"
      ]
    },
    {
      "cell_type": "code",
      "metadata": {
        "colab": {
          "base_uri": "https://localhost:8080/"
        },
        "id": "14yHOjq9XLee",
        "outputId": "bcae81d7-e8f1-43c5-a997-4186fa2fc75d"
      },
      "source": [
        "epochs = 5000\n",
        "\n",
        "for epoch in range(epochs + 1):\n",
        "\n",
        "    # Perform a forward pass of our training data through this layer\n",
        "    dense1.forward(X)\n",
        "\n",
        "    # Perform a forward pass through activation function\n",
        "    # takes the output of first dense layer here\n",
        "    activation1.forward(dense1.output)\n",
        "\n",
        "    dropout1.forward(activation1.output)\n",
        "    # def forward(self, inputs, model, X_test, y_test):\n",
        "\n",
        "    # Perform a forward pass through second Dense layer\n",
        "    # takes outputs of activation function\n",
        "    # of first layer as inputs\n",
        "    dense2.forward(dropout1.output)\n",
        "\n",
        "    # Perform a forward pass through activation function\n",
        "    # takes the output of second dense layer here\n",
        "    activation2.forward(dense2.output)\n",
        "\n",
        "    dense3.forward(activation2.output)\n",
        "\n",
        "    activation3.forward(dense3.output)\n",
        "\n",
        "    # Calculate the data loss\n",
        "    data_loss = loss_function.calculate(activation3.output, y)\n",
        "    # Calculate regularization penalty\n",
        "    regularization_loss = \\\n",
        "        loss_function.regularization_loss(dense1) + \\\n",
        "        loss_function.regularization_loss(dense2) + \\\n",
        "        loss_function.regularization_loss(dense3)\n",
        "\n",
        "    # Calculate overall loss\n",
        "    loss = data_loss + regularization_loss\n",
        "\n",
        "    predictions = np.round(activation3.output)\n",
        "    accuracy = np.mean(predictions == y)\n",
        "\n",
        "    # Backward pass\n",
        "    loss_function.backward(activation3.output, y)\n",
        "    activation3.backward(loss_function.dinputs)\n",
        "    dense3.backward(activation3.dinputs)\n",
        "    activation2.backward(dense3.dinputs)\n",
        "    dense2.backward(activation2.dinputs)\n",
        "    dropout1.backward(dense2.dinputs)\n",
        "    activation1.backward(dropout1.dinputs)\n",
        "    dense1.backward(activation1.dinputs)\n",
        "\n",
        "    # Update weights and biases\n",
        "    optimizer.pre_update_params()\n",
        "    optimizer.update_params(dense1)\n",
        "    optimizer.update_params(dense2)\n",
        "    optimizer.update_params(dense3)\n",
        "    optimizer.post_update_params()\n",
        "\n",
        "    # Validation\n",
        "    dense1.forward(X_test)\n",
        "    \n",
        "    activation1.forward(dense1.output)\n",
        "    \n",
        "    dense2.forward(activation1.output)\n",
        "\n",
        "    activation2.forward(dense2.output)\n",
        "\n",
        "    dense3.forward(activation2.output)\n",
        "    \n",
        "    activation3.forward(dense3.output)\n",
        "\n",
        "    # Calculate the data loss\n",
        "    valloss = loss_function.calculate(activation3.output, y_test)\n",
        "    predictions = np.round(activation3.output)\n",
        "    valaccuracy = np.mean(predictions == y_test)\n",
        "\n",
        "    #Unseen Validation\n",
        "    dense1.forward(X_val)\n",
        "    activation1.forward(dense1.output)\n",
        "    dense2.forward(activation1.output)\n",
        "    activation2.forward(dense2.output)\n",
        "    dense3.forward(activation2.output)\n",
        "    activation3.forward(dense3.output)\n",
        "    test_loss = loss_function.calculate(activation3.output, y_val)\n",
        "    predictions = np.round(activation3.output)\n",
        "    test_accuracy = np.mean(predictions == y_val)\n",
        "\n",
        "    #Updating List\n",
        "    loss_cache.append(loss)\n",
        "    val_loss_cache.append(valloss)\n",
        "    acc_cache.append(accuracy)\n",
        "    val_acc_cache.append(valaccuracy)\n",
        "    lr_cache.append(optimizer.current_learning_rate)\n",
        "    epoch_cache.append(epoch)\n",
        "    test_acc_cache.append(test_accuracy)\n",
        "    test_loss_cache.append(test_loss)\n",
        "\n",
        "\n",
        "    #Summary Items\n",
        "    if valaccuracy >= .8 and len(summary) == 0:\n",
        "        nintypercent = f'Model hit 80% accuracy in {epoch} epochs'\n",
        "        summary.append(nintypercent)\n",
        "    if valaccuracy >= .85 and len(summary) == 1:\n",
        "        nintypercent = f'Model hit 85% accuracy in {epoch} epochs'\n",
        "        summary.append(nintypercent)\n",
        "    if valaccuracy >= .9 and len(summary) == 2:\n",
        "        nintypercent = f'Model hit 90% accuracy in {epoch} epochs'\n",
        "        summary.append(nintypercent)\n",
        "    if valaccuracy >= .95 and len(summary) == 3:\n",
        "        nintypercent = f'Model hit 95% accuracy in {epoch} epochs'\n",
        "        summary.append(nintypercent)\n",
        "    if valaccuracy >= .975 and len(summary) == 4:\n",
        "        nintypercent = f'Model hit 97.5% accuracy in {epoch} epochs'\n",
        "        summary.append(nintypercent)\n",
        "    if epoch == epochs:\n",
        "      if valaccuracy > max_val_accuracyint:\n",
        "        max_val_accuracyint = valaccuracy\n",
        "        max_val_accuracy = f'Max accuracy was {valaccuracy * 100}% at epoch {epoch}.'\n",
        "        summary.append(max_val_accuracy)\n",
        "      else:\n",
        "        summary.append(max_val_accuracy)\n",
        "    else:\n",
        "      if valaccuracy > max_val_accuracyint:\n",
        "        max_val_accuracyint = valaccuracy\n",
        "        max_val_accuracy = f'Max accuracy was {valaccuracy * 100}% at epoch {epoch}.'     \n",
        "    \n",
        "    if test_accuracy >= .999 and epoch >= 1000:\n",
        "      print(f'Epoch: {epoch}')\n",
        "      break\n",
        "\n",
        "    if not epoch % 100:\n",
        "        print(f'epoch: {epoch}, ' +\n",
        "              f'acc: {accuracy:.3f}, ' +\n",
        "              f'loss: {loss:.3f} (' +\n",
        "              f'data_loss: {data_loss:.3f}, ' +\n",
        "              f'reg_loss: {regularization_loss:.3f}), ' +\n",
        "              f'lr: {optimizer.current_learning_rate:.9f} ' +\n",
        "              f'validation, acc: {valaccuracy:.3f}, loss: {valloss:.3f} ' +\n",
        "              f'Unseen: acc: {test_accuracy:.3f} loss: {test_loss:.3f} ')"
      ],
      "execution_count": 11,
      "outputs": [
        {
          "output_type": "stream",
          "text": [
            "epoch: 0, acc: 0.485, loss: 0.693 (data_loss: 0.693, reg_loss: 0.000), lr: 0.020000000 validation, acc: 0.525, loss: 0.687 Unseen: acc: 0.560 loss: 0.687 \n",
            "epoch: 100, acc: 0.755, loss: 0.530 (data_loss: 0.522, reg_loss: 0.008), lr: 0.019999000 validation, acc: 0.675, loss: 0.588 Unseen: acc: 0.594 loss: 0.607 \n",
            "epoch: 200, acc: 0.925, loss: 0.221 (data_loss: 0.191, reg_loss: 0.031), lr: 0.019998000 validation, acc: 0.900, loss: 0.277 Unseen: acc: 0.930 loss: 0.194 \n",
            "epoch: 300, acc: 0.975, loss: 0.127 (data_loss: 0.082, reg_loss: 0.046), lr: 0.019997000 validation, acc: 0.975, loss: 0.082 Unseen: acc: 0.973 loss: 0.074 \n",
            "epoch: 400, acc: 0.995, loss: 0.096 (data_loss: 0.044, reg_loss: 0.051), lr: 0.019996001 validation, acc: 0.975, loss: 0.051 Unseen: acc: 0.960 loss: 0.105 \n",
            "epoch: 500, acc: 0.975, loss: 0.114 (data_loss: 0.062, reg_loss: 0.051), lr: 0.019995001 validation, acc: 0.975, loss: 0.038 Unseen: acc: 0.983 loss: 0.051 \n",
            "epoch: 600, acc: 0.990, loss: 0.078 (data_loss: 0.027, reg_loss: 0.051), lr: 0.019994002 validation, acc: 0.975, loss: 0.098 Unseen: acc: 0.964 loss: 0.109 \n",
            "epoch: 700, acc: 0.965, loss: 0.189 (data_loss: 0.128, reg_loss: 0.060), lr: 0.019993002 validation, acc: 0.925, loss: 0.198 Unseen: acc: 0.945 loss: 0.128 \n",
            "epoch: 800, acc: 0.995, loss: 0.083 (data_loss: 0.025, reg_loss: 0.058), lr: 0.019992003 validation, acc: 0.975, loss: 0.064 Unseen: acc: 0.968 loss: 0.099 \n",
            "epoch: 900, acc: 0.995, loss: 0.078 (data_loss: 0.027, reg_loss: 0.051), lr: 0.019991004 validation, acc: 0.975, loss: 0.084 Unseen: acc: 0.976 loss: 0.079 \n",
            "epoch: 1000, acc: 0.995, loss: 0.083 (data_loss: 0.034, reg_loss: 0.049), lr: 0.019990005 validation, acc: 0.975, loss: 0.057 Unseen: acc: 0.968 loss: 0.092 \n",
            "epoch: 1100, acc: 0.995, loss: 0.071 (data_loss: 0.018, reg_loss: 0.053), lr: 0.019989006 validation, acc: 1.000, loss: 0.029 Unseen: acc: 0.983 loss: 0.051 \n",
            "epoch: 1200, acc: 0.995, loss: 0.068 (data_loss: 0.019, reg_loss: 0.049), lr: 0.019988007 validation, acc: 0.950, loss: 0.142 Unseen: acc: 0.962 loss: 0.113 \n",
            "epoch: 1300, acc: 0.990, loss: 0.100 (data_loss: 0.048, reg_loss: 0.052), lr: 0.019987008 validation, acc: 1.000, loss: 0.025 Unseen: acc: 0.986 loss: 0.037 \n",
            "epoch: 1400, acc: 0.990, loss: 0.072 (data_loss: 0.025, reg_loss: 0.047), lr: 0.019986010 validation, acc: 1.000, loss: 0.015 Unseen: acc: 0.977 loss: 0.080 \n",
            "epoch: 1500, acc: 1.000, loss: 0.055 (data_loss: 0.008, reg_loss: 0.047), lr: 0.019985011 validation, acc: 0.975, loss: 0.053 Unseen: acc: 0.976 loss: 0.055 \n",
            "epoch: 1600, acc: 0.975, loss: 0.098 (data_loss: 0.049, reg_loss: 0.049), lr: 0.019984013 validation, acc: 0.950, loss: 0.081 Unseen: acc: 0.959 loss: 0.151 \n",
            "epoch: 1700, acc: 0.980, loss: 0.099 (data_loss: 0.048, reg_loss: 0.051), lr: 0.019983014 validation, acc: 1.000, loss: 0.011 Unseen: acc: 0.983 loss: 0.043 \n",
            "epoch: 1800, acc: 0.990, loss: 0.072 (data_loss: 0.019, reg_loss: 0.053), lr: 0.019982016 validation, acc: 0.975, loss: 0.057 Unseen: acc: 0.974 loss: 0.057 \n",
            "epoch: 1900, acc: 0.985, loss: 0.105 (data_loss: 0.049, reg_loss: 0.056), lr: 0.019981018 validation, acc: 0.975, loss: 0.095 Unseen: acc: 0.966 loss: 0.098 \n",
            "epoch: 2000, acc: 0.985, loss: 0.089 (data_loss: 0.033, reg_loss: 0.055), lr: 0.019980020 validation, acc: 0.975, loss: 0.114 Unseen: acc: 0.977 loss: 0.059 \n",
            "epoch: 2100, acc: 0.990, loss: 0.075 (data_loss: 0.023, reg_loss: 0.052), lr: 0.019979022 validation, acc: 0.975, loss: 0.087 Unseen: acc: 0.974 loss: 0.055 \n",
            "epoch: 2200, acc: 0.990, loss: 0.081 (data_loss: 0.029, reg_loss: 0.051), lr: 0.019978024 validation, acc: 0.975, loss: 0.070 Unseen: acc: 0.974 loss: 0.067 \n",
            "epoch: 2300, acc: 0.990, loss: 0.074 (data_loss: 0.025, reg_loss: 0.049), lr: 0.019977026 validation, acc: 0.950, loss: 0.126 Unseen: acc: 0.965 loss: 0.102 \n",
            "epoch: 2400, acc: 0.975, loss: 0.130 (data_loss: 0.080, reg_loss: 0.050), lr: 0.019976029 validation, acc: 0.975, loss: 0.028 Unseen: acc: 0.977 loss: 0.068 \n",
            "epoch: 2500, acc: 0.995, loss: 0.067 (data_loss: 0.018, reg_loss: 0.049), lr: 0.019975031 validation, acc: 1.000, loss: 0.009 Unseen: acc: 0.980 loss: 0.060 \n",
            "epoch: 2600, acc: 0.995, loss: 0.056 (data_loss: 0.012, reg_loss: 0.044), lr: 0.019974034 validation, acc: 1.000, loss: 0.005 Unseen: acc: 0.978 loss: 0.095 \n",
            "epoch: 2700, acc: 0.980, loss: 0.115 (data_loss: 0.064, reg_loss: 0.050), lr: 0.019973036 validation, acc: 0.975, loss: 0.049 Unseen: acc: 0.979 loss: 0.051 \n",
            "epoch: 2800, acc: 0.990, loss: 0.089 (data_loss: 0.042, reg_loss: 0.047), lr: 0.019972039 validation, acc: 1.000, loss: 0.033 Unseen: acc: 0.980 loss: 0.070 \n",
            "epoch: 2900, acc: 0.995, loss: 0.073 (data_loss: 0.032, reg_loss: 0.041), lr: 0.019971042 validation, acc: 0.975, loss: 0.058 Unseen: acc: 0.974 loss: 0.087 \n",
            "epoch: 3000, acc: 0.995, loss: 0.058 (data_loss: 0.019, reg_loss: 0.039), lr: 0.019970045 validation, acc: 0.975, loss: 0.041 Unseen: acc: 0.965 loss: 0.139 \n",
            "epoch: 3100, acc: 0.945, loss: 0.172 (data_loss: 0.123, reg_loss: 0.049), lr: 0.019969048 validation, acc: 0.975, loss: 0.059 Unseen: acc: 0.972 loss: 0.064 \n",
            "epoch: 3200, acc: 0.990, loss: 0.090 (data_loss: 0.039, reg_loss: 0.051), lr: 0.019968051 validation, acc: 0.925, loss: 0.214 Unseen: acc: 0.949 loss: 0.126 \n",
            "epoch: 3300, acc: 1.000, loss: 0.056 (data_loss: 0.010, reg_loss: 0.046), lr: 0.019967054 validation, acc: 1.000, loss: 0.014 Unseen: acc: 0.992 loss: 0.026 \n",
            "epoch: 3400, acc: 0.995, loss: 0.066 (data_loss: 0.024, reg_loss: 0.042), lr: 0.019966058 validation, acc: 1.000, loss: 0.013 Unseen: acc: 0.984 loss: 0.062 \n",
            "epoch: 3500, acc: 0.990, loss: 0.072 (data_loss: 0.029, reg_loss: 0.043), lr: 0.019965061 validation, acc: 0.950, loss: 0.155 Unseen: acc: 0.968 loss: 0.082 \n",
            "epoch: 3600, acc: 0.995, loss: 0.054 (data_loss: 0.012, reg_loss: 0.042), lr: 0.019964065 validation, acc: 0.975, loss: 0.088 Unseen: acc: 0.976 loss: 0.061 \n",
            "epoch: 3700, acc: 0.995, loss: 0.055 (data_loss: 0.015, reg_loss: 0.041), lr: 0.019963068 validation, acc: 1.000, loss: 0.012 Unseen: acc: 0.971 loss: 0.104 \n",
            "epoch: 3800, acc: 0.980, loss: 0.108 (data_loss: 0.064, reg_loss: 0.044), lr: 0.019962072 validation, acc: 0.975, loss: 0.141 Unseen: acc: 0.962 loss: 0.119 \n",
            "epoch: 3900, acc: 0.990, loss: 0.080 (data_loss: 0.036, reg_loss: 0.044), lr: 0.019961076 validation, acc: 0.975, loss: 0.107 Unseen: acc: 0.974 loss: 0.085 \n",
            "epoch: 4000, acc: 0.990, loss: 0.089 (data_loss: 0.048, reg_loss: 0.041), lr: 0.019960080 validation, acc: 0.975, loss: 0.111 Unseen: acc: 0.969 loss: 0.092 \n",
            "epoch: 4100, acc: 1.000, loss: 0.051 (data_loss: 0.010, reg_loss: 0.040), lr: 0.019959084 validation, acc: 1.000, loss: 0.002 Unseen: acc: 0.974 loss: 0.112 \n",
            "epoch: 4200, acc: 0.995, loss: 0.059 (data_loss: 0.019, reg_loss: 0.039), lr: 0.019958088 validation, acc: 1.000, loss: 0.011 Unseen: acc: 0.983 loss: 0.051 \n",
            "epoch: 4300, acc: 0.990, loss: 0.087 (data_loss: 0.049, reg_loss: 0.037), lr: 0.019957092 validation, acc: 1.000, loss: 0.019 Unseen: acc: 0.985 loss: 0.044 \n",
            "epoch: 4400, acc: 0.990, loss: 0.097 (data_loss: 0.055, reg_loss: 0.042), lr: 0.019956097 validation, acc: 0.925, loss: 0.149 Unseen: acc: 0.928 loss: 0.196 \n",
            "epoch: 4500, acc: 0.960, loss: 0.144 (data_loss: 0.097, reg_loss: 0.047), lr: 0.019955101 validation, acc: 1.000, loss: 0.036 Unseen: acc: 0.978 loss: 0.073 \n",
            "epoch: 4600, acc: 1.000, loss: 0.062 (data_loss: 0.014, reg_loss: 0.047), lr: 0.019954106 validation, acc: 0.975, loss: 0.047 Unseen: acc: 0.971 loss: 0.110 \n",
            "epoch: 4700, acc: 1.000, loss: 0.051 (data_loss: 0.009, reg_loss: 0.041), lr: 0.019953110 validation, acc: 0.975, loss: 0.024 Unseen: acc: 0.976 loss: 0.076 \n",
            "epoch: 4800, acc: 0.970, loss: 0.102 (data_loss: 0.059, reg_loss: 0.043), lr: 0.019952115 validation, acc: 0.975, loss: 0.052 Unseen: acc: 0.970 loss: 0.111 \n",
            "epoch: 4900, acc: 0.990, loss: 0.081 (data_loss: 0.035, reg_loss: 0.046), lr: 0.019951120 validation, acc: 0.950, loss: 0.081 Unseen: acc: 0.974 loss: 0.080 \n",
            "epoch: 5000, acc: 0.985, loss: 0.070 (data_loss: 0.028, reg_loss: 0.041), lr: 0.019950125 validation, acc: 1.000, loss: 0.006 Unseen: acc: 0.968 loss: 0.097 \n"
          ],
          "name": "stdout"
        }
      ]
    },
    {
      "cell_type": "markdown",
      "metadata": {
        "id": "GR0u0Jm7QCrw"
      },
      "source": [
        "# Summary"
      ]
    },
    {
      "cell_type": "code",
      "metadata": {
        "colab": {
          "base_uri": "https://localhost:8080/"
        },
        "id": "2NbXMisqQKqF",
        "outputId": "036cd36b-c2ad-40c8-a2eb-dc4875b4c0d8"
      },
      "source": [
        "for milestone in summary:\n",
        "  print(milestone)"
      ],
      "execution_count": 12,
      "outputs": [
        {
          "output_type": "stream",
          "text": [
            "Model hit 80% accuracy in 134 epochs\n",
            "Model hit 85% accuracy in 176 epochs\n",
            "Model hit 90% accuracy in 190 epochs\n",
            "Model hit 95% accuracy in 206 epochs\n",
            "Model hit 97.5% accuracy in 221 epochs\n",
            "Max accuracy was 100.0% at epoch 279.\n"
          ],
          "name": "stdout"
        }
      ]
    },
    {
      "cell_type": "markdown",
      "metadata": {
        "id": "_rVqT3yaXS5k"
      },
      "source": [
        "# Testing"
      ]
    },
    {
      "cell_type": "markdown",
      "metadata": {
        "id": "sM4Amu6xXXiD"
      },
      "source": [
        "Creating Testing Data\n"
      ]
    },
    {
      "cell_type": "code",
      "metadata": {
        "id": "ansF6hSCXaUx"
      },
      "source": [
        "X_test, y_test = twospirals(2000)"
      ],
      "execution_count": 13,
      "outputs": []
    },
    {
      "cell_type": "markdown",
      "metadata": {
        "id": "kcXQ-aH0XdYy"
      },
      "source": [
        "Evaluating Testing Data"
      ]
    },
    {
      "cell_type": "code",
      "metadata": {
        "id": "7kaTg925XgfR",
        "colab": {
          "base_uri": "https://localhost:8080/"
        },
        "outputId": "3321b0d5-df7e-4db6-bc8c-d7db41a56a92"
      },
      "source": [
        "# Reshape labels to be a list of lists\n",
        "# Inner list contains one output (either 0 or 1)\n",
        "# per each output neuron, 1 in this case\n",
        "y_test = y_test.reshape(-1, 1)\n",
        "\n",
        "dense1.forward(X_test)\n",
        "\n",
        "activation1.forward(dense1.output)\n",
        "\n",
        "dense2.forward(activation1.output)\n",
        "\n",
        "activation2.forward(dense2.output)\n",
        "\n",
        "dense3.forward(activation2.output)\n",
        "\n",
        "activation3.forward(dense3.output)\n",
        "\n",
        "# Calculate the data loss\n",
        "loss = loss_function.calculate(activation3.output, y_test)\n",
        "\n",
        "predictions = np.round(activation3.output)\n",
        "yy = np.round(activation3.output.T[0])\n",
        "xx = np.round(X_test.T[0])\n",
        "accuracy = np.mean(predictions == y_test)\n",
        "\n",
        "print(f'validation, acc: {accuracy:.3f}, loss: {loss:.3f}')"
      ],
      "execution_count": 14,
      "outputs": [
        {
          "output_type": "stream",
          "text": [
            "validation, acc: 0.965, loss: 0.096\n"
          ],
          "name": "stdout"
        }
      ]
    },
    {
      "cell_type": "code",
      "metadata": {
        "colab": {
          "base_uri": "https://localhost:8080/",
          "height": 281
        },
        "id": "lKTQvMEXbTg2",
        "outputId": "4ba4507a-332f-4d6b-f9b7-567bf39d52b4"
      },
      "source": [
        "plt.subplot(1,2,1)\n",
        "plt.title('training set')\n",
        "plt.plot(X_test[y_test.T[0]==0,0], X_test[y_test.T[0]==0,1], '.')\n",
        "plt.plot(X_test[y_test.T[0]==1,0], X_test[y_test.T[0]==1,1], '.')\n",
        "plt.subplot(1,2,2)\n",
        "plt.title('Neural Network result')\n",
        "plt.plot(X_test[yy==0,0], X_test[yy==0,1], '.')\n",
        "plt.plot(X_test[yy==1,0], X_test[yy==1,1], '.')\n",
        "plt.show()"
      ],
      "execution_count": 15,
      "outputs": [
        {
          "output_type": "display_data",
          "data": {
            "image/png": "[encoded data removed]",
            "text/plain": [
              "<Figure size 432x288 with 2 Axes>"
            ]
          },
          "metadata": {
            "tags": [],
            "needs_background": "light"
          }
        }
      ]
    },
    {
      "cell_type": "code",
      "metadata": {
        "colab": {
          "base_uri": "https://localhost:8080/"
        },
        "id": "hMsaKhF8cJXl",
        "outputId": "3be97a8c-42e7-4c92-ceb6-b8b4739c5fe9"
      },
      "source": [
        "# probability decision surface for logistic regression on a binary classification dataset\n",
        "from sklearn.datasets import make_blobs\n",
        "from sklearn.linear_model import LogisticRegression\n",
        "\n",
        "# generate dataset\n",
        "X = X_test\n",
        "y = y_test\n",
        "# define bounds of the domain\n",
        "min1, max1 = X[:, 0].min()-1, X[:, 0].max()+1\n",
        "min2, max2 = X[:, 1].min()-1, X[:, 1].max()+1\n",
        "# define the x and y scale\n",
        "x1grid = np.arange(min1, max1, 0.1)\n",
        "x2grid = np.arange(min2, max2, 0.1)\n",
        "# create all of the lines and rows of the grid\n",
        "xx, yy = np.meshgrid(x1grid, x2grid)\n",
        "# flatten each grid to a vector\n",
        "r1, r2 = xx.flatten(), yy.flatten()\n",
        "r1, r2 = r1.reshape((len(r1), 1)), r2.reshape((len(r2), 1))\n",
        "# horizontal stack vectors to create x1,x2 input for the model\n",
        "grid = np.hstack((r1,r2))\n",
        "# define the model\n",
        "model = LogisticRegression()\n",
        "# fit the model\n",
        "model.fit(X, y.ravel())\n",
        "# make predictions for the grid\n",
        "#print(grid.shape)\n",
        "\n",
        "\n"
      ],
      "execution_count": 16,
      "outputs": [
        {
          "output_type": "execute_result",
          "data": {
            "text/plain": [
              "LogisticRegression(C=1.0, class_weight=None, dual=False, fit_intercept=True,\n",
              "                   intercept_scaling=1, l1_ratio=None, max_iter=100,\n",
              "                   multi_class='auto', n_jobs=None, penalty='l2',\n",
              "                   random_state=None, solver='lbfgs', tol=0.0001, verbose=0,\n",
              "                   warm_start=False)"
            ]
          },
          "metadata": {
            "tags": []
          },
          "execution_count": 16
        }
      ]
    },
    {
      "cell_type": "code",
      "metadata": {
        "colab": {
          "base_uri": "https://localhost:8080/",
          "height": 269
        },
        "id": "a0DkDIKxiRyp",
        "outputId": "ea764174-cbe0-49a4-9c96-bf7d74e1f139"
      },
      "source": [
        "dense1.forward(grid)\n",
        "\n",
        "activation1.forward(dense1.output)\n",
        "\n",
        "dense2.forward(activation1.output)\n",
        "\n",
        "activation2.forward(dense2.output)\n",
        "\n",
        "dense3.forward(activation2.output)\n",
        "\n",
        "activation3.forward(dense3.output)\n",
        "\n",
        "yhat = np.round(activation3.output)\n",
        "\n",
        "yhat = yhat[:, 0]\n",
        "# reshape the predictions back into a grid\n",
        "zz = yhat.reshape(xx.shape)\n",
        "# plot the grid of x, y and z values as a surface\n",
        "c = plt.contourf(xx, yy, zz, cmap='bwr')\n",
        "# add a legend, called a color bar\n",
        "plt.colorbar(c)\n",
        "# create scatter plot for samples from each class\n",
        "for class_value in range(2):\n",
        "    # get row indexes for samples with this class\n",
        "    row_ix = np.where(y == class_value)\n",
        "    # create scatter of these samples\n",
        "    plt.scatter(X[row_ix, 0], X[row_ix, 1], cmap='Paired')"
      ],
      "execution_count": 17,
      "outputs": [
        {
          "output_type": "display_data",
          "data": {
            "image/png": "[encoded data removed]",
            "text/plain": [
              "<Figure size 432x288 with 2 Axes>"
            ]
          },
          "metadata": {
            "tags": [],
            "needs_background": "light"
          }
        }
      ]
    },
    {
      "cell_type": "markdown",
      "metadata": {
        "id": "MRXGM4hyXmr7"
      },
      "source": [
        "Plotting Graphs"
      ]
    },
    {
      "cell_type": "code",
      "metadata": {
        "id": "h5c5xUTNXk2v",
        "colab": {
          "base_uri": "https://localhost:8080/",
          "height": 1000
        },
        "outputId": "5db45a31-d165-40af-f500-d23d37996272"
      },
      "source": [
        "plt.plot(epoch_cache, val_loss_cache, label='Validation Loss')\n",
        "plt.plot(epoch_cache, loss_cache, label='Training Loss')\n",
        "plt.title('Loss')\n",
        "plt.xlabel('Epoch')\n",
        "plt.ylabel('Loss')\n",
        "plt.legend(loc = \"upper right\")\n",
        "plt.show()\n",
        "\n",
        "plt.plot(epoch_cache, val_acc_cache, label='Validation Accuracy')\n",
        "plt.plot(epoch_cache, acc_cache, label='Training Accuracy')\n",
        "plt.title('Accuracy')\n",
        "plt.xlabel('Epoch')\n",
        "plt.ylabel('Accuracy')\n",
        "plt.legend(loc = \"upper right\")\n",
        "plt.show()\n",
        "\n",
        "plt.plot(epoch_cache, test_acc_cache, label='Test Accuracy')\n",
        "plt.plot(epoch_cache, test_loss_cache, label='Training Loss')\n",
        "plt.title('Test')\n",
        "plt.xlabel('Epoch')\n",
        "plt.ylabel('Accuracy')\n",
        "plt.legend(loc = \"upper right\")\n",
        "plt.show()\n",
        "\n",
        "\n",
        "plt.plot(epoch_cache, lr_cache, label='LR')\n",
        "plt.title('Learning Rate')\n",
        "plt.xlabel('Epoch')\n",
        "plt.ylabel('Learning Rate')\n",
        "plt.show()"
      ],
      "execution_count": 18,
      "outputs": [
        {
          "output_type": "display_data",
          "data": {
            "image/png": "[encoded data removed]",
            "text/plain": [
              "<Figure size 432x288 with 1 Axes>"
            ]
          },
          "metadata": {
            "tags": [],
            "needs_background": "light"
          }
        },
        {
          "output_type": "display_data",
          "data": {
            "image/png": "[encoded data removed]",
            "text/plain": [
              "<Figure size 432x288 with 1 Axes>"
            ]
          },
          "metadata": {
            "tags": [],
            "needs_background": "light"
          }
        },
        {
          "output_type": "display_data",
          "data": {
            "image/png": "[encoded data removed]",
            "text/plain": [
              "<Figure size 432x288 with 1 Axes>"
            ]
          },
          "metadata": {
            "tags": [],
            "needs_background": "light"
          }
        },
        {
          "output_type": "display_data",
          "data": {
            "image/png": "[encoded data removed]",
            "text/plain": [
              "<Figure size 432x288 with 1 Axes>"
            ]
          },
          "metadata": {
            "tags": [],
            "needs_background": "light"
          }
        }
      ]
    }
  ]
}