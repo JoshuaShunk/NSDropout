{
  "nbformat": 4,
  "nbformat_minor": 0,
  "metadata": {
    "colab": {
      "name": "mnist numbers implementation of Dropout.ipynb",
      "provenance": [],
      "collapsed_sections": [],
      "include_colab_link": true
    },
    "interpreter": {
      "hash": "4a10260d53feadc3aac998a3ba3a60b43aac84189bada71a196791e24306642d"
    },
    "kernelspec": {
      "display_name": "Python 3.9.5 64-bit ('AITraining': virtualenvwrapper)",
      "name": "python3"
    },
    "language_info": {
      "codemirror_mode": {
        "name": "ipython",
        "version": 3
      },
      "file_extension": ".py",
      "mimetype": "text/x-python",
      "name": "python",
      "nbconvert_exporter": "python",
      "pygments_lexer": "ipython3",
      "version": "3.9.5"
    }
  },
  "cells": [
    {
      "cell_type": "markdown",
      "metadata": {
        "id": "view-in-github",
        "colab_type": "text"
      },
      "source": [
        "<a href=\"https://colab.research.google.com/github/JoshuaShunk/NSDropout/blob/main/mnist_numbers_implementation_of_Dropout.ipynb\" target=\"_parent\"><img src=\"https://colab.research.google.com/assets/colab-badge.svg\" alt=\"Open In Colab\"/></a>"
      ]
    },
    {
      "cell_type": "markdown",
      "metadata": {
        "id": "dtYgI3SFHqm4"
      },
      "source": [
        "# MNIST Numbers Implementation of Old Dropout"
      ]
    },
    {
      "cell_type": "code",
      "metadata": {
        "id": "s2GytIidUnpd"
      },
      "source": [
        "import matplotlib.pyplot as plt\n",
        "import numpy as np\n",
        "import random\n",
        "import keras\n",
        "from keras.datasets import mnist\n",
        "import tensorflow as tf\n",
        "import pandas as pd"
      ],
      "execution_count": 1,
      "outputs": []
    },
    {
      "cell_type": "code",
      "metadata": {
        "id": "0aLxFoLMU2jC"
      },
      "source": [
        "np.set_printoptions(threshold=np.inf)"
      ],
      "execution_count": 2,
      "outputs": []
    },
    {
      "cell_type": "code",
      "metadata": {
        "id": "06HD9nTuEVHD"
      },
      "source": [
        "np.random.seed(seed=22) #Random seed used for comparison between old dropout"
      ],
      "execution_count": 3,
      "outputs": []
    },
    {
      "cell_type": "code",
      "metadata": {
        "colab": {
          "base_uri": "https://localhost:8080/"
        },
        "id": "cag8ZraxEZbF",
        "outputId": "62b85b3c-818f-4d27-d026-b0315533faea"
      },
      "source": [
        "print(np.random.random(size=3)) #Check that seeds line up"
      ],
      "execution_count": 4,
      "outputs": [
        {
          "output_type": "stream",
          "text": [
            "[0.20846054 0.48168106 0.42053804]\n"
          ],
          "name": "stdout"
        }
      ]
    },
    {
      "cell_type": "code",
      "metadata": {
        "id": "-NkY3EiBU4tR",
        "cellView": "form"
      },
      "source": [
        "#@title Load Layers (Credit to Harrison Kinsley & Daniel Kukiela for raw python implementation)\n",
        "\n",
        "# Dense layer\n",
        "class Layer_Dense:\n",
        "\n",
        "    # Layer initialization\n",
        "    def __init__(self, n_inputs, n_neurons,\n",
        "                 weight_regularizer_l1=0, weight_regularizer_l2=0,\n",
        "                 bias_regularizer_l1=0, bias_regularizer_l2=0):\n",
        "        # Initialize weights and biases\n",
        "        self.weights = 0.01 * np.random.randn(n_inputs, n_neurons)\n",
        "        self.biases = np.zeros((1, n_neurons))\n",
        "        # Set regularization strength\n",
        "        self.weight_regularizer_l1 = weight_regularizer_l1\n",
        "        self.weight_regularizer_l2 = weight_regularizer_l2\n",
        "        self.bias_regularizer_l1 = bias_regularizer_l1\n",
        "        self.bias_regularizer_l2 = bias_regularizer_l2\n",
        "\n",
        "    # Forward pass\n",
        "    def forward(self, inputs):\n",
        "        # Remember input values\n",
        "        self.inputs = inputs\n",
        "        # Calculate output values from inputs, weights and biases\n",
        "        self.output = np.dot(inputs, self.weights) + self.biases\n",
        "\n",
        "    # Backward pass\n",
        "    def backward(self, dvalues):\n",
        "        # Gradients on parameters\n",
        "        self.dweights = np.dot(self.inputs.T, dvalues)\n",
        "        self.dbiases = np.sum(dvalues, axis=0, keepdims=True)\n",
        "\n",
        "        # Gradients on regularization\n",
        "        # L1 on weights\n",
        "        if self.weight_regularizer_l1 > 0:\n",
        "            dL1 = np.ones_like(self.weights)\n",
        "            dL1[self.weights < 0] = -1\n",
        "            self.dweights += self.weight_regularizer_l1 * dL1\n",
        "        # L2 on weights\n",
        "        if self.weight_regularizer_l2 > 0:\n",
        "            self.dweights += 2 * self.weight_regularizer_l2 * \\\n",
        "                             self.weights\n",
        "        # L1 on biases\n",
        "        if self.bias_regularizer_l1 > 0:\n",
        "            dL1 = np.ones_like(self.biases)\n",
        "            dL1[self.biases < 0] = -1\n",
        "            self.dbiases += self.bias_regularizer_l1 * dL1\n",
        "        # L2 on biases\n",
        "        if self.bias_regularizer_l2 > 0:\n",
        "            self.dbiases += 2 * self.bias_regularizer_l2 * \\\n",
        "                            self.biases\n",
        "\n",
        "        # Gradient on values\n",
        "        self.dinputs = np.dot(dvalues, self.weights.T)\n",
        "\n",
        "# ReLU activation\n",
        "\n",
        "\n",
        "class Activation_ReLU:\n",
        "\n",
        "    # Forward pass\n",
        "    def forward(self, inputs):\n",
        "        # Remember input values\n",
        "        self.inputs = inputs\n",
        "        # Calculate output values from inputs\n",
        "        self.output = np.maximum(0, inputs)\n",
        "\n",
        "    # Backward pass\n",
        "    def backward(self, dvalues):\n",
        "        # Since we need to modify original variable,\n",
        "        # let's make a copy of values first\n",
        "        self.dinputs = dvalues.copy()\n",
        "\n",
        "        # Zero gradient where input values were negative\n",
        "        self.dinputs[self.inputs <= 0] = 0\n",
        "\n",
        "\n",
        "# Softmax activation\n",
        "class Activation_Softmax:\n",
        "\n",
        "    # Forward pass\n",
        "    def forward(self, inputs):\n",
        "        # Remember input values\n",
        "        self.inputs = inputs\n",
        "\n",
        "        # Get unnormalized probabilities\n",
        "        exp_values = np.exp(inputs - np.max(inputs, axis=1,\n",
        "                                            keepdims=True))\n",
        "        # Normalize them for each sample\n",
        "        probabilities = exp_values / np.sum(exp_values, axis=1,\n",
        "                                            keepdims=True)\n",
        "\n",
        "        self.output = probabilities\n",
        "\n",
        "    # Backward pass\n",
        "    def backward(self, dvalues):\n",
        "        # Create uninitialized array\n",
        "        self.dinputs = np.empty_like(dvalues)\n",
        "\n",
        "        # Enumerate outputs and gradients\n",
        "        for index, (single_output, single_dvalues) in \\\n",
        "                enumerate(zip(self.output, dvalues)):\n",
        "            # Flatten output array\n",
        "            single_output = single_output.reshape(-1, 1)\n",
        "\n",
        "            # Calculate Jacobian matrix of the output\n",
        "            jacobian_matrix = np.diagflat(single_output) - \\\n",
        "                              np.dot(single_output, single_output.T)\n",
        "            # Calculate sample-wise gradient\n",
        "            # and add it to the array of sample gradients\n",
        "            self.dinputs[index] = np.dot(jacobian_matrix,\n",
        "                                         single_dvalues)\n",
        "    def predictions(self, outputs):\n",
        "        return np.argmax(outputs, axis=1)\n",
        "\n",
        "\n",
        "# Sigmoid activation\n",
        "class Activation_Sigmoid:\n",
        "\n",
        "    # Forward pass\n",
        "    def forward(self, inputs):\n",
        "        # Save input and calculate/save output\n",
        "        # of the sigmoid function\n",
        "        self.inputs = inputs\n",
        "        self.output = 1 / (1 + np.exp(-inputs))\n",
        "\n",
        "    # Backward pass\n",
        "    def backward(self, dvalues):\n",
        "        # Derivative - calculates from output of the sigmoid function\n",
        "        self.dinputs = dvalues * (1 - self.output) * self.output\n",
        "\n",
        "\n",
        "# SGD optimizer\n",
        "class Optimizer_SGD:\n",
        "\n",
        "    # Initialize optimizer - set settings,\n",
        "    # learning rate of 1. is default for this optimizer\n",
        "    def __init__(self, learning_rate=1., decay=0., momentum=0.):\n",
        "        self.learning_rate = learning_rate\n",
        "        self.current_learning_rate = learning_rate\n",
        "        self.decay = decay\n",
        "        self.iterations = 0\n",
        "        self.momentum = momentum\n",
        "\n",
        "    # Call once before any parameter updates\n",
        "    def pre_update_params(self):\n",
        "        if self.decay:\n",
        "            self.current_learning_rate = self.learning_rate * \\\n",
        "                                         (1. / (1. + self.decay * self.iterations))\n",
        "\n",
        "    # Update parameters\n",
        "\n",
        "    def update_params(self, layer):\n",
        "\n",
        "        # If we use momentum\n",
        "        if self.momentum:\n",
        "\n",
        "            # If layer does not contain momentum arrays, create them\n",
        "            # filled with zeros\n",
        "            if not hasattr(layer, 'weight_momentums'):\n",
        "                layer.weight_momentums = np.zeros_like(layer.weights)\n",
        "                # If there is no momentum array for weights\n",
        "                # The array doesn't exist for biases yet either.\n",
        "                layer.bias_momentums = np.zeros_like(layer.biases)\n",
        "\n",
        "            # Build weight updates with momentum - take previous\n",
        "            # updates multiplied by retain factor and update with\n",
        "            # current gradients\n",
        "            weight_updates = \\\n",
        "                self.momentum * layer.weight_momentums - \\\n",
        "                self.current_learning_rate * layer.dweights\n",
        "            layer.weight_momentums = weight_updates\n",
        "\n",
        "            # Build bias updates\n",
        "            bias_updates = \\\n",
        "                self.momentum * layer.bias_momentums - \\\n",
        "                self.current_learning_rate * layer.dbiases\n",
        "            layer.bias_momentums = bias_updates\n",
        "\n",
        "        # Vanilla SGD updates (as before momentum update)\n",
        "        else:\n",
        "            weight_updates = -self.current_learning_rate * \\\n",
        "                             layer.dweights\n",
        "            bias_updates = -self.current_learning_rate * \\\n",
        "                           layer.dbiases\n",
        "\n",
        "        # Update weights and biases using either\n",
        "        # vanilla or momentum updates\n",
        "        layer.weights += weight_updates\n",
        "        layer.biases += bias_updates\n",
        "\n",
        "    # Call once after any parameter updates\n",
        "    def post_update_params(self):\n",
        "        self.iterations += 1\n",
        "\n",
        "\n",
        "# Adagrad optimizer\n",
        "class Optimizer_Adagrad:\n",
        "\n",
        "    # Initialize optimizer - set settings\n",
        "    def __init__(self, learning_rate=1., decay=0., epsilon=1e-7):\n",
        "        self.learning_rate = learning_rate\n",
        "        self.current_learning_rate = learning_rate\n",
        "        self.decay = decay\n",
        "        self.iterations = 0\n",
        "        self.epsilon = epsilon\n",
        "\n",
        "    # Call once before any parameter updates\n",
        "    def pre_update_params(self):\n",
        "        if self.decay:\n",
        "            self.current_learning_rate = self.learning_rate * \\\n",
        "                                         (1. / (1. + self.decay * self.iterations))\n",
        "\n",
        "    # Update parameters\n",
        "    def update_params(self, layer):\n",
        "\n",
        "        # If layer does not contain cache arrays,\n",
        "        # create them filled with zeros\n",
        "        if not hasattr(layer, 'weight_cache'):\n",
        "            layer.weight_cache = np.zeros_like(layer.weights)\n",
        "            layer.bias_cache = np.zeros_like(layer.biases)\n",
        "\n",
        "        # Update cache with squared current gradients\n",
        "        layer.weight_cache += layer.dweights ** 2\n",
        "        layer.bias_cache += layer.dbiases ** 2\n",
        "\n",
        "        # Vanilla SGD parameter update + normalization\n",
        "        # with square rooted cache\n",
        "        layer.weights += -self.current_learning_rate * \\\n",
        "                         layer.dweights / \\\n",
        "                         (np.sqrt(layer.weight_cache) + self.epsilon)\n",
        "        layer.biases += -self.current_learning_rate * \\\n",
        "                        layer.dbiases / \\\n",
        "                        (np.sqrt(layer.bias_cache) + self.epsilon)\n",
        "\n",
        "    # Call once after any parameter updates\n",
        "    def post_update_params(self):\n",
        "        self.iterations += 1\n",
        "\n",
        "\n",
        "# RMSprop optimizer\n",
        "class Optimizer_RMSprop:\n",
        "\n",
        "    # Initialize optimizer - set settings\n",
        "    def __init__(self, learning_rate=0.001, decay=0., epsilon=1e-7,\n",
        "                 rho=0.9):\n",
        "        self.learning_rate = learning_rate\n",
        "        self.current_learning_rate = learning_rate\n",
        "        self.decay = decay\n",
        "        self.iterations = 0\n",
        "        self.epsilon = epsilon\n",
        "        self.rho = rho\n",
        "\n",
        "    # Call once before any parameter updates\n",
        "    def pre_update_params(self):\n",
        "        if self.decay:\n",
        "            self.current_learning_rate = self.learning_rate * \\\n",
        "                                         (1. / (1. + self.decay * self.iterations))\n",
        "\n",
        "    # Update parameters\n",
        "    def update_params(self, layer):\n",
        "\n",
        "        # If layer does not contain cache arrays,\n",
        "        # create them filled with zeros\n",
        "        if not hasattr(layer, 'weight_cache'):\n",
        "            layer.weight_cache = np.zeros_like(layer.weights)\n",
        "            layer.bias_cache = np.zeros_like(layer.biases)\n",
        "\n",
        "        # Update cache with squared current gradients\n",
        "        layer.weight_cache = self.rho * layer.weight_cache + \\\n",
        "                             (1 - self.rho) * layer.dweights ** 2\n",
        "        layer.bias_cache = self.rho * layer.bias_cache + \\\n",
        "                           (1 - self.rho) * layer.dbiases ** 2\n",
        "\n",
        "        # Vanilla SGD parameter update + normalization\n",
        "        # with square rooted cache\n",
        "        layer.weights += -self.current_learning_rate * \\\n",
        "                         layer.dweights / \\\n",
        "                         (np.sqrt(layer.weight_cache) + self.epsilon)\n",
        "        layer.biases += -self.current_learning_rate * \\\n",
        "                        layer.dbiases / \\\n",
        "                        (np.sqrt(layer.bias_cache) + self.epsilon)\n",
        "\n",
        "    # Call once after any parameter updates\n",
        "    def post_update_params(self):\n",
        "        self.iterations += 1\n",
        "\n",
        "\n",
        "# Adam optimizer\n",
        "class Optimizer_Adam:\n",
        "\n",
        "    # Initialize optimizer - set settings\n",
        "    def __init__(self, learning_rate=0.02, decay=0., epsilon=1e-7,\n",
        "                 beta_1=0.9, beta_2=0.999):\n",
        "        self.learning_rate = learning_rate\n",
        "        self.current_learning_rate = learning_rate\n",
        "        self.decay = decay\n",
        "        self.iterations = 0\n",
        "        self.epsilon = epsilon\n",
        "        self.beta_1 = beta_1\n",
        "        self.beta_2 = beta_2\n",
        "\n",
        "    # Call once before any parameter updates\n",
        "    def pre_update_params(self):\n",
        "        if self.decay:\n",
        "            self.current_learning_rate = self.learning_rate * \\\n",
        "                                         (1. / (1. + self.decay * self.iterations))\n",
        "\n",
        "    # Update parameters\n",
        "    def update_params(self, layer):\n",
        "\n",
        "        # If layer does not contain cache arrays,\n",
        "        # create them filled with zeros\n",
        "        if not hasattr(layer, 'weight_cache'):\n",
        "            layer.weight_momentums = np.zeros_like(layer.weights)\n",
        "            layer.weight_cache = np.zeros_like(layer.weights)\n",
        "            layer.bias_momentums = np.zeros_like(layer.biases)\n",
        "            layer.bias_cache = np.zeros_like(layer.biases)\n",
        "\n",
        "        # Update momentum  with current gradients\n",
        "        layer.weight_momentums = self.beta_1 * \\\n",
        "                                 layer.weight_momentums + \\\n",
        "                                 (1 - self.beta_1) * layer.dweights\n",
        "        layer.bias_momentums = self.beta_1 * \\\n",
        "                               layer.bias_momentums + \\\n",
        "                               (1 - self.beta_1) * layer.dbiases\n",
        "        # Get corrected momentum\n",
        "        # self.iteration is 0 at first pass\n",
        "        # and we need to start with 1 here\n",
        "        weight_momentums_corrected = layer.weight_momentums / \\\n",
        "                                     (1 - self.beta_1 ** (self.iterations + 1))\n",
        "        bias_momentums_corrected = layer.bias_momentums / \\\n",
        "                                   (1 - self.beta_1 ** (self.iterations + 1))\n",
        "        # Update cache with squared current gradients\n",
        "        layer.weight_cache = self.beta_2 * layer.weight_cache + \\\n",
        "                             (1 - self.beta_2) * layer.dweights ** 2\n",
        "        layer.bias_cache = self.beta_2 * layer.bias_cache + \\\n",
        "                           (1 - self.beta_2) * layer.dbiases ** 2\n",
        "        # Get corrected cache\n",
        "        weight_cache_corrected = layer.weight_cache / \\\n",
        "                                 (1 - self.beta_2 ** (self.iterations + 1))\n",
        "        bias_cache_corrected = layer.bias_cache / \\\n",
        "                               (1 - self.beta_2 ** (self.iterations + 1))\n",
        "\n",
        "        # Vanilla SGD parameter update + normalization\n",
        "        # with square rooted cache\n",
        "        layer.weights += -self.current_learning_rate * \\\n",
        "                         weight_momentums_corrected / \\\n",
        "                         (np.sqrt(weight_cache_corrected) +\n",
        "                          self.epsilon)\n",
        "        layer.biases += -self.current_learning_rate * \\\n",
        "                        bias_momentums_corrected / \\\n",
        "                        (np.sqrt(bias_cache_corrected) +\n",
        "                         self.epsilon)\n",
        "\n",
        "    # Call once after any parameter updates\n",
        "    def post_update_params(self):\n",
        "        self.iterations += 1\n",
        "\n",
        "\n",
        "# Common loss class\n",
        "class Loss:\n",
        "\n",
        "\n",
        "    # Regularization loss calculation\n",
        "    def regularization_loss(self, layer):\n",
        "\n",
        "        # 0 by default\n",
        "        regularization_loss = 0\n",
        "\n",
        "        # L1 regularization - weights\n",
        "        # calculate only when factor greater than 0\n",
        "        if layer.weight_regularizer_l1 > 0:\n",
        "            regularization_loss += layer.weight_regularizer_l1 * \\\n",
        "                                   np.sum(np.abs(layer.weights))\n",
        "\n",
        "        # L2 regularization - weights\n",
        "        if layer.weight_regularizer_l2 > 0:\n",
        "            regularization_loss += layer.weight_regularizer_l2 * \\\n",
        "                                   np.sum(layer.weights *\n",
        "                                          layer.weights)\n",
        "\n",
        "        # L1 regularization - biases\n",
        "        # calculate only when factor greater than 0\n",
        "        if layer.bias_regularizer_l1 > 0:\n",
        "            regularization_loss += layer.bias_regularizer_l1 * \\\n",
        "                                   np.sum(np.abs(layer.biases))\n",
        "\n",
        "        # L2 regularization - biases\n",
        "        if layer.bias_regularizer_l2 > 0:\n",
        "            regularization_loss += layer.bias_regularizer_l2 * \\\n",
        "                                   np.sum(layer.biases *\n",
        "                                          layer.biases)\n",
        "\n",
        "        return regularization_loss\n",
        "\n",
        "\n",
        "    # Set/remember trainable layers\n",
        "    def remember_trainable_layers(self, trainable_layers):\n",
        "        self.trainable_layers = trainable_layers\n",
        "\n",
        "    # Calculates the data and regularization losses\n",
        "    # given model output and ground truth values\n",
        "    def calculate(self, output, y, *, include_regularization=False):\n",
        "\n",
        "        # Calculate sample losses\n",
        "        sample_losses = self.forward(output, y)\n",
        "\n",
        "        # Calculate mean loss\n",
        "        data_loss = np.mean(sample_losses)\n",
        "\n",
        "        # Return loss\n",
        "        return data_loss\n",
        "\n",
        "    # Calculates accumulated loss\n",
        "    def calculate_accumulated(self, *, include_regularization=False):\n",
        "\n",
        "        # Calculate mean loss\n",
        "        data_loss = self.accumulated_sum / self.accumulated_count\n",
        "\n",
        "        # If just data loss - return it\n",
        "        if not include_regularization:\n",
        "            return data_loss\n",
        "\n",
        "        # Return the data and regularization losses\n",
        "        return data_loss, self.regularization_loss()\n",
        "\n",
        "    # Reset variables for accumulated loss\n",
        "    def new_pass(self):\n",
        "        self.accumulated_sum = 0\n",
        "        self.accumulated_count = 0\n",
        "\n",
        "\n",
        "# Cross-entropy loss\n",
        "class Loss_CategoricalCrossentropy(Loss):\n",
        "\n",
        "        # Forward pass\n",
        "    def forward(self, y_pred, y_true):\n",
        "\n",
        "        # Number of samples in a batch\n",
        "        samples = len(y_pred)\n",
        "\n",
        "        # Clip data to prevent division by 0\n",
        "        # Clip both sides to not drag mean towards any value\n",
        "        y_pred_clipped = np.clip(y_pred, 1e-7, 1 - 1e-7)\n",
        "\n",
        "        # Probabilities for target values -\n",
        "        # only if categorical labels\n",
        "        if len(y_true.shape) == 1:\n",
        "            correct_confidences = y_pred_clipped[\n",
        "                range(samples),\n",
        "                y_true\n",
        "            ]\n",
        "\n",
        "        # Mask values - only for one-hot encoded labels\n",
        "        elif len(y_true.shape) == 2:\n",
        "            correct_confidences = np.sum(\n",
        "                y_pred_clipped * y_true,\n",
        "                axis=1\n",
        "            )\n",
        "\n",
        "        # Losses\n",
        "        negative_log_likelihoods = -np.log(correct_confidences)\n",
        "        return negative_log_likelihoods\n",
        "\n",
        "\n",
        "    # Backward pass\n",
        "    def backward(self, dvalues, y_true):\n",
        "\n",
        "        # Number of samples\n",
        "        samples = len(dvalues)\n",
        "        # Number of labels in every sample\n",
        "        # We'll use the first sample to count them\n",
        "        labels = len(dvalues[0])\n",
        "\n",
        "        # If labels are sparse, turn them into one-hot vector\n",
        "        if len(y_true.shape) == 1:\n",
        "            y_true = np.eye(labels)[y_true]\n",
        "\n",
        "        # Calculate gradient\n",
        "        self.dinputs = -y_true / dvalues\n",
        "        # Normalize gradient\n",
        "        self.dinputs = self.dinputs / samples\n",
        "\n",
        "\n",
        "# Softmax classifier - combined Softmax activation\n",
        "# and cross-entropy loss for faster backward step\n",
        "class Activation_Softmax_Loss_CategoricalCrossentropy():\n",
        "\n",
        "    # Creates activation and loss function objects\n",
        "    def __init__(self):\n",
        "        self.activation = Activation_Softmax()\n",
        "        self.loss = Loss_CategoricalCrossentropy()\n",
        "\n",
        "    # Forward pass\n",
        "    def forward(self, inputs, y_true):\n",
        "        # Output layer's activation function\n",
        "        self.activation.forward(inputs)\n",
        "        # Set the output\n",
        "        self.output = self.activation.output\n",
        "        # Calculate and return loss value\n",
        "        return self.loss.calculate(self.output, y_true)\n",
        "\n",
        "    # Backward pass\n",
        "    def backward(self, dvalues, y_true):\n",
        "        # Number of samples\n",
        "        samples = len(dvalues)\n",
        "\n",
        "        # If labels are one-hot encoded,\n",
        "        # turn them into discrete values\n",
        "        if len(y_true.shape) == 2:\n",
        "            y_true = np.argmax(y_true, axis=1)\n",
        "\n",
        "        # Copy so we can safely modify\n",
        "        self.dinputs = dvalues.copy()\n",
        "        # Calculate gradient\n",
        "        self.dinputs[range(samples), y_true] -= 1\n",
        "        # Normalize gradient\n",
        "        self.dinputs = self.dinputs / samples\n",
        "\n",
        "\n",
        "# Binary cross-entropy loss\n",
        "class Loss_BinaryCrossentropy(Loss):\n",
        "\n",
        "    # Forward pass\n",
        "    def forward(self, y_pred, y_true):\n",
        "        # Clip data to prevent division by 0\n",
        "        # Clip both sides to not drag mean towards any value\n",
        "        y_pred_clipped = np.clip(y_pred, 1e-7, 1 - 1e-7)\n",
        "\n",
        "        # Calculate sample-wise loss\n",
        "        sample_losses = -(y_true * np.log(y_pred_clipped) +\n",
        "                          (1 - y_true) * np.log(1 - y_pred_clipped))\n",
        "        sample_losses = np.mean(sample_losses, axis=-1)\n",
        "\n",
        "        # Return losses\n",
        "        return sample_losses\n",
        "\n",
        "    # Backward pass\n",
        "    def backward(self, dvalues, y_true):\n",
        "        # Number of samples\n",
        "        samples = len(dvalues)\n",
        "        # Number of outputs in every sample\n",
        "        # We'll use the first sample to count them\n",
        "        outputs = len(dvalues[0])\n",
        "\n",
        "        # Clip data to prevent division by 0\n",
        "        # Clip both sides to not drag mean towards any value\n",
        "        clipped_dvalues = np.clip(dvalues, 1e-7, 1 - 1e-7)\n",
        "\n",
        "        # Calculate gradient\n",
        "        self.dinputs = -(y_true / clipped_dvalues -\n",
        "                         (1 - y_true) / (1 - clipped_dvalues)) / outputs\n",
        "        # Normalize gradient\n",
        "        self.dinputs = self.dinputs / samples\n",
        "\n",
        "# Common accuracy class\n",
        "class Accuracy:\n",
        "\n",
        "    # Calculates an accuracy\n",
        "    # given predictions and ground truth values\n",
        "    def calculate(self, predictions, y):\n",
        "\n",
        "        # Get comparison results\n",
        "        comparisons = self.compare(predictions, y)\n",
        "\n",
        "        # Calculate an accuracy\n",
        "        accuracy = np.mean(comparisons)\n",
        "\n",
        "        # Add accumulated sum of matching values and sample count\n",
        "        # Return accuracy\n",
        "        return accuracy\n",
        "\n",
        "    # Calculates accumulated accuracy\n",
        "    def calculate_accumulated(self):\n",
        "\n",
        "        # Calculate an accuracy\n",
        "        accuracy = self.accumulated_sum / self.accumulated_count\n",
        "\n",
        "        # Return the data and regularization losses\n",
        "        return accuracy\n",
        "\n",
        "    # Reset variables for accumulated accuracy\n",
        "    def new_pass(self):\n",
        "        self.accumulated_sum = 0\n",
        "        self.accumulated_count = 0\n",
        "\n",
        "\n",
        "# Accuracy calculation for classification model\n",
        "class Accuracy_Categorical(Accuracy):\n",
        "\n",
        "    def __init__(self, *, binary=False):\n",
        "        # Binary mode?\n",
        "        self.binary = binary\n",
        "\n",
        "    # No initialization is needed\n",
        "    def init(self, y):\n",
        "        pass\n",
        "\n",
        "    # Compares predictions to the ground truth values\n",
        "    def compare(self, predictions, y):\n",
        "        if not self.binary and len(y.shape) == 2:\n",
        "            y = np.argmax(y, axis=1)\n",
        "        return predictions == y\n",
        "\n",
        "\n",
        "# Accuracy calculation for regression model\n",
        "class Accuracy_Regression(Accuracy):\n",
        "\n",
        "    def __init__(self):\n",
        "        # Create precision property\n",
        "        self.precision = None\n",
        "\n",
        "    # Calculates precision value\n",
        "    # based on passed-in ground truth values\n",
        "    def init(self, y, reinit=False):\n",
        "        if self.precision is None or reinit:\n",
        "            self.precision = np.std(y) / 250\n",
        "\n",
        "    # Compares predictions to the ground truth values\n",
        "    def compare(self, predictions, y):\n",
        "        return np.absolute(predictions - y) < self.precision\n",
        "\n",
        "class model:\n",
        "    def __init__(self):\n",
        "        pass\n",
        "\n",
        "    def predict(self, classes, samples):\n",
        "        self.classes = classes\n",
        "        self.samples = samples\n",
        "        self.X, self.y = spiral_data(samples=self.samples, classes=self.classes)\n",
        "        dense1.forward(self.X)\n",
        "        activation1.forward(dense1.output)\n",
        "        dense2.forward(activation1.output)\n",
        "        activation2.forward(dense2.output)\n",
        "        # Calculate the data loss\n",
        "        self.loss = loss_function.calculate(activation2.output, self.y)\n",
        "        self.predictions = (activation2.output > 0.5) * 1\n",
        "        self.accuracy = np.mean(self.predictions == self.y)\n",
        "        print(f'Accuracy: {self.accuracy}')\n",
        "\n",
        "\n"
      ],
      "execution_count": 5,
      "outputs": []
    },
    {
      "cell_type": "markdown",
      "metadata": {
        "id": "UA4GFMbIPUkI"
      },
      "source": [
        "# Old Dropout Layer"
      ]
    },
    {
      "cell_type": "code",
      "metadata": {
        "id": "ZxoiO43tPbTa"
      },
      "source": [
        "class Layer_Dropout:\n",
        "\n",
        "    # Init\n",
        "    def __init__(self, rate):\n",
        "        # Store rate, we invert it as for example for dropout\n",
        "        # of 0.1 we need success rate of 0.9\n",
        "        self.rate = 1 - rate\n",
        "\n",
        "    # Forward pass\n",
        "    def forward(self, inputs):\n",
        "        # Save input values\n",
        "        self.inputs = inputs\n",
        "        # Generate and save scaled mask\n",
        "        self.binary_mask = np.random.binomial(1, self.rate,\n",
        "                                              size=inputs.shape) / self.rate\n",
        "        # Apply mask to output values\n",
        "        self.output = inputs * self.binary_mask\n",
        "       \n",
        "\n",
        "    # Backward pass\n",
        "    def backward(self, dvalues):\n",
        "        # Gradient on values\n",
        "        self.dinputs = dvalues * self.binary_mask\n",
        "        #print(self.dinputs.shape)"
      ],
      "execution_count": 6,
      "outputs": []
    },
    {
      "cell_type": "markdown",
      "metadata": {
        "id": "XRB57nFublm3"
      },
      "source": [
        "Initializing Caches"
      ]
    },
    {
      "cell_type": "code",
      "metadata": {
        "id": "_kyAX0txV-cF"
      },
      "source": [
        "loss_cache = []\n",
        "val_loss_cache = []\n",
        "acc_cache = []\n",
        "val_acc_cache = []\n",
        "lr_cache = []\n",
        "epoch_cache = []\n",
        "test_acc_cache = []\n",
        "test_loss_cache = []\n",
        "\n",
        "max_val_accuracyint = 0"
      ],
      "execution_count": 7,
      "outputs": []
    },
    {
      "cell_type": "markdown",
      "metadata": {
        "id": "F_7VWnIlF8yx"
      },
      "source": [
        "Initializing Summary List"
      ]
    },
    {
      "cell_type": "code",
      "metadata": {
        "id": "Xtnu5VToGAq0"
      },
      "source": [
        "summary = []"
      ],
      "execution_count": 8,
      "outputs": []
    },
    {
      "cell_type": "markdown",
      "metadata": {
        "id": "W1Eu0pm-WjKI"
      },
      "source": [
        "# Loading Data"
      ]
    },
    {
      "cell_type": "markdown",
      "metadata": {
        "id": "x-24YuBKre0f"
      },
      "source": [
        "Vizulizing Data"
      ]
    },
    {
      "cell_type": "code",
      "metadata": {
        "colab": {
          "base_uri": "https://localhost:8080/"
        },
        "id": "4kUOJ9avrho8",
        "outputId": "09dd1021-d30b-403e-f669-f728e333b24b"
      },
      "source": [
        "#(X, y), (X_test, y_test) = tf.keras.datasets.fashion_mnist.load_data()\n",
        "# load dataset\n",
        "(X, y), (X_test, y_test) = mnist.load_data()\n",
        "\n",
        "\n",
        "# Label index to label name relation\n",
        "number_mnist_labels = {\n",
        "    0: '0',\n",
        "    1: '1',\n",
        "    2: '2',\n",
        "    3: '3',\n",
        "    4: '4',\n",
        "    5: '5',\n",
        "    6: '6',\n",
        "    7: '7',\n",
        "    8: '8',\n",
        "    9: '9'\n",
        "}\n",
        "\n",
        "# Shuffle the training dataset\n",
        "keys = np.array(range(X.shape[0]))\n",
        "np.random.shuffle(keys)\n",
        "X = X[keys]\n",
        "y = y[keys]\n",
        "\n",
        "\n",
        "X = X[:8000,:,:]\n",
        "X_test = X_test[:1600,:,:]\n",
        "y = y[:8000]\n",
        "y_test  = y_test[:1600]\n",
        "\n",
        "\n",
        "\n",
        "# Scale and reshape samples\n",
        "X = (X.reshape(X.shape[0], -1).astype(np.float32) - 127.5) / 127.5\n",
        "X_test = (X_test.reshape(X_test.shape[0], -1).astype(np.float32) - 127.5) / 127.5\n",
        "\n",
        "print(X.shape)\n",
        "print(y.shape)\n",
        "print(X_test.shape)\n",
        "print(y_test.shape)\n"
      ],
      "execution_count": 9,
      "outputs": [
        {
          "output_type": "stream",
          "text": [
            "Downloading data from https://storage.googleapis.com/tensorflow/tf-keras-datasets/mnist.npz\n",
            "11493376/11490434 [==============================] - 0s 0us/step\n",
            "11501568/11490434 [==============================] - 0s 0us/step\n",
            "(8000, 784)\n",
            "(8000,)\n",
            "(1600, 784)\n",
            "(1600,)\n"
          ],
          "name": "stdout"
        }
      ]
    },
    {
      "cell_type": "markdown",
      "metadata": {
        "id": "i_nW7mqGTnem"
      },
      "source": [
        "Sorting Training Data"
      ]
    },
    {
      "cell_type": "code",
      "metadata": {
        "colab": {
          "base_uri": "https://localhost:8080/"
        },
        "id": "AtvA9y81TpGf",
        "outputId": "c2bfce74-5ea4-4693-c822-a423720bd0bb"
      },
      "source": [
        "idx = np.argsort(y)\n",
        "X_sorted = X[idx]\n",
        "y_sorted = y[idx]\n",
        "\n",
        "sorted_x = {}\n",
        "sorted_y = {}\n",
        "for classes in range(len(set(y))):\n",
        "  sorted_x[\"X_{0}\".format(classes)] = X[y == classes]\n",
        "  sorted_y[\"y_{0}\".format(classes)] = y[y == classes]\n",
        "\n",
        "\n",
        "\n",
        "for sorted_lists in sorted_x:\n",
        "  print(f'Number of Samples for {sorted_lists}: {sorted_x[sorted_lists].shape[0]}')\n"
      ],
      "execution_count": 10,
      "outputs": [
        {
          "output_type": "stream",
          "text": [
            "Number of Samples for X_0: 818\n",
            "Number of Samples for X_1: 866\n",
            "Number of Samples for X_2: 808\n",
            "Number of Samples for X_3: 774\n",
            "Number of Samples for X_4: 768\n",
            "Number of Samples for X_5: 702\n",
            "Number of Samples for X_6: 735\n",
            "Number of Samples for X_7: 891\n",
            "Number of Samples for X_8: 820\n",
            "Number of Samples for X_9: 818\n"
          ],
          "name": "stdout"
        }
      ]
    },
    {
      "cell_type": "markdown",
      "metadata": {
        "id": "vpaNaUO3kP2G"
      },
      "source": [
        "Sorting Testing Data"
      ]
    },
    {
      "cell_type": "code",
      "metadata": {
        "colab": {
          "base_uri": "https://localhost:8080/"
        },
        "id": "TBLFeGAUkSOs",
        "outputId": "bf9ccc29-cd50-4c70-cf42-9b945b845aa3"
      },
      "source": [
        "idx = np.argsort(y_test)\n",
        "X_test_sorted = X_test[idx]\n",
        "y_test_sorted = y_test[idx]\n",
        "\n",
        "class_list = []\n",
        "\n",
        "sorted_x_test = {}\n",
        "sorted_y_test = {}\n",
        "for classes in range(len(set(y))):\n",
        "  sorted_x_test[\"X_test_{0}\".format(classes)] = X_test[y_test == classes]\n",
        "  sorted_y_test[\"y_test_{0}\".format(classes)] = y_test[y_test == classes]\n",
        "\n",
        "\n",
        "for sorted_lists in sorted_x_test:\n",
        "  print(f'Number of Samples for {sorted_lists}: {sorted_x_test[sorted_lists].shape[0]}')\n",
        "  class_list.append(sorted_x_test[sorted_lists].shape[0])\n"
      ],
      "execution_count": 11,
      "outputs": [
        {
          "output_type": "stream",
          "text": [
            "Number of Samples for X_test_0: 137\n",
            "Number of Samples for X_test_1: 185\n",
            "Number of Samples for X_test_2: 180\n",
            "Number of Samples for X_test_3: 162\n",
            "Number of Samples for X_test_4: 181\n",
            "Number of Samples for X_test_5: 142\n",
            "Number of Samples for X_test_6: 139\n",
            "Number of Samples for X_test_7: 165\n",
            "Number of Samples for X_test_8: 154\n",
            "Number of Samples for X_test_9: 155\n"
          ],
          "name": "stdout"
        }
      ]
    },
    {
      "cell_type": "code",
      "metadata": {
        "colab": {
          "base_uri": "https://localhost:8080/"
        },
        "id": "6hbnq4TJp1cl",
        "outputId": "ad32989a-9aef-4798-93f0-97c33cf132f7"
      },
      "source": [
        "print(f'Found {X.shape[0]} images belonging to {len(set(y))} unique classes')"
      ],
      "execution_count": 12,
      "outputs": [
        {
          "output_type": "stream",
          "text": [
            "Found 8000 images belonging to 10 unique classes\n"
          ],
          "name": "stdout"
        }
      ]
    },
    {
      "cell_type": "markdown",
      "metadata": {
        "id": "Fd_dSHDNW1Rn"
      },
      "source": [
        "# Initializing Layers"
      ]
    },
    {
      "cell_type": "code",
      "metadata": {
        "id": "aly5fwUCW_4l"
      },
      "source": [
        "# Create Dense layer with 2 input features and 64 output values\n",
        "dense1 = Layer_Dense(X.shape[1], 128, weight_regularizer_l2=5e-4,\n",
        "                     bias_regularizer_l2=5e-4)\n",
        "\n",
        "activation1 = Activation_ReLU()\n",
        "\n",
        "dropout1 = Layer_Dropout(0.2)\n",
        "\n",
        "dense2 = Layer_Dense(128, 128)\n",
        "\n",
        "activation2 = Activation_ReLU()\n",
        "\n",
        "dense3 = Layer_Dense(128,128)\n",
        "\n",
        "activation3 = Activation_ReLU()\n",
        "\n",
        "dense4 = Layer_Dense(128,len(set(y)))\n",
        "\n",
        "activation4 = Activation_Softmax()\n",
        "\n",
        "\n",
        "loss_function = Loss_CategoricalCrossentropy()\n",
        "\n",
        "softmax_classifier_output = \\\n",
        "                Activation_Softmax_Loss_CategoricalCrossentropy()\n",
        "\n",
        "# Create optimizer\n",
        "optimizer = Optimizer_Adam(decay=5e-7,learning_rate=0.005)\n",
        "#optimizer = Optimizer_SGD(learning_rate=0.01)\n",
        "accuracy = Accuracy_Categorical()\n",
        "\n",
        "accuracy.init(y)"
      ],
      "execution_count": 13,
      "outputs": []
    },
    {
      "cell_type": "markdown",
      "metadata": {
        "id": "-xmbxDuwXIBk"
      },
      "source": [
        "# Training Loop"
      ]
    },
    {
      "cell_type": "code",
      "metadata": {
        "colab": {
          "base_uri": "https://localhost:8080/"
        },
        "id": "14yHOjq9XLee",
        "outputId": "21b27c72-4e08-4d4b-ec4d-79955677dac7"
      },
      "source": [
        "epochs = 178\n",
        "for epoch in range(epochs + 1):\n",
        "\n",
        "    dense1.forward(X)\n",
        "\n",
        "    activation1.forward(dense1.output)\n",
        "\n",
        "    dropout1.forward(activation1.output)\n",
        "\n",
        "    dense2.forward(dropout1.output)\n",
        "\n",
        "    activation2.forward(dense2.output)\n",
        "\n",
        "    dense3.forward(activation2.output)\n",
        "\n",
        "    activation3.forward(dense3.output)\n",
        "\n",
        "    dense4.forward(activation3.output)\n",
        "\n",
        "    activation4.forward(dense4.output)\n",
        "\n",
        "    # Calculate the data loss\n",
        "    data_loss = loss_function.calculate(activation4.output, y)\n",
        "    regularization_loss = \\\n",
        "      loss_function.regularization_loss(dense1) + \\\n",
        "      loss_function.regularization_loss(dense2) + \\\n",
        "      loss_function.regularization_loss(dense3) + \\\n",
        "      loss_function.regularization_loss(dense4) \n",
        "    loss = data_loss + regularization_loss\n",
        "    \n",
        "    #Accuracy\n",
        "    predictions = activation4.predictions(activation4.output)\n",
        "    train_accuracy = accuracy.calculate(predictions, y)\n",
        "\n",
        "    # Backward pass\n",
        "    softmax_classifier_output.backward(activation4.output, y)\n",
        "    activation4.backward(softmax_classifier_output.dinputs)\n",
        "    dense4.backward(activation4.dinputs)\n",
        "    activation3.backward(dense4.dinputs)\n",
        "    dense3.backward(activation3.dinputs)\n",
        "    activation2.backward(dense3.dinputs)\n",
        "    dense2.backward(activation2.dinputs)\n",
        "    dropout1.backward(dense2.dinputs)\n",
        "    activation1.backward(dropout1.dinputs)\n",
        "    dense1.backward(activation1.dinputs)\n",
        "    \n",
        "    # Update weights and biases\n",
        "    optimizer.pre_update_params()\n",
        "    optimizer.update_params(dense1)\n",
        "    optimizer.update_params(dense2)\n",
        "    optimizer.update_params(dense3)\n",
        "    optimizer.update_params(dense4)\n",
        "    optimizer.post_update_params()\n",
        "\n",
        "\n",
        "\n",
        "    # Validation\n",
        "    dense1.forward(X_test)\n",
        "    activation1.forward(dense1.output)\n",
        "    \n",
        "    dense2.forward(activation1.output)\n",
        "\n",
        "    dense1_outputs = dense1.output\n",
        "    meanarray = np.mean(dense1.output, axis=0)\n",
        "    cached_val_inputs = activation1.output\n",
        " \n",
        "    trainout = meanarray\n",
        "    activation2.forward(dense2.output)\n",
        "\n",
        "    dense3.forward(activation2.output)\n",
        "    activation3.forward(dense3.output)\n",
        "    dense4.forward(activation3.output)\n",
        "    activation4.forward(dense4.output)\n",
        "    # Calculate the data loss\n",
        "    valloss = loss_function.calculate(activation4.output, y_test)\n",
        "    predictions = activation4.predictions(activation4.output)\n",
        "    valaccuracy = accuracy.calculate(predictions, y_test)\n",
        "\n",
        "    #Updating List\n",
        "    loss_cache.append(loss)\n",
        "    val_loss_cache.append(valloss)\n",
        "    acc_cache.append(train_accuracy)\n",
        "    val_acc_cache.append(valaccuracy)\n",
        "    lr_cache.append(optimizer.current_learning_rate)\n",
        "    epoch_cache.append(epoch)\n",
        "    \n",
        "\n",
        "    #Summary Items\n",
        "    if valaccuracy >= .8 and len(summary) == 0:\n",
        "        nintypercent = f'Model hit 80% validation accuracy in {epoch} epochs'\n",
        "        summary.append(nintypercent)\n",
        "    if valaccuracy >= .85 and len(summary) == 1:\n",
        "        nintypercent = f'Model hit 85% validation accuracy in {epoch} epochs'\n",
        "        summary.append(nintypercent)\n",
        "    if valaccuracy >= .9 and len(summary) == 2:\n",
        "        nintypercent = f'Model hit 90% validation accuracy in {epoch} epochs'\n",
        "        summary.append(nintypercent)\n",
        "    if valaccuracy >= .95 and len(summary) == 3:\n",
        "        nintypercent = f'Model hit 95% validation accuracy in {epoch} epochs'\n",
        "        summary.append(nintypercent)\n",
        "    if valaccuracy >= .975 and len(summary) == 4:\n",
        "        nintypercent = f'Model hit 97.5% validation accuracy in {epoch} epochs'\n",
        "        summary.append(nintypercent)  \n",
        "    if valaccuracy >= 1 and len(summary) == 5:\n",
        "        nintypercent = f'Model hit 100% validation accuracy in {epoch} epochs'\n",
        "        summary.append(nintypercent)\n",
        "    if epoch == epochs:\n",
        "      if valaccuracy > max_val_accuracyint:\n",
        "        max_val_accuracyint = valaccuracy\n",
        "        max_val_accuracy = f'Max accuracy was {valaccuracy * 100}% at epoch {epoch}.'\n",
        "        summary.append(max_val_accuracy)\n",
        "      else:\n",
        "        summary.append(max_val_accuracy)\n",
        "    else:\n",
        "      if valaccuracy > max_val_accuracyint:\n",
        "        max_val_accuracyint = valaccuracy\n",
        "        max_val_accuracy = f'Max accuracy was {valaccuracy * 100}% at epoch {epoch}.'     \n",
        "    \n",
        "    if not epoch % 1:\n",
        "        print(f'epoch: {epoch}, ' +\n",
        "              f'acc: {train_accuracy:.3f}, ' +\n",
        "              f'loss: {loss:.3f} (' +\n",
        "              f'data_loss: {data_loss:.3f}, ' +\n",
        "              f'reg_loss: {regularization_loss:.3f}), ' +\n",
        "              f'lr: {optimizer.current_learning_rate:.9f} ' +\n",
        "              f'validation, acc: {valaccuracy:.3f}, loss: {valloss:.3f} ')"
      ],
      "execution_count": 14,
      "outputs": [
        {
          "output_type": "stream",
          "text": [
            "epoch: 0, acc: 0.095, loss: 2.308 (data_loss: 2.303, reg_loss: 0.005), lr: 0.005000000 validation, acc: 0.103, loss: 2.302 \n",
            "epoch: 1, acc: 0.113, loss: 2.304 (data_loss: 2.302, reg_loss: 0.002), lr: 0.004999998 validation, acc: 0.112, loss: 2.299 \n",
            "epoch: 2, acc: 0.152, loss: 2.300 (data_loss: 2.299, reg_loss: 0.001), lr: 0.004999995 validation, acc: 0.103, loss: 2.282 \n",
            "epoch: 3, acc: 0.111, loss: 2.282 (data_loss: 2.281, reg_loss: 0.001), lr: 0.004999993 validation, acc: 0.175, loss: 2.234 \n",
            "epoch: 4, acc: 0.200, loss: 2.233 (data_loss: 2.232, reg_loss: 0.001), lr: 0.004999990 validation, acc: 0.103, loss: 2.582 \n",
            "epoch: 5, acc: 0.113, loss: 2.565 (data_loss: 2.563, reg_loss: 0.002), lr: 0.004999988 validation, acc: 0.324, loss: 2.154 \n",
            "epoch: 6, acc: 0.348, loss: 2.153 (data_loss: 2.151, reg_loss: 0.002), lr: 0.004999985 validation, acc: 0.106, loss: 2.242 \n",
            "epoch: 7, acc: 0.133, loss: 2.228 (data_loss: 2.225, reg_loss: 0.003), lr: 0.004999983 validation, acc: 0.093, loss: 2.219 \n",
            "epoch: 8, acc: 0.113, loss: 2.200 (data_loss: 2.196, reg_loss: 0.004), lr: 0.004999980 validation, acc: 0.168, loss: 2.160 \n",
            "epoch: 9, acc: 0.177, loss: 2.133 (data_loss: 2.128, reg_loss: 0.005), lr: 0.004999978 validation, acc: 0.188, loss: 2.080 \n",
            "epoch: 10, acc: 0.208, loss: 2.046 (data_loss: 2.040, reg_loss: 0.006), lr: 0.004999975 validation, acc: 0.271, loss: 1.967 \n",
            "epoch: 11, acc: 0.277, loss: 1.937 (data_loss: 1.930, reg_loss: 0.007), lr: 0.004999973 validation, acc: 0.276, loss: 1.880 \n",
            "epoch: 12, acc: 0.280, loss: 1.873 (data_loss: 1.865, reg_loss: 0.009), lr: 0.004999970 validation, acc: 0.247, loss: 1.959 \n",
            "epoch: 13, acc: 0.264, loss: 1.898 (data_loss: 1.888, reg_loss: 0.010), lr: 0.004999968 validation, acc: 0.272, loss: 1.759 \n",
            "epoch: 14, acc: 0.288, loss: 1.724 (data_loss: 1.714, reg_loss: 0.010), lr: 0.004999965 validation, acc: 0.268, loss: 1.759 \n",
            "epoch: 15, acc: 0.285, loss: 1.737 (data_loss: 1.726, reg_loss: 0.011), lr: 0.004999963 validation, acc: 0.374, loss: 1.699 \n",
            "epoch: 16, acc: 0.362, loss: 1.658 (data_loss: 1.646, reg_loss: 0.012), lr: 0.004999960 validation, acc: 0.361, loss: 1.692 \n",
            "epoch: 17, acc: 0.376, loss: 1.640 (data_loss: 1.628, reg_loss: 0.012), lr: 0.004999958 validation, acc: 0.347, loss: 1.666 \n",
            "epoch: 18, acc: 0.371, loss: 1.605 (data_loss: 1.593, reg_loss: 0.013), lr: 0.004999955 validation, acc: 0.406, loss: 1.637 \n",
            "epoch: 19, acc: 0.407, loss: 1.573 (data_loss: 1.560, reg_loss: 0.013), lr: 0.004999953 validation, acc: 0.417, loss: 1.531 \n",
            "epoch: 20, acc: 0.429, loss: 1.475 (data_loss: 1.461, reg_loss: 0.014), lr: 0.004999950 validation, acc: 0.413, loss: 1.483 \n",
            "epoch: 21, acc: 0.427, loss: 1.417 (data_loss: 1.402, reg_loss: 0.015), lr: 0.004999948 validation, acc: 0.478, loss: 1.405 \n",
            "epoch: 22, acc: 0.492, loss: 1.341 (data_loss: 1.326, reg_loss: 0.015), lr: 0.004999945 validation, acc: 0.516, loss: 1.424 \n",
            "epoch: 23, acc: 0.526, loss: 1.368 (data_loss: 1.352, reg_loss: 0.016), lr: 0.004999943 validation, acc: 0.399, loss: 1.499 \n",
            "epoch: 24, acc: 0.435, loss: 1.409 (data_loss: 1.393, reg_loss: 0.017), lr: 0.004999940 validation, acc: 0.542, loss: 1.288 \n",
            "epoch: 25, acc: 0.585, loss: 1.203 (data_loss: 1.186, reg_loss: 0.017), lr: 0.004999938 validation, acc: 0.501, loss: 1.483 \n",
            "epoch: 26, acc: 0.507, loss: 1.450 (data_loss: 1.433, reg_loss: 0.018), lr: 0.004999935 validation, acc: 0.601, loss: 1.205 \n",
            "epoch: 27, acc: 0.618, loss: 1.148 (data_loss: 1.129, reg_loss: 0.018), lr: 0.004999933 validation, acc: 0.531, loss: 1.292 \n",
            "epoch: 28, acc: 0.564, loss: 1.215 (data_loss: 1.196, reg_loss: 0.019), lr: 0.004999930 validation, acc: 0.583, loss: 1.219 \n",
            "epoch: 29, acc: 0.617, loss: 1.135 (data_loss: 1.115, reg_loss: 0.019), lr: 0.004999928 validation, acc: 0.622, loss: 1.171 \n",
            "epoch: 30, acc: 0.615, loss: 1.118 (data_loss: 1.098, reg_loss: 0.020), lr: 0.004999925 validation, acc: 0.658, loss: 1.102 \n",
            "epoch: 31, acc: 0.660, loss: 1.054 (data_loss: 1.034, reg_loss: 0.020), lr: 0.004999923 validation, acc: 0.636, loss: 1.078 \n",
            "epoch: 32, acc: 0.673, loss: 0.997 (data_loss: 0.976, reg_loss: 0.021), lr: 0.004999920 validation, acc: 0.639, loss: 1.072 \n",
            "epoch: 33, acc: 0.677, loss: 0.986 (data_loss: 0.965, reg_loss: 0.022), lr: 0.004999918 validation, acc: 0.686, loss: 1.009 \n",
            "epoch: 34, acc: 0.707, loss: 0.950 (data_loss: 0.928, reg_loss: 0.022), lr: 0.004999915 validation, acc: 0.696, loss: 1.014 \n",
            "epoch: 35, acc: 0.710, loss: 0.943 (data_loss: 0.920, reg_loss: 0.023), lr: 0.004999913 validation, acc: 0.695, loss: 0.958 \n",
            "epoch: 36, acc: 0.716, loss: 0.890 (data_loss: 0.866, reg_loss: 0.023), lr: 0.004999910 validation, acc: 0.706, loss: 0.950 \n",
            "epoch: 37, acc: 0.732, loss: 0.873 (data_loss: 0.849, reg_loss: 0.024), lr: 0.004999908 validation, acc: 0.733, loss: 0.896 \n",
            "epoch: 38, acc: 0.751, loss: 0.848 (data_loss: 0.824, reg_loss: 0.024), lr: 0.004999905 validation, acc: 0.742, loss: 0.888 \n",
            "epoch: 39, acc: 0.758, loss: 0.838 (data_loss: 0.813, reg_loss: 0.025), lr: 0.004999903 validation, acc: 0.750, loss: 0.828 \n",
            "epoch: 40, acc: 0.752, loss: 0.809 (data_loss: 0.784, reg_loss: 0.025), lr: 0.004999900 validation, acc: 0.758, loss: 0.864 \n",
            "epoch: 41, acc: 0.775, loss: 0.798 (data_loss: 0.773, reg_loss: 0.025), lr: 0.004999898 validation, acc: 0.795, loss: 0.761 \n",
            "epoch: 42, acc: 0.803, loss: 0.723 (data_loss: 0.697, reg_loss: 0.026), lr: 0.004999895 validation, acc: 0.815, loss: 0.741 \n",
            "epoch: 43, acc: 0.823, loss: 0.697 (data_loss: 0.672, reg_loss: 0.026), lr: 0.004999893 validation, acc: 0.812, loss: 0.728 \n",
            "epoch: 44, acc: 0.824, loss: 0.673 (data_loss: 0.647, reg_loss: 0.026), lr: 0.004999890 validation, acc: 0.829, loss: 0.685 \n",
            "epoch: 45, acc: 0.835, loss: 0.654 (data_loss: 0.628, reg_loss: 0.026), lr: 0.004999888 validation, acc: 0.824, loss: 0.668 \n",
            "epoch: 46, acc: 0.844, loss: 0.623 (data_loss: 0.597, reg_loss: 0.027), lr: 0.004999885 validation, acc: 0.826, loss: 0.710 \n",
            "epoch: 47, acc: 0.845, loss: 0.627 (data_loss: 0.600, reg_loss: 0.027), lr: 0.004999883 validation, acc: 0.838, loss: 0.635 \n",
            "epoch: 48, acc: 0.865, loss: 0.572 (data_loss: 0.545, reg_loss: 0.027), lr: 0.004999880 validation, acc: 0.841, loss: 0.641 \n",
            "epoch: 49, acc: 0.862, loss: 0.589 (data_loss: 0.561, reg_loss: 0.027), lr: 0.004999878 validation, acc: 0.845, loss: 0.616 \n",
            "epoch: 50, acc: 0.875, loss: 0.542 (data_loss: 0.515, reg_loss: 0.028), lr: 0.004999875 validation, acc: 0.847, loss: 0.628 \n",
            "epoch: 51, acc: 0.876, loss: 0.534 (data_loss: 0.506, reg_loss: 0.028), lr: 0.004999873 validation, acc: 0.855, loss: 0.600 \n",
            "epoch: 52, acc: 0.878, loss: 0.543 (data_loss: 0.515, reg_loss: 0.028), lr: 0.004999870 validation, acc: 0.856, loss: 0.565 \n",
            "epoch: 53, acc: 0.888, loss: 0.503 (data_loss: 0.475, reg_loss: 0.028), lr: 0.004999868 validation, acc: 0.861, loss: 0.558 \n",
            "epoch: 54, acc: 0.887, loss: 0.495 (data_loss: 0.467, reg_loss: 0.028), lr: 0.004999865 validation, acc: 0.871, loss: 0.529 \n",
            "epoch: 55, acc: 0.899, loss: 0.464 (data_loss: 0.436, reg_loss: 0.028), lr: 0.004999863 validation, acc: 0.880, loss: 0.524 \n",
            "epoch: 56, acc: 0.900, loss: 0.462 (data_loss: 0.434, reg_loss: 0.028), lr: 0.004999860 validation, acc: 0.882, loss: 0.509 \n",
            "epoch: 57, acc: 0.907, loss: 0.443 (data_loss: 0.415, reg_loss: 0.028), lr: 0.004999858 validation, acc: 0.876, loss: 0.510 \n",
            "epoch: 58, acc: 0.904, loss: 0.444 (data_loss: 0.416, reg_loss: 0.028), lr: 0.004999855 validation, acc: 0.881, loss: 0.488 \n",
            "epoch: 59, acc: 0.910, loss: 0.423 (data_loss: 0.396, reg_loss: 0.028), lr: 0.004999853 validation, acc: 0.887, loss: 0.492 \n",
            "epoch: 60, acc: 0.910, loss: 0.432 (data_loss: 0.405, reg_loss: 0.027), lr: 0.004999850 validation, acc: 0.882, loss: 0.470 \n",
            "epoch: 61, acc: 0.917, loss: 0.398 (data_loss: 0.371, reg_loss: 0.027), lr: 0.004999848 validation, acc: 0.887, loss: 0.467 \n",
            "epoch: 62, acc: 0.913, loss: 0.398 (data_loss: 0.371, reg_loss: 0.027), lr: 0.004999845 validation, acc: 0.885, loss: 0.464 \n",
            "epoch: 63, acc: 0.919, loss: 0.382 (data_loss: 0.356, reg_loss: 0.027), lr: 0.004999843 validation, acc: 0.885, loss: 0.454 \n",
            "epoch: 64, acc: 0.920, loss: 0.373 (data_loss: 0.346, reg_loss: 0.026), lr: 0.004999840 validation, acc: 0.887, loss: 0.456 \n",
            "epoch: 65, acc: 0.923, loss: 0.369 (data_loss: 0.343, reg_loss: 0.026), lr: 0.004999838 validation, acc: 0.893, loss: 0.430 \n",
            "epoch: 66, acc: 0.927, loss: 0.345 (data_loss: 0.320, reg_loss: 0.026), lr: 0.004999835 validation, acc: 0.892, loss: 0.428 \n",
            "epoch: 67, acc: 0.930, loss: 0.345 (data_loss: 0.320, reg_loss: 0.026), lr: 0.004999833 validation, acc: 0.891, loss: 0.435 \n",
            "epoch: 68, acc: 0.933, loss: 0.339 (data_loss: 0.314, reg_loss: 0.025), lr: 0.004999830 validation, acc: 0.892, loss: 0.421 \n",
            "epoch: 69, acc: 0.928, loss: 0.336 (data_loss: 0.311, reg_loss: 0.025), lr: 0.004999828 validation, acc: 0.891, loss: 0.412 \n",
            "epoch: 70, acc: 0.934, loss: 0.319 (data_loss: 0.294, reg_loss: 0.025), lr: 0.004999825 validation, acc: 0.901, loss: 0.396 \n",
            "epoch: 71, acc: 0.935, loss: 0.314 (data_loss: 0.290, reg_loss: 0.024), lr: 0.004999823 validation, acc: 0.896, loss: 0.393 \n",
            "epoch: 72, acc: 0.935, loss: 0.313 (data_loss: 0.289, reg_loss: 0.024), lr: 0.004999820 validation, acc: 0.894, loss: 0.413 \n",
            "epoch: 73, acc: 0.933, loss: 0.317 (data_loss: 0.294, reg_loss: 0.024), lr: 0.004999818 validation, acc: 0.892, loss: 0.422 \n",
            "epoch: 74, acc: 0.931, loss: 0.332 (data_loss: 0.308, reg_loss: 0.023), lr: 0.004999815 validation, acc: 0.897, loss: 0.391 \n",
            "epoch: 75, acc: 0.939, loss: 0.294 (data_loss: 0.271, reg_loss: 0.023), lr: 0.004999813 validation, acc: 0.894, loss: 0.401 \n",
            "epoch: 76, acc: 0.940, loss: 0.302 (data_loss: 0.280, reg_loss: 0.023), lr: 0.004999810 validation, acc: 0.894, loss: 0.410 \n",
            "epoch: 77, acc: 0.923, loss: 0.330 (data_loss: 0.308, reg_loss: 0.023), lr: 0.004999808 validation, acc: 0.893, loss: 0.394 \n",
            "epoch: 78, acc: 0.939, loss: 0.296 (data_loss: 0.274, reg_loss: 0.022), lr: 0.004999805 validation, acc: 0.901, loss: 0.381 \n",
            "epoch: 79, acc: 0.946, loss: 0.280 (data_loss: 0.258, reg_loss: 0.022), lr: 0.004999803 validation, acc: 0.902, loss: 0.381 \n",
            "epoch: 80, acc: 0.937, loss: 0.295 (data_loss: 0.273, reg_loss: 0.022), lr: 0.004999800 validation, acc: 0.909, loss: 0.351 \n",
            "epoch: 81, acc: 0.947, loss: 0.267 (data_loss: 0.245, reg_loss: 0.022), lr: 0.004999798 validation, acc: 0.900, loss: 0.394 \n",
            "epoch: 82, acc: 0.939, loss: 0.289 (data_loss: 0.267, reg_loss: 0.022), lr: 0.004999795 validation, acc: 0.902, loss: 0.376 \n",
            "epoch: 83, acc: 0.943, loss: 0.270 (data_loss: 0.249, reg_loss: 0.022), lr: 0.004999793 validation, acc: 0.909, loss: 0.354 \n",
            "epoch: 84, acc: 0.950, loss: 0.260 (data_loss: 0.239, reg_loss: 0.022), lr: 0.004999790 validation, acc: 0.906, loss: 0.357 \n",
            "epoch: 85, acc: 0.946, loss: 0.267 (data_loss: 0.245, reg_loss: 0.021), lr: 0.004999788 validation, acc: 0.913, loss: 0.337 \n",
            "epoch: 86, acc: 0.953, loss: 0.246 (data_loss: 0.225, reg_loss: 0.021), lr: 0.004999785 validation, acc: 0.919, loss: 0.337 \n",
            "epoch: 87, acc: 0.950, loss: 0.254 (data_loss: 0.232, reg_loss: 0.021), lr: 0.004999783 validation, acc: 0.914, loss: 0.328 \n",
            "epoch: 88, acc: 0.957, loss: 0.234 (data_loss: 0.213, reg_loss: 0.021), lr: 0.004999780 validation, acc: 0.909, loss: 0.349 \n",
            "epoch: 89, acc: 0.955, loss: 0.238 (data_loss: 0.217, reg_loss: 0.021), lr: 0.004999778 validation, acc: 0.916, loss: 0.331 \n",
            "epoch: 90, acc: 0.957, loss: 0.228 (data_loss: 0.207, reg_loss: 0.021), lr: 0.004999775 validation, acc: 0.913, loss: 0.313 \n",
            "epoch: 91, acc: 0.957, loss: 0.227 (data_loss: 0.206, reg_loss: 0.021), lr: 0.004999773 validation, acc: 0.916, loss: 0.317 \n",
            "epoch: 92, acc: 0.956, loss: 0.233 (data_loss: 0.212, reg_loss: 0.020), lr: 0.004999770 validation, acc: 0.913, loss: 0.323 \n",
            "epoch: 93, acc: 0.958, loss: 0.221 (data_loss: 0.201, reg_loss: 0.020), lr: 0.004999768 validation, acc: 0.916, loss: 0.336 \n",
            "epoch: 94, acc: 0.958, loss: 0.232 (data_loss: 0.212, reg_loss: 0.020), lr: 0.004999765 validation, acc: 0.902, loss: 0.337 \n",
            "epoch: 95, acc: 0.952, loss: 0.239 (data_loss: 0.219, reg_loss: 0.020), lr: 0.004999763 validation, acc: 0.912, loss: 0.349 \n",
            "epoch: 96, acc: 0.947, loss: 0.259 (data_loss: 0.240, reg_loss: 0.020), lr: 0.004999760 validation, acc: 0.888, loss: 0.393 \n",
            "epoch: 97, acc: 0.932, loss: 0.279 (data_loss: 0.260, reg_loss: 0.019), lr: 0.004999758 validation, acc: 0.882, loss: 0.442 \n",
            "epoch: 98, acc: 0.917, loss: 0.343 (data_loss: 0.324, reg_loss: 0.019), lr: 0.004999755 validation, acc: 0.898, loss: 0.345 \n",
            "epoch: 99, acc: 0.946, loss: 0.244 (data_loss: 0.225, reg_loss: 0.019), lr: 0.004999753 validation, acc: 0.894, loss: 0.383 \n",
            "epoch: 100, acc: 0.938, loss: 0.273 (data_loss: 0.254, reg_loss: 0.020), lr: 0.004999750 validation, acc: 0.869, loss: 0.466 \n",
            "epoch: 101, acc: 0.905, loss: 0.370 (data_loss: 0.351, reg_loss: 0.020), lr: 0.004999748 validation, acc: 0.849, loss: 0.546 \n",
            "epoch: 102, acc: 0.888, loss: 0.432 (data_loss: 0.413, reg_loss: 0.020), lr: 0.004999745 validation, acc: 0.836, loss: 0.642 \n",
            "epoch: 103, acc: 0.872, loss: 0.504 (data_loss: 0.484, reg_loss: 0.020), lr: 0.004999743 validation, acc: 0.822, loss: 0.622 \n",
            "epoch: 104, acc: 0.851, loss: 0.511 (data_loss: 0.490, reg_loss: 0.021), lr: 0.004999740 validation, acc: 0.841, loss: 0.602 \n",
            "epoch: 105, acc: 0.860, loss: 0.494 (data_loss: 0.472, reg_loss: 0.021), lr: 0.004999738 validation, acc: 0.858, loss: 0.476 \n",
            "epoch: 106, acc: 0.890, loss: 0.402 (data_loss: 0.380, reg_loss: 0.022), lr: 0.004999735 validation, acc: 0.777, loss: 0.777 \n",
            "epoch: 107, acc: 0.819, loss: 0.645 (data_loss: 0.623, reg_loss: 0.023), lr: 0.004999733 validation, acc: 0.868, loss: 0.460 \n",
            "epoch: 108, acc: 0.899, loss: 0.397 (data_loss: 0.373, reg_loss: 0.023), lr: 0.004999730 validation, acc: 0.853, loss: 0.536 \n",
            "epoch: 109, acc: 0.862, loss: 0.486 (data_loss: 0.462, reg_loss: 0.024), lr: 0.004999728 validation, acc: 0.864, loss: 0.483 \n",
            "epoch: 110, acc: 0.889, loss: 0.422 (data_loss: 0.397, reg_loss: 0.025), lr: 0.004999725 validation, acc: 0.840, loss: 0.573 \n",
            "epoch: 111, acc: 0.873, loss: 0.471 (data_loss: 0.445, reg_loss: 0.026), lr: 0.004999723 validation, acc: 0.881, loss: 0.500 \n",
            "epoch: 112, acc: 0.887, loss: 0.439 (data_loss: 0.412, reg_loss: 0.027), lr: 0.004999720 validation, acc: 0.873, loss: 0.448 \n",
            "epoch: 113, acc: 0.893, loss: 0.407 (data_loss: 0.379, reg_loss: 0.028), lr: 0.004999718 validation, acc: 0.848, loss: 0.524 \n",
            "epoch: 114, acc: 0.870, loss: 0.484 (data_loss: 0.456, reg_loss: 0.029), lr: 0.004999715 validation, acc: 0.885, loss: 0.391 \n",
            "epoch: 115, acc: 0.899, loss: 0.390 (data_loss: 0.361, reg_loss: 0.029), lr: 0.004999713 validation, acc: 0.904, loss: 0.361 \n",
            "epoch: 116, acc: 0.914, loss: 0.358 (data_loss: 0.328, reg_loss: 0.030), lr: 0.004999710 validation, acc: 0.884, loss: 0.437 \n",
            "epoch: 117, acc: 0.906, loss: 0.386 (data_loss: 0.356, reg_loss: 0.031), lr: 0.004999708 validation, acc: 0.889, loss: 0.366 \n",
            "epoch: 118, acc: 0.922, loss: 0.321 (data_loss: 0.290, reg_loss: 0.031), lr: 0.004999705 validation, acc: 0.886, loss: 0.368 \n",
            "epoch: 119, acc: 0.920, loss: 0.331 (data_loss: 0.299, reg_loss: 0.032), lr: 0.004999703 validation, acc: 0.894, loss: 0.370 \n",
            "epoch: 120, acc: 0.921, loss: 0.329 (data_loss: 0.297, reg_loss: 0.032), lr: 0.004999700 validation, acc: 0.902, loss: 0.361 \n",
            "epoch: 121, acc: 0.928, loss: 0.313 (data_loss: 0.281, reg_loss: 0.033), lr: 0.004999698 validation, acc: 0.902, loss: 0.362 \n",
            "epoch: 122, acc: 0.926, loss: 0.311 (data_loss: 0.278, reg_loss: 0.033), lr: 0.004999695 validation, acc: 0.912, loss: 0.338 \n",
            "epoch: 123, acc: 0.934, loss: 0.288 (data_loss: 0.255, reg_loss: 0.033), lr: 0.004999693 validation, acc: 0.912, loss: 0.329 \n",
            "epoch: 124, acc: 0.931, loss: 0.291 (data_loss: 0.258, reg_loss: 0.034), lr: 0.004999690 validation, acc: 0.911, loss: 0.316 \n",
            "epoch: 125, acc: 0.942, loss: 0.272 (data_loss: 0.238, reg_loss: 0.034), lr: 0.004999688 validation, acc: 0.914, loss: 0.328 \n",
            "epoch: 126, acc: 0.940, loss: 0.277 (data_loss: 0.244, reg_loss: 0.034), lr: 0.004999685 validation, acc: 0.909, loss: 0.339 \n",
            "epoch: 127, acc: 0.938, loss: 0.279 (data_loss: 0.245, reg_loss: 0.034), lr: 0.004999683 validation, acc: 0.910, loss: 0.334 \n",
            "epoch: 128, acc: 0.942, loss: 0.266 (data_loss: 0.232, reg_loss: 0.034), lr: 0.004999680 validation, acc: 0.911, loss: 0.323 \n",
            "epoch: 129, acc: 0.947, loss: 0.255 (data_loss: 0.222, reg_loss: 0.034), lr: 0.004999678 validation, acc: 0.910, loss: 0.326 \n",
            "epoch: 130, acc: 0.946, loss: 0.262 (data_loss: 0.229, reg_loss: 0.034), lr: 0.004999675 validation, acc: 0.912, loss: 0.313 \n",
            "epoch: 131, acc: 0.947, loss: 0.254 (data_loss: 0.221, reg_loss: 0.033), lr: 0.004999673 validation, acc: 0.919, loss: 0.303 \n",
            "epoch: 132, acc: 0.954, loss: 0.237 (data_loss: 0.204, reg_loss: 0.033), lr: 0.004999670 validation, acc: 0.921, loss: 0.305 \n",
            "epoch: 133, acc: 0.953, loss: 0.238 (data_loss: 0.205, reg_loss: 0.033), lr: 0.004999668 validation, acc: 0.921, loss: 0.300 \n",
            "epoch: 134, acc: 0.952, loss: 0.242 (data_loss: 0.209, reg_loss: 0.033), lr: 0.004999665 validation, acc: 0.921, loss: 0.295 \n",
            "epoch: 135, acc: 0.954, loss: 0.231 (data_loss: 0.199, reg_loss: 0.032), lr: 0.004999663 validation, acc: 0.921, loss: 0.294 \n",
            "epoch: 136, acc: 0.957, loss: 0.223 (data_loss: 0.191, reg_loss: 0.032), lr: 0.004999660 validation, acc: 0.923, loss: 0.293 \n",
            "epoch: 137, acc: 0.956, loss: 0.224 (data_loss: 0.192, reg_loss: 0.032), lr: 0.004999658 validation, acc: 0.919, loss: 0.290 \n",
            "epoch: 138, acc: 0.958, loss: 0.226 (data_loss: 0.195, reg_loss: 0.031), lr: 0.004999655 validation, acc: 0.919, loss: 0.295 \n",
            "epoch: 139, acc: 0.958, loss: 0.221 (data_loss: 0.190, reg_loss: 0.031), lr: 0.004999653 validation, acc: 0.918, loss: 0.298 \n",
            "epoch: 140, acc: 0.956, loss: 0.224 (data_loss: 0.193, reg_loss: 0.031), lr: 0.004999650 validation, acc: 0.921, loss: 0.292 \n",
            "epoch: 141, acc: 0.962, loss: 0.208 (data_loss: 0.177, reg_loss: 0.030), lr: 0.004999648 validation, acc: 0.921, loss: 0.287 \n",
            "epoch: 142, acc: 0.962, loss: 0.204 (data_loss: 0.174, reg_loss: 0.030), lr: 0.004999645 validation, acc: 0.928, loss: 0.283 \n",
            "epoch: 143, acc: 0.962, loss: 0.208 (data_loss: 0.179, reg_loss: 0.029), lr: 0.004999643 validation, acc: 0.923, loss: 0.288 \n",
            "epoch: 144, acc: 0.963, loss: 0.206 (data_loss: 0.177, reg_loss: 0.029), lr: 0.004999640 validation, acc: 0.924, loss: 0.284 \n",
            "epoch: 145, acc: 0.962, loss: 0.203 (data_loss: 0.174, reg_loss: 0.029), lr: 0.004999638 validation, acc: 0.924, loss: 0.281 \n",
            "epoch: 146, acc: 0.963, loss: 0.199 (data_loss: 0.171, reg_loss: 0.028), lr: 0.004999635 validation, acc: 0.924, loss: 0.280 \n",
            "epoch: 147, acc: 0.966, loss: 0.195 (data_loss: 0.168, reg_loss: 0.028), lr: 0.004999633 validation, acc: 0.927, loss: 0.277 \n",
            "epoch: 148, acc: 0.963, loss: 0.195 (data_loss: 0.168, reg_loss: 0.027), lr: 0.004999630 validation, acc: 0.931, loss: 0.268 \n",
            "epoch: 149, acc: 0.964, loss: 0.192 (data_loss: 0.165, reg_loss: 0.027), lr: 0.004999628 validation, acc: 0.927, loss: 0.267 \n",
            "epoch: 150, acc: 0.967, loss: 0.190 (data_loss: 0.164, reg_loss: 0.026), lr: 0.004999625 validation, acc: 0.930, loss: 0.266 \n",
            "epoch: 151, acc: 0.969, loss: 0.181 (data_loss: 0.155, reg_loss: 0.026), lr: 0.004999623 validation, acc: 0.927, loss: 0.263 \n",
            "epoch: 152, acc: 0.967, loss: 0.184 (data_loss: 0.158, reg_loss: 0.026), lr: 0.004999620 validation, acc: 0.929, loss: 0.266 \n",
            "epoch: 153, acc: 0.972, loss: 0.174 (data_loss: 0.149, reg_loss: 0.025), lr: 0.004999618 validation, acc: 0.929, loss: 0.278 \n",
            "epoch: 154, acc: 0.969, loss: 0.178 (data_loss: 0.153, reg_loss: 0.025), lr: 0.004999615 validation, acc: 0.927, loss: 0.274 \n",
            "epoch: 155, acc: 0.972, loss: 0.171 (data_loss: 0.146, reg_loss: 0.024), lr: 0.004999613 validation, acc: 0.929, loss: 0.258 \n",
            "epoch: 156, acc: 0.971, loss: 0.174 (data_loss: 0.150, reg_loss: 0.024), lr: 0.004999610 validation, acc: 0.929, loss: 0.254 \n",
            "epoch: 157, acc: 0.971, loss: 0.170 (data_loss: 0.147, reg_loss: 0.024), lr: 0.004999608 validation, acc: 0.929, loss: 0.259 \n",
            "epoch: 158, acc: 0.968, loss: 0.175 (data_loss: 0.151, reg_loss: 0.023), lr: 0.004999605 validation, acc: 0.931, loss: 0.262 \n",
            "epoch: 159, acc: 0.970, loss: 0.173 (data_loss: 0.150, reg_loss: 0.023), lr: 0.004999603 validation, acc: 0.930, loss: 0.267 \n",
            "epoch: 160, acc: 0.971, loss: 0.168 (data_loss: 0.145, reg_loss: 0.023), lr: 0.004999600 validation, acc: 0.926, loss: 0.277 \n",
            "epoch: 161, acc: 0.970, loss: 0.172 (data_loss: 0.149, reg_loss: 0.022), lr: 0.004999598 validation, acc: 0.929, loss: 0.265 \n",
            "epoch: 162, acc: 0.971, loss: 0.168 (data_loss: 0.145, reg_loss: 0.022), lr: 0.004999595 validation, acc: 0.931, loss: 0.262 \n",
            "epoch: 163, acc: 0.971, loss: 0.170 (data_loss: 0.149, reg_loss: 0.022), lr: 0.004999593 validation, acc: 0.927, loss: 0.260 \n",
            "epoch: 164, acc: 0.974, loss: 0.158 (data_loss: 0.136, reg_loss: 0.021), lr: 0.004999590 validation, acc: 0.929, loss: 0.258 \n",
            "epoch: 165, acc: 0.973, loss: 0.161 (data_loss: 0.140, reg_loss: 0.021), lr: 0.004999588 validation, acc: 0.929, loss: 0.265 \n",
            "epoch: 166, acc: 0.974, loss: 0.159 (data_loss: 0.138, reg_loss: 0.021), lr: 0.004999585 validation, acc: 0.924, loss: 0.278 \n",
            "epoch: 167, acc: 0.973, loss: 0.156 (data_loss: 0.135, reg_loss: 0.021), lr: 0.004999583 validation, acc: 0.927, loss: 0.258 \n",
            "epoch: 168, acc: 0.974, loss: 0.155 (data_loss: 0.134, reg_loss: 0.020), lr: 0.004999580 validation, acc: 0.928, loss: 0.257 \n",
            "epoch: 169, acc: 0.974, loss: 0.152 (data_loss: 0.132, reg_loss: 0.020), lr: 0.004999578 validation, acc: 0.926, loss: 0.263 \n",
            "epoch: 170, acc: 0.975, loss: 0.154 (data_loss: 0.134, reg_loss: 0.020), lr: 0.004999575 validation, acc: 0.926, loss: 0.269 \n",
            "epoch: 171, acc: 0.977, loss: 0.147 (data_loss: 0.128, reg_loss: 0.020), lr: 0.004999573 validation, acc: 0.928, loss: 0.255 \n",
            "epoch: 172, acc: 0.975, loss: 0.150 (data_loss: 0.131, reg_loss: 0.019), lr: 0.004999570 validation, acc: 0.927, loss: 0.255 \n",
            "epoch: 173, acc: 0.975, loss: 0.144 (data_loss: 0.124, reg_loss: 0.019), lr: 0.004999568 validation, acc: 0.926, loss: 0.265 \n",
            "epoch: 174, acc: 0.976, loss: 0.145 (data_loss: 0.126, reg_loss: 0.019), lr: 0.004999565 validation, acc: 0.926, loss: 0.263 \n",
            "epoch: 175, acc: 0.976, loss: 0.146 (data_loss: 0.128, reg_loss: 0.019), lr: 0.004999563 validation, acc: 0.926, loss: 0.266 \n",
            "epoch: 176, acc: 0.975, loss: 0.146 (data_loss: 0.128, reg_loss: 0.019), lr: 0.004999560 validation, acc: 0.931, loss: 0.266 \n",
            "epoch: 177, acc: 0.977, loss: 0.141 (data_loss: 0.123, reg_loss: 0.018), lr: 0.004999558 validation, acc: 0.931, loss: 0.255 \n",
            "epoch: 178, acc: 0.980, loss: 0.134 (data_loss: 0.116, reg_loss: 0.018), lr: 0.004999555 validation, acc: 0.934, loss: 0.251 \n"
          ],
          "name": "stdout"
        }
      ]
    },
    {
      "cell_type": "markdown",
      "metadata": {
        "id": "GR0u0Jm7QCrw"
      },
      "source": [
        "# Summary"
      ]
    },
    {
      "cell_type": "code",
      "metadata": {
        "colab": {
          "base_uri": "https://localhost:8080/"
        },
        "id": "1KNnDUP_U8Xn",
        "outputId": "82860811-5450-4fec-c944-fdab1f3dc429"
      },
      "source": [
        "print(np.mean(acc_cache))"
      ],
      "execution_count": 15,
      "outputs": [
        {
          "output_type": "stream",
          "text": [
            "0.8157716480446927\n"
          ],
          "name": "stdout"
        }
      ]
    },
    {
      "cell_type": "code",
      "metadata": {
        "colab": {
          "base_uri": "https://localhost:8080/"
        },
        "id": "2NbXMisqQKqF",
        "outputId": "93a7594f-77b7-4619-e479-6f57117f974e"
      },
      "source": [
        "for milestone in summary:\n",
        "  print(milestone)"
      ],
      "execution_count": 16,
      "outputs": [
        {
          "output_type": "stream",
          "text": [
            "Model hit 80% validation accuracy in 42 epochs\n",
            "Model hit 85% validation accuracy in 51 epochs\n",
            "Model hit 90% validation accuracy in 70 epochs\n",
            "Max accuracy was 93.4375% at epoch 178.\n"
          ],
          "name": "stdout"
        }
      ]
    },
    {
      "cell_type": "markdown",
      "metadata": {
        "id": "_rVqT3yaXS5k"
      },
      "source": [
        "# Testing"
      ]
    },
    {
      "cell_type": "code",
      "metadata": {
        "colab": {
          "base_uri": "https://localhost:8080/"
        },
        "id": "smwSXsZVU8Xo",
        "outputId": "77bdc781-8568-40e1-b9b3-e7f5fb52ab91"
      },
      "source": [
        "accuracy = Accuracy_Categorical()\n",
        "\n",
        "accuracy.init(y_test)\n",
        "\n",
        "dense1.forward(X_test)\n",
        "\n",
        "activation1.forward(dense1.output)\n",
        "\n",
        "dense2.forward(activation1.output)\n",
        "\n",
        "activation2.forward(dense2.output)\n",
        "\n",
        "dense3.forward(activation2.output)\n",
        "\n",
        "activation3.forward(dense3.output)\n",
        "\n",
        "dense4.forward(activation3.output)\n",
        "\n",
        "activation4.forward(dense4.output)\n",
        "\n",
        "# Calculate the data loss\n",
        "loss = loss_function.calculate(activation4.output, y_test)\n",
        "\n",
        "predictions = activation4.predictions(activation4.output)\n",
        "testaccuracy = accuracy.calculate(predictions, y_test)\n",
        "\n",
        "print(f'Accuracy: {testaccuracy:.3f}, loss: {loss:.3f}')"
      ],
      "execution_count": 44,
      "outputs": [
        {
          "output_type": "stream",
          "text": [
            "Accuracy: 0.131, loss: 3.051\n"
          ],
          "name": "stdout"
        }
      ]
    },
    {
      "cell_type": "code",
      "metadata": {
        "id": "1k0Ve2M0bPG3"
      },
      "source": [
        "training_diff = []\n",
        "testing_diff = []\n",
        "combined_diff = []"
      ],
      "execution_count": 45,
      "outputs": []
    },
    {
      "cell_type": "markdown",
      "metadata": {
        "id": "MByL_RwvlIx3"
      },
      "source": [
        "Individual Training Classes"
      ]
    },
    {
      "cell_type": "code",
      "metadata": {
        "colab": {
          "base_uri": "https://localhost:8080/"
        },
        "id": "YTOnqnDXa0ME",
        "outputId": "a485f03b-325c-436a-eb95-6c90277e5b83"
      },
      "source": [
        "accuracy = Accuracy_Categorical()\n",
        "\n",
        "for classes, (X_sorted_lists, y_sorted_lists) in enumerate(zip(sorted_x, sorted_y)):\n",
        "  accuracy = Accuracy_Categorical()\n",
        "\n",
        "  y = sorted_y[y_sorted_lists]\n",
        "  X = sorted_x[X_sorted_lists]\n",
        "  accuracy.init(y)\n",
        "\n",
        "  dense1.forward(X)\n",
        "\n",
        "  activation1.forward(dense1.output)\n",
        "  train_train_mean = activation1.output\n",
        "\n",
        "  dense2.forward(activation1.output)\n",
        "\n",
        "  activation2.forward(dense2.output)\n",
        "\n",
        "  dense3.forward(activation2.output)\n",
        "\n",
        "  activation3.forward(dense3.output)\n",
        "\n",
        "  dense4.forward(activation3.output)\n",
        "\n",
        "  activation4.forward(dense4.output)\n",
        "\n",
        "  # Calculate the data loss\n",
        "  loss = loss_function.calculate(activation4.output, y)\n",
        "\n",
        "  predictions = activation4.predictions(activation4.output)\n",
        "  testaccuracy = accuracy.calculate(predictions, y)\n",
        "  print(f'{number_mnist_labels[classes]} Train Accuracy: {testaccuracy:.3f}, loss: {loss:.3f}')\n",
        "\n"
      ],
      "execution_count": 46,
      "outputs": [
        {
          "output_type": "stream",
          "text": [
            "0 Train Accuracy: 0.993, loss: 0.050\n",
            "1 Train Accuracy: 0.986, loss: 0.092\n",
            "2 Train Accuracy: 0.984, loss: 0.105\n",
            "3 Train Accuracy: 0.992, loss: 0.057\n",
            "4 Train Accuracy: 0.993, loss: 0.067\n",
            "5 Train Accuracy: 0.979, loss: 0.174\n",
            "6 Train Accuracy: 0.995, loss: 0.041\n",
            "7 Train Accuracy: 0.993, loss: 0.063\n",
            "8 Train Accuracy: 0.984, loss: 0.114\n",
            "9 Train Accuracy: 0.980, loss: 0.133\n"
          ],
          "name": "stdout"
        }
      ]
    },
    {
      "cell_type": "code",
      "metadata": {
        "colab": {
          "base_uri": "https://localhost:8080/"
        },
        "id": "scjb7Wh_sn6b",
        "outputId": "4799b7b6-7d0e-4217-fb85-f70590f9280a"
      },
      "source": [
        "accuracy = Accuracy_Categorical()\n",
        "\n",
        "for classes, (X_sorted_lists, y_sorted_lists) in enumerate(zip(sorted_x_test, sorted_y_test)):\n",
        "  accuracy.init(y_sorted_lists)\n",
        "  #print(sorted_y[y_sorted_lists].shape)\n",
        "  #print(sorted_x[X_sorted_lists].shape)\n",
        "  dense1.forward(sorted_x_test[X_sorted_lists])\n",
        "\n",
        "  activation1.forward(dense1.output)\n",
        "\n",
        "  testmean = np.mean(activation1.output, axis=0)\n",
        "  testing_diff.append(testmean)\n",
        "  dense2.forward(activation1.output)\n",
        "\n",
        "  activation2.forward(dense2.output)\n",
        "\n",
        "  dense3.forward(activation2.output)\n",
        "\n",
        "  activation3.forward(dense3.output)\n",
        "\n",
        "  dense4.forward(activation3.output)\n",
        "\n",
        "  activation4.forward(dense4.output)\n",
        "  # Calculate the data loss\n",
        "  loss = loss_function.calculate(activation4.output, sorted_y_test[y_sorted_lists])\n",
        "\n",
        "  predictions = activation4.predictions(activation4.output)\n",
        "  testaccuracy = accuracy.calculate(predictions, sorted_y_test[y_sorted_lists])\n",
        "\n",
        "  print(f'{number_mnist_labels[classes]} Test Accuracy: {testaccuracy:.3f}, loss: {loss:.3f}')"
      ],
      "execution_count": 47,
      "outputs": [
        {
          "output_type": "stream",
          "text": [
            "0 Test Accuracy: 0.985, loss: 0.053\n",
            "1 Test Accuracy: 0.984, loss: 0.073\n",
            "2 Test Accuracy: 0.950, loss: 0.221\n",
            "3 Test Accuracy: 0.957, loss: 0.120\n",
            "4 Test Accuracy: 0.895, loss: 0.346\n",
            "5 Test Accuracy: 0.908, loss: 0.359\n",
            "6 Test Accuracy: 0.942, loss: 0.268\n",
            "7 Test Accuracy: 0.891, loss: 0.391\n",
            "8 Test Accuracy: 0.916, loss: 0.339\n",
            "9 Test Accuracy: 0.916, loss: 0.346\n"
          ],
          "name": "stdout"
        }
      ]
    },
    {
      "cell_type": "markdown",
      "metadata": {
        "id": "R2u-O8oNZ0qA"
      },
      "source": [
        "# Full mnist test"
      ]
    },
    {
      "cell_type": "markdown",
      "metadata": {
        "id": "UbD4KrLMnTcR"
      },
      "source": [
        "Training data"
      ]
    },
    {
      "cell_type": "code",
      "metadata": {
        "colab": {
          "base_uri": "https://localhost:8080/"
        },
        "id": "TMfBGUHeZ4L5",
        "outputId": "28e6b96d-647e-4ca5-9626-1a4f39234a9c"
      },
      "source": [
        "(input, label), (X_val, y_val) = mnist.load_data()\n",
        "\n",
        "# Label index to label name relation\n",
        "number_mnist_labels = {\n",
        "    0: '0',\n",
        "    1: '1',\n",
        "    2: '2',\n",
        "    3: '3',\n",
        "    4: '4',\n",
        "    5: '5',\n",
        "    6: '6',\n",
        "    7: '7',\n",
        "    8: '8',\n",
        "    9: '9'\n",
        "}\n",
        "\n",
        "# Shuffle the training dataset\n",
        "keys = np.array(range(input.shape[0]))\n",
        "np.random.shuffle(keys)\n",
        "input = input[keys]\n",
        "label = label[keys]\n",
        "\n",
        "\n",
        "# Scale and reshape samples\n",
        "input = (input.reshape(input.shape[0], -1).astype(np.float32) - 127.5) / 127.5\n",
        "X_val = (X_val.reshape(X_val.shape[0], -1).astype(np.float32) -\n",
        "             127.5) / 127.5\n",
        "\n",
        "accuracy = Accuracy_Categorical()\n",
        "\n",
        "accuracy.init(label)\n",
        "\n",
        "dense1.forward(input)\n",
        "\n",
        "activation1.forward(dense1.output)\n",
        "train_train_mean = activation1.output\n",
        "\n",
        "dense2.forward(activation1.output)\n",
        "\n",
        "activation2.forward(dense2.output)\n",
        "\n",
        "dense3.forward(activation2.output)\n",
        "\n",
        "activation3.forward(dense3.output)\n",
        "\n",
        "dense4.forward(activation3.output)\n",
        "\n",
        "activation4.forward(dense4.output)\n",
        "\n",
        "# Calculate the data loss\n",
        "loss = loss_function.calculate(activation4.output, label)\n",
        "\n",
        "predictions = activation4.predictions(activation4.output)\n",
        "testaccuracy = accuracy.calculate(predictions, label)\n",
        "\n",
        "print(f'Full Training Accuracy: {testaccuracy:.3f}, loss: {loss:.3f}')"
      ],
      "execution_count": 48,
      "outputs": [
        {
          "output_type": "stream",
          "text": [
            "Full Training Accuracy: 0.948, loss: 0.214\n"
          ],
          "name": "stdout"
        }
      ]
    },
    {
      "cell_type": "markdown",
      "metadata": {
        "id": "Aat-uVF6nYu7"
      },
      "source": [
        "Testing data"
      ]
    },
    {
      "cell_type": "code",
      "metadata": {
        "colab": {
          "base_uri": "https://localhost:8080/"
        },
        "id": "4hyU1tBDna8x",
        "outputId": "33c90d20-e04c-4722-cc1f-40277d223ad0"
      },
      "source": [
        "accuracy = Accuracy_Categorical()\n",
        "\n",
        "accuracy.init(y_val)\n",
        "\n",
        "dense1.forward(X_val)\n",
        "\n",
        "activation1.forward(dense1.output)\n",
        "train_train_mean = activation1.output\n",
        "\n",
        "dense2.forward(activation1.output)\n",
        "\n",
        "activation2.forward(dense2.output)\n",
        "\n",
        "dense3.forward(activation2.output)\n",
        "\n",
        "activation3.forward(dense3.output)\n",
        "\n",
        "dense4.forward(activation3.output)\n",
        "\n",
        "activation4.forward(dense4.output)\n",
        "\n",
        "# Calculate the data loss\n",
        "loss = loss_function.calculate(activation4.output, y_val)\n",
        "\n",
        "predictions = activation4.predictions(activation4.output)\n",
        "testaccuracy = accuracy.calculate(predictions, y_val)\n",
        "\n",
        "print(f'Full Testing Accuracy: {testaccuracy:.5f}, loss: {loss:.3f}')"
      ],
      "execution_count": 49,
      "outputs": [
        {
          "output_type": "stream",
          "text": [
            "Full Testing Accuracy: 0.94410, loss: 0.220\n"
          ],
          "name": "stdout"
        }
      ]
    },
    {
      "cell_type": "code",
      "metadata": {
        "colab": {
          "base_uri": "https://localhost:8080/",
          "height": 741
        },
        "id": "w3ufEV-NEBZb",
        "outputId": "fea62d79-ea32-48f5-b67e-33fad64e81bb"
      },
      "source": [
        "predicted_list = []\n",
        "true_list = []\n",
        "for sample in range(len(X_val)):\n",
        "  predicted_list.append(np.where(activation4.output[sample] == np.amax(activation4.output[sample]))[0][0])\n",
        "  true_list.append(y_val[sample])\n",
        "\n",
        "from sklearn import metrics\n",
        "\n",
        "import seaborn as sn\n",
        "import pandas as pd\n",
        "\n",
        "array = metrics.confusion_matrix(true_list, predicted_list, labels=[0,1,2,3,4,5,6,7,8,9])\n",
        "\n",
        "df_cm = pd.DataFrame(array, range(len(set(true_list))), range(len(set(true_list))))\n",
        "df_cm.round(9)\n",
        "plt.figure(figsize=(10,7))\n",
        "sn.set(font_scale=1.2) # for label size\n",
        "sn.heatmap(df_cm, annot=True, annot_kws={\"size\": 12}, fmt='g') # font size\n",
        "plt.xlabel('Predicted')\n",
        "plt.ylabel('True')\n",
        "plt.show()\n",
        "# Printing the precision and recall, among other metrics\n",
        "print(metrics.classification_report(true_list, predicted_list, labels=[0,1,2,3,4,5,6,7,8,9]))"
      ],
      "execution_count": 50,
      "outputs": [
        {
          "output_type": "display_data",
          "data": {
            "image/png": "[encoded data removed]",
            "text/plain": [
              "<Figure size 720x504 with 2 Axes>"
            ]
          },
          "metadata": {
            "tags": []
          }
        },
        {
          "output_type": "stream",
          "text": [
            "              precision    recall  f1-score   support\n",
            "\n",
            "           0       0.95      0.99      0.97       980\n",
            "           1       0.97      0.98      0.98      1135\n",
            "           2       0.95      0.93      0.94      1032\n",
            "           3       0.93      0.95      0.94      1010\n",
            "           4       0.95      0.93      0.94       982\n",
            "           5       0.97      0.90      0.93       892\n",
            "           6       0.94      0.96      0.95       958\n",
            "           7       0.96      0.94      0.95      1028\n",
            "           8       0.90      0.94      0.92       974\n",
            "           9       0.92      0.92      0.92      1009\n",
            "\n",
            "    accuracy                           0.94     10000\n",
            "   macro avg       0.94      0.94      0.94     10000\n",
            "weighted avg       0.94      0.94      0.94     10000\n",
            "\n"
          ],
          "name": "stdout"
        }
      ]
    },
    {
      "cell_type": "markdown",
      "metadata": {
        "id": "0deRpPodLm04"
      },
      "source": [
        "Change idex to get confidence of different samples of testing data. Index values 0-1600 were refrenced in training. Anything past was never seen during training. Lowest confidence is at index 5046 when trained with 178 epochs and numpy seed set to 22."
      ]
    },
    {
      "cell_type": "code",
      "metadata": {
        "colab": {
          "base_uri": "https://localhost:8080/",
          "height": 305
        },
        "id": "DdktRypGH2Gw",
        "outputId": "ba0a31b6-63ec-4aed-ad3c-25fdd02a8993"
      },
      "source": [
        "index = 5046\n",
        "\n",
        "print(f'{(activation4.output[index][np.where(activation4.output[index] == np.amax(activation4.output[index]))][0]*100):.3f}% Confident True is {number_mnist_labels[np.where(activation4.output[index] == np.amax(activation4.output[index]))[0][0]]}. True is actually {number_mnist_labels[y_val[index]]}')\n",
        "\n",
        "X_val.resize(X_val.shape[0],28,28)\n",
        "image = X_val[index]\n",
        "fig = plt.figure\n",
        "plt.grid(False)\n",
        "plt.title(f'{number_mnist_labels[y_val[index]]}')\n",
        "plt.imshow(image, cmap='gray')\n",
        "plt.show()"
      ],
      "execution_count": 54,
      "outputs": [
        {
          "output_type": "stream",
          "text": [
            "24.120% Confident True is 8. True is actually 3\n"
          ],
          "name": "stdout"
        },
        {
          "output_type": "display_data",
          "data": {
            "image/png": "[encoded data removed]",
            "text/plain": [
              "<Figure size 432x288 with 1 Axes>"
            ]
          },
          "metadata": {
            "tags": []
          }
        }
      ]
    },
    {
      "cell_type": "code",
      "metadata": {
        "colab": {
          "base_uri": "https://localhost:8080/"
        },
        "id": "fmoESVkskwUs",
        "outputId": "94a4fe3d-705b-421f-8bad-26b451a0aa46"
      },
      "source": [
        "confidence_list = []\n",
        "for index in range(10000):\n",
        "  confidence_list.append(activation4.output[index][np.where(activation4.output[index] == np.amax(activation4.output[index]))][0])\n",
        "\n",
        "print(confidence_list.index(min(confidence_list)))"
      ],
      "execution_count": 52,
      "outputs": [
        {
          "output_type": "stream",
          "text": [
            "5046\n"
          ],
          "name": "stdout"
        }
      ]
    },
    {
      "cell_type": "markdown",
      "metadata": {
        "id": "MRXGM4hyXmr7"
      },
      "source": [
        "Plotting Graphs"
      ]
    },
    {
      "cell_type": "code",
      "metadata": {
        "colab": {
          "base_uri": "https://localhost:8080/",
          "height": 884
        },
        "id": "h5c5xUTNXk2v",
        "outputId": "86f26f8c-867f-480e-d6e2-17681ee98701"
      },
      "source": [
        "plt.rcParams['axes.grid'] = False\n",
        "\n",
        "plt.plot(epoch_cache, val_loss_cache, label='Validation Loss')\n",
        "plt.plot(epoch_cache, loss_cache, label='Training Loss')\n",
        "plt.title('Loss')\n",
        "plt.xlabel('Epoch')\n",
        "plt.ylabel('Loss')\n",
        "plt.legend(loc = \"upper right\")\n",
        "plt.show()\n",
        "\n",
        "plt.plot(epoch_cache, val_acc_cache, label='Validation Accuracy')\n",
        "plt.plot(epoch_cache, acc_cache, label='Training Accuracy')\n",
        "plt.title('Accuracy')\n",
        "plt.xlabel('Epoch')\n",
        "plt.ylabel('Accuracy')\n",
        "plt.legend(loc = \"upper right\")\n",
        "plt.show()\n",
        "\n",
        "plt.plot(epoch_cache, lr_cache, label='LR')\n",
        "plt.title('Learning Rate')\n",
        "plt.xlabel('Epoch')\n",
        "plt.ylabel('Learning Rate')\n",
        "plt.show()"
      ],
      "execution_count": 57,
      "outputs": [
        {
          "output_type": "display_data",
          "data": {
            "image/png": "[encoded data removed]",
            "text/plain": [
              "<Figure size 432x288 with 1 Axes>"
            ]
          },
          "metadata": {
            "tags": []
          }
        },
        {
          "output_type": "display_data",
          "data": {
            "image/png": "[encoded data removed]",
            "text/plain": [
              "<Figure size 432x288 with 1 Axes>"
            ]
          },
          "metadata": {
            "tags": []
          }
        },
        {
          "output_type": "display_data",
          "data": {
            "image/png": "[encoded data removed]",
            "text/plain": [
              "<Figure size 432x288 with 1 Axes>"
            ]
          },
          "metadata": {
            "tags": []
          }
        }
      ]
    }
  ]
}